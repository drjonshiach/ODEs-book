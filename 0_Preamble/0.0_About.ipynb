{
 "cells": [
  {
   "cell_type": "markdown",
   "id": "519e2d3c",
   "metadata": {},
   "source": [
    "# About\n",
    "\n",
    "These are the lecture notes that accompany the teaching of Runge-Kutta methods and computational linear algebra on the third year of the Mathematics course at the Manchester Metropolitan university. They can be accessed through a standard web browser on a computer or mobile device. Whilst these notes cover all of the material necessary for students to successfully pass the unit, it is advisable to seek out other sources of information either on the internet or textbooks. Mathematical notation can differ between authors and these notes have been written to use notation that is most commonly found online.\n",
    "\n",
    "Students are advised to read through the relevant section of the lecture notes prior to attending the lecture. Do not worry about trying to understand everything when you first read through them. Reading mathematics is not like reading a novel, it often requires repeated reading of a passage before you fully grasp the concepts that are being explained. In the lectures we will explain the various topics and provide more insight than what is written in the notes. \n",
    "\n",
    "The exercises contained in this book have the solutions hidden from the reader by default but can be revealed by clicking on the drop down link. Readers are advised to avoid the temptation of accessing the solutions before an attempt has been made to answer the questions.\n",
    "\n",
    "## Contact information\n",
    ":::{image} ../Images/jon_Shiach.jpeg\n",
    ":width: 125px\n",
    ":align: left\n",
    ":::\n",
    "\n",
    "Dr Jon Shiach <br>\n",
    "Email: [j.shiach@mmu.ac.uk](mailto:j.shiach@mmu.ac.uk) <br>\n",
    "Tel: 0161 247 1515 <br>\n",
    "Office: E115b <br>"
   ]
  }
 ],
 "metadata": {
  "kernelspec": {
   "display_name": "Python 3",
   "language": "python",
   "name": "python3"
  },
  "language_info": {
   "codemirror_mode": {
    "name": "ipython",
    "version": 3
   },
   "file_extension": ".py",
   "mimetype": "text/x-python",
   "name": "python",
   "nbconvert_exporter": "python",
   "pygments_lexer": "ipython3",
   "version": "3.8.3"
  }
 },
 "nbformat": 4,
 "nbformat_minor": 5
}
