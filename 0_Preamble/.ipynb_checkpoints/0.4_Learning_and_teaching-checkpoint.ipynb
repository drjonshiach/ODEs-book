{
 "cells": [
  {
   "cell_type": "markdown",
   "id": "aadc3a11",
   "metadata": {},
   "source": [
    "\n",
    "## Learning and teaching\n",
    "\n",
    "Having got to this stage in your studies you should already be familiar with the learning and teaching practices employed at undergraduate level. However, since this is a final year unit there will be certain expectations of the students from the teaching team. Our advice would be to try and stay on top of the material as much as possible and make sure you are completing the required number of hours of independent study outside of class time.\n",
    "\n",
    "In order to successfully complete this unit students should:\n",
    "\n",
    "- attend all of the lectures and tutorials;\n",
    "- complete all examples by yourself -- these notes contain the solutions to the examples which will be worked through in class, however, it is important that you write down the solutions as this will help you understand the material;\n",
    "- attempt all of the tutorial exercises;\n",
    "- if you are struggling, ask for help at the earliest opportunity.\n",
    "\n",
    "In return the teaching team will:\n",
    "\n",
    "- provide students with detailed lecture notes and other supporting material;\n",
    "- answer student queries regarding the material;\n",
    "- provide solutions/answers to worked examples and tutorial exercises;\n",
    "- provide formative feedback based on the tutorial exercises;\n",
    "- provide exam style questions for use as revision materials.\n",
    "\n",
    "Most students find the step up to the final challenging and there will be times during the year that you may not fully understand all of the concepts being taught. In these situations we would advise you to read over the material again, follow the examples given and most importantly ask questions in lectures and tutorials. If there are gaps in your knowledge from previous years, you must make sure that you address these as there will not be much time to go over previous level material again."
   ]
  }
 ],
 "metadata": {
  "kernelspec": {
   "display_name": "Python 3",
   "language": "python",
   "name": "python3"
  },
  "language_info": {
   "codemirror_mode": {
    "name": "ipython",
    "version": 3
   },
   "file_extension": ".py",
   "mimetype": "text/x-python",
   "name": "python",
   "nbconvert_exporter": "python",
   "pygments_lexer": "ipython3",
   "version": "3.8.3"
  }
 },
 "nbformat": 4,
 "nbformat_minor": 5
}
