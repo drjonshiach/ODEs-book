{
 "cells": [
  {
   "cell_type": "markdown",
   "id": "165302d6",
   "metadata": {},
   "source": [
    "# Chapter summary\n",
    "\n",
    "- Indirect methods use an iterative approach to improve an estimate of the solution to a system of linear equations. The methods are iterated until the estimates have achieved the required accuracy.\n",
    "- The [Jacobi method](jacobi-method-section) is uses information from the previous iteration only to update the estimates.\n",
    "- The [Gauss-Seidel method](gauss-seidel-method-section) uses values of estimates already calculated in a given iteration to update the estimates. This means that the Gauss-Seidel method will converge to a solution faster than the Jacobi method.\n",
    "- An indirect method will [converge](convergence-of-indirect-methods-section) to the exact solution if the value of the spectral radius (the largest absolute eigenvalue) of the iteration matrix for a linear system is less than 1. \n",
    "- The smaller the value of the spectral radius, the faster the method will converge to the exact solution.\n",
    "- The [SOR method](sor-method-section) uses a relaxation parameter to adjust how much estimates will change over a single iteration. The value of the relaxation parameter is chosen to minimise the spectral radius."
   ]
  }
 ],
 "metadata": {
  "kernelspec": {
   "display_name": "Python 3",
   "language": "python",
   "name": "python3"
  },
  "language_info": {
   "codemirror_mode": {
    "name": "ipython",
    "version": 3
   },
   "file_extension": ".py",
   "mimetype": "text/x-python",
   "name": "python",
   "nbconvert_exporter": "python",
   "pygments_lexer": "ipython3",
   "version": "3.8.3"
  }
 },
 "nbformat": 4,
 "nbformat_minor": 5
}
