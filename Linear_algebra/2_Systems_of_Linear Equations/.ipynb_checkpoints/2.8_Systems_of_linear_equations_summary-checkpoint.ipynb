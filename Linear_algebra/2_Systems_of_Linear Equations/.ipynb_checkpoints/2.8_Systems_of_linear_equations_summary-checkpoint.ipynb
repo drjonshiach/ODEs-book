{
 "cells": [
  {
   "cell_type": "markdown",
   "id": "9dc5293a",
   "metadata": {},
   "source": [
    "# Systems of linear equations summary\n",
    "\n",
    "- A [system of linear equations](system-of-linear-equation-definition) is a set of linear equations which are expressed using the same set of variables.\n",
    "- It is common to represent a system of linear equations a the matrix equation $A\\mathbf{x} = \\mathbf{x}$.\n",
    "- Some of methods we can use to solve a system of linear equations include using the [inverse of the coefficient matrix](solution-using-inverse-matrix-theorem), [Cramer's rule](cramers-rule-theorem), [Gaussian elimination](ge-definition) and [Gauss-Jordan elimination](gje-definition).\n",
    "- There are three [elementary row operations](ero-definition) that can be applied to a system of linear equations that do not change the value of the solutions\n",
    "- [Gaussian elimination](ge-definition) uses elementary row operations to row reduce a system of linear equations to [row echelon form](ref-definition) so that the solution can be calculated using back substitution.\n",
    "- [Partial pivoting](ge-pp-definition) ensures that the absolute value of the pivot element is larger than the elements beneath it so that computational rounding errors are minimalised. \n",
    "- [Gauss-Jordan elimination](gje-definition) uses elementary row operations to row reduce a system of linear equations to reduced [row echelon form](rref-definition) so that the solution is given in the final column of the augmented matrix.\n",
    "- Gauss-Jordan elimination can be used to calculate the [inverse of a square matrix](gj-matrix-inverse-section) and is more computationally efficient than the [adjoint-determinant formula](adjoint-determinant-formula-definition).\n",
    "- The [rank](rank-definition) of a matrix is the number of non-zero rows when it is reduced to row echelon form.\n",
    "- Systems of linear equations can be classified as [consistent](consistent-system-theorem) (a unique solution exists), [inconsistent](inconsistent-system-theorem) (no solutions exist) or [indeterminate](indeterminate-system-theorem) (infinitely many solutions exist) using the rank of the augmented matrix.\n",
    "- [Homogeneous systems of linear equations](homogeneous-system-definition) have a zero constant vector."
   ]
  }
 ],
 "metadata": {
  "kernelspec": {
   "display_name": "Python 3",
   "language": "python",
   "name": "python3"
  },
  "language_info": {
   "codemirror_mode": {
    "name": "ipython",
    "version": 3
   },
   "file_extension": ".py",
   "mimetype": "text/x-python",
   "name": "python",
   "nbconvert_exporter": "python",
   "pygments_lexer": "ipython3",
   "version": "3.8.3"
  }
 },
 "nbformat": 4,
 "nbformat_minor": 5
}
