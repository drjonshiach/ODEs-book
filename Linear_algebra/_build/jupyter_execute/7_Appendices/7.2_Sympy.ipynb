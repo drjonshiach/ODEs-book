{
 "cells": [
  {
   "cell_type": "markdown",
   "id": "3123ad37",
   "metadata": {},
   "source": [
    "# SymPy commands\n",
    "\n",
    "The SymPy library can perform symbolic calculations."
   ]
  },
  {
   "cell_type": "code",
   "execution_count": 1,
   "id": "54fd24d5",
   "metadata": {},
   "outputs": [],
   "source": [
    "from sympy import *"
   ]
  },
  {
   "cell_type": "markdown",
   "id": "99da1b84",
   "metadata": {},
   "source": [
    "## Matrices\n",
    "\n",
    "### Define matrices"
   ]
  },
  {
   "cell_type": "code",
   "execution_count": 2,
   "id": "ee757ec2",
   "metadata": {},
   "outputs": [
    {
     "data": {
      "text/latex": [
       "$\\displaystyle \\left[\\begin{matrix}1 & 2\\\\3 & 4\\end{matrix}\\right]$"
      ],
      "text/plain": [
       "Matrix([\n",
       "[1, 2],\n",
       "[3, 4]])"
      ]
     },
     "metadata": {},
     "output_type": "display_data"
    }
   ],
   "source": [
    "A = Matrix([[1, 2], [3, 4]])\n",
    "display(A)"
   ]
  },
  {
   "cell_type": "code",
   "execution_count": 3,
   "id": "e8582b9e",
   "metadata": {},
   "outputs": [
    {
     "data": {
      "text/latex": [
       "$\\displaystyle \\left[\\begin{matrix}5 & 6\\\\7 & 8\\end{matrix}\\right]$"
      ],
      "text/plain": [
       "Matrix([\n",
       "[5, 6],\n",
       "[7, 8]])"
      ]
     },
     "metadata": {},
     "output_type": "display_data"
    }
   ],
   "source": [
    "B = Matrix([[5, 6], [7, 8]])\n",
    "display(B)"
   ]
  },
  {
   "cell_type": "markdown",
   "id": "f9977e6f",
   "metadata": {},
   "source": [
    "### Matrix addition"
   ]
  },
  {
   "cell_type": "code",
   "execution_count": 4,
   "id": "9997a727",
   "metadata": {},
   "outputs": [
    {
     "data": {
      "text/latex": [
       "$\\displaystyle \\left[\\begin{matrix}6 & 8\\\\10 & 12\\end{matrix}\\right]$"
      ],
      "text/plain": [
       "Matrix([\n",
       "[ 6,  8],\n",
       "[10, 12]])"
      ]
     },
     "metadata": {},
     "output_type": "display_data"
    }
   ],
   "source": [
    "AplusB = A + B\n",
    "display(AplusB)"
   ]
  },
  {
   "cell_type": "markdown",
   "id": "ae9b9289",
   "metadata": {},
   "source": [
    "### Multiplication by a scalar"
   ]
  },
  {
   "cell_type": "code",
   "execution_count": 5,
   "id": "1d2dfd22",
   "metadata": {},
   "outputs": [
    {
     "data": {
      "text/latex": [
       "$\\displaystyle \\left[\\begin{matrix}3 & 6\\\\9 & 12\\end{matrix}\\right]$"
      ],
      "text/plain": [
       "Matrix([\n",
       "[3,  6],\n",
       "[9, 12]])"
      ]
     },
     "metadata": {},
     "output_type": "display_data"
    }
   ],
   "source": [
    "Atimes3 = 3 * A\n",
    "display(Atimes3)"
   ]
  },
  {
   "cell_type": "markdown",
   "id": "ce96c6b7",
   "metadata": {},
   "source": [
    "### Matrix multiplication"
   ]
  },
  {
   "cell_type": "code",
   "execution_count": 6,
   "id": "7d26634d",
   "metadata": {},
   "outputs": [
    {
     "data": {
      "text/latex": [
       "$\\displaystyle \\left[\\begin{matrix}19 & 22\\\\43 & 50\\end{matrix}\\right]$"
      ],
      "text/plain": [
       "Matrix([\n",
       "[19, 22],\n",
       "[43, 50]])"
      ]
     },
     "metadata": {},
     "output_type": "display_data"
    }
   ],
   "source": [
    "AB = A * B\n",
    "display(AB)"
   ]
  },
  {
   "cell_type": "markdown",
   "id": "5faeb253",
   "metadata": {},
   "source": [
    "### Matrix exponent"
   ]
  },
  {
   "cell_type": "code",
   "execution_count": 7,
   "id": "281dcb62",
   "metadata": {},
   "outputs": [
    {
     "data": {
      "text/latex": [
       "$\\displaystyle \\left[\\begin{matrix}7 & 10\\\\15 & 22\\end{matrix}\\right]$"
      ],
      "text/plain": [
       "Matrix([\n",
       "[ 7, 10],\n",
       "[15, 22]])"
      ]
     },
     "metadata": {},
     "output_type": "display_data"
    }
   ],
   "source": [
    "Asquared = A ** 2\n",
    "display(Asquared)"
   ]
  },
  {
   "cell_type": "markdown",
   "id": "7b798bf0",
   "metadata": {},
   "source": [
    "### Matrix transpoose"
   ]
  },
  {
   "cell_type": "code",
   "execution_count": 8,
   "id": "eac2868f",
   "metadata": {},
   "outputs": [
    {
     "data": {
      "text/latex": [
       "$\\displaystyle \\left[\\begin{matrix}1 & 3\\\\2 & 4\\end{matrix}\\right]$"
      ],
      "text/plain": [
       "Matrix([\n",
       "[1, 3],\n",
       "[2, 4]])"
      ]
     },
     "metadata": {},
     "output_type": "display_data"
    }
   ],
   "source": [
    "Atranspose = A.T\n",
    "display(Atranspose)"
   ]
  },
  {
   "cell_type": "markdown",
   "id": "9d3f6a9c",
   "metadata": {},
   "source": [
    "### Zero matrix"
   ]
  },
  {
   "cell_type": "code",
   "execution_count": 9,
   "id": "45b95b27",
   "metadata": {},
   "outputs": [
    {
     "data": {
      "text/latex": [
       "$\\displaystyle \\left[\\begin{matrix}0 & 0 & 0\\\\0 & 0 & 0\\end{matrix}\\right]$"
      ],
      "text/plain": [
       "Matrix([\n",
       "[0, 0, 0],\n",
       "[0, 0, 0]])"
      ]
     },
     "metadata": {},
     "output_type": "display_data"
    }
   ],
   "source": [
    "zero = zeros(2, 3)\n",
    "display(zero)"
   ]
  },
  {
   "cell_type": "markdown",
   "id": "c99278de",
   "metadata": {},
   "source": [
    "### Identity matrix"
   ]
  },
  {
   "cell_type": "code",
   "execution_count": 10,
   "id": "95b21f24",
   "metadata": {},
   "outputs": [
    {
     "data": {
      "text/latex": [
       "$\\displaystyle \\left[\\begin{matrix}1 & 0 & 0\\\\0 & 1 & 0\\\\0 & 0 & 1\\end{matrix}\\right]$"
      ],
      "text/plain": [
       "Matrix([\n",
       "[1, 0, 0],\n",
       "[0, 1, 0],\n",
       "[0, 0, 1]])"
      ]
     },
     "metadata": {},
     "output_type": "display_data"
    }
   ],
   "source": [
    "I = eye(3)\n",
    "display(I)"
   ]
  },
  {
   "cell_type": "markdown",
   "id": "3e3c1878",
   "metadata": {},
   "source": [
    "### Determinant of a matrix"
   ]
  },
  {
   "cell_type": "code",
   "execution_count": 11,
   "id": "3934f452",
   "metadata": {},
   "outputs": [
    {
     "name": "stdout",
     "output_type": "stream",
     "text": [
      "-2\n"
     ]
    }
   ],
   "source": [
    "detA = A.det()\n",
    "print(detA)"
   ]
  },
  {
   "cell_type": "markdown",
   "id": "883bbb69",
   "metadata": {},
   "source": [
    "### Adjoint matrix"
   ]
  },
  {
   "cell_type": "code",
   "execution_count": 12,
   "id": "b08019d9",
   "metadata": {},
   "outputs": [
    {
     "data": {
      "text/latex": [
       "$\\displaystyle \\left[\\begin{matrix}4 & -2\\\\-3 & 1\\end{matrix}\\right]$"
      ],
      "text/plain": [
       "Matrix([\n",
       "[ 4, -2],\n",
       "[-3,  1]])"
      ]
     },
     "metadata": {},
     "output_type": "display_data"
    }
   ],
   "source": [
    "adjA = A.adjugate()\n",
    "display(adjA)"
   ]
  },
  {
   "cell_type": "markdown",
   "id": "67a669a1",
   "metadata": {},
   "source": [
    "### Inverse matrix"
   ]
  },
  {
   "cell_type": "code",
   "execution_count": 13,
   "id": "42d29d92",
   "metadata": {},
   "outputs": [
    {
     "data": {
      "text/latex": [
       "$\\displaystyle \\left[\\begin{matrix}-2 & 1\\\\\\frac{3}{2} & - \\frac{1}{2}\\end{matrix}\\right]$"
      ],
      "text/plain": [
       "Matrix([\n",
       "[ -2,    1],\n",
       "[3/2, -1/2]])"
      ]
     },
     "metadata": {},
     "output_type": "display_data"
    }
   ],
   "source": [
    "invA = A.inv()\n",
    "display(invA)"
   ]
  },
  {
   "cell_type": "markdown",
   "id": "ca91cdca",
   "metadata": {},
   "source": [
    "---\n",
    "\n",
    "## Systems of linear equations"
   ]
  },
  {
   "cell_type": "code",
   "execution_count": 14,
   "id": "465d982a",
   "metadata": {},
   "outputs": [
    {
     "data": {
      "text/latex": [
       "$\\displaystyle \\left[\\begin{matrix}1 & 2\\\\3 & 4\\end{matrix}\\right]$"
      ],
      "text/plain": [
       "Matrix([\n",
       "[1, 2],\n",
       "[3, 4]])"
      ]
     },
     "metadata": {},
     "output_type": "display_data"
    }
   ],
   "source": [
    "A = Matrix([[1, 2], [3, 4]])\n",
    "display(A)"
   ]
  },
  {
   "cell_type": "code",
   "execution_count": 15,
   "id": "f76fa666",
   "metadata": {},
   "outputs": [
    {
     "data": {
      "text/latex": [
       "$\\displaystyle \\left[\\begin{matrix}5\\\\11\\end{matrix}\\right]$"
      ],
      "text/plain": [
       "Matrix([\n",
       "[ 5],\n",
       "[11]])"
      ]
     },
     "metadata": {},
     "output_type": "display_data"
    }
   ],
   "source": [
    "b = Matrix([5, 11])\n",
    "display(b)"
   ]
  },
  {
   "cell_type": "markdown",
   "id": "6733c6d5",
   "metadata": {},
   "source": [
    "### Solution using matrix inverse"
   ]
  },
  {
   "cell_type": "code",
   "execution_count": 16,
   "id": "dfa568d2",
   "metadata": {},
   "outputs": [
    {
     "data": {
      "text/latex": [
       "$\\displaystyle \\left[\\begin{matrix}1\\\\2\\end{matrix}\\right]$"
      ],
      "text/plain": [
       "Matrix([\n",
       "[1],\n",
       "[2]])"
      ]
     },
     "metadata": {},
     "output_type": "display_data"
    }
   ],
   "source": [
    "x = A.inv() * b\n",
    "display(x)"
   ]
  },
  {
   "cell_type": "markdown",
   "id": "78e85d95",
   "metadata": {},
   "source": [
    "### Forming an augmented matrix"
   ]
  },
  {
   "cell_type": "code",
   "execution_count": 17,
   "id": "efdc65f1",
   "metadata": {},
   "outputs": [
    {
     "data": {
      "text/latex": [
       "$\\displaystyle \\left[\\begin{matrix}1 & 2 & 5\\\\3 & 4 & 11\\end{matrix}\\right]$"
      ],
      "text/plain": [
       "Matrix([\n",
       "[1, 2,  5],\n",
       "[3, 4, 11]])"
      ]
     },
     "metadata": {},
     "output_type": "display_data"
    }
   ],
   "source": [
    "Ab = A.row_join(b)\n",
    "display(Ab)"
   ]
  },
  {
   "cell_type": "markdown",
   "id": "e7918e4b",
   "metadata": {},
   "source": [
    "### Row reduction"
   ]
  },
  {
   "cell_type": "code",
   "execution_count": 18,
   "id": "28dfa3a5",
   "metadata": {},
   "outputs": [
    {
     "data": {
      "text/latex": [
       "$\\displaystyle \\left[\\begin{matrix}1 & 0 & 1\\\\0 & 1 & 2\\end{matrix}\\right]$"
      ],
      "text/plain": [
       "Matrix([\n",
       "[1, 0, 1],\n",
       "[0, 1, 2]])"
      ]
     },
     "metadata": {},
     "output_type": "display_data"
    }
   ],
   "source": [
    "Abrref = Ab.rref()[0]\n",
    "display(Abrref)"
   ]
  },
  {
   "cell_type": "markdown",
   "id": "abf47d50",
   "metadata": {},
   "source": [
    "### Rank of a matrix"
   ]
  },
  {
   "cell_type": "code",
   "execution_count": 19,
   "id": "d2f10821",
   "metadata": {},
   "outputs": [
    {
     "name": "stdout",
     "output_type": "stream",
     "text": [
      "2\n"
     ]
    }
   ],
   "source": [
    "rankA = A.rank()\n",
    "print(rankA)"
   ]
  },
  {
   "cell_type": "markdown",
   "id": "ef7ab89e",
   "metadata": {},
   "source": [
    "---\n",
    "\n",
    "## Vectors"
   ]
  },
  {
   "cell_type": "code",
   "execution_count": 20,
   "id": "890af6c2",
   "metadata": {},
   "outputs": [
    {
     "data": {
      "text/latex": [
       "$\\displaystyle \\left[\\begin{matrix}1\\\\2\\\\3\\end{matrix}\\right]$"
      ],
      "text/plain": [
       "Matrix([\n",
       "[1],\n",
       "[2],\n",
       "[3]])"
      ]
     },
     "metadata": {},
     "output_type": "display_data"
    }
   ],
   "source": [
    "a = Matrix([1, 2, 3])\n",
    "display(a)"
   ]
  },
  {
   "cell_type": "code",
   "execution_count": 21,
   "id": "da4ec75e",
   "metadata": {},
   "outputs": [
    {
     "data": {
      "text/latex": [
       "$\\displaystyle \\left[\\begin{matrix}4\\\\5\\\\6\\end{matrix}\\right]$"
      ],
      "text/plain": [
       "Matrix([\n",
       "[4],\n",
       "[5],\n",
       "[6]])"
      ]
     },
     "metadata": {},
     "output_type": "display_data"
    }
   ],
   "source": [
    "b = Matrix([4, 5, 6])\n",
    "display(b)"
   ]
  },
  {
   "cell_type": "markdown",
   "id": "07123c6a",
   "metadata": {},
   "source": [
    "### Vector magnitude"
   ]
  },
  {
   "cell_type": "code",
   "execution_count": 22,
   "id": "5934613c",
   "metadata": {},
   "outputs": [
    {
     "data": {
      "text/latex": [
       "$\\displaystyle \\sqrt{14}$"
      ],
      "text/plain": [
       "sqrt(14)"
      ]
     },
     "metadata": {},
     "output_type": "display_data"
    }
   ],
   "source": [
    "anorm = a.norm()\n",
    "display(anorm)"
   ]
  },
  {
   "cell_type": "markdown",
   "id": "d8f6c557",
   "metadata": {},
   "source": [
    "### Unit vector"
   ]
  },
  {
   "cell_type": "code",
   "execution_count": 23,
   "id": "1e939691",
   "metadata": {},
   "outputs": [
    {
     "data": {
      "text/latex": [
       "$\\displaystyle \\left[\\begin{matrix}\\frac{\\sqrt{14}}{14}\\\\\\frac{\\sqrt{14}}{7}\\\\\\frac{3 \\sqrt{14}}{14}\\end{matrix}\\right]$"
      ],
      "text/plain": [
       "Matrix([\n",
       "[  sqrt(14)/14],\n",
       "[   sqrt(14)/7],\n",
       "[3*sqrt(14)/14]])"
      ]
     },
     "metadata": {},
     "output_type": "display_data"
    }
   ],
   "source": [
    "ahat = a / a.norm()\n",
    "display(ahat)"
   ]
  },
  {
   "cell_type": "markdown",
   "id": "56f97e90",
   "metadata": {},
   "source": [
    "### Dot product"
   ]
  },
  {
   "cell_type": "code",
   "execution_count": 24,
   "id": "df9e710d",
   "metadata": {},
   "outputs": [
    {
     "name": "stdout",
     "output_type": "stream",
     "text": [
      "32\n"
     ]
    }
   ],
   "source": [
    "adotb = a.dot(b)\n",
    "print(adotb)"
   ]
  },
  {
   "cell_type": "markdown",
   "id": "e7b28c9f",
   "metadata": {},
   "source": [
    "### Cross product"
   ]
  },
  {
   "cell_type": "code",
   "execution_count": 25,
   "id": "ab50c138",
   "metadata": {},
   "outputs": [
    {
     "data": {
      "text/latex": [
       "$\\displaystyle \\left[\\begin{matrix}-3\\\\6\\\\-3\\end{matrix}\\right]$"
      ],
      "text/plain": [
       "Matrix([\n",
       "[-3],\n",
       "[ 6],\n",
       "[-3]])"
      ]
     },
     "metadata": {},
     "output_type": "display_data"
    }
   ],
   "source": [
    "acrossb = a.cross(b)\n",
    "display(acrossb)"
   ]
  }
 ],
 "metadata": {
  "kernelspec": {
   "display_name": "Python 3",
   "language": "python",
   "name": "python3"
  },
  "language_info": {
   "codemirror_mode": {
    "name": "ipython",
    "version": 3
   },
   "file_extension": ".py",
   "mimetype": "text/x-python",
   "name": "python",
   "nbconvert_exporter": "python",
   "pygments_lexer": "ipython3",
   "version": "3.8.3"
  }
 },
 "nbformat": 4,
 "nbformat_minor": 5
}