{
 "cells": [
  {
   "cell_type": "markdown",
   "id": "51326c35",
   "metadata": {},
   "source": [
    "(gauss-jordan-elimination-section)=\n",
    "# Gauss-Jordan elimination\n",
    "\n",
    "**Gauss-Jordan elimination (GJE)** is similar to [Gaussian elimination](gaussian-elimination-section) with the difference that the augmented matrix is row reduced so that the values of the pivot elements are 1 and are the only non-zero element in the column. This allows the solution to be read from the final augmented matrix without the need to perform back substitution. A matrix in this form is said to be in reduced row echelon form.\n",
    "\n",
    "::::{admonition} Definition: Reduced Row Echelon Form (RREF)\n",
    ":class: note\n",
    ":name: rref-definition\n",
    "\n",
    "A matrix is said to be in **Reduced Row Echelon Form (RREF)** if it satisfies the following conditions\n",
    "\n",
    "- it is in row echelon form;\n",
    "- the leading entry in each non-zero row has a value of 1;\n",
    "- the leading entry in each non-zero row is the only non-zero element in its column.\n",
    "::::\n",
    "\n",
    "For example the following matrices are in reduced row echelon form:\n",
    "\\begin{align*}\n",
    "  &\\begin{pmatrix} 1 & 0 \\\\ 0 & 1 \\end{pmatrix}, &\n",
    "  &\\begin{pmatrix} 1 & 2 & 0 \\\\ 0 & 0 & 1 \\end{pmatrix}, &\n",
    "  &\\begin{pmatrix} 1 & 0 & 2 & 0 \\\\ 0 & 1 & 3 & 0 \\\\ 0 & 0 & 0 & 1 \\end{pmatrix}\n",
    "\\end{align*}\n",
    "\n",
    "\n",
    "The method of Gauss-Jordan elimination is summarised by the steps below.\n",
    "\n",
    ":::::{admonition} Definition: Gauss-Jordan elimination\n",
    ":class: note\n",
    ":name: gje-definition\n",
    "\n",
    "To row reduce an $m \\times n$ matrix $A$ to reduced row echelon form using Gauss-Jordan elimination we do the following: \n",
    "\n",
    "1. Initalise the pivot row to $i=1$ and pivot column to $k=1$ \n",
    "2. If $a_{ik} = 0$ perform a row swap with a row beneath the pivot row $i$ with a non-zero element in the pivot column $k$. If no such rows exist set $k = k + 1$ and repeat step 2.\n",
    "3. Divide the pivot row $i$ by the value of the pivot element $a_{ik}$.\n",
    "4. For each row $j = 1 \\ldots m$ where $i \\neq j$ subtract the pivot row $i$ multiplied by $a_{ik}$ from row $j$. \n",
    "5. Set $i = 1 + 1$ and $k = k + 1$ and repeat steps 2 to 4 until $i > m$ or $k > n$.\n",
    ":::::\n",
    "\n",
    ":::::{admonition} Example 2.6\n",
    ":class: seealso\n",
    ":name: gje-example\n",
    "\n",
    "Use Gauss-Jordan elimination to solve the following system of linear equations\n",
    "\n",
    "\\begin{align*}\n",
    "    3x_1 + x_2 - 2 x_3 &= 1, \\\\\n",
    "    x_1 - x_2 + 2x_3 &= 3, \\\\\n",
    "    2x_1 - 3x_2 + 7x_3 &= 4.\n",
    "\\end{align*}\n",
    "\n",
    "::::{dropdown} Solution\n",
    "\\begin{align*}\n",
    "    & \\left( \\begin{array}{ccc|c}\n",
    "        3 & 1 & -2 & 1 \\\\\n",
    "        1 & -1 & 2 & 3 \\\\\n",
    "        2 & -3 & 7 & 4 \n",
    "    \\end{array} \\right)\n",
    "    \\begin{array}{l} R_1 \\leftrightarrow R_2 \\end{array} \\\\ \\\\\n",
    "    \\longrightarrow \\quad &\n",
    "    \\left( \\begin{array}{ccc|c}\n",
    "        1 & -1 & 2 & 3 \\\\\n",
    "        3 & 1 & -2 & 1 \\\\\n",
    "        2 & -3 & 7 & 4 \n",
    "    \\end{array} \\right)\n",
    "    \\begin{array}{l} \\\\  R_2 - 3R_1 \\\\  R_3 - 2R_1 \\end{array} \\\\ \\\\\n",
    "    \\longrightarrow \\quad & \n",
    "    \\left( \\begin{array}{ccc|c}\n",
    "        1 & -1 & 2 & 3 \\\\\n",
    "        0 & 4 & -8 & -8 \\\\\n",
    "        0 & -1 & 3 & -2 \n",
    "    \\end{array} \\right)\n",
    "    \\begin{array}{l} \\\\  \\dfrac{1}{4} R_2 \\\\ \\phantom{x} \\end{array} \\\\ \\\\\n",
    "    \\longrightarrow \\quad & \n",
    "    \\left( \\begin{array}{ccc|c}\n",
    "        1 & -1 & 2 & 3 \\\\\n",
    "        0 & 1 & -2 & -2 \\\\\n",
    "        0 & -1 & 3 & -2 \n",
    "    \\end{array} \\right)\n",
    "    \\begin{array}{l}  R_1 + R_2\\\\ \\\\  R_3 + R_2 \\end{array} \\\\ \\\\\n",
    "    \\longrightarrow \\quad & \n",
    "    \\left( \\begin{array}{ccc|c}\n",
    "        1 & 0 & 0 & 1 \\\\\n",
    "        0 & 1 & -2 & -2 \\\\\n",
    "        0 & 0 & 1 & -4 \n",
    "    \\end{array} \\right)\n",
    "    \\begin{array}{l} \\\\  R_2 + 2R_3 \\\\ \\phantom{x}  \\end{array} \\\\ \\\\\n",
    "    \\longrightarrow \\quad &\n",
    "    \\left( \\begin{array}{ccc|c}\n",
    "        1 & 0 & 0 & 1 \\\\\n",
    "        0 & 1 & 0 & -10 \\\\\n",
    "        0 & 0 & 1 & -4 \n",
    "    \\end{array} \\right)\n",
    "\\end{align*}\n",
    "Therefore the solution is $x_1 = 1$, $x_2 = -10$ and $x_3 = -4$.\n",
    "\n",
    "::::\n",
    ":::::\n",
    "\n",
    "## Python code\n",
    "\n",
    "The SymPy command for calculating the reduced row echelon form of a matrix `A` is `A.rref()[0]`. The Python code below solves the linear system from [example 2.6](gje-example)."
   ]
  },
  {
   "cell_type": "code",
   "execution_count": 1,
   "id": "b0a48710",
   "metadata": {},
   "outputs": [
    {
     "name": "stdout",
     "output_type": "stream",
     "text": [
      "Augmented matrix\n"
     ]
    },
    {
     "data": {
      "text/latex": [
       "$\\displaystyle \\left[\\begin{matrix}3 & 1 & -2 & 1\\\\1 & -1 & 2 & 3\\\\2 & -3 & 7 & 4\\end{matrix}\\right]$"
      ],
      "text/plain": [
       "Matrix([\n",
       "[3,  1, -2, 1],\n",
       "[1, -1,  2, 3],\n",
       "[2, -3,  7, 4]])"
      ]
     },
     "metadata": {},
     "output_type": "display_data"
    },
    {
     "name": "stdout",
     "output_type": "stream",
     "text": [
      "Reduced row echelon form\n"
     ]
    },
    {
     "data": {
      "text/latex": [
       "$\\displaystyle \\left[\\begin{matrix}1 & 0 & 0 & 1\\\\0 & 1 & 0 & -10\\\\0 & 0 & 1 & -4\\end{matrix}\\right]$"
      ],
      "text/plain": [
       "Matrix([\n",
       "[1, 0, 0,   1],\n",
       "[0, 1, 0, -10],\n",
       "[0, 0, 1,  -4]])"
      ]
     },
     "metadata": {},
     "output_type": "display_data"
    },
    {
     "name": "stdout",
     "output_type": "stream",
     "text": [
      "Solution\n"
     ]
    },
    {
     "data": {
      "text/latex": [
       "$\\displaystyle \\left[\\begin{matrix}1\\\\-10\\\\-4\\end{matrix}\\right]$"
      ],
      "text/plain": [
       "Matrix([\n",
       "[  1],\n",
       "[-10],\n",
       "[ -4]])"
      ]
     },
     "metadata": {},
     "output_type": "display_data"
    }
   ],
   "source": [
    "from sympy import *\n",
    "\n",
    "# Define linear system\n",
    "A = Matrix([[3, 1, -2], [1, -1, 2], [2, -3, 7]])\n",
    "b = Matrix([[1], [3], [4]])\n",
    "\n",
    "# Form augmented matrix\n",
    "Ab = A.row_join(b)\n",
    "print(\"Augmented matrix\")\n",
    "display(Ab)\n",
    "\n",
    "# Row reduce augmented matrix\n",
    "Ab = Ab.rref()[0]\n",
    "print(\"Reduced row echelon form\")\n",
    "display(Ab)\n",
    "\n",
    "# Extract solution\n",
    "x = Ab[:,-1]\n",
    "print(\"Solution\")\n",
    "display(x)"
   ]
  },
  {
   "cell_type": "markdown",
   "id": "9861d5b8",
   "metadata": {},
   "source": [
    "(gj-matrix-inverse-section)=\n",
    "## Calculating a matrix inverse using Gauss-Jordan elimination\n",
    "\n",
    "Gauss-Jordan elimination allows us to calculate the inverse of matrices which is much more computationally efficient than the [adjoint-determinant formula](adjoint-determinant-formula-definition). To show how we can use ERO to calculate an inverse of a matrix we first need to consider elementary matrices.\n",
    "\n",
    "::::{admonition} Elementary matrix\n",
    ":class: note\n",
    ":name: elementary-matrix-definition\n",
    "    \n",
    "An **elementary matrix**, $E$, is an $n\\times n$ matrix that is obtained by applying a single elementary row operation to the identity matrix $I_n$.\n",
    "::::\n",
    "\n",
    "Since we have three types of elementary row operations there are three types of elementary matrices. Consider examples of the three types for $I_3$:\n",
    "\n",
    "- swap row $1$ and row $2$: $E_1 = \\begin{pmatrix} 0 & 1 & 0 \\\\ 1 & 0 & 0 \\\\ 0 & 0 & 1 \\end{pmatrix}$\n",
    "- multiply row $2$ by $k$: $E_2 = \\begin{pmatrix} 1 & 0 & 0 \\\\ 0 & k & 0 \\\\ 0 & 0 & 1 \\end{pmatrix}$\n",
    "- add $k$ times row 1 to row 3: $E_3 = \\begin{pmatrix} 1 & 0 & 0 \\\\ 0 & 1 & 0 \\\\ k & 0 & 1 \\end{pmatrix}$\n",
    "\n",
    "Elementary matrices have an inverse which is obtained by inverting the elementary row operation and applying it to $I$. Consider the inverse operations to those shown above\n",
    "\n",
    "- swap row $1$ and row $2$: $E_1^{-1} = \\begin{pmatrix} 0 & 1 & 0 \\\\ 1 & 0 & 0 \\\\ 0 & 0 & 1 \\end{pmatrix} = E_1$\n",
    "- divide row $2$ by $k$: $E_2^{-1} = \\begin{pmatrix} 1 & 0 & 0 \\\\ 0 & \\frac{1}{k} & 0 \\\\ 0 & 0 & 1 \\end{pmatrix}$\n",
    "- subtract $k$ times row 1 from row 3: $E_3^{-1} = \\begin{pmatrix} 1 & 0 & 0 \\\\ 0 & 1 & 0 \\\\ -k & 0 & 1 \\end{pmatrix}$\n",
    "\n",
    "Since the inverse of an elementary matrix is obtained by applying an elementary row operation to the identity matrix, by definition it must also be an elementary matrix.\n",
    "\n",
    "::::{admonition} Theorem: Multiplication by an elementary matrix\n",
    ":class: important\n",
    ":name: multiplication-by-an-elementary-matrix-theorem\n",
    "\n",
    "If $A$ is an $n\\times n$ matrix then the product $EA$, where $E$ is an elementary matrix obtained by performing a single elementary row operation on $I_n$, is equivalent to performing the elementary row operation on $A$.\n",
    "::::\n",
    "\n",
    "For example, let $A = \\begin{pmatrix} 1 & 0 & 4 \\\\ 2 & -1 & 3 \\\\ 0 & 5 & 1 \\end{pmatrix}$ and consider the following row operations:\n",
    "\n",
    "- $R_1 \\leftrightarrow R_2$: $E = \\begin{pmatrix} 0 & 1 & 0 \\\\ 1 & 0 & 0 \\\\ 0 & 0 & 1 \\end{pmatrix}$ so \n",
    "\n",
    "$$EA = \\begin{pmatrix} 0 & 1 & 0 \\\\ 1 & 0 & 0 \\\\ 0 & 0 & 1 \\end{pmatrix}\\begin{pmatrix} 1 & 0 & 4 \\\\ 2 & -1 & 3 \\\\ 0 & 5 & 1 \\end{pmatrix} = \\begin{pmatrix} 2 & -1 & 3 \\\\ 1 & 0 & 4 \\\\0 & 5 & 1 \\end{pmatrix}$$\n",
    "\n",
    "- $-2R_2$: $E = \\begin{pmatrix} 1 & 0 & 0 \\\\ 0 & -2 & 0 \\\\ 0 & 0 & 1 \\end{pmatrix}$ so \n",
    "\n",
    "$$EA = \\begin{pmatrix} 1 & 0 & 0 \\\\ 0 & -2 & 0 \\\\ 0 & 0 & 1 \\end{pmatrix} \\begin{pmatrix} 1 & 0 & 4 \\\\ 2 & -1 & 3 \\\\ 0 & 5 & 1 \\end{pmatrix} = \\begin{pmatrix} 1 & 0 & 4 \\\\ -4 & 2 & -6 \\\\ 0 & 5 & 1 \\end{pmatrix}$$\n",
    "\n",
    "- $ R_3 + 3R_2$: $E = \\begin{pmatrix} 1 & 0 & 0  \\\\ 0 & 1 & 0 \\\\ 0 & 3 & 1 \\end{pmatrix}$ so \n",
    "\n",
    "$$EA = \\begin{pmatrix} 1 & 0 & 0  \\\\ 0 & 1 & 0 \\\\ 0 & 3 & 1 \\end{pmatrix}\\begin{pmatrix} 1 & 0 & 4 \\\\ 2 & -1 & 3 \\\\ 0 & 5 & 1 \\end{pmatrix} = \\begin{pmatrix} 1 & 0 & 4 \\\\ 2 & -1 & 3 \\\\ 6 & 2 & 10 \\end{pmatrix}$$\n",
    "\n",
    "::::{admonition} Theorem: Expressing an inverse matrix as a product of elementary matrices\n",
    ":class: important\n",
    ":name: inverse-as-product-of-elementary-matrices-theorem\n",
    "\n",
    "If $A$ is an $n\\times n$ non-singular matrix which which has been reduced to $I_n$ by use of $k$ elementary row operations $E_1, E_2, \\ldots E_k$ then \n",
    "\n",
    "$$A^{-1} = E_kE_{k-1}\\ldots E_2E_1.$$\n",
    "::::\n",
    "\n",
    "**Proof**\n",
    "\n",
    "*If $A$ has been reduced to $I_n$ by application of $k$ elementary row operations then*\n",
    "\n",
    "$$I_n  = E_kE_{k-1}\\ldots E_2E_1A.$$\n",
    "\n",
    "*Multiplying both sides on the right by $A^{-1}$ gives $A^{-1}=E_kE_{k-1}\\ldots E_2E_1$.*<div style=\"text-align: right\"> &#9633; </div>\n",
    "\n",
    "Combining the theorems for [mulitplication by an elementary matrix](multiplication-by-an-elementary-matrix-theorem) and [expressing an inverse matrix as a product of elementary matrices](inverse-as-product-of-elementary-matrices-theorem) means that if we perform the same elementary row operations to $I$ as we have done to row reduce a non-singular matrix $A$ to $I$ then the results is the inverse of $A$. We do this by forming an augmented matrix $(A\\mid I)$ and perform Gauss-Jordan elimination on the left-hand matrix. Once the left-hand matrix has been reduced to $I$ the right-hand matrix is then the inverse of $A$.\n",
    "\n",
    ":::::{admonition} Example 2.7\n",
    ":class: seealso\n",
    ":name: gje-inverse-example\n",
    "\n",
    "Use Gauss-Jordan elimination to calculate the inverse of \n",
    "\\begin{align*}\n",
    "    A = \\begin{pmatrix}1 & 0 & 2 \\\\ 2 & -1 & 3 \\\\ 1 & 4 & 4 \\end{pmatrix}.\n",
    "\\end{align*}\n",
    "\n",
    "::::{dropdown} Solution\n",
    "\n",
    "\\begin{align*}\n",
    "    & \\left( \\begin{array}{ccc|ccc} \n",
    "        1 & 0 & 2 & 1 & 0 & 0 \\\\ \n",
    "        2 & -1 & 3 & 0 & 1 & 0 \\\\\n",
    "        1 & 4 & 4 & 0 & 0 & 1 \n",
    "    \\end{array} \\right)\n",
    "    \\begin{array}{l} \\\\  R_2 - 2R_1 \\\\  R_3 - R_1 \\end{array} \\\\ \\\\\n",
    "    \\longrightarrow \\quad &\n",
    "    \\left( \\begin{array}{ccc|ccc} \n",
    "        1 & 0 & 2 & 1 & 0 & 0 \\\\ \n",
    "        0 & -1 & -1 & -2 & 1 & 0 \\\\\n",
    "        0 & 4 & 2 & -1 & 0 & 1 \n",
    "    \\end{array} \\right)\n",
    "    \\begin{array}{l}  -R_2 \\end{array} \\\\ \\\\\n",
    "    \\longrightarrow \\quad &\n",
    "    \\left( \\begin{array}{ccc|ccc} \n",
    "        1 & 0 & 2 & 1 & 0 & 0 \\\\ \n",
    "        0 & 1 & 1 & 2 & -1 & 0 \\\\\n",
    "        0 & 4 & 2 & -1 & 0 & 1 \n",
    "    \\end{array} \\right)\n",
    "    \\begin{array}{l} \\\\ \\\\  R_3 - 4R_2 \\end{array} \\\\ \\\\\n",
    "    \\longrightarrow \\quad &\n",
    "    \\left( \\begin{array}{ccc|ccc} \n",
    "        1 & 0 & 2 & 1 & 0 & 0 \\\\ \n",
    "        0 & 1 & 1 & 2 & -1 & 0 \\\\\n",
    "        0 & 0 & -2 & -9 & 4 & 1 \n",
    "    \\end{array} \\right)\n",
    "    \\begin{array}{l} \\\\ \\\\  -\\frac{1}{2}R_3 \\end{array} \\\\ \\\\\n",
    "    \\longrightarrow \\quad &\n",
    "    \\left( \\begin{array}{ccc|ccc} \n",
    "        1 & 0 & 2 & 1 & 0 & 0 \\\\ \n",
    "        0 & 1 & 1 & 2 & -1 & 0 \\\\\n",
    "        0 & 0 & 1 & \\frac{9}{2} & -2 & -\\frac{1}{2}\n",
    "    \\end{array} \\right)\n",
    "    \\begin{array}{l}  R_1 - 2R_3 \\\\  R_2 - R_3 \\\\ \\phantom{x} \\end{array} \\\\ \\\\\n",
    "    \\longrightarrow \\quad &\n",
    "    \\left( \\begin{array}{ccc|ccc} \n",
    "        1 & 0 & 0 & -8 & 4 & 1 \\\\ \n",
    "        0 & 1 & 0 & -\\frac{5}{2} & 1 & \\frac{1}{2} \\\\\n",
    "        0 & 0 & 1 & \\frac{9}{2} & -2 & - \\frac{1}{2}\n",
    "    \\end{array} \\right).\n",
    "\\end{align*} \n",
    "So the inverse is $A^{-1}=\\begin{pmatrix} -8 & 4 & 1 \\\\ -\\frac{5}{2} & 1 & \\frac{1}{2} \\\\ \\frac{9}{2} & -2 & -\\frac{1}{2} \\end{pmatrix}$. Checking the answer\n",
    "\\begin{align*}\n",
    "    A^{-1}A = \n",
    "    \\begin{pmatrix} \n",
    "        -8 & 4 & 1 \\\\ \n",
    "        -\\frac{5}{2} & 1 & \\frac{1}{2} \\\\\n",
    "        \\frac{9}{2} & -2 & -\\frac{1}{2} \n",
    "    \\end{pmatrix}\n",
    "    \\begin{pmatrix}\n",
    "        1 & 0 & 2 \\\\ \n",
    "        2 & -1 & 3 \\\\ \n",
    "        1 & 4 & 4 \n",
    "    \\end{pmatrix} = \n",
    "    \\begin{pmatrix} \n",
    "        1 & 0 & 0 \\\\ \n",
    "        0 & 1 & 0 \\\\ \n",
    "        0 & 0 & 1 \n",
    "    \\end{pmatrix} = I.\n",
    "\\end{align*}\n",
    "::::\n",
    ":::::\n",
    "\n",
    "The calculation of a matrix inverse using Gauss-Jordan elimination is more efficient that using the adjoint-determinant formula when dealing with larger matrices (i.e., when $n > 3$) since the steps can be easily programmed into a computer and it does not require the calculation of determinants which can be computationally expensive.\n",
    "\n",
    "## Python code\n",
    "\n",
    "The Python code below calculates the inverse of the matrix from [example 2.6](gje-inverse-example)."
   ]
  },
  {
   "cell_type": "code",
   "execution_count": 2,
   "id": "74d8fad6",
   "metadata": {},
   "outputs": [
    {
     "name": "stdout",
     "output_type": "stream",
     "text": [
      "Augmented matrix\n"
     ]
    },
    {
     "data": {
      "text/latex": [
       "$\\displaystyle \\left[\\begin{matrix}1 & 0 & 2 & 1 & 0 & 0\\\\2 & -1 & 3 & 0 & 1 & 0\\\\1 & 4 & 4 & 0 & 0 & 1\\end{matrix}\\right]$"
      ],
      "text/plain": [
       "Matrix([\n",
       "[1,  0, 2, 1, 0, 0],\n",
       "[2, -1, 3, 0, 1, 0],\n",
       "[1,  4, 4, 0, 0, 1]])"
      ]
     },
     "metadata": {},
     "output_type": "display_data"
    },
    {
     "name": "stdout",
     "output_type": "stream",
     "text": [
      "RREF\n"
     ]
    },
    {
     "data": {
      "text/latex": [
       "$\\displaystyle \\left[\\begin{matrix}1 & 0 & 0 & -8 & 4 & 1\\\\0 & 1 & 0 & - \\frac{5}{2} & 1 & \\frac{1}{2}\\\\0 & 0 & 1 & \\frac{9}{2} & -2 & - \\frac{1}{2}\\end{matrix}\\right]$"
      ],
      "text/plain": [
       "Matrix([\n",
       "[1, 0, 0,   -8,  4,    1],\n",
       "[0, 1, 0, -5/2,  1,  1/2],\n",
       "[0, 0, 1,  9/2, -2, -1/2]])"
      ]
     },
     "metadata": {},
     "output_type": "display_data"
    },
    {
     "name": "stdout",
     "output_type": "stream",
     "text": [
      "Inverse matrix\n"
     ]
    },
    {
     "data": {
      "text/latex": [
       "$\\displaystyle \\left[\\begin{matrix}-8 & 4 & 1\\\\- \\frac{5}{2} & 1 & \\frac{1}{2}\\\\\\frac{9}{2} & -2 & - \\frac{1}{2}\\end{matrix}\\right]$"
      ],
      "text/plain": [
       "Matrix([\n",
       "[  -8,  4,    1],\n",
       "[-5/2,  1,  1/2],\n",
       "[ 9/2, -2, -1/2]])"
      ]
     },
     "metadata": {},
     "output_type": "display_data"
    }
   ],
   "source": [
    "# Form augmented matrix\n",
    "A = Matrix([[1, 0, 2], [2, -1, 3], [1, 4, 4]])\n",
    "AI = A.row_join(eye(3))\n",
    "\n",
    "print(\"Augmented matrix\")\n",
    "display(AI)\n",
    "\n",
    "# Row reduce augmented matrix\n",
    "AI = AI.rref()[0]\n",
    "\n",
    "print(\"RREF\")\n",
    "display(AI)\n",
    "\n",
    "# Extract inverse matrix\n",
    "invA = AI[:,3:]\n",
    "\n",
    "print(\"Inverse matrix\")\n",
    "display(invA)"
   ]
  }
 ],
 "metadata": {
  "kernelspec": {
   "display_name": "Python 3",
   "language": "python",
   "name": "python3"
  },
  "language_info": {
   "codemirror_mode": {
    "name": "ipython",
    "version": 3
   },
   "file_extension": ".py",
   "mimetype": "text/x-python",
   "name": "python",
   "nbconvert_exporter": "python",
   "pygments_lexer": "ipython3",
   "version": "3.8.3"
  }
 },
 "nbformat": 4,
 "nbformat_minor": 5
}