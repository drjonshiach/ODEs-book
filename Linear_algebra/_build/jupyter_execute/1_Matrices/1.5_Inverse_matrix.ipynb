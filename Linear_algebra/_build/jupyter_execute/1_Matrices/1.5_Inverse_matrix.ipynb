{
 "cells": [
  {
   "cell_type": "markdown",
   "id": "c593ce34",
   "metadata": {},
   "source": [
    "# Inverse matrix\n",
    "\n",
    "The multiplicative inverse of a number $x$ is a number denoted by $x^{-1}$ that when multiplied by $x$ results in the multiplicative identity 1, so the multiplicative inverse of $x$ is $\\dfrac{1}{x}$. For matrices, the multiplicate identity is the identity matrix so we can define a multiplicative inverse with respect to matrix multiplication.\n",
    "\n",
    "::::{admonition} Definition: Inverse matrix\n",
    ":class: note\n",
    ":name: inverse-matrix-definition\n",
    "\n",
    "Let $A$ be a non-zero $m \\times n$ matrix. Then, if there exist an $n \\times m$ matrix $A^{-1}$, such that $A^{-1}A = I_n,$ we say that $A^{-1}$ is the **inverse** of the matrix $A$.\n",
    "::::\n",
    "\n",
    "Note:\n",
    "\n",
    "- not all square matrices have an inverse;\n",
    "- if a matrix does not have an inverse it is said to be **singular**;\n",
    "- if a matrix has an inverse it is said to be **non-singular** or **invertible**;\n",
    "- an inverse of a square matrix is unique.\n",
    "\n",
    ":::::{admonition} Example 1.14\n",
    ":class: seealso\n",
    ":name: inverse-matrix-example-1\n",
    "\n",
    "Given the two matrices\n",
    "$A = \\begin{pmatrix} 1 & 1 \\\\ 1 & 2 \\end{pmatrix}$ and\n",
    "$B = \\begin{pmatrix} 2 & -1 \\\\ -1 & 1 \\end{pmatrix},$ \n",
    "show that $B$ is the inverse of $A$. \n",
    "\n",
    "::::{dropdown} Solution\n",
    "\\begin{align*}\n",
    "    BA = \\begin{pmatrix} 2 & -1 \\\\ -1 & 1 \\end{pmatrix}\\begin{pmatrix} 1 & 1 \\\\ 1 & 2 \\end{pmatrix} = \\begin{pmatrix} 1 & 0 \\\\ 0 & 1 \\end{pmatrix} = I.\n",
    "\\end{align*}\n",
    "::::\n",
    ":::::\n",
    "\n",
    "## The adjoint of a matrix\n",
    "\n",
    ":::::{admonition} Definition: Adjoint of a matrix\n",
    ":class: note\n",
    ":name: adjoint-definition\n",
    "\n",
    "The **adjoint** (also known as the **adjugate**) of a square matrix $A$ is denoted by $\\operatorname{adj}(A)$ and is the transpose of the matrix of cofactors of $A$\n",
    "\n",
    "\\begin{align*}\n",
    "    \\operatorname{adj}(A) &= C^\\mathrm{T}, \\\\\n",
    "    \\therefore [\\operatorname{adj}(A)]_{ij}&=(-1)^{i+j}M_{ij}.\n",
    "\\end{align*}\n",
    ":::::\n",
    "\n",
    ":::::{admonition} Example 1.15\n",
    ":class: seealso\n",
    ":name: adjoint-example\n",
    "\n",
    "Calculate the adjoint of the following matrices:\n",
    "\n",
    "::::{grid}\n",
    "\n",
    ":::{grid-item}\n",
    ":columns: 4\n",
    "(i) &emsp; $\\begin{pmatrix} a & b \\\\ c & d \\end{pmatrix}$\n",
    ":::\n",
    "\n",
    ":::{grid-item}\n",
    ":columns: 4\n",
    "(ii) &emsp; $\\begin{pmatrix} 5 & 2 \\\\ 3 & 4 \\end{pmatrix}$\n",
    ":::\n",
    "\n",
    ":::{grid-item}\n",
    ":columns: 4\n",
    "(iii) &emsp; $\\begin{pmatrix} 1 & 0 & 3 \\\\ 4 & -2 & 1 \\\\ 2 & 1 & 3 \\end{pmatrix}$\n",
    ":::\n",
    "\n",
    "::::\n",
    "\n",
    "::::{dropdown} Solution\n",
    "\n",
    "(i)\n",
    "\\begin{align*}\n",
    "    \\operatorname{adj}\\begin{pmatrix} a & b \\\\ c & d \\end{pmatrix} = \\begin{pmatrix} d & -c \\\\ -b & a \\end{pmatrix}^\\mathrm{T}\n",
    "= \\begin{pmatrix} d & -b \\\\ -c & a \\end{pmatrix}\n",
    "\\end{align*}\n",
    "\n",
    "(ii) \n",
    "\\begin{align*}\n",
    "    \\operatorname{adj}\\begin{pmatrix} 5 & 2 \\\\ 3 & 4 \\end{pmatrix} = \\begin{pmatrix} 4 & -3 \\\\ -2 & 5 \\end{pmatrix}^\\mathrm{T}\n",
    "= \\begin{pmatrix} 4 & -2 \\\\ -3 & 5 \\end{pmatrix}\n",
    "\\end{align*}\n",
    "\n",
    "(iii)\n",
    "\\begin{align*}\n",
    "    \\operatorname{adj}\\begin{pmatrix} 1 & 0 & 3 \\\\ 4 & -2 & 1 \\\\ 2 & 1 & 3 \\end{pmatrix} \n",
    "    &= \\begin{pmatrix}\n",
    "        \\begin{vmatrix} -2 & 1 \\\\ 1 & 3 \\end{vmatrix} &\n",
    "        -\\begin{vmatrix} 4 & 1 \\\\ 2 & 3 \\end{vmatrix} &\n",
    "        \\begin{vmatrix} 4 & -2 \\\\ 2 & 1 \\end{vmatrix} \\\\\n",
    "        -\\begin{vmatrix} 0 & 3 \\\\ 1 & 3 \\end{vmatrix} &\n",
    "        \\begin{vmatrix} 1 & 3 \\\\ 2 & 3 \\end{vmatrix} &\n",
    "        -\\begin{vmatrix} 1 & 0 \\\\ 2 & 1 \\end{vmatrix} \\\\\n",
    "        \\begin{vmatrix} 0 & 3 \\\\ -2 & 1 \\end{vmatrix} &\n",
    "        -\\begin{vmatrix} 1 & 3 \\\\ 4 & 1 \\end{vmatrix} &\n",
    "        \\begin{vmatrix} 1 & 0 \\\\ 4 & -2 \\end{vmatrix}\n",
    "    \\end{pmatrix}^\\mathrm{T} \\\\\n",
    "    &= \\begin{pmatrix} -7 & -10 & 8 \\\\ 3 & -3 & -1 \\\\ 6 & 11 & -2 \\end{pmatrix}^\\mathrm{T} \\\\\n",
    "    &= \\begin{pmatrix} -7 & 3 & 6 \\\\ -10 & -3 & 11 \\\\ 8 & -1 & -2 \\end{pmatrix}.\n",
    "\\end{align*}\n",
    "  \n",
    "::::\n",
    ":::::\n",
    "\n",
    "### Python code\n",
    "\n",
    "The Sympy code for calculating the adjoint of a square matrix `A` is `A.adjugate()`. The code below calculates the adjoint of the matrices from [example 1.14](adjoint-example)."
   ]
  },
  {
   "cell_type": "code",
   "execution_count": 1,
   "id": "4bb0ff6a",
   "metadata": {},
   "outputs": [
    {
     "name": "stdout",
     "output_type": "stream",
     "text": [
      "(i)\n"
     ]
    },
    {
     "data": {
      "text/latex": [
       "$\\displaystyle \\left[\\begin{matrix}d & - b\\\\- c & a\\end{matrix}\\right]$"
      ],
      "text/plain": [
       "Matrix([\n",
       "[ d, -b],\n",
       "[-c,  a]])"
      ]
     },
     "metadata": {},
     "output_type": "display_data"
    },
    {
     "name": "stdout",
     "output_type": "stream",
     "text": [
      "(ii)\n"
     ]
    },
    {
     "data": {
      "text/latex": [
       "$\\displaystyle \\left[\\begin{matrix}4 & -2\\\\-3 & 5\\end{matrix}\\right]$"
      ],
      "text/plain": [
       "Matrix([\n",
       "[ 4, -2],\n",
       "[-3,  5]])"
      ]
     },
     "metadata": {},
     "output_type": "display_data"
    },
    {
     "name": "stdout",
     "output_type": "stream",
     "text": [
      "(iii)\n"
     ]
    },
    {
     "data": {
      "text/latex": [
       "$\\displaystyle \\left[\\begin{matrix}-7 & 3 & 6\\\\-10 & -3 & 11\\\\8 & -1 & -2\\end{matrix}\\right]$"
      ],
      "text/plain": [
       "Matrix([\n",
       "[ -7,  3,  6],\n",
       "[-10, -3, 11],\n",
       "[  8, -1, -2]])"
      ]
     },
     "metadata": {},
     "output_type": "display_data"
    }
   ],
   "source": [
    "from sympy import *\n",
    "\n",
    "# (i)\n",
    "a, b, c, d = symbols(\"a, b, c, d\")\n",
    "A = Matrix([[a, b], [c, d]])\n",
    "adjA = A.adjugate()\n",
    "\n",
    "print(\"(i)\")\n",
    "display(adjA)\n",
    "\n",
    "# (ii)\n",
    "A = Matrix([[5, 2], [3, 4]])\n",
    "adjA = A.adjugate()\n",
    "\n",
    "print(\"(ii)\")\n",
    "display(adjA)\n",
    "\n",
    "# (iii)\n",
    "A = Matrix([[1, 0, 3], [4, -2, 1], [2, 1, 3]])\n",
    "adjA = A.adjugate()\n",
    "\n",
    "print(\"(iii)\")\n",
    "display(adjA)"
   ]
  },
  {
   "cell_type": "markdown",
   "id": "f777e8a8",
   "metadata": {},
   "source": [
    "## Calculating a matrix inverse using the adjoint-determinant formula\n",
    "\n",
    "There are several methods used to calculate the inverse of a matrix. For smaller matrices we can use the adjoint-determinant formula.\n",
    "\n",
    "::::{admonition} Theorem: Adjoint-determinant formula\n",
    ":class: important\n",
    ":name: adjoint-determinant-formula-definition\n",
    "\n",
    "The inverse of a non-singular square matrix $A$ can be calculated using\n",
    "\n",
    ":::{math}\n",
    ":label: adjoint-determinant-formula-equation\n",
    "\\begin{align*}\n",
    "    A^{-1} = \\frac{\\operatorname{adj}(A)}{\\det(A)}.\n",
    "\\end{align*}\n",
    ":::\n",
    "\n",
    "In particular, $A$ is invertible if and only if $\\det(A)\\neq 0$.\n",
    "\n",
    "::::\n",
    "\n",
    "It is useful to calculate the determinant first to check that it is non-zero before calculating the adjoint.\n",
    "\n",
    ":::::{admonition} Example 1.16\n",
    ":class: seealso\n",
    ":name: matrix-inverse-example-2\n",
    "\n",
    "Calculate the inverses of the following matrices if they exist:\n",
    "\n",
    "::::{grid}\n",
    "\n",
    ":::{grid-item}\n",
    ":columns: 4\n",
    "(i) &emsp; $A = \\begin{pmatrix}1 & 0 \\\\ 3 & 2\\end{pmatrix}$\n",
    ":::\n",
    "\n",
    ":::{grid-item}\n",
    ":columns: 4\n",
    "(ii) &emsp; $B = \\begin{pmatrix} 1 & 2 & 0 \\\\ -2 & 1 & 1 \\\\ 1 & 0 & 3 \\end{pmatrix}$\n",
    ":::\n",
    "\n",
    ":::{grid-item}\n",
    ":columns: 4\n",
    "(iii) &emsp; $C = \\begin{pmatrix}1 & 2 & 3 \\\\ 4 & 5 & 6 \\\\ 7 & 8 & 9 \\end{pmatrix}$\n",
    ":::\n",
    "\n",
    "::::\n",
    "\n",
    "::::{dropdown} Solution\n",
    "\n",
    "(i)\n",
    "\\begin{align*}\n",
    "    \\det(A) &= 2, \\\\\n",
    "    \\operatorname{adj}(A) &= \\begin{pmatrix} 2 & -3 \\\\ 0 & 1 \\end{pmatrix}^\\mathrm{T}  = \\begin{pmatrix} 2 & 0 \\\\ -3 & 1\\end{pmatrix} \\\\\n",
    "    \\therefore A^{-1} &= \\frac{1}{2}\\begin{pmatrix} 2 & 0 \\\\ -3 & 1\\end{pmatrix}.\n",
    "\\end{align*}\n",
    "Check answer:\n",
    "\\begin{align*}\n",
    "    A^{-1}A = \\frac{1}{2}\\begin{pmatrix} 2 & 0 \\\\ -3 & 1\\end{pmatrix}\\begin{pmatrix}1 & 0 \\\\ 3 & 2\\end{pmatrix} = \\frac{1}{2} \\begin{pmatrix} 2 & 0 \\\\ 0 & 2 \\end{pmatrix} = \\begin{pmatrix} 1 & 0 \\\\ 0 & 1 \\end{pmatrix} = I. \n",
    "\\end{align*}\n",
    "\n",
    "(ii)\n",
    "\\begin{align*}\n",
    "    \\det\\begin{pmatrix} 1 & 2 & 0 \\\\ -2 & 1 & 1 \\\\ 1 & 0 & 3 \\end{pmatrix} &= \n",
    "    \\begin{vmatrix} 1 & 1 \\\\ 0 & 3 \\end{vmatrix}  - 2 \\begin{vmatrix}-2 & 1 \\\\ 1 & 3 \\end{vmatrix} =\n",
    "    3 - 2(-7) = 17, \\\\\n",
    "    \\operatorname{adj}\\begin{pmatrix} 1 & 2 & 0 \\\\ -2 & 1 & 1 \\\\ 1 & 0 & 3 \\end{pmatrix} &= \n",
    "    \\begin{pmatrix} 3 & 7 & -1 \\\\ -6 & 3 & 2 \\\\ 2 & -1 & 5 \\end{pmatrix}^\\mathrm{T} =\n",
    "    \\begin{pmatrix} 3 & -6 & 2 \\\\ 7 & 3 & -1 \\\\ -1 & 2 & 5 \\end{pmatrix}, \\\\\n",
    "    \\therefore B^{-1} &= \\frac{1}{17}\\begin{pmatrix} 3 & -6 & 2 \\\\ 7 & 3 & -1 \\\\ -1 & 2 & 5 \\end{pmatrix}\n",
    "\\end{align*}\n",
    "Check answer:\n",
    "\\begin{align*}\n",
    "    B^{-1}B &= \\frac{1}{17}\\begin{pmatrix} 3 & -6 & 2 \\\\ 7 & 3 & -1 \\\\ -1 & 2 & 5 \\end{pmatrix}\n",
    "    \\begin{pmatrix} 1 & 2 & 0 \\\\ -2 & 1 & 1 \\\\ 1 & 0 & 3 \\end{pmatrix} \\\\\n",
    "    &= \\frac{1}{17}\\begin{pmatrix} 17 & 0 & 0 \\\\ 0 & 17 & 0 \\\\ 0 & 0 & 17 \\end{pmatrix} =\n",
    "    \\begin{pmatrix} 1 & 0 & 0 \\\\ 0 & 1 & 0 \\\\ 0 & 0 & 1 \\end{pmatrix} = I.\n",
    "\\end{align*}\n",
    "\n",
    "(iii)\n",
    "\\begin{align*}\n",
    "    \\det\\begin{pmatrix}1 & 2 & 3 \\\\ 4 & 5 & 6 \\\\ 7 & 8 & 9 \\end{pmatrix} &= \n",
    "    \\begin{vmatrix} 5 & 6 \\\\ 8 & 9 \\end{vmatrix} - 2\n",
    "    \\begin{vmatrix} 4 & 6 \\\\ 7 & 9 \\end{vmatrix} + 3\n",
    "    \\begin{vmatrix} 4 & 5 \\\\ 7 & 8 \\end{vmatrix} \\\\\n",
    "    &= -3 - 2(-6) + 3(-3) = 0.\n",
    "\\end{align*}\n",
    "Since $\\det(C)=0$ then $C$ is singular and does not have an inverse.\n",
    "\n",
    ":::::\n",
    "\n",
    "::::{admonition} Theorem: Properties of inverse matrices\n",
    ":class: important\n",
    ":name: inverse-matrix-properties-theorem\n",
    "\n",
    "Let $A$ and $B$ be two invertible $n \\times n$ matrices, then the following hold:\n",
    "\n",
    "- $AB$ is also invertible and\n",
    "    \n",
    "  $$(AB)^{-1} = B^{-1}A^{-1}.$$\n",
    "    \n",
    "  It follows that $(A^m)^{-1} = (A^{-1})^m$ for all positive integers $m$.\n",
    "  \n",
    "- $A^\\mathrm{T}$ is also invertible and\n",
    "   \n",
    "  $$(A^\\mathrm{T})^{-1} = (A^{-1})^\\mathrm{T}.$$\n",
    "\n",
    "::::\n",
    "\n",
    "### Python code\n",
    "\n",
    "The Sympy code for calculating the inverse of a square matrix `A` is `A.inv()`. The code below calculates the adjoint of the matrices $A$ and $B$ from [example 1.16](matrix-inverse-example-2)."
   ]
  },
  {
   "cell_type": "code",
   "execution_count": 2,
   "id": "810fc329",
   "metadata": {},
   "outputs": [
    {
     "name": "stdout",
     "output_type": "stream",
     "text": [
      "(i) A^{-1} =\n"
     ]
    },
    {
     "data": {
      "text/latex": [
       "$\\displaystyle \\left[\\begin{matrix}1 & 0\\\\- \\frac{3}{2} & \\frac{1}{2}\\end{matrix}\\right]$"
      ],
      "text/plain": [
       "Matrix([\n",
       "[   1,   0],\n",
       "[-3/2, 1/2]])"
      ]
     },
     "metadata": {},
     "output_type": "display_data"
    },
    {
     "name": "stdout",
     "output_type": "stream",
     "text": [
      "(ii) B^{-1} =\n"
     ]
    },
    {
     "data": {
      "text/latex": [
       "$\\displaystyle \\left[\\begin{matrix}\\frac{3}{17} & - \\frac{6}{17} & \\frac{2}{17}\\\\\\frac{7}{17} & \\frac{3}{17} & - \\frac{1}{17}\\\\- \\frac{1}{17} & \\frac{2}{17} & \\frac{5}{17}\\end{matrix}\\right]$"
      ],
      "text/plain": [
       "Matrix([\n",
       "[ 3/17, -6/17,  2/17],\n",
       "[ 7/17,  3/17, -1/17],\n",
       "[-1/17,  2/17,  5/17]])"
      ]
     },
     "metadata": {},
     "output_type": "display_data"
    }
   ],
   "source": [
    "from sympy import *\n",
    "from IPython.display import Math\n",
    "\n",
    "# (i)\n",
    "A = Matrix([[1, 0], [3, 2]])\n",
    "invA = A.inv()\n",
    "\n",
    "print(\"(i) A^{-1} =\")\n",
    "display(invA)\n",
    "\n",
    "# (ii)\n",
    "B = Matrix([[1, 2, 0], [-2, 1, 1], [1, 0, 3]])\n",
    "invB = B.inv()\n",
    "\n",
    "print(\"(ii) B^{-1} =\")\n",
    "display(invB)"
   ]
  }
 ],
 "metadata": {
  "kernelspec": {
   "display_name": "Python 3",
   "language": "python",
   "name": "python3"
  },
  "language_info": {
   "codemirror_mode": {
    "name": "ipython",
    "version": 3
   },
   "file_extension": ".py",
   "mimetype": "text/x-python",
   "name": "python",
   "nbconvert_exporter": "python",
   "pygments_lexer": "ipython3",
   "version": "3.8.3"
  }
 },
 "nbformat": 4,
 "nbformat_minor": 5
}