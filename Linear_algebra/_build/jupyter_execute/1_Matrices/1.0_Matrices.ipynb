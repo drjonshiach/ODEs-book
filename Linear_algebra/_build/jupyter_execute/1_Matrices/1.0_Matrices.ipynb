{
 "cells": [
  {
   "cell_type": "markdown",
   "id": "c07eec30",
   "metadata": {},
   "source": [
    "(matrices-chapter)=\n",
    "# Matrices\n",
    "\n",
    "\n",
    "**Learning outcomes**\n",
    "\n",
    "On successful completion of this chapter students will be able to:\n",
    "\n",
    "-  define and [index](indexing-a-matrix-section) matrices;\n",
    "-  perform the arithmetic operations of [addition](matrix-addition-section), [multiplication by a scalar](scalar-multiplication-of-matrices), [matrix multiplication](matrix-multiplication-definition), [matrix exponents](matrix-exponents-definition) and [matrix transpose](matrix-transpose-definition);  \n",
    "-  recognise and define special matrices such as [diagonal matrices](diagonal-matrix-definition), the [zero matrix](zero-matrix-definition), the [identity matrix](identity-matrix-definition) and [symmetric matrices](symmetric-matrix-definition);\n",
    "-  calculate the determinant of a [$2\\times 2$](2x2-determinant-definition) and [$n\\times n$](nxn-determinant-definition) matrix, the [adjoint](adjoint-definition) and [inverse](inverse-matrix-definition) of a non-singular square matrix using the [adjoint-determinant formula](adjoint-determinant-formula-definition);\n",
    "- perform [algebraic manipulation](matrix-algebra-section) of equations involving matrices. \n",
    "\n",
    "---\n",
    "\n",
    "(definition-of-a-matrix-section)=\n",
    "## Definition of a matrix\n",
    "\n",
    "A **matrix** (plural **matrices**) is a rectangular array of elements which can be numbers, mathematical expressions, symbols, or even other matrices. Matrices are arranged in rows and columns and enclosed by parentheses (or sometimes square brackets), for example\n",
    "\n",
    "\\begin{align*}\n",
    "    \\begin{pmatrix}\n",
    "        1 & 2 & 3 \\\\\n",
    "        4 & 5 & 6\n",
    "    \\end{pmatrix}.\n",
    "\\end{align*}\n",
    "    \n",
    "This matrix contains 6 elements arranged in 2 (horizontal) rows and 3 (vertical) columns.\n",
    "\n",
    "::::{admonition} Definition: Dimension of a matrix\n",
    ":class: note\n",
    ":name: dimension-of-a-matrix-definition\n",
    "\n",
    "The dimension or size of a matrix is defined to be **rows** $\\times$ **columns**, where 'rows' is the number of horizontal rows and 'columns' the number of vertical columns of said matrix. If rows $=$ columns we say that the matrix is a square matrix.\n",
    "::::\n",
    "\n",
    ":::::{admonition} Example 1.1\n",
    ":class: seealso\n",
    ":name: matrix-dimension-example\n",
    "\n",
    "Determine the dimensions of the following matrices:\n",
    "\n",
    "::::{grid}\n",
    ":gutter: 2\n",
    "\n",
    ":::{grid-item}\n",
    ":columns: 6\n",
    "(i) &emsp; $A = \\begin{pmatrix} 1 & 2 \\\\ 3 & 4 \\end{pmatrix}$\n",
    ":::\n",
    "\n",
    ":::{grid-item}\n",
    ":columns: 6\n",
    "(ii) &emsp; $B = \\begin{pmatrix} a & b \\\\ c & d \\\\ e & f \\end{pmatrix}$\n",
    ":::\n",
    "\n",
    ":::{grid-item}\n",
    ":columns: 6\n",
    "(iii) &emsp; $C = \\begin{pmatrix} \\sin(x) & \\ln(x) & \\cos(x+1) \\end{pmatrix}$\n",
    ":::\n",
    "\n",
    ":::{grid-item}\n",
    ":columns: 6\n",
    "(iv) &emsp; $D = \\begin{pmatrix} 0 \\end{pmatrix}$\n",
    ":::\n",
    "\n",
    "::::\n",
    "\n",
    "::::{dropdown} Solution\n",
    "\n",
    "(i) &emsp; $2\\times 2 $\n",
    "\n",
    "(ii) &emsp; $3\\times 2$\n",
    "\n",
    "(iii) &emsp; $1 \\times 3$\n",
    "\n",
    "(iv) &emsp; $1 \\times 1$\n",
    "::::\n",
    ":::::\n",
    "\n",
    "### Python code\n",
    "\n",
    "To define and perform operations on matrices in Python we can use the **SymPy** library (short for *symbolic Python*) library. A matrix can then be defined using the `Matrix` command, for example"
   ]
  },
  {
   "cell_type": "code",
   "execution_count": 1,
   "id": "2bf7f274",
   "metadata": {},
   "outputs": [
    {
     "data": {
      "text/latex": [
       "$\\displaystyle \\left[\\begin{matrix}1 & 2\\\\3 & 4\\end{matrix}\\right]$"
      ],
      "text/plain": [
       "Matrix([\n",
       "[1, 2],\n",
       "[3, 4]])"
      ]
     },
     "metadata": {},
     "output_type": "display_data"
    }
   ],
   "source": [
    "from sympy import *\n",
    "\n",
    "A = Matrix([[1, 2], [3, 4]])\n",
    "display(A)"
   ]
  },
  {
   "cell_type": "markdown",
   "id": "16911a05",
   "metadata": {},
   "source": [
    "Note that the matrix is defined using square brackets and each row is contained within another pair of square brackets. Commas separate elements in the same row and the different rows of a matrix. \n",
    "\n",
    "The command for determining the number of rows and columns of a matrix `A` is `A.shape` which returns a 2-tuple containing. The following code defines the matrix $A$ from [example 1.1](matrix-dimension-example) and outputs its dimensions"
   ]
  },
  {
   "cell_type": "code",
   "execution_count": 2,
   "id": "5d5142f1",
   "metadata": {},
   "outputs": [
    {
     "name": "stdout",
     "output_type": "stream",
     "text": [
      "The matrix A is an 2 x 2 matrix\n"
     ]
    }
   ],
   "source": [
    "nrows, ncols = A.shape\n",
    "print(f\"The matrix A is an {nrows} x {ncols} matrix\")"
   ]
  },
  {
   "cell_type": "markdown",
   "id": "21cdfb84",
   "metadata": {},
   "source": [
    "(indexing-a-matrix-section)=\n",
    "## Indexing a matrix\n",
    "\n",
    "Matrices are typically labeled using uppercase characters (e.g. $A$) and the elements of a matrix are labeled with the corresponding lowercase character (e.g. $a$). Individual entries of a matrix are **indexed** using two subscript indices: $a_{ij}$ where $i$ corresponds to the row number reading from top to bottom and $j$ is the column number reading from left to right. \n",
    "\n",
    "For example, let $A$ be an $m\\times n$ matrix then\n",
    "\n",
    "$$A = \\begin{pmatrix}\n",
    "  a_{11} & a_{12} & \\cdots & a_{1n} \\\\\n",
    "  a_{21} & a_{22} & \\cdots & a_{2n} \\\\\n",
    "  \\vdots & \\vdots & \\ddots & \\vdots \\\\\n",
    "  a_{m1} & a_{m2} & \\cdots & a_{mn} \n",
    "\\end{pmatrix}.$$\n",
    "\n",
    "Some alternate notation includes\n",
    "\n",
    "$$a_{ij} = [A]_{ij} = A[i,j].$$\n",
    "\n",
    ":::::{admonition} Example 1.2\n",
    ":class: seealso\n",
    ":name: matrix-indexing-example\n",
    "\n",
    "Given the matrix \n",
    "$A = \\begin{pmatrix}\n",
    "    2 & 0 & -3 \\\\\n",
    "    1 & 7 & 4 \n",
    "\\end{pmatrix},$ \n",
    "\n",
    "write down the following elements:\n",
    "\n",
    "\n",
    "::::{grid}\n",
    ":::{grid-item}\n",
    "(i) &emsp; $a_{11}$\n",
    ":::\n",
    "\n",
    ":::{grid-item}\n",
    "(ii) &emsp; $a_{13}$\n",
    ":::\n",
    "\n",
    ":::{grid-item}\n",
    "(iii) &emsp; $[A]_{21}$\n",
    ":::\n",
    "\n",
    ":::{grid-item}\n",
    "(iv) &emsp; $A[2,2]$\n",
    ":::\n",
    "::::\n",
    "\n",
    "::::{dropdown} Solution\n",
    "\n",
    "(i)  $a_{11} = 2$\n",
    "\n",
    "(ii) $a_{13} = -3$\n",
    "\n",
    "(iii) $[A]_{21} = 1$\n",
    "\n",
    "(iv) $A[2,2] = 7$\n",
    "    \n",
    "::::\n",
    ":::::\n",
    "\n",
    "### Python code\n",
    "\n",
    "Matrices and arrays in Python are indexed using the syntax `A[i,j]` which returns the value of the element in row `i` and column `j`. \n",
    "\n",
    ":::{important}\n",
    "Python is a **zero indexing** language which means indexing starts at zero. So to index the element $a_{23}$ we would use `a[1,2]` i.e., remember to subtract 1 from the indices.\n",
    ":::\n",
    "\n",
    "The following code defines the matrix $A$ from [example 1.2](matrix-indexing-example) and outputs the values of the indexed elements. "
   ]
  },
  {
   "cell_type": "code",
   "execution_count": 3,
   "id": "b0a914af",
   "metadata": {},
   "outputs": [
    {
     "name": "stdout",
     "output_type": "stream",
     "text": [
      "(i)   a_11 = 2\n",
      "(ii)  a_13 = -3\n",
      "(iii) [A]_21 = 1\n",
      "(iv)  A[2,2] = 7\n"
     ]
    }
   ],
   "source": [
    "A = Matrix([[2, 0, -3], [1, 7, 4]])\n",
    "\n",
    "print(f\"(i)   a_11 = {A[0,0]}\")\n",
    "print(f\"(ii)  a_13 = {A[0,2]}\")\n",
    "print(f\"(iii) [A]_21 = {A[1,0]}\")\n",
    "print(f\"(iv)  A[2,2] = {A[1,1]}\")"
   ]
  },
  {
   "cell_type": "markdown",
   "id": "40461490",
   "metadata": {},
   "source": [
    "(basic-arithmetic-operations-section)=\n",
    "## Basic arithmetic operations\n",
    "\n",
    "So far, we have given a fancy name to a rectangular array of objects and showed how we can index its elements. Now we are going to fully develop an algebra for matrices. A system, where there are operations of addition and multiplication and necessarily rules that accompany them. This system resembles that of real numbers but we will see some differences and new concepts. For simplicity, we are going to assume that the entries of our matrices are numbers, however the developed theory applies to a broader range of objects.\n",
    "\n",
    "### Matrix equality\n",
    "\n",
    "::::{admonition} Definition: Matrix equality \n",
    ":class: note\n",
    ":name: matrix-equality-definition\n",
    "\n",
    "We say that an $m \\times n$ matrix $A$ and an $p \\times q$ matrix $B$ are **equal** and write $A = B$ if and only if **both** of the following conditions are satisfied:\n",
    "\n",
    "- they have the same dimensions, in other words $m = p$ and $n = q$;\n",
    "- for all $1 \\leq i \\leq m$ and $1 \\leq j \\leq n$, $a_{ij} = b_{ij}$.\n",
    "::::\n",
    "\n",
    "For example, consider the following matrices\n",
    "\n",
    "\\begin{align*}\n",
    "    A &= \\begin{pmatrix} 1 & 2 \\\\ 3 & 4 \\end{pmatrix}, &\n",
    "    B &= \\begin{pmatrix} 1 & 2 & 5 \\\\ 3 & 4 & 6 \\end{pmatrix}, &\n",
    "    C &= \\begin{pmatrix} 3^0 & \\sqrt{4} \\\\ 1 + 2 & 2^2 \\end{pmatrix}.\n",
    "\\end{align*}\n",
    "\n",
    "Here $A \\neq B$ since $A$ has 2 columns and $B$ has 3 columns. However, $A=C$ because both $A$ and $C$ have the same number of rows and columns and all of the corresponding elements are equal.\n",
    "\n",
    "(matrix-addition-section)=\n",
    "### Matrix addition\n",
    "\n",
    "::::{admonition} Definition: Matrix addition and subtraction \n",
    ":class: note\n",
    ":name: matrix-addition-definition\n",
    "\n",
    "Let $A$ and $B$ be two $m \\times n$ matrices. The addition or subtraction of two $m \\times n$ matrices $A$ and $B$ is an $m \\times n$ matrix $A \\pm B$ defined by:\n",
    "\n",
    "$$[A \\pm B]_{ij} = a_{ij} \\pm a_{ij},$$\n",
    "    \n",
    "where $1 \\leq i \\leq m$ and $1 \\leq j \\leq n$.\n",
    "\\begin{align*}\n",
    "    \\begin{pmatrix}\n",
    "        a_{11} & a_{12} & \\cdots & a_{1n} \\\\\n",
    "        a_{21} & a_{22} & \\cdots & a_{2n} \\\\\n",
    "        \\vdots & \\vdots & \\ddots & \\vdots \\\\\n",
    "        a_{m1} & a_{m2} & \\cdots & a_{mn}\n",
    "    \\end{pmatrix} \\pm \n",
    "    \\begin{pmatrix}\n",
    "        b_{11} & b_{12} & \\cdots & b_{1n} \\\\\n",
    "        b_{21} & b_{22} & \\cdots & b_{2n} \\\\\n",
    "        \\vdots & \\vdots & \\ddots & \\vdots \\\\\n",
    "        b_{m1} & b_{m2} & \\cdots & b_{mn}\n",
    "    \\end{pmatrix} \\\\\n",
    "    =\n",
    "    \\begin{pmatrix}\n",
    "        a_{11} \\pm b_{11} & a_{12} \\pm b_{12} & \\cdots & a_{1n} \\pm b_{1n} \\\\\n",
    "        a_{21} \\pm b_{21} & a_{22} \\pm b_{22} & \\cdots & a_{2n} \\pm a_{2n} \\\\\n",
    "        \\vdots & \\vdots & \\ddots & \\vdots \\\\\n",
    "        a_{m1} \\pm b_{m1} & a_{m2} \\pm b_{m2} & \\cdots & a_{mn} \\pm b_{mn}\n",
    "    \\end{pmatrix}.\n",
    "\\end{align*}\n",
    "::::\n",
    "\n",
    "The addition and subtraction of two matrices of different sizes is **not defined**.\n",
    "\n",
    "::::{admonition} Theorem: Properties of matrix addition\n",
    ":class: important\n",
    ":name: properties-of-matrix-addition-theorem\n",
    "\n",
    "For all $m \\times n$ matrices $A,B$ and $C$, the following conditions are satisfied:\n",
    "\n",
    "- matrix addition is commutative, i.e., $A + B = B + A$;\n",
    "- matrix addition is associative, i.e., $A + (B + C) = (A + B) + C$.\n",
    "::::\n",
    "\n",
    ":::::{admonition} Example 1.3\n",
    ":class: seealso\n",
    ":name: matrix-addition-example\n",
    "\n",
    "Evaluate the following:\n",
    "\n",
    "::::{grid}\n",
    ":gutter: 2\n",
    "\n",
    ":::{grid-item}\n",
    "(i) $\\begin{pmatrix} 1 & 2 \\\\ 3 & 4 \\end{pmatrix} + \\begin{pmatrix} 5 & 6 \\\\ 7 & 8 \\end{pmatrix}$\n",
    ":::\n",
    "\n",
    ":::{grid-item}\n",
    "(ii) $\\begin{pmatrix} 2 \\\\ 3 \\\\ 5 \\end{pmatrix} - \\begin{pmatrix} 7 \\\\ -11 \\\\ -13 \\end{pmatrix}$\n",
    ":::\n",
    "\n",
    ":::{grid-item}\n",
    ":columns: 12\n",
    "\n",
    "(iii) $\\begin{pmatrix} 1 & 3 & 5 \\\\ 7 & 9 & 11 \\end{pmatrix} + \\begin{pmatrix}2 & 3 \\\\ 5 & 7 \\end{pmatrix}$\n",
    ":::\n",
    "::::\n",
    "\n",
    "::::{dropdown} Solution\n",
    "\n",
    "(i) $\\begin{pmatrix} 1 & 2 \\\\ 3 & 4 \\end{pmatrix} + \\begin{pmatrix} 5 & 6 \\\\ 7 & 8 \\end{pmatrix} = \\begin{pmatrix} 1 + 5 & 2 + 6 \\\\ 3 + 7 & 4 + 8 \\end{pmatrix}= \\begin{pmatrix}6 & 8 \\\\ 10 & 12 \\end{pmatrix}$\n",
    "\n",
    "(ii) $\\begin{pmatrix} 2 \\\\ 3 \\\\ 5 \\end{pmatrix} - \\begin{pmatrix} 7 \\\\ -11 \\\\ -13 \\end{pmatrix} = \\begin{pmatrix}2 - 7 \\\\ 3 + 11 \\\\ 5 + 13 \\end{pmatrix} = \\begin{pmatrix} -5 \\\\ 14 \\\\ 18\\end{pmatrix}$\n",
    "\n",
    "(iii) undefined since the left matrix is $2\\times 3$ and the right matrix is $2\\times 2$\n",
    "::::\n",
    ":::::\n",
    "\n",
    "#### Python code\n",
    "\n",
    "The Python command for calculating the sum of two matrices `A` and `B` is simply `A + B`. The Python code below calculates the solution to question (i) from [example 1.3](matrix-addition-example)."
   ]
  },
  {
   "cell_type": "code",
   "execution_count": 4,
   "id": "1233e23d",
   "metadata": {},
   "outputs": [
    {
     "data": {
      "text/latex": [
       "$\\displaystyle \\left[\\begin{matrix}6 & 8\\\\10 & 12\\end{matrix}\\right]$"
      ],
      "text/plain": [
       "Matrix([\n",
       "[ 6,  8],\n",
       "[10, 12]])"
      ]
     },
     "metadata": {},
     "output_type": "display_data"
    }
   ],
   "source": [
    "A = Matrix([[1, 2], [3, 4]])\n",
    "B = Matrix([[5, 6], [7, 8]])\n",
    "\n",
    "AplusB = A + B\n",
    "display(AplusB)"
   ]
  },
  {
   "cell_type": "markdown",
   "id": "dc2cf3c2",
   "metadata": {},
   "source": [
    "(scalar-multiplication-of-matrices)=\n",
    "### Scalar multiplication of matrices\n",
    "\n",
    "::::{admonition} Definition: Scalar multiplication \n",
    ":class: note\n",
    ":name: scalar-multiplication-of-a-matrix-definition\n",
    "\n",
    "The scalar multiplication of an $m \\times n$ matrix by a scalar is calculated by multiplying each element in the matrix by the scalar\n",
    "\n",
    "\\begin{align*}\n",
    "    k[A]_{ij} = ka_{ij}, \\qquad i = 1, \\ldots, m, \\quad j = 1, \\ldots, n.\n",
    "\\end{align*}\n",
    "\n",
    "\\begin{align*}\n",
    "    k \\begin{pmatrix}\n",
    "        a_{11} & a_{12} & \\cdots & a_{1n} \\\\\n",
    "        a_{21} & a_{22} & \\cdots & a_{2n} \\\\\n",
    "        \\vdots & \\vdots & \\ddots & \\vdots \\\\\n",
    "        a_{m1} & a_{m2} & \\cdots & a_{mn}\n",
    "    \\end{pmatrix} = \n",
    "    \\begin{pmatrix}\n",
    "        ka_{11} & ka_{12} & \\cdots & ka_{1n} \\\\\n",
    "        ka_{21} & ka_{22} & \\cdots & ka_{2n} \\\\\n",
    "        \\vdots & \\vdots & \\ddots & \\vdots \\\\\n",
    "        ka_{m1} & ka_{m2} & \\cdots & ka_{mn}\n",
    "    \\end{pmatrix}\n",
    "\\end{align*}\n",
    "::::\n",
    "\n",
    "::::{admonition} Theorem: Properties of scalar multiplication of matrices\n",
    ":class: important\n",
    ":name: properties-of-scalar-multiplication-of-matrices-theorem\n",
    "\n",
    "Let $A$ and $B$ be two $m \\times n$ matrices and $k$ and $\\ell$ are scalars, then\n",
    "\n",
    "- scalar multiplication is commutative: $kA=Ak$;\n",
    "- scalar multiplication is distributive over matrix addition: $k(A + B) = kA + kB$;\n",
    "- scalar multiplication is distributive over scalar addition: $(k+\\ell)A = kA + \\ell A$;\n",
    "- scalar multiplication is associative: $k(\\ell A) = (k \\ell)A$;\n",
    "- multiplication by $-1$ gives the additive inverse: $(-1)A = -A$.\n",
    "\n",
    "::::\n",
    "\n",
    ":::::{admonition} Example 1.4\n",
    ":class: seealso\n",
    ":name: scalar-multiplication-of-matrices-example\n",
    "\n",
    "Evaluate the following:\n",
    "\n",
    "::::{grid}\n",
    ":gutter: 2\n",
    "\n",
    ":::{grid-item}\n",
    ":columns: 6\n",
    "(i) $2 \\begin{pmatrix} 1 & 2 \\\\ 3 & 4 \\end{pmatrix}$\n",
    ":::\n",
    "\n",
    ":::{grid-item}\n",
    ":columns: 6\n",
    "(ii) $\\dfrac{1}{2} \\begin{pmatrix} 0 & -1 \\\\ 3 & 2 \\\\ 4 & -2 \\end{pmatrix}$\n",
    ":::\n",
    "\n",
    ":::{grid-item}\n",
    ":columns: 6\n",
    "(iii) $\\dfrac{1}{3} \\begin{pmatrix}1 & 6 & 4 \\\\ 0 & 3 & -1 \\end{pmatrix}$\n",
    ":::\n",
    "\n",
    ":::{grid-item}\n",
    ":columns: 6\n",
    "(iv) $101 \\begin{pmatrix} 1 & 2 \\\\ 0 & 1 \\end{pmatrix} - 99 \\begin{pmatrix} 1 & 2 \\\\ 0 & 1 \\end{pmatrix}$\n",
    ":::\n",
    "\n",
    "::::\n",
    "\n",
    "::::{dropdown} Solution\n",
    "\n",
    "(i) $2 \\begin{pmatrix} 1 & 2 \\\\ 3 & 4 \\end{pmatrix} = \\begin{pmatrix}2 & 4 \\\\ 6 & 8 \\end{pmatrix}$\n",
    "\n",
    "(ii) $\\dfrac{1}{2} \\begin{pmatrix} 0 & -1 \\\\ 3 & 2 \\\\ 4 & -2 \\end{pmatrix} =  \\begin{pmatrix} 0 & -\\frac{1}{2} \\\\ \\frac{3}{2} & 1 \\\\ 2 & -1 \\end{pmatrix}$\n",
    "\n",
    "(iii) $\\dfrac{1}{3} \\begin{pmatrix}1 & 6 & 4 \\\\ 0 & 3 & -1 \\end{pmatrix} = \\begin{pmatrix} \\frac{1}{3} & 2 & \\frac{4}{3} \\\\ 0 & 1 & -\\frac{1}{3} \\end{pmatrix}$\n",
    "\n",
    "(iv) $101\\begin{pmatrix} 1 & 2 \\\\ 0 & 1 \\end{pmatrix} - 99 \\begin{pmatrix} 1 & 2 \\\\ 0 & 1 \\end{pmatrix} = 2 \\begin{pmatrix} 1 & 2 \\\\ 0 & 1 \\end{pmatrix} =  \\begin{pmatrix} 2 & 4 \\\\ 0 & 2 \\end{pmatrix}$\n",
    "\n",
    "::::\n",
    ":::::\n",
    "\n",
    "### Python code\n",
    "\n",
    "The command for multiplying a SymPy matrix `A` by a scalar `k` is simply `k * A`. The following code calculates the solutions [example 1.4](scalar-multiplication-of-matrices-example)."
   ]
  },
  {
   "cell_type": "code",
   "execution_count": 5,
   "id": "cdc34f53",
   "metadata": {},
   "outputs": [
    {
     "name": "stdout",
     "output_type": "stream",
     "text": [
      "(i)\n"
     ]
    },
    {
     "data": {
      "text/latex": [
       "$\\displaystyle \\left[\\begin{matrix}2 & 4\\\\6 & 8\\end{matrix}\\right]$"
      ],
      "text/plain": [
       "Matrix([\n",
       "[2, 4],\n",
       "[6, 8]])"
      ]
     },
     "metadata": {},
     "output_type": "display_data"
    },
    {
     "name": "stdout",
     "output_type": "stream",
     "text": [
      "(ii)\n"
     ]
    },
    {
     "data": {
      "text/latex": [
       "$\\displaystyle \\left[\\begin{matrix}0 & - \\frac{1}{2}\\\\\\frac{3}{2} & 1\\\\2 & -1\\end{matrix}\\right]$"
      ],
      "text/plain": [
       "Matrix([\n",
       "[  0, -1/2],\n",
       "[3/2,    1],\n",
       "[  2,   -1]])"
      ]
     },
     "metadata": {},
     "output_type": "display_data"
    },
    {
     "name": "stdout",
     "output_type": "stream",
     "text": [
      "(iii)\n"
     ]
    },
    {
     "data": {
      "text/latex": [
       "$\\displaystyle \\left[\\begin{matrix}\\frac{1}{3} & 2 & \\frac{4}{3}\\\\0 & 1 & - \\frac{1}{3}\\end{matrix}\\right]$"
      ],
      "text/plain": [
       "Matrix([\n",
       "[1/3, 2,  4/3],\n",
       "[  0, 1, -1/3]])"
      ]
     },
     "metadata": {},
     "output_type": "display_data"
    },
    {
     "name": "stdout",
     "output_type": "stream",
     "text": [
      "(iv)\n"
     ]
    },
    {
     "data": {
      "text/latex": [
       "$\\displaystyle \\left[\\begin{matrix}2 & 4\\\\0 & 2\\end{matrix}\\right]$"
      ],
      "text/plain": [
       "Matrix([\n",
       "[2, 4],\n",
       "[0, 2]])"
      ]
     },
     "metadata": {},
     "output_type": "display_data"
    }
   ],
   "source": [
    "# (i)\n",
    "A = Matrix([[1, 2], [3, 4]])\n",
    "\n",
    "print(\"(i)\")\n",
    "display(2 * A)\n",
    "\n",
    "# (ii)\n",
    "B = Matrix([[0, -1], [3, 2], [4, -2]])\n",
    "print(\"(ii)\")\n",
    "display(B / 2)\n",
    "\n",
    "# (iii)\n",
    "C = Matrix([[1, 6, 4], [0, 3, -1]])\n",
    "print(\"(iii)\")\n",
    "display(C / 3)\n",
    "\n",
    "# (iv)\n",
    "D = Matrix([[1, 2], [0, 1]])\n",
    "print(\"(iv)\")\n",
    "display(101 * D - 99 * D)"
   ]
  }
 ],
 "metadata": {
  "kernelspec": {
   "display_name": "Python 3",
   "language": "python",
   "name": "python3"
  },
  "language_info": {
   "codemirror_mode": {
    "name": "ipython",
    "version": 3
   },
   "file_extension": ".py",
   "mimetype": "text/x-python",
   "name": "python",
   "nbconvert_exporter": "python",
   "pygments_lexer": "ipython3",
   "version": "3.8.3"
  }
 },
 "nbformat": 4,
 "nbformat_minor": 5
}