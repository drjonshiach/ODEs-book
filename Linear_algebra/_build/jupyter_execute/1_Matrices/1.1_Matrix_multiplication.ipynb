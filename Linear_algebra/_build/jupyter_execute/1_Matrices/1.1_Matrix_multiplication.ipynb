{
 "cells": [
  {
   "cell_type": "markdown",
   "id": "0452ea41",
   "metadata": {},
   "source": [
    "# Matrix multiplication\n",
    "\n",
    "We can multiply any two real numbers together but multiplication of two or more matrices is a much more complicated idea. Similarly to addition, which is only defined for matrices of the same size, matrix multiplication has constrains on the sizes of the multipliers:\n",
    "\n",
    "::::{admonition} Definition: Matrix multiplication\n",
    ":class: note\n",
    ":name: matrix-multiplication-definition\n",
    "\n",
    "Let $A$ be an $m \\times n$ matrix and $B$ a $p \\times q$ matrix. The product $AB$ is only defined if $n = p$ and the resulting matrix has dimension $m \\times q$ (i.e., the number of columns in $A$ has to equal the number of rows in $B$). The product of an $m\\times p$ matrix $A$ and a $p\\times n$ matrix $B$ is defined as\n",
    "\\begin{align*}\n",
    "    [AB]_{ij} = \\sum_{k=1}^p a_{ik}b_{kj}.\n",
    "\\end{align*}\n",
    "\n",
    "I.e., if $A$ and $B$ are two $2\\times 2$ matrices\n",
    "\\begin{align*}\n",
    "    \\begin{pmatrix} \n",
    "        a_{11} & a_{12} \\\\\n",
    "        a_{21} & a_{22} \n",
    "    \\end{pmatrix}\n",
    "    \\begin{pmatrix} \n",
    "        b_{11} & b_{12} \\\\\n",
    "        b_{21} & b_{22}\n",
    "    \\end{pmatrix} =\n",
    "    \\begin{pmatrix}\n",
    "        a_{11} b_{11} + a_{12}b_{21} & a_{11}b_{12} + a_{12} b_{22} \\\\\n",
    "        a_{21} b_{11} + a_{22}b_{21} & a_{21}b_{12} + a_{22} b_{22}\n",
    "    \\end{pmatrix}.\n",
    "\\end{align*}\n",
    "::::\n",
    "\n",
    "The technique used to multiply two matrices together requires us to move across the horizontal rows of the first matrix (the $i$ index) and down the vertical columns of the second matrix (the $j$ index). We multiply corresponding elements together and sum the result. For example, consider the multiplication of the two $2\\times 2$ matrices below\n",
    "\n",
    "\\begin{align*}\n",
    "    \\begin{pmatrix} 1 & 2 \\\\ 3 & 4 \\end{pmatrix} \\begin{pmatrix} 5 & 6 \\\\ 7 & 8 \\end{pmatrix}.\n",
    "\\end{align*}\n",
    "\n",
    "The first thing we need to do is check whether matrix multiplication is defined for these matrices. An easy way to do this is to write the dimensions of the matrix underneath, e.g.,\n",
    "\n",
    "\\begin{align*}\n",
    "    \\underbrace{\\begin{pmatrix} 1 & 2 \\\\ 3 & 4 \\end{pmatrix}}_{2\\times \\mathbf{\\textcolor{red}{2}}}\n",
    "    \\underbrace{\\begin{pmatrix} 5 & 6 \\\\ 7 & 8 \\end{pmatrix}}_{\\mathbf{\\textcolor{red}{2}}\\times 2}.\n",
    "\\end{align*}\n",
    "\n",
    "Here the two inside numbers are the same so this matrix multiplication is defined. Also, the dimensions of the product of these two matrices is given by the two outside numbers. To calculate the value of the element in row 1 and column 1 of the product of $[AB]_{11}$, we move across row 1 of the first matrix and down column 1 of the second matrix\n",
    "\n",
    "\\begin{align*}\n",
    "    \\begin{pmatrix} \\textcolor{blue}{1} & \\textcolor{blue}{2} \\\\ 3 & 4 \\end{pmatrix}\n",
    "    \\begin{pmatrix} \\textcolor{red}{5} & 6 \\\\ \\textcolor{red}{7} & 8 \\end{pmatrix} = \n",
    "    \\begin{pmatrix} \n",
    "        \\textcolor{blue}{1} \\times \\textcolor{red}{5} + \\textcolor{blue}{2} \\times \\textcolor{red}{7} & \\square \\\\\n",
    "        \\square & \\square\n",
    "    \\end{pmatrix} \n",
    "    = \\begin{pmatrix} 5 + 14 & \\square \\\\ \\square & \\square \\end{pmatrix}\n",
    "    = \\begin{pmatrix} 19 & \\square \\\\ \\square & \\square \\end{pmatrix}.\n",
    "\\end{align*}\n",
    "\n",
    "For the element in the first row and second column, $[AB]_{12}$, we move across row 1 of the first matrix and down column 2 of the second matrix\n",
    "\n",
    "\\begin{align*}\n",
    "    \\begin{pmatrix} \\textcolor{blue}{1} & \\textcolor{blue}{2} \\\\ 3 & 4 \\end{pmatrix}\n",
    "    \\begin{pmatrix} 5 & \\textcolor{red}{6} \\\\ 7 & \\textcolor{red}{8} \\end{pmatrix} = \n",
    "    \\begin{pmatrix} \n",
    "        19 & \\textcolor{blue}{1} \\times \\textcolor{red}{6} + \\textcolor{blue}{2} \\times \\textcolor{red}{8} \\\\\n",
    "        \\square & \\square\n",
    "    \\end{pmatrix}\n",
    "    = \\begin{pmatrix} 19 & 6 + 16 \\\\ \\square & \\square \\end{pmatrix}\n",
    "    = \\begin{pmatrix} 19 & 22 \\\\ \\square & \\square \\end{pmatrix}.\n",
    "\\end{align*}\n",
    "\n",
    "Now that we have finished the top row, to calculate the element in row 2 column 1, $[AB]_{21}$, we move across row 2 of the first matrix and down column 1 of the second matrix\n",
    "\n",
    "\\begin{align*}\n",
    "    \\begin{pmatrix} 1 & 2 \\\\ \\textcolor{blue}{3} & \\textcolor{blue}{4} \\end{pmatrix}\n",
    "    \\begin{pmatrix} \\textcolor{red}{5} & 6 \\\\ \\textcolor{red}{7} & 8 \\end{pmatrix} = \n",
    "    \\begin{pmatrix} \n",
    "        19 & 22 \\\\\n",
    "        \\textcolor{blue}{3} \\times \\textcolor{red}{5} + \\textcolor{blue}{4} \\times \\textcolor{red}{7} & \\square\n",
    "    \\end{pmatrix}\n",
    "    = \\begin{pmatrix} 19 & 22 \\\\ 15 + 28 & \\square \\end{pmatrix}\n",
    "    = \\begin{pmatrix} 19 & 22 \\\\ 43 & \\square \\end{pmatrix}.\n",
    "\\end{align*}\n",
    "\n",
    "Finally to calculate the elements in row 2 column 2, $[AB]_{22}$, we move across row 2 of the first matrix and down column 2 of the second matrix \n",
    "\n",
    "\\begin{align*}\n",
    "    \\begin{pmatrix} 1 & 2 \\\\ \\textcolor{blue}{3} & \\textcolor{blue}{4} \\end{pmatrix}\n",
    "    \\begin{pmatrix} 5 & \\textcolor{red}{6} \\\\ 7 & \\textcolor{red}{8} \\end{pmatrix} = \n",
    "    \\begin{pmatrix} \n",
    "        19 & 22 \\\\\n",
    "        43 & \\textcolor{blue}{3} \\times \\textcolor{red}{6} + \\textcolor{blue}{4} \\times \\textcolor{red}{8}\n",
    "    \\end{pmatrix}\n",
    "    = \\begin{pmatrix} 19 & 22 \\\\ 43 & 18 + 32 \\end{pmatrix}\n",
    "    = \\begin{pmatrix} 19 & 22 \\\\ 43 & 50 \\end{pmatrix}.\n",
    "\\end{align*}\n",
    "\n",
    ":::::{admonition} Example 1.5\n",
    ":class: seealso\n",
    ":name: matrix-multiplication-example\n",
    "\n",
    "Given the matrices\n",
    "\\begin{align*}\n",
    "    A &= \\begin{pmatrix} 1 & 0 \\\\ -2 & 3 \\end{pmatrix}, &\n",
    "    B &= \\begin{pmatrix} 2 & 3 \\\\ 1 & 5 \\end{pmatrix}, \\\\\n",
    "    C &= \\begin{pmatrix} 1 & 1 & 0 \\\\ 3 & -2 & 1 \\end{pmatrix}, &\n",
    "    D &= \\begin{pmatrix} 1 \\\\ 3 \\end{pmatrix}.\n",
    "\\end{align*}\n",
    "\n",
    "calculate the following (where possible):\n",
    "\n",
    "::::{grid}\n",
    "\n",
    ":::{grid-item}\n",
    ":columns: 2\n",
    "(i) &emsp; $AB$\n",
    ":::\n",
    "\n",
    ":::{grid-item}\n",
    ":columns: 2\n",
    "(ii) &emsp; $BC$\n",
    ":::\n",
    "\n",
    ":::{grid-item}\n",
    ":columns: 2\n",
    "(iii) &emsp; $CD$\n",
    ":::\n",
    "\n",
    "::::\n",
    "\n",
    "::::{dropdown} Solution\n",
    "\n",
    "(i) \n",
    "\\begin{align*}\n",
    "    AB &= \\begin{pmatrix} 1 & 0 \\\\ -2 & 3 \\end{pmatrix} \\begin{pmatrix} 2 & 3 \\\\ 1 & 5 \\end{pmatrix} \\\\\n",
    "    &= \\begin{pmatrix} 2+0 & 3 + 0 \\\\ -4+3 & -6+15\\end{pmatrix} \\\\\n",
    "    &= \\begin{pmatrix} 2 & 3 \\\\ -1 & 9 \\end{pmatrix}\n",
    "\\end{align*}\n",
    "\n",
    "(ii) \n",
    "\\begin{align*}\n",
    "    BC &= \\begin{pmatrix} 2 & 3 \\\\ 1 & 5 \\end{pmatrix} \\begin{pmatrix} 1 & 1 & 0 \\\\ 3 & -2 & 1 \\end{pmatrix} \\\\\n",
    "    &= \\begin{pmatrix} 2+9 & 2-6 & 0+3 \\\\ 1+15 & 1-10 & 0+5 \\end{pmatrix} \\\\\n",
    "    &= \\begin{pmatrix}11 & -4 & 3 \\\\ 16 & -9 & 5 \\end{pmatrix}\n",
    "\\end{align*}\n",
    "\n",
    "(iii) &emsp; $CD$ is undefined since $C$ is $2\\times 3$ and $D$ is $2\\times 1$.\n",
    "::::\n",
    "    \n",
    ":::::\n",
    "\n",
    "## Python code\n",
    "\n",
    "The Sympy command for calculating the product of two matrices `A` and `B` is `A * B`. The Python code below calculates the solution to question (i) from [example 1.5](matrix-multiplication-example). "
   ]
  },
  {
   "cell_type": "code",
   "execution_count": 1,
   "id": "c0f687f4",
   "metadata": {},
   "outputs": [
    {
     "data": {
      "text/latex": [
       "$\\displaystyle \\left[\\begin{matrix}2 & 3\\\\-1 & 9\\end{matrix}\\right]$"
      ],
      "text/plain": [
       "Matrix([\n",
       "[ 2, 3],\n",
       "[-1, 9]])"
      ]
     },
     "metadata": {},
     "output_type": "display_data"
    }
   ],
   "source": [
    "from sympy import *\n",
    "\n",
    "A = Matrix([[1, 0], [-2, 3]])\n",
    "B = Matrix([[2, 3], [1, 5]])\n",
    "AB = A * B\n",
    "display(AB)"
   ]
  },
  {
   "cell_type": "markdown",
   "id": "0ca519d2",
   "metadata": {},
   "source": [
    "Note that this will only work when using the Sympy library. If this has not been imported, `A * B` will multiply the corresponding elements together which is known as **element-wise multiplication** and denoted mathematically as $A \\odot B$. If you are using Sympy and wish to use element-wise multiplication then the command is `matrices.dense.matrix_multiply_elementwise(A, B)` (so it is probably better to not use Sympy in this case!)."
   ]
  },
  {
   "cell_type": "markdown",
   "id": "afb3b4ed",
   "metadata": {},
   "source": [
    "## Matrix exponents\n",
    "\n",
    "::::{admonition} Definition: Matrix exponents\n",
    ":class: note\n",
    ":name: matrix-exponents-definition\n",
    "\n",
    "\n",
    "Let $A$ be a square $n \\times n$ matrix. Then we write $A^2=AA$ and more generally:\n",
    "\\begin{align}\n",
    "    A^n = \\underbrace{A A \\cdots A}_{n \\text{ times}}.\n",
    "\\end{align}\n",
    "::::\n",
    "\n",
    ":::::{admonition} Example 1.6\n",
    ":class: seealso\n",
    ":name: matrix-exponents-example\n",
    "\n",
    "Given the matrix \n",
    "$\n",
    "    A = \\begin{pmatrix} 1 & 0 \\\\ 3 & 2 \\end{pmatrix},\n",
    "$\n",
    "evaluate:\n",
    "\n",
    "::::{grid}\n",
    "\n",
    ":::{grid-item}\n",
    ":columns: 2\n",
    "(i) &emsp; $A^2$\n",
    ":::\n",
    "\n",
    ":::{grid-item}\n",
    ":columns: 2\n",
    "(ii) &emsp; $A^3$\n",
    ":::\n",
    "\n",
    ":::{grid-item}\n",
    ":columns: 2\n",
    "(iii) &emsp; $A^5$\n",
    ":::\n",
    "\n",
    "::::\n",
    "\n",
    "::::{dropdown} Solution\n",
    "\n",
    "(i) \n",
    "\\begin{align*}\n",
    "    A^2 &= AA = \\begin{pmatrix} 1 & 0 \\\\ 3 & 2 \\end{pmatrix}\n",
    "    \\begin{pmatrix} 1 & 0 \\\\ 3 & 2 \\end{pmatrix} \\\\\n",
    "    &= \\begin{pmatrix} 1 + 0 & 0 + 0 \\\\ 3 + 6 & 0 + 4 \\end{pmatrix} \\\\\n",
    "    &= \\begin{pmatrix} 1 & 0 \\\\ 9 & 4 \\end{pmatrix}\n",
    "\\end{align*}\n",
    "\n",
    "(ii) \n",
    "\\begin{align*}\n",
    "    A^3 &= A^2A = \\begin{pmatrix} 1 & 0 \\\\ 9 & 4 \\end{pmatrix}\n",
    "    \\begin{pmatrix} 1 & 0 \\\\ 3 & 2 \\end{pmatrix} \\\\\n",
    "    &= \\begin{pmatrix} 1 + 0 & 0 + 0 \\\\ 9 + 12 & 0 + 8 \\end{pmatrix} \\\\\n",
    "    &= \\begin{pmatrix} 1 & 0 \\\\ 21 & 8 \\end{pmatrix}\n",
    "\\end{align*}\n",
    "\n",
    "(iii)\n",
    "\\begin{align*}\n",
    "    A^5 &= A^3A^2 = \\begin{pmatrix} 1 & 0 \\\\ 21 & 8 \\end{pmatrix}\n",
    "    \\begin{pmatrix} 1 & 0 \\\\ 9 & 4 \\end{pmatrix} \\\\\n",
    "    &= \\begin{pmatrix} 1 + 0 & 0 + 0 \\\\ 21 + 72 & 0 + 32 \\end{pmatrix} \\\\\n",
    "    &= \\begin{pmatrix} 1 & 0 \\\\ 93 & 32 \\end{pmatrix}\n",
    "\\end{align*}\n",
    "::::\n",
    ":::::\n",
    "\n",
    "### Python code\n",
    "\n",
    "The SymPy command for calculating the `k`th exponent of the matrix `A` is `A ** k`. The following code calculates the solution to [example 1.6](matrix-exponents-example)."
   ]
  },
  {
   "cell_type": "code",
   "execution_count": 2,
   "id": "5c86a4b7",
   "metadata": {},
   "outputs": [
    {
     "name": "stdout",
     "output_type": "stream",
     "text": [
      "(i) A^2 =\n"
     ]
    },
    {
     "data": {
      "text/latex": [
       "$\\displaystyle \\left[\\begin{matrix}1 & 0\\\\9 & 4\\end{matrix}\\right]$"
      ],
      "text/plain": [
       "Matrix([\n",
       "[1, 0],\n",
       "[9, 4]])"
      ]
     },
     "metadata": {},
     "output_type": "display_data"
    },
    {
     "name": "stdout",
     "output_type": "stream",
     "text": [
      "(ii) A^3 =\n"
     ]
    },
    {
     "data": {
      "text/latex": [
       "$\\displaystyle \\left[\\begin{matrix}1 & 0\\\\21 & 8\\end{matrix}\\right]$"
      ],
      "text/plain": [
       "Matrix([\n",
       "[ 1, 0],\n",
       "[21, 8]])"
      ]
     },
     "metadata": {},
     "output_type": "display_data"
    },
    {
     "name": "stdout",
     "output_type": "stream",
     "text": [
      "(iii) A^5 =\n"
     ]
    },
    {
     "data": {
      "text/latex": [
       "$\\displaystyle \\left[\\begin{matrix}1 & 0\\\\93 & 32\\end{matrix}\\right]$"
      ],
      "text/plain": [
       "Matrix([\n",
       "[ 1,  0],\n",
       "[93, 32]])"
      ]
     },
     "metadata": {},
     "output_type": "display_data"
    }
   ],
   "source": [
    "A = Matrix([[1, 0], [3, 2]])\n",
    "\n",
    "# (i)\n",
    "print(\"(i) A^2 =\")\n",
    "display(A ** 2)\n",
    "\n",
    "# (ii)\n",
    "print(\"(ii) A^3 =\")\n",
    "display(A ** 3)\n",
    "\n",
    "# (iii)\n",
    "print(\"(iii) A^5 =\")\n",
    "display(A ** 5)"
   ]
  }
 ],
 "metadata": {
  "kernelspec": {
   "display_name": "Python 3",
   "language": "python",
   "name": "python3"
  },
  "language_info": {
   "codemirror_mode": {
    "name": "ipython",
    "version": 3
   },
   "file_extension": ".py",
   "mimetype": "text/x-python",
   "name": "python",
   "nbconvert_exporter": "python",
   "pygments_lexer": "ipython3",
   "version": "3.8.3"
  }
 },
 "nbformat": 4,
 "nbformat_minor": 5
}