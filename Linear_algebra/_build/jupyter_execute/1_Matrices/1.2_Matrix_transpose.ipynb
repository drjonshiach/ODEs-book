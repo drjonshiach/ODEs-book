{
 "cells": [
  {
   "cell_type": "markdown",
   "id": "9f07d0af",
   "metadata": {},
   "source": [
    "# Matrix transpose\n",
    "\n",
    "````{admonition} Definition: Matrix transpose\n",
    ":class: note\n",
    ":name: matrix-transpose-definition\n",
    "\n",
    " The **transpose** $A^\\mathrm{T}$ of a matrix $A$ is given by\n",
    "\\begin{align*}\n",
    "    [A^\\mathrm{T}]_{ij}=a_{ji}.\n",
    "\\end{align*}\n",
    "````\n",
    "\n",
    "Transposing a matrix switches the rows and columns around so that row $i$ becomes column $i$ and column $j$ becomes row $j$, i.e., \n",
    "\n",
    "\\begin{align*}\n",
    "    \\begin{pmatrix}\n",
    "        a_{11} & a_{12} & \\cdots & a_{1n} \\\\\n",
    "        a_{21} & a_{22} & \\cdots & a_{2n} \\\\\n",
    "        \\vdots & \\vdots & \\ddots & \\vdots \\\\\n",
    "        a_{m1} & a_{m2} & \\cdots & a_{mn} \n",
    "    \\end{pmatrix}^\\mathrm{T} = \n",
    "    \\begin{pmatrix}\n",
    "        a_{11} & a_{21} & \\cdots & a_{m1} \\\\\n",
    "        a_{12} & a_{22} & \\cdots & a_{m2} \\\\\n",
    "        \\vdots & \\vdots & \\ddots & \\vdots \\\\\n",
    "        a_{1n} & a_{2n} & \\cdots & a_{mn}\n",
    "    \\end{pmatrix}.\n",
    "\\end{align*}\n",
    "\n",
    ":::::{admonition} Example 1.7\n",
    ":class: seealso\n",
    ":name: matrix-transpose-example\n",
    "\n",
    "Evaluate the following:\n",
    "\n",
    "::::{grid}\n",
    "\n",
    ":::{grid-item}\n",
    ":columns: 4\n",
    "(i) &emsp; $\\begin{pmatrix} 1 & 3 \\\\ 2 & 4 \\end{pmatrix}^\\mathrm{T}$\n",
    ":::\n",
    "\n",
    ":::{grid-item}\n",
    ":columns: 4\n",
    "(ii) &emsp; $\\begin{pmatrix} 1 & 0 & -2 \\\\ 3 & -4 & 1 \\end{pmatrix}^\\mathrm{T}$\n",
    ":::\n",
    "\n",
    ":::{grid-item}\n",
    ":columns: 4\n",
    "(iii) &emsp; $\\begin{pmatrix}2 & 3 & 5 \\end{pmatrix}^\\mathrm{T}$\n",
    ":::\n",
    "\n",
    "::::\n",
    "\n",
    "````{dropdown} Solution\n",
    "\n",
    "(i) &emsp; $\\begin{pmatrix} 1 & 3 \\\\ 2 & 4 \\end{pmatrix}^\\mathrm{T} = \n",
    "    \\begin{pmatrix} 1 & 2 \\\\ 3 & 4 \\end{pmatrix}$\n",
    "\n",
    "(ii) &emsp; $\\begin{pmatrix} 1 & 0 & -2 \\\\ 3 & -4 & 1 \\end{pmatrix}^\\mathrm{T} =\n",
    "    \\begin{pmatrix} 1 & 3 \\\\ 0 & -4 \\\\ -2 & 1 \\end{pmatrix}$\n",
    "\n",
    "(iii) &emsp; $\\begin{pmatrix}2 & 3 & 5 \\end{pmatrix}^\\mathrm{T} = \n",
    "    \\begin{pmatrix} 2 \\\\ 3 \\\\ 5 \\end{pmatrix}$\n",
    "````\n",
    ":::::\n",
    "\n",
    "````{admonition} Theorem: Properties of matrix transpose\n",
    ":class: important\n",
    ":name: properties-of-matrix-transpose-theorem\n",
    "\n",
    "Let $A$ and $B$ be two square $n \\times n$ matrices and $k$ a scalar, then\n",
    "\n",
    "- $(A^\\mathrm{T})^\\mathrm{T} = A$;\n",
    "- $(A + B)^\\mathrm{T} = A^\\mathrm{T} + B^\\mathrm{T}$;\n",
    "- $(k A)^\\mathrm{T} = k (A^\\mathrm{T})$;\n",
    "- $(AB)^\\mathrm{T} = B^\\mathrm{T}A^\\mathrm{T}$\n",
    "\n",
    "````\n",
    "\n",
    "## Python code\n",
    "\n",
    "The Python command for calculating the transpose of a matrix `A` is `A.T`. The Python code below calculates the solution to question (ii) from [example 1.7](matrix-transpose-example)."
   ]
  },
  {
   "cell_type": "code",
   "execution_count": 1,
   "id": "877354ed",
   "metadata": {},
   "outputs": [
    {
     "name": "stdout",
     "output_type": "stream",
     "text": [
      "(i)\n"
     ]
    },
    {
     "data": {
      "text/latex": [
       "$\\displaystyle \\left[\\begin{matrix}1 & 3\\\\2 & 4\\end{matrix}\\right]$"
      ],
      "text/plain": [
       "Matrix([\n",
       "[1, 3],\n",
       "[2, 4]])"
      ]
     },
     "metadata": {},
     "output_type": "display_data"
    },
    {
     "name": "stdout",
     "output_type": "stream",
     "text": [
      "(ii)\n"
     ]
    },
    {
     "data": {
      "text/latex": [
       "$\\displaystyle \\left[\\begin{matrix}1 & 3\\\\0 & -4\\\\-2 & 1\\end{matrix}\\right]$"
      ],
      "text/plain": [
       "Matrix([\n",
       "[ 1,  3],\n",
       "[ 0, -4],\n",
       "[-2,  1]])"
      ]
     },
     "metadata": {},
     "output_type": "display_data"
    },
    {
     "name": "stdout",
     "output_type": "stream",
     "text": [
      "(iii)\n"
     ]
    },
    {
     "data": {
      "text/latex": [
       "$\\displaystyle \\left[\\begin{matrix}2\\\\3\\\\5\\end{matrix}\\right]$"
      ],
      "text/plain": [
       "Matrix([\n",
       "[2],\n",
       "[3],\n",
       "[5]])"
      ]
     },
     "metadata": {},
     "output_type": "display_data"
    }
   ],
   "source": [
    "from sympy import *\n",
    "\n",
    "# (i)\n",
    "A = Matrix([[1, 2], [3, 4]])\n",
    "print(\"(i)\")\n",
    "display(A.T)\n",
    "\n",
    "# (ii)\n",
    "B = Matrix([[1, 0, -2], [3, -4, 1]])\n",
    "print(\"(ii)\")\n",
    "display(B.T)\n",
    "\n",
    "# (iii)\n",
    "C = Matrix([[2, 3, 5]])\n",
    "print(\"(iii)\")\n",
    "display(C.T)"
   ]
  }
 ],
 "metadata": {
  "kernelspec": {
   "display_name": "Python 3",
   "language": "python",
   "name": "python3"
  },
  "language_info": {
   "codemirror_mode": {
    "name": "ipython",
    "version": 3
   },
   "file_extension": ".py",
   "mimetype": "text/x-python",
   "name": "python",
   "nbconvert_exporter": "python",
   "pygments_lexer": "ipython3",
   "version": "3.8.3"
  }
 },
 "nbformat": 4,
 "nbformat_minor": 5
}