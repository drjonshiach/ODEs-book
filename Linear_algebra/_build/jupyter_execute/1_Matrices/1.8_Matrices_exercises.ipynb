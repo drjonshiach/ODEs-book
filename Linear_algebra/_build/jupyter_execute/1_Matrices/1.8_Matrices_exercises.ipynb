{
 "cells": [
  {
   "cell_type": "markdown",
   "id": "2e80beb6",
   "metadata": {},
   "source": [
    "# Matrices exercises"
   ]
  },
  {
   "cell_type": "markdown",
   "id": "93975613",
   "metadata": {},
   "source": [
    ":::::{admonition} Exercise 1.1\n",
    ":class: note\n",
    ":name: ex1.1\n",
    "\n",
    "Write down the $3 \\times 3$ matrix $A$ whose entries are given by $a_{ij} = i+j.$\n",
    "\n",
    "::::{dropdown} Solution\n",
    "\\begin{align*}\n",
    "    A = \\begin{pmatrix} 2 & 3 & 4 \\\\\n",
    "        3 & 4 & 5 \\\\\n",
    "        4 & 5 & 6 \\end{pmatrix}\n",
    "\\end{align*}\n",
    "::::\n",
    ":::::"
   ]
  },
  {
   "cell_type": "markdown",
   "id": "9372caee",
   "metadata": {},
   "source": [
    ":::::{admonition} Exercise 1.2\n",
    ":class: note\n",
    ":name: ex1.2\n",
    "\n",
    "Write down the $4 \\times 4$ matrix $B$ whose entries are given by $b_{ij} = (-1)^{i+j}.$\n",
    "\n",
    "::::{dropdown} Solution\n",
    "\\begin{align*}\n",
    "    B = \\begin{pmatrix}\n",
    "        1 & -1 & 1 & -1 \\\\\n",
    "        -1 & 1 & -1 & 1 \\\\\n",
    "        1 & -1 & 1 & -1 \\\\\n",
    "        -1 & 1 & -1 & 1\n",
    "        \\end{pmatrix}\n",
    "\\end{align*}\n",
    "::::\n",
    ":::::"
   ]
  },
  {
   "cell_type": "markdown",
   "id": "540aa57d",
   "metadata": {},
   "source": [
    ":::::{admonition} Exercise 1.3\n",
    ":class: note\n",
    ":name: ex1.3\n",
    "\n",
    "Write down the $4 \\times 4$ matrix $C$ whose entries are given by \n",
    "\\begin{align*}\n",
    "    c_{ij} = \n",
    "    \\begin{cases}\n",
    "    -1, & i>j, \\\\\n",
    "    0, & i=j, \\\\\n",
    "    1, & i<j. \\\\\n",
    "    \\end{cases}\n",
    "\\end{align*}\n",
    "\n",
    "::::{dropdown} Solution\n",
    "\\begin{align*}\n",
    "    C = \\begin{pmatrix}\n",
    "        0 & 1 & 1 & 1 \\\\\n",
    "        -1 & 0 & 1 & 1 \\\\\n",
    "        -1 & -1 & 0 & 1 \\\\\n",
    "        -1 & -1 & -1 & 0\n",
    "    \\end{pmatrix}\n",
    "\\end{align*}\n",
    "::::\n",
    ":::::"
   ]
  },
  {
   "cell_type": "markdown",
   "id": "351ffb3e",
   "metadata": {},
   "source": [
    ":::::{admonition} Exercise 1.4\n",
    ":class: note\n",
    ":name: ex1.4\n",
    "\n",
    "Given the matrices\n",
    "\\begin{align*}\n",
    "    A &= \\begin{pmatrix} 1 & -3 \\\\ 4 & 2 \\end{pmatrix}, &\n",
    "    B &= \\begin{pmatrix} 3 & 0 \\\\ -1 & 5 \\end{pmatrix}, \\\\\n",
    "    C &= \\begin{pmatrix} 5 \\\\ 9 \\end{pmatrix}, &\n",
    "    D &= \\begin{pmatrix} 1 & 1 & 3 \\\\ 4 & -2 & 3 \\end{pmatrix}, \\\\\n",
    "    E &= \\begin{pmatrix} 1 & 2 \\\\ 0 & 6 \\\\ -2 & 3 \\end{pmatrix} &\n",
    "    F &= \\begin{pmatrix} 1 & -2 & 4 \\end{pmatrix}, \\\\\n",
    "    G &= \\begin{pmatrix} 4 & 2 & 3 \\\\ -2 & 6 & 0 \\\\ 0 & 7 & 1 \\end{pmatrix}, &\n",
    "    H &= \\begin{pmatrix} 1 & 0 & 1 \\\\ 5 & 2 & -2 \\\\ 2 & -3 & 4 \\end{pmatrix}.\n",
    "\\end{align*}\n",
    "\n",
    "Calculate the following where possible:\n",
    "\n",
    "::::{grid}\n",
    "\n",
    ":::{grid-item}\n",
    ":columns: 4\n",
    "(a) &emsp; $A + B$\n",
    ":::\n",
    "\n",
    ":::{grid-item}\n",
    ":columns: 4\n",
    "(b) &emsp; $B + C$\n",
    ":::\n",
    "\n",
    ":::{grid-item}\n",
    ":columns: 4\n",
    "(c) &emsp; $A^\\mathrm{T}$\n",
    ":::\n",
    "\n",
    ":::{grid-item}\n",
    ":columns: 4\n",
    "(d) &emsp; $C^\\mathrm{T}$\n",
    ":::\n",
    "\n",
    ":::{grid-item}\n",
    ":columns: 4\n",
    "(e) &emsp; $D + E^\\mathrm{T}$\n",
    ":::\n",
    "\n",
    ":::{grid-item}\n",
    ":columns: 4\n",
    "(f) &emsp; $3B - A$\n",
    ":::\n",
    "\n",
    ":::{grid-item}\n",
    ":columns: 4\n",
    "(g) &emsp; $E + F^\\mathrm{T}$\n",
    ":::\n",
    "\n",
    ":::{grid-item}\n",
    ":columns: 4\n",
    "(h) &emsp; $(F^\\mathrm{T})^\\mathrm{T}$\n",
    ":::\n",
    "\n",
    ":::{grid-item}\n",
    ":columns: 4\n",
    "(i) &emsp; $2(G + H)$\n",
    ":::\n",
    "\n",
    ":::{grid-item}\n",
    ":columns: 4\n",
    "(j) &emsp; $A^\\mathrm{T} + B^\\mathrm{T}$\n",
    ":::\n",
    "\n",
    ":::{grid-item}\n",
    ":columns: 4\n",
    "(k) &emsp; $(A + B)^\\mathrm{T}$\n",
    ":::\n",
    "\n",
    ":::{grid-item}\n",
    ":columns: 4\n",
    "(l) &emsp; $-G$\n",
    ":::\n",
    "\n",
    "::::\n",
    "\n",
    "::::{dropdown} Solutions\n",
    "(a) &emsp; $A + B = \\begin{pmatrix} 1 + 3 & -3 + 0 \\\\ 4 + (-1) & 2 + 5 \\end{pmatrix} = \\begin{pmatrix} 4 & -3 \\\\ 3 & 7 \\end{pmatrix}$\n",
    "\n",
    "(b) &emsp; $B + C$ is undefined since $B$ is $2\\times 2$ and $C$ is $2\\times 1$\n",
    "\n",
    "(c) &emsp; $A^\\mathrm{T} = \\begin{pmatrix} 1 & 4 \\\\ -3 & 2 \\end{pmatrix}$\n",
    "\n",
    "(d) &emsp; $C^\\mathrm{T} = \\begin{pmatrix} 5 & 9 \\end{pmatrix}$\n",
    "\n",
    "(e) &emsp; $D + E^\\mathrm{T} = \\begin{pmatrix} 1 & 1 & 3 \\\\ 4 & -2 & 3 \\end{pmatrix} + \\begin{pmatrix} 1 & 0 & -2 \\\\ 2 & 6 & 3 \\end{pmatrix} = \\begin{pmatrix} 2 & 1 & 1 \\\\ 6 & 4 & 6 \\end{pmatrix}$\n",
    "\n",
    "(f) &emsp; $3 B - A = \\begin{pmatrix} 9 & 0 \\\\ -3 & 15 \\end{pmatrix} - \\begin{pmatrix} 1 & -3 \\\\ 4 & 2 \\end{pmatrix} = \\begin{pmatrix} 8 & 3 \\\\ -7 & 13 \\end{pmatrix}$\n",
    "\n",
    "(g) &emsp; $E + F^\\mathrm{T}$ is undefined since $E$ is $3\\times 2$ and $F^\\mathrm{T}$ is $3\\times 1$\n",
    "\n",
    "(h) &emsp;  $(F^\\mathrm{T})^\\mathrm{T} = \\begin{pmatrix} 1 \\\\ 2 \\\\ 4 \\end{pmatrix}^\\mathrm{T} = \\begin{pmatrix} 1 & -2 & 4 \\end{pmatrix} = F$\n",
    "\n",
    "(i) &emsp; $2(G+H) = 2 \\begin{pmatrix} 5 & 2 & 4 \\\\ 3 & 8 & -2 \\\\ 2 & 4 & 5 \\end{pmatrix} = \\begin{pmatrix} 10 & 4 & 8 \\\\ 6 & 16 & -4 \\\\ 4 & 8 & 10 \\end{pmatrix}$\n",
    "\n",
    "(j) &emsp; $A^\\mathrm{T} + B^\\mathrm{T} = \\begin{pmatrix} 1 & 4 \\\\ -3 & 2 \\end{pmatrix} + \\begin{pmatrix} 3 & -1 \\\\ 0 & 5 \\end{pmatrix} = \\begin{pmatrix} 4 & 3 \\\\ -3 & 7 \\end{pmatrix}$\n",
    "\n",
    "(k) &emsp; $(A + B)^\\mathrm{T} = \\begin{pmatrix} 4 & -3 \\\\ 3 & 7 \\end{pmatrix}^\\mathrm{T} = \\begin{pmatrix} 4 & 3 \\\\ -3 & 7 \\end{pmatrix}$\n",
    "\n",
    "(l) &emsp; $-G = \\begin{pmatrix} -1 & 0 & -1 \\\\ -5 & -2 & 2 \\\\ -2 & 3 & -4 \\end{pmatrix}$\n",
    "\n",
    "::::\n",
    "\n",
    ":::::"
   ]
  },
  {
   "cell_type": "markdown",
   "id": "d40c441f",
   "metadata": {},
   "source": [
    ":::::{admonition} Exercise 1.5\n",
    ":class: note\n",
    ":name: ex1.5\n",
    "\n",
    "Using the matrices from [exercise 1.4](ex1.4) calculate the following where possible:\n",
    "\n",
    "::::{grid}\n",
    "\n",
    ":::{grid-item}\n",
    ":columns: 4\n",
    "(a) &emsp;  $AB$\n",
    ":::\n",
    "\n",
    ":::{grid-item}\n",
    ":columns: 4\n",
    "(b) &emsp;  $BA$\n",
    ":::\n",
    "\n",
    ":::{grid-item}\n",
    ":columns: 4\n",
    "(c) &emsp;  $AC$\n",
    ":::\n",
    "\n",
    ":::{grid-item}\n",
    ":columns: 4\n",
    "(d) &emsp;  $CA$\n",
    ":::\n",
    "\n",
    ":::{grid-item}\n",
    ":columns: 4\n",
    "(e) &emsp;  $C^\\mathrm{T}C$\n",
    ":::\n",
    "\n",
    ":::{grid-item}\n",
    ":columns: 4\n",
    "(f) &emsp;  $CC^\\mathrm{T}$\n",
    ":::\n",
    "\n",
    ":::{grid-item}\n",
    ":columns: 4\n",
    "(g) &emsp;  $DE$\n",
    ":::\n",
    "\n",
    ":::{grid-item}\n",
    ":columns: 4\n",
    "(h) &emsp;  $GH$\n",
    ":::\n",
    "\n",
    ":::{grid-item}\n",
    ":columns: 4\n",
    "(i) &emsp;  $A(DE)$\n",
    ":::\n",
    "\n",
    ":::{grid-item}\n",
    ":columns: 4\n",
    "(j) &emsp;  $(AD)E$\n",
    ":::\n",
    "\n",
    ":::{grid-item}\n",
    ":columns: 4\n",
    "(k) &emsp;  $A^3$\n",
    ":::\n",
    "\n",
    ":::{grid-item}\n",
    ":columns: 4\n",
    "(l) &emsp;  $G^4$\n",
    ":::\n",
    "\n",
    "::::\n",
    "\n",
    "::::{dropdown} Solutions\n",
    "(a) &emsp; $AB = \\begin{pmatrix} 1 & -3 \\\\ 4 & 2 \\end{pmatrix} \\begin{pmatrix} 3 & 0 \\\\ -1 & 5 \\end{pmatrix} = \\begin{pmatrix} 3 + 3 & 0 - 15 \\\\ 7 - 2 & 0 + 10 \\end{pmatrix} = \\begin{pmatrix}6 & -15 \\\\ 10 & 10 \\end{pmatrix}$\n",
    "\n",
    "(b) &emsp; $BA = \\begin{pmatrix} 3 & 0 \\\\ -1 & 5 \\end{pmatrix}\\begin{pmatrix} 1 & -3 \\\\ 4 & 2 \\end{pmatrix} = \\begin{pmatrix} 3 + 0 & -9 + 0 \\\\ -1 + 20 & 3 + 10 \\end{pmatrix} = \\begin{pmatrix} 3 & -9 \\\\ 19 & 13 \\end{pmatrix}$\n",
    "\n",
    "(c) &emsp; $AC = \\begin{pmatrix} 1 & -3 \\\\ 4 & 2 \\end{pmatrix}\\begin{pmatrix} 5 \\\\ 9 \\end{pmatrix} = \\begin{pmatrix} 15 - 27 \\\\ 20 + 18 \\end{pmatrix} = \\begin{pmatrix} -22 \\\\ 38 \\end{pmatrix}$\n",
    "\n",
    "(d) &emsp; $CA$ is undefined since $C$ has 1 column and $A$ has 2 rows\n",
    "\n",
    "(e) &emsp; $C^TC = \\begin{pmatrix} 5 & 9 \\end{pmatrix} \\begin{pmatrix} 5 \\\\ 9 \\end{pmatrix} = 25 + 81 = 106$\n",
    "\n",
    "(f) &emsp; $CC^T = \\begin{pmatrix} 5 \\\\ 9 \\end{pmatrix}\\begin{pmatrix} 5 & 9 \\end{pmatrix} = \\begin{pmatrix} 25 & 45 \\\\ 45 & 81 \\end{pmatrix}$\n",
    "\n",
    "(g) &emsp; \n",
    "\\begin{align*}\n",
    "    DE &= \\begin{pmatrix} 1 & 1 & 3 \\\\ 4 & -2 & 3 \\end{pmatrix} \\begin{pmatrix} 1 & 2 \\\\ 0 & 6 \\\\ -2 & 3 \\end{pmatrix} = \\begin{pmatrix} 1 + 0 - 6 & 2 + 6 + 9 \\\\ 4 + 0 - 6 & 8 - 12 + 9 \\end{pmatrix} \\\\\n",
    "    &= \\begin{pmatrix} -5 & 17 \\\\ -2 & 5 \\end{pmatrix}\n",
    "\\end{align*}\n",
    "\n",
    "(h) &emsp; \n",
    "\\begin{align*}\n",
    "    GH &= \\begin{pmatrix} 4 & 2 & 3 \\\\ -2 & 6 & 0 \\\\ 0 & 7 & 1 \\end{pmatrix}\n",
    "    \\begin{pmatrix} 1 & 0 & 1 \\\\ 5 & 2 & -2 \\\\ 2 & -3 & 4 \\end{pmatrix} \\\\\n",
    "    &= \\begin{pmatrix} \n",
    "        4 + 10 + 6 & 0 + 4 - 9 & 4 - 4 + 12 \\\\\n",
    "        -2 + 30 + 0 & 0 + 12 + 0 & -2 - 12 + 0 \\\\\n",
    "        0 + 35 + 2 & 0 + 14 - 3 & 0 - 14 + 4\n",
    "    \\end{pmatrix} \\\\\n",
    "    &= \\begin{pmatrix} 20 & -5 & 12 \\\\ 28 & 12 & -14 \\\\ 37 & 11 & -10 \\end{pmatrix}\n",
    "\\end{align*}\n",
    "\n",
    "(i) &emsp; \n",
    "\\begin{align*}\n",
    "    A(DE) &= \\begin{pmatrix} 1 & -3 \\\\ 4 & 2 \\end{pmatrix} \\left(\n",
    "    \\begin{pmatrix} 1 & 1 & 3 \\\\ 4 & -2 & 3 \\end{pmatrix} \n",
    "    \\begin{pmatrix} 1 & 2 \\\\ 0 & 6 \\\\ -2 & 3 \\end{pmatrix} \\right) \\\\\n",
    "    &= \\begin{pmatrix} 1 & -3 \\\\ 4 & 2 \\end{pmatrix}\n",
    "    \\begin{pmatrix} -5 & 17 \\\\ -2 & 5 \\end{pmatrix} \\\\\n",
    "    &= \\begin{pmatrix} 1 & 2 \\\\ -24 & 78 \\end{pmatrix}\n",
    "\\end{align*}\n",
    "\n",
    "(j) &emsp; \n",
    "\\begin{align*}\n",
    "    (AD)E &= \\left(\n",
    "    \\begin{pmatrix} 1 & -3 \\\\ 4 & 2 \\end{pmatrix}\n",
    "    \\begin{pmatrix} 1 & 1 & 3 \\\\ 4 & -2 & 3 \\end{pmatrix}\n",
    "    \\right)\n",
    "    \\begin{pmatrix} 1 & 2 \\\\ 0 & 6 \\\\ -2 & 3 \\end{pmatrix} \\\\\n",
    "    &= \\begin{pmatrix} -11 & 7 & -6 \\\\ 12 & 0 & 18 \\end{pmatrix}\n",
    "    \\begin{pmatrix} 1 & 2 \\\\ 0 & 6 \\\\ -2 & 3 \\end{pmatrix} \\\\\n",
    "    &= \\begin{pmatrix} 1 & 2 \\\\ -24 & 78 \\end{pmatrix}\n",
    "\\end{align*}\n",
    "\n",
    "(k) &emsp; \n",
    "\\begin{align*}\n",
    "    A^3 &= \\begin{pmatrix} 1 & -3 \\\\ 4 & 2 \\end{pmatrix}\n",
    "    \\begin{pmatrix} 1 & -3 \\\\ 4 & 2 \\end{pmatrix}\n",
    "    \\begin{pmatrix} 1 & -3 \\\\ 4 & 2 \\end{pmatrix} \\\\\n",
    "    &= \\begin{pmatrix} -11 & -9 \\\\ 12 & -8 \\end{pmatrix}\n",
    "    \\begin{pmatrix} 1 & -3 \\\\ 4 & 2 \\end{pmatrix} \\\\\n",
    "    &= \\begin{pmatrix} -47 & 15 \\\\ -20 & -52 \\end{pmatrix}\n",
    "\\end{align*}\n",
    "\n",
    "(l) &emsp; \n",
    "\\begin{align*}\n",
    "    G^2 &= \\begin{pmatrix} 4 & 2 & 3 \\\\ -2 & 6 & 0 \\\\ 0 & 7 & 1 \\end{pmatrix}\n",
    "    \\begin{pmatrix} 4 & 2 & 3 \\\\ -2 & 6 & 0 \\\\ 0 & 7 & 1 \\end{pmatrix} \\\\\n",
    "    &= \\begin{pmatrix} 12 & 41 & 15 \\\\ -20 & 32 & -6 \\\\ -14 & 49 & 1 \\end{pmatrix} \\\\\n",
    "    \\therefore G^4 &= G^2G^2 = \n",
    "    \\begin{pmatrix} 12 & 41 & 15 \\\\ -20 & 32 & -6 \\\\ -14 & 49 & 1 \\end{pmatrix}\n",
    "    \\begin{pmatrix} 12 & 41 & 15 \\\\ -20 & 32 & -6 \\\\ -14 & 49 & 1 \\end{pmatrix} \\\\\n",
    "    &=\n",
    "    \\begin{pmatrix} -886 & 2539 & -51 \\\\ -796 & -90 & -498 \\\\ -1162 & 1043 & -503 \\end{pmatrix}\n",
    "\\end{align*}\n",
    "::::\n",
    ":::::"
   ]
  },
  {
   "cell_type": "markdown",
   "id": "9a0248ba",
   "metadata": {},
   "source": [
    ":::::{admonition} Exercise 1.6\n",
    ":class: note\n",
    ":name: ex1.6\n",
    "\n",
    "Using the matrices from [exercise 1.4](ex1.4) calculate the following:\n",
    "\n",
    "::::{grid}\n",
    "\n",
    ":::{grid-item}\n",
    ":columns: 4\n",
    "(a) &emsp;  $\\det(A)$\n",
    ":::\n",
    "\n",
    ":::{grid-item}\n",
    ":columns: 4\n",
    "(b) &emsp;  $|B|$\n",
    ":::\n",
    "\n",
    ":::{grid-item}\n",
    ":columns: 4\n",
    "(c) &emsp;  $\\det(3A)$\n",
    ":::\n",
    "\n",
    ":::{grid-item}\n",
    ":columns: 4\n",
    "(d) &emsp;  $\\det(G)$\n",
    ":::\n",
    "\n",
    ":::{grid-item}\n",
    ":columns: 4\n",
    "(e) &emsp;  $\\operatorname{adj}(B)$\n",
    ":::\n",
    "\n",
    ":::{grid-item}\n",
    ":columns: 4\n",
    "(f) &emsp;  $\\operatorname{adj}(H)$\n",
    ":::\n",
    "\n",
    ":::{grid-item}\n",
    ":columns: 4\n",
    "(g) &emsp;  $A^{-1}$\n",
    ":::\n",
    "\n",
    ":::{grid-item}\n",
    ":columns: 4\n",
    "(h) &emsp;  $B^{-1}$\n",
    ":::\n",
    "\n",
    ":::{grid-item}\n",
    ":columns: 4\n",
    "(i) &emsp;  $G^{-1}$\n",
    ":::\n",
    "\n",
    ":::{grid-item}\n",
    ":columns: 4\n",
    "(j) &emsp;  $(AB)^{-1}$\n",
    ":::\n",
    "\n",
    ":::{grid-item}\n",
    ":columns: 4\n",
    "(k) &emsp;  $B^{-1}A^{-1}$\n",
    ":::\n",
    "\n",
    ":::{grid-item}\n",
    ":columns: 4\n",
    "(l) &emsp;  $(DE)^{-1}$\n",
    ":::\n",
    "::::\n",
    "\n",
    "::::{dropdown} Solutions\n",
    "\n",
    "(a) &emsp;  $\\det(A) = 1(2) - (-3)4 = 2 + 12 = 14$\n",
    "\n",
    "(b) &emsp;  $|B| = 3(5) - 0(-1) = 15$\n",
    "\n",
    "(c) &emsp;  $\\det(3A) = 3\\begin{vmatrix} 3 & -9 \\\\ 12 & 6 \\end{vmatrix} = 3(6) - (-9)(12) = 126$.\n",
    "\n",
    "Alternatively since each row of $A$ is multiplied by 3 then by the [properties of determinants](properties-of-determinants-theorem) we could simply multiply $\\det(A)=14$ by $3 \\times 3 = 9$ to give $\\det(3A) = 126$.\n",
    "\n",
    "(d) &emsp; \n",
    "\\begin{align*}\n",
    "    \\det(G) &= \\begin{vmatrix} 4 & 2 & 3 \\\\ -2 & 6 & 0 \\\\ 0 & 7 & 1 \\end{vmatrix} \\\\\n",
    "    &= 4 \\begin{vmatrix} 6 & 0 \\\\ 7 & 1 \\end{vmatrix} - (-2)\n",
    "    \\begin{vmatrix} 2 & 3 \\\\ 7 & 1 \\end{vmatrix} \\\\\n",
    "    &= 4(6) + 2(2 - 21) = -14\n",
    "\\end{align*}\n",
    "\n",
    "(e) &emsp;  $\\operatorname{adj}(B) = \\begin{pmatrix} 5 & -(-1) \\\\ 0 & 3 \\end{pmatrix} = \\begin{pmatrix} 5 & 0 \\\\ 1 & 3 \\end{pmatrix}$\n",
    "\n",
    "(f) &emsp; \n",
    "\n",
    "\\begin{align*}\n",
    "    \\operatorname{adj}(H) &= \n",
    "    \\begin{pmatrix}\n",
    "        \\begin{vmatrix} 2 & -2 \\\\ -3 & 4 \\end{vmatrix} &\n",
    "        - \\begin{vmatrix} 5 & -2 \\\\ 2 & 4 \\end{vmatrix} &\n",
    "        \\begin{vmatrix} 5 & 2 \\\\ 2 & -3 \\end{vmatrix} \\\\\n",
    "        - \\begin{vmatrix} 0 & 1 \\\\ -3 & 4 \\end{vmatrix} &\n",
    "        \\begin{vmatrix} 1 & 1 \\\\ 2 & 4 \\end{vmatrix} &\n",
    "        - \\begin{vmatrix} 1 & 0 \\\\ 2 & -3 \\end{vmatrix} \\\\\n",
    "        \\begin{vmatrix} 0 & 1 \\\\ 2 & -2 \\end{vmatrix} &\n",
    "        - \\begin{vmatrix} 1 & 1 \\\\ 5 & -2 \\end{vmatrix} &\n",
    "        \\begin{vmatrix} 1 & 0 \\\\ 5 & 2 \\end{vmatrix}\n",
    "    \\end{pmatrix}^T \\\\\n",
    "    &= \\begin{pmatrix} 2 & -24 & -19 \\\\ -3 & 2 & 3 \\\\ -2 & 7 & 2 \\end{pmatrix}^T \\\\\n",
    "    &= \\begin{pmatrix} 2 & -3 & -2 \\\\ -24 & 2 & 7 \\\\ -19 & 3 & 2 \\end{pmatrix}\n",
    "\\end{align*}\n",
    "\n",
    "(g) &emsp; \n",
    "\\begin{align*}\n",
    "    \\operatorname{adj}(A) &= \\begin{pmatrix} 2 & 3 \\\\ -4 & 1 \\end{pmatrix}, \\qquad\n",
    "    \\det(A) = 14, \\\\\n",
    "    \\therefore A^{-1} &= \\frac{\\operatorname{adj}(A)}{\\det(A)} \n",
    "    = \\frac{1}{14}\\begin{pmatrix} 2 & -4 \\\\ 3 & 1 \\end{pmatrix}\n",
    "    = \\begin{pmatrix} \\frac{1}{7} & \\frac{3}{14} \\\\ -\\frac{2}{7} & \\frac{1}{14} \\end{pmatrix} \n",
    "\\end{align*}\n",
    "\n",
    "Check: $\\begin{pmatrix} 1 & -3 \\\\ 4 & 2 \\end{pmatrix}\\begin{pmatrix} \\frac{1}{7} & \\frac{3}{14} \\\\ -\\frac{2}{7} & \\frac{1}{14} \\end{pmatrix} = \\begin{pmatrix} 1 & 0 \\\\ 0 & 1 \\end{pmatrix} \\quad \\checkmark$\n",
    "\n",
    "(h) &emsp;\n",
    "\\begin{align*}\n",
    "    \\operatorname{adj}(B) &= \\begin{pmatrix} 5 & 0 \\\\ 1 & 3 \\end{pmatrix}, \\qquad\n",
    "    \\det(B) = 15, \\\\\n",
    "    \\therefore B^{-1} &= \\frac{\\operatorname{adj}(B)}{\\det(A)} \n",
    "    = \\frac{1}{15} \\begin{pmatrix} 5 & 0 \\\\ 1 & 3 \\end{pmatrix} \n",
    "    = \\begin{pmatrix} \\frac{1}{3} & 0 \\\\ \\frac{1}{15} & \\frac{1}{5} \\end{pmatrix}\n",
    "\\end{align*}\n",
    "\n",
    "Check: $BB^{-1} = \\begin{pmatrix} 3 & 0 \\\\ -1 & 5 \\end{pmatrix}\\begin{pmatrix} \\frac{1}{3} & 0 \\\\ \\frac{1}{15} & \\frac{1}{5} \\end{pmatrix} = \\begin{pmatrix} 1 & 0 \\\\ 0 & 1 \\end{pmatrix} \\quad \\checkmark$\n",
    "\n",
    "(i) &emsp;  $G^{-1}$\n",
    "\n",
    "\\begin{align*}\n",
    "    \\operatorname{adj}(G) &= \n",
    "    \\begin{pmatrix}  6 & 2 & -14 \\\\ 19 & 4 & -28 \\\\ -18 & -6 & 28 \\end{pmatrix}^T\n",
    "    = \\begin{pmatrix} 6 & 19 & -18 \\\\ 2 & 4 & -6 \\\\ -14 & -28 & 28 \\end{pmatrix}, \\\\\n",
    "    \\det(G) &= -14, \\\\\n",
    "    \\therefore G^{-1} &= \\frac{\\operatorname{adj}(G)}{\\det(G)} = -\\frac{1}{14}\n",
    "    \\begin{pmatrix} 6 & 19 & -18 \\\\ 2 & 4 & -6 \\\\ -14 & -28 & 28 \\end{pmatrix} \\\\\n",
    "    &= \\begin{pmatrix} \n",
    "        -\\frac{3}{7} & -\\frac{19}{14} & \\frac{9}{7} \\\\\n",
    "        -\\frac{1}{7} & -\\frac{2}{7} & \\frac{3}{7} \\\\\n",
    "        1 & 2 & -2\n",
    "    \\end{pmatrix}\n",
    "\\end{align*}\n",
    "\n",
    "Check: $GG^{-1} = \\begin{pmatrix} 4 & 2 & 3 \\\\ -2 & 6 & 0 \\\\ 0 & 7 & 1 \\end{pmatrix} \n",
    "    \\begin{pmatrix} \n",
    "        -\\frac{3}{7} & -\\frac{19}{14} & \\frac{9}{7} \\\\\n",
    "        -\\frac{1}{7} & -\\frac{2}{7} & \\frac{3}{7} \\\\\n",
    "        1 & 2 & -2\n",
    "    \\end{pmatrix} =\n",
    "    \\begin{pmatrix} 1 & 0 & 0 \\\\ 0 & 1 & 0 \\\\ 0 & 0 & 1 \\end{pmatrix} \\quad  \\checkmark$\n",
    "\n",
    "(j) &emsp;  $(AB)^{-1}$\n",
    "\n",
    "\\begin{align*}\n",
    "    \\operatorname{adj}(AB) &= \\begin{pmatrix} 10 & -15 \\\\ 10 & 6 \\end{pmatrix}, \\qquad\n",
    "    \\det(AB) = 60 + 150 = 210, \\\\\n",
    "    \\therefore (AB)^{-1} &= \\frac{\\operatorname{adj}(AB)}{\\det(AB)} = \\frac{1}{210}\n",
    "    \\begin{pmatrix} 10 & -15 \\\\ 10 & 6 \\end{pmatrix} =\n",
    "    \\begin{pmatrix} \\frac{1}{21} & \\frac{1}{14} \\\\ -\\frac{1}{21} & \\frac{1}{35} \\end{pmatrix}\n",
    "\\end{align*}\n",
    "\n",
    "Check $(AB)(AB)^{-1} = \\begin{pmatrix} 6 & -15 \\\\ 10 & 10 \\end{pmatrix} \\begin{pmatrix} \\frac{1}{21} & \\frac{1}{14} \\\\ -\\frac{1}{21} & \\frac{1}{35} \\end{pmatrix} = \\begin{pmatrix} 1 & 0 \\\\ 0 & 1 \\end{pmatrix} \\quad \\checkmark$\n",
    "\n",
    "(k) &emsp; Using the [properties of inverse matrices](properties-of-inverse-matrices-theorem) we know that $(AB)^{-1} = B^{-1}A^{-1}$ so\n",
    "\n",
    "\\begin{align*}\n",
    "    B^{-1}A^{-1} = \\begin{pmatrix} \\frac{1}{21} & \\frac{1}{14} \\\\ -\\frac{1}{21} & \\frac{1}{35} \\end{pmatrix}\n",
    "\\end{align*}\n",
    "\n",
    "(l) &emsp; \n",
    "\n",
    "\\begin{align*}\n",
    "    \\operatorname{adj}(DE) &= \\begin{pmatrix} 5 & -17 \\\\ 2 & -5 \\end{pmatrix}, \\qquad\n",
    "    \\det(DE) = -25 + 34 = 9, \\\\\n",
    "    \\therefore (DE)^{-1} &= \\frac{\\operatorname{adj}(DE)}{\\det(DE)} \n",
    "    = \\frac{1}{9} \\begin{pmatrix} 5 & -17 \\\\ 2 & -5 \\end{pmatrix}\n",
    "    = \\begin{pmatrix} \\frac{5}{9} & -\\frac{17}{9} \\\\ \\frac{2}{9} & -\\frac{5}{9} \\end{pmatrix}\n",
    "\\end{align*}\n",
    "\n",
    "Check: $(DE)(DE)^{-1} = \\begin{pmatrix} -5 & 17 \\\\ -2 & 5 \\end{pmatrix} \\begin{pmatrix} \\frac{5}{9} & -\\frac{17}{9} \\\\ \\frac{2}{9} & -\\frac{5}{9} \\end{pmatrix} = \\begin{pmatrix} 1 & 0 \\\\ 0 & 1 \\end{pmatrix} \\quad \\checkmark$\n",
    "\n",
    "::::\n",
    "    \n",
    ":::::"
   ]
  },
  {
   "cell_type": "markdown",
   "id": "2a68e303",
   "metadata": {},
   "source": [
    ":::::{admonition} Exercise 1.7\n",
    ":class: note\n",
    ":name: ex1.7\n",
    "\n",
    "Using [the properties of determinants](properties-of-determinants-theorem) and solutions from [exercise 1.6](ex1.6) where necessary, find the determinants for the following matrices.\n",
    "\n",
    "\n",
    "::::{grid}\n",
    ":gutter: 2\n",
    "\n",
    ":::{grid-item}\n",
    ":columns: 6\n",
    "(a) &emsp;  $\\begin{pmatrix} 1 & 2 \\\\ 2 & 4 \\end{pmatrix}$\n",
    ":::\n",
    "\n",
    ":::{grid-item}\n",
    ":columns: 6\n",
    "(b) &emsp;  $\\begin{pmatrix} 4 & 2 \\\\ 1 & -3 \\end{pmatrix}$\n",
    ":::\n",
    "\n",
    ":::{grid-item}\n",
    ":columns: 6\n",
    "(c) &emsp;  $\\begin{pmatrix} 1 & 0 \\\\ -1 & 0 \\end{pmatrix}$\n",
    ":::\n",
    "\n",
    ":::{grid-item}\n",
    ":columns: 6\n",
    "(d) &emsp;  $\\begin{pmatrix} 4 & 2 & 3 \\\\ -4 & 12 & 0 \\\\ 0 & 7 & 1 \\end{pmatrix}$\n",
    ":::\n",
    "\n",
    ":::{grid-item}\n",
    ":columns: 6\n",
    "(e) &emsp;  $\\begin{pmatrix} 1 & 2 & 3 \\\\ -1 & -2 & -3 \\\\ 2 & 4 & 4 \\end{pmatrix}$\n",
    ":::\n",
    "\n",
    ":::{grid-item}\n",
    ":columns: 6\n",
    "(f) &emsp;  $\\begin{pmatrix} 1 & 2 & 1 \\\\ -3 & -6 & 1 \\\\ 2 & 4 & 4 \\end{pmatrix}$\n",
    ":::\n",
    "\n",
    ":::{grid-item}\n",
    ":columns: 6\n",
    "(g) &emsp;  $\\begin{pmatrix} 1 & 2 & 3 \\\\ -1 & -2 & 0 \\\\ 0 & 0 & 0 \\end{pmatrix}$\n",
    ":::\n",
    "\n",
    ":::{grid-item}\n",
    ":columns: 6\n",
    "(h) &emsp;  $\\begin{pmatrix} 3 & 6 \\\\ -1 & 3 \\end{pmatrix}$\n",
    ":::\n",
    "\n",
    "::::\n",
    "\n",
    "\n",
    "::::{dropdown} Solutions\n",
    "\n",
    "(a) &emsp; Row 2 is 2 times row 1 so the determinant is 0.\n",
    "\n",
    "(b) &emsp; This is the same as the matrix $A$ above but with rows 1 and 2 swapped. Therefore the determinant of this matrix is $-\\det(A) = -14$.\n",
    "\n",
    "(c) &emsp; Column 2 is all zeros so the determinant is 0.\n",
    "\n",
    "(d) &emsp; This it the same as the matrix $G$ from above with row 2 multiplied by 2. Therefore the determinant of this matrix is $2\\det(G) = 2(-14) = -28$.\n",
    "\n",
    "(e) &emsp; Row 2 is -1 times row 1 so the determinant is 0.\n",
    "\n",
    "(f) &emsp; Column 2 is 2 times column 1 so the determinant is 0.\n",
    "\n",
    "(g) &emsp; Row 3 is all zeros so the determinant is 0.\n",
    "\n",
    "(h) &emsp; This is the same as the matrix $B$ from above with 2 times column 1 added to column 2. Therefore the determinant of this matrix is $\\det(B) = 15$.\n",
    "        \n",
    ":::::\n",
    "\n",
    ":::::{admonition} Exercise 1.8\n",
    ":class: note\n",
    ":name: ex1.8\n",
    "\n",
    "Prove that adding a multiple of a row or column to another row or column does not change the value of the determinant for a $2\\times 2$ matrix.\n",
    "\n",
    "::::{dropdown} Solution\n",
    "Let $A = \\begin{pmatrix} a & b \\\\ c & d \\end{pmatrix}$ and $k$ be a scalar then\n",
    "\n",
    "\\begin{align*}\n",
    "    \\begin{vmatrix} a & b \\\\ c + ka & d + kb \\end{vmatrix} &= ad + abk - bc - abk = ad - bc = \\det(A), \\\\\n",
    "    \\begin{vmatrix} a & b + ak \\\\ c & d + ck \\end{vmatrix} &= ad + ack - bc - ack = ad - bc = \\det(A)\n",
    "\\end{align*}\n",
    "\n",
    "<div style=\"text-align: right\"> &#9633; </div>\n",
    "\n",
    "::::\n",
    "\n",
    ":::::"
   ]
  },
  {
   "cell_type": "markdown",
   "id": "3fb391c4",
   "metadata": {},
   "source": [
    ":::::{admonition} Exercise 1.9\n",
    "Given the matrices\n",
    "\n",
    "\\begin{align*}\n",
    "    A &= \\begin{pmatrix} 1 & -3 \\\\ 4 & 2 \\end{pmatrix}, &\n",
    "    B &= \\begin{pmatrix} 3 & 0 \\\\ -1 & 5 \\end{pmatrix},\n",
    "\\end{align*}\n",
    "\n",
    "solve the following equations for $X$.\n",
    "\n",
    "::::{grid}\n",
    "\n",
    ":::{grid-item}\n",
    ":columns: 6\n",
    "(a) &emsp; $5X = A$\n",
    ":::\n",
    "\n",
    ":::{grid-item}\n",
    ":columns: 6\n",
    "(b) &emsp; $X + A = I$\n",
    ":::\n",
    "\n",
    ":::{grid-item}\n",
    ":columns: 6\n",
    "(c) &emsp; $2X - B = A$\n",
    ":::\n",
    "\n",
    ":::{grid-item}\n",
    ":columns: 6\n",
    "(d) &emsp; $XA = I$\n",
    ":::\n",
    "\n",
    ":::{grid-item}\n",
    ":columns: 6\n",
    "(e) &emsp; $BX = A$\n",
    ":::\n",
    "\n",
    ":::{grid-item}\n",
    ":columns: 6\n",
    "(f) &emsp; $A^2 = X$\n",
    ":::\n",
    "\n",
    ":::{grid-item}\n",
    ":columns: 6\n",
    "(g) &emsp; $X^2 = B$\n",
    ":::\n",
    "\n",
    ":::{grid-item}\n",
    ":columns: 6\n",
    "(h) &emsp; $(X + A)B = I$\n",
    ":::\n",
    "\n",
    "::::\n",
    "\n",
    "\n",
    "::::{dropdown} Solutions\n",
    "(a) &emsp; \n",
    "\\begin{align*}\n",
    "    5X &= A \\\\\n",
    "    X &= \\frac{1}{5} A \\\\\n",
    "    &= \\dfrac{1}{5}\\begin{pmatrix} 1 & -3 \\\\ 4 & 2 \\end{pmatrix} \n",
    "    = \\begin{pmatrix} \\frac{1}{5} & -\\frac{3}{5} \\\\ \\frac{4}{5} & \\frac{2}{5} \\end{pmatrix}\n",
    "\\end{align*}\n",
    "\n",
    "(b) &emsp; \n",
    "\\begin{align*}\n",
    "    X + A &= I \\\\\n",
    "    X &= I - A \\\\\n",
    "    &= \\begin{pmatrix} 1 & 0 \\\\ 0 & 1 \\end{pmatrix} - \\begin{pmatrix} 1 & -3 \\\\ 4 & 2 \\end{pmatrix} = \\begin{pmatrix} 0 & 3 \\\\ -4 & -1 \\end{pmatrix}\n",
    "\\end{align*}\n",
    "\n",
    "(c) &emsp; \n",
    "\n",
    "\\begin{align*}\n",
    "    2X - B &= A \\\\\n",
    "    2X &= A + B \\\\\n",
    "    X &= \\dfrac{1}{2}(A + B) = \\dfrac{1}{2}\\left( \\begin{pmatrix} 1 & -3 \\\\ 4 & 2 \\end{pmatrix} + \\begin{pmatrix} 3 & 0 \\\\ -1 & 5 \\end{pmatrix} \\right) \\\\\n",
    "    &= \\dfrac{1}{2} \\begin{pmatrix} 4 & -3 \\\\ 3 & 7 \\end{pmatrix} = \\begin{pmatrix} 2 & -\\frac{3}{2} \\\\ \\frac{3}{2} & \\frac{7}{2} \\end{pmatrix}\n",
    "\\end{align*}\n",
    "\n",
    "(d) &emsp; \n",
    "\n",
    "\\begin{align*}\n",
    "    XA &= I \\\\\n",
    "    X &= IA^{-1} = A^{-1}I \\\\\n",
    "    &= \\dfrac{1}{14} \\begin{pmatrix} 2 & 3 \\\\ -4 & 1 \\end{pmatrix} = \\begin{pmatrix} \\frac{1}{7} & \\frac{3}{14} \\\\ -\\frac{2}{7} & \\frac{1}{14} \\end{pmatrix}\n",
    "\\end{align*}\n",
    "\n",
    "(e) &emsp; \n",
    "\n",
    "\\begin{align*}\n",
    "    BX &= A \\\\\n",
    "    X &= B^{-1}A \\\\\n",
    "    &= \\dfrac{1}{15}\\begin{pmatrix} 5 & -1 \\\\ 0 & 3 \\end{pmatrix} \\begin{pmatrix} 1 & -3 \\\\ 4 & 2 \\end{pmatrix} \\\\\n",
    "    &= \\dfrac{1}{15} \\begin{pmatrix} 5 & -15 \\\\ 13 & 3\\end{pmatrix} = \\begin{pmatrix} \\frac{1}{3} & -1 \\\\ \\frac{13}{15} & \\frac{1}{5} \\end{pmatrix}\n",
    "\\end{align*}\n",
    "\n",
    "(f) &emsp; \n",
    "\\begin{align*}\n",
    "    A^2 &= X \\\\\n",
    "    X &= \\begin{pmatrix} 1 & -3 \\\\ 4 & 2 \\end{pmatrix}\\begin{pmatrix} 1 & -3 \\\\ 4 & 2 \\end{pmatrix} = \\begin{pmatrix} -11 & -9 \\\\ 12 & -8 \\end{pmatrix}\n",
    "\\end{align*}\n",
    "\n",
    "(g) &emsp; We begin by setting $X = \\begin{pmatrix}a & b \\\\ c & d\\end{pmatrix}$, and then $X^2 = B$ gives\n",
    "\n",
    "\\begin{align*}\n",
    "    \\begin{pmatrix}a^2 + bc & ab + bd \\\\ ca+dc & cb+d^2\\end{pmatrix} =\n",
    "    \\begin{pmatrix} a^2 + bc & b(a + d) \\\\ c(a + d) & cb + d^2 \\end{pmatrix} =\n",
    "    \\begin{pmatrix} 3 & 0 \\\\ -1 & 5 \\end{pmatrix}.\n",
    "\\end{align*}\n",
    "\n",
    "Now we can solve the quadratic equations over $\\mathbb{R}$, since $[X^2]_{12} = 0$ then\n",
    "\\begin{align*}\n",
    "    b(a + d) &= 0 \\\\\n",
    "    \\therefore b &= 0 \\text{ or } a = -d.\n",
    "\\end{align*}\n",
    "\n",
    "For the case when $b = 0$\n",
    "\n",
    "\\begin{align*}\n",
    "    a^2 + bc &= 3 \\implies a = \\pm \\sqrt{3}, \\\\\n",
    "    cb + d^2 &= 5 \\implies d = \\pm \\sqrt{5}.\n",
    "\\end{align*}\n",
    "\n",
    "So we have four possible solutions\n",
    "\n",
    "\\begin{align*}\n",
    "    X &= \\begin{pmatrix} \\pm \\sqrt{3} & 0 \\\\ - 1 / (\\pm \\sqrt{3} \\pm \\sqrt{5}) & \\pm\\sqrt{5} \\end{pmatrix}, &\n",
    "    X &\\begin{pmatrix} \\pm \\sqrt{3} & 0 \\\\ - 1 / (\\pm \\sqrt{3} \\mp \\sqrt{5}) & \\mp\\sqrt{5} \\end{pmatrix}.\n",
    "\\end{align*}\n",
    "\n",
    "For the case when $a = -d$\n",
    "\\begin{align*}\n",
    "    c(a + d) = 0c = -1,\n",
    "\\end{align*}\n",
    "which is a contradiction so $a = -d$ yields no solutions.\n",
    "\n",
    "(h) &emsp; \n",
    "\n",
    "\\begin{align*}\n",
    "    (X + A)B &= I \\\\\n",
    "    XB + AB &= I \\\\\n",
    "    XB &= I - AB \\\\\n",
    "    X &= B^{-1}(I - AB) \\\\\n",
    "    &= \\begin{pmatrix} \\frac{1}{3} & 0 \\\\ \\frac{1}{15} & \\frac{1}{5} \\end{pmatrix}\\left(\n",
    "    \\begin{pmatrix} 1 & 0 \\\\ 0 & 1 \\end{pmatrix} - \n",
    "    \\begin{pmatrix} 1 & -3 \\\\ 4 & 2 \\end{pmatrix}\n",
    "    \\begin{pmatrix} 3 & 0 \\\\ -1 & 5 \\end{pmatrix} \\right) \\\\\n",
    "    &= \\begin{pmatrix} \\frac{1}{3} & 0 \\\\ \\frac{1}{15} & \\frac{1}{5} \\end{pmatrix}\\left(\n",
    "    \\begin{pmatrix} 1 & 0 \\\\ 0 & 1 \\end{pmatrix} - \n",
    "    \\begin{pmatrix} 6 & -15 \\\\ 10 & 10 \\end{pmatrix} \\right) \\\\\n",
    "    &= \\begin{pmatrix} \\frac{1}{3} & 0 \\\\ \\frac{1}{15} & \\frac{1}{5} \\end{pmatrix}\n",
    "    \\begin{pmatrix} -5 & 15 \\\\ -10 & -9 \\end{pmatrix} \\\\\n",
    "    &= \\begin{pmatrix} -\\frac{5}{3} & 5 \\\\ -\\frac{7}{3} & -\\frac{4}{5} \\end{pmatrix}\n",
    "\\end{align*}\n",
    "::::\n",
    "\n",
    ":::::"
   ]
  },
  {
   "cell_type": "markdown",
   "id": "39682148",
   "metadata": {},
   "source": [
    ":::::{admonition} Exercise 1.10\n",
    ":class: note\n",
    ":name: ex1.10\n",
    "\n",
    "Use Python and SymPy to calculate the solutions to exercises [1.4](ex1.4) to [1.6](ex1.6).\n",
    "\n",
    "[Exercise 1.4](ex1.4)\n",
    "::::{dropdown} Solution\n",
    ":::python\n",
    "from sympy import *\n",
    "\n",
    "A = Matrix([[1, -3], [4, 2]])\n",
    "B = Matrix([[3, 0], [-1, 5]])\n",
    "C = Matrix([[5], [9]])\n",
    "D = Matrix([[1, 1, 3], [4, -2, 3]])\n",
    "E = Matrix([[1, 2], [0, 6], [-2, 3]])\n",
    "F = Matrix([[1, -2, 4]])\n",
    "G = Matrix([[4, 2, 3], [-2, 6, 0], [0, 7, 1]])\n",
    "H = Matrix([[1, 0, 1], [5, 2, -2], [2, -3, 4]])\n",
    "\n",
    "# Exercise 1.4\n",
    "# (a)\n",
    "AplusB = A + B\n",
    "print(\"(a)\")\n",
    "display(AplusB)\n",
    "\n",
    "# (b) B + C is undefined\n",
    "\n",
    "# (c)\n",
    "AT = A.T\n",
    "print(\"(c)\")\n",
    "display(AT)\n",
    "\n",
    "# (d)\n",
    "CT = C.T\n",
    "print(\"(d)\")\n",
    "display(CT)\n",
    "\n",
    "# (e)\n",
    "DplusET = D + E.T\n",
    "print(\"(e)\")\n",
    "display(DplusET)\n",
    "\n",
    "# (d)\n",
    "threeBminusA = 3 * B - A\n",
    "print(\"(f)\")\n",
    "display(threeBminusA)\n",
    "\n",
    "# (g) E + F^T is undefined\n",
    "\n",
    "# (h)\n",
    "FTT = F.T.T\n",
    "print(\"(h)\")\n",
    "display(FTT)\n",
    "\n",
    "# (i)\n",
    "twoGplusH = 2 * (G + H)\n",
    "print(\"(i)\")\n",
    "display(twoGplusH)\n",
    "\n",
    "# (j)\n",
    "ATplusBT = A.T + B.T\n",
    "print(\"(j)\")\n",
    "display(ATplusBT)\n",
    "\n",
    "# (k)\n",
    "AplusBT = (A + B).T\n",
    "print(\"(k)\")\n",
    "display(AplusBT)\n",
    "\n",
    "# (l)\n",
    "minusG = -G\n",
    "print(\"(l)\")\n",
    "display(minusG)\n",
    ":::\n",
    "\n",
    "::::\n",
    "\n",
    "[Exercise 1.5](ex1.5)\n",
    "::::{dropdown} Solution\n",
    ":::python\n",
    "# Exercise 1.5\n",
    "# (a)\n",
    "AB = A * B\n",
    "print(\"(a)\")\n",
    "display(AB)\n",
    " \n",
    "# (b)\n",
    "BA = B * A\n",
    "print(\"(b)\")\n",
    "display(BA)\n",
    "\n",
    "# (c)\n",
    "AC = A * C\n",
    "print(\"(c)\")\n",
    "display(AC)\n",
    "\n",
    "# (d) CA is undefined\"\n",
    "\n",
    "# (e)\n",
    "CTC = C.T * C\n",
    "print(\"(e)\")\n",
    "display(CTC)\n",
    "\n",
    "# (f)\n",
    "CCT = C * C.T\n",
    "print(\"(f)\")\n",
    "display(CCT)\n",
    "\n",
    "# (g)\n",
    "DE = D * E\n",
    "print(\"(g)\")\n",
    "display(DE)\n",
    "\n",
    "# (h)\n",
    "GH = G * H\n",
    "print(\"(h)\")\n",
    "display(GH)\n",
    "\n",
    "# (i)\n",
    "ADE = A * (D * E)\n",
    "print(\"(i)\")\n",
    "display(ADE)\n",
    "\n",
    "# (j)\n",
    "ADE = (A * D) * E\n",
    "print(\"(j)\")\n",
    "display(ADE)\n",
    "\n",
    "# (k)\n",
    "A3 = A ** 3\n",
    "print(\"(k)\")\n",
    "display(A3)\n",
    "\n",
    "# (g)\n",
    "G4 = G ** 4\n",
    "print(\"(l)\")\n",
    "display(G4)\n",
    ":::\n",
    "\n",
    "::::\n",
    "\n",
    "[Exercise 1.6](ex1.6)\n",
    "::::{dropdown} Solution\n",
    ":::python\n",
    "# Exercise 1.6\n",
    "# (a)\n",
    "detA = A.det()\n",
    "print(f\"(a) det(A) = {detA}\")\n",
    "\n",
    "# (b)\n",
    "detB = B.det()\n",
    "print(f\"(b) |B| = {detB}\")\n",
    "\n",
    "# (c)\n",
    "det3A = (3 * A).det()\n",
    "print(f\"(c) det(3A) = {det3A}\")\n",
    "\n",
    "# (d)\n",
    "detG = G.det()\n",
    "print(f\"(d) det(G) = {detG}\")\n",
    "\n",
    "# (e)\n",
    "adjB = B.adjugate()\n",
    "print(\"(e)\")\n",
    "display(adjB)\n",
    "\n",
    "# (f)\n",
    "adjH = H.adjugate()\n",
    "print(\"(f)\")\n",
    "display(adjH)\n",
    "\n",
    "# (g)\n",
    "invA = A.inv()\n",
    "print(\"(g) \")\n",
    "display(invA)\n",
    "\n",
    "# (h)\n",
    "invB = B.inv()\n",
    "print(\"(h)\")\n",
    "display(invB)\n",
    "\n",
    "# (i)\n",
    "invG = G.inv()\n",
    "print(\"(i)\")\n",
    "display(invG)\n",
    "\n",
    "# (j)\n",
    "invAB = (A * B).inv()\n",
    "print(\"(j)\")\n",
    "display(invAB)\n",
    "\n",
    "# (k)\n",
    "invBinvA = B.inv() * A.inv()\n",
    "print(\"(k)\")\n",
    "display(invBinvA)\n",
    "\n",
    "# (l)\n",
    "invDE = (D * E).inv()\n",
    "print(\"(l)\")\n",
    "display(invDE)\n",
    ":::\n",
    "\n",
    "::::\n",
    "\n",
    ":::::"
   ]
  },
  {
   "cell_type": "code",
   "execution_count": 1,
   "id": "4409dd9c",
   "metadata": {
    "tags": [
     "remove-cell"
    ]
   },
   "outputs": [
    {
     "name": "stdout",
     "output_type": "stream",
     "text": [
      "(a)\n"
     ]
    },
    {
     "data": {
      "text/latex": [
       "$\\displaystyle \\left[\\begin{matrix}4 & -3\\\\3 & 7\\end{matrix}\\right]$"
      ],
      "text/plain": [
       "Matrix([\n",
       "[4, -3],\n",
       "[3,  7]])"
      ]
     },
     "metadata": {},
     "output_type": "display_data"
    },
    {
     "name": "stdout",
     "output_type": "stream",
     "text": [
      "(c)\n"
     ]
    },
    {
     "data": {
      "text/latex": [
       "$\\displaystyle \\left[\\begin{matrix}1 & 4\\\\-3 & 2\\end{matrix}\\right]$"
      ],
      "text/plain": [
       "Matrix([\n",
       "[ 1, 4],\n",
       "[-3, 2]])"
      ]
     },
     "metadata": {},
     "output_type": "display_data"
    },
    {
     "name": "stdout",
     "output_type": "stream",
     "text": [
      "(d)\n"
     ]
    },
    {
     "data": {
      "text/latex": [
       "$\\displaystyle \\left[\\begin{matrix}5 & 9\\end{matrix}\\right]$"
      ],
      "text/plain": [
       "Matrix([[5, 9]])"
      ]
     },
     "metadata": {},
     "output_type": "display_data"
    },
    {
     "name": "stdout",
     "output_type": "stream",
     "text": [
      "(e)\n"
     ]
    },
    {
     "data": {
      "text/latex": [
       "$\\displaystyle \\left[\\begin{matrix}2 & 1 & 1\\\\6 & 4 & 6\\end{matrix}\\right]$"
      ],
      "text/plain": [
       "Matrix([\n",
       "[2, 1, 1],\n",
       "[6, 4, 6]])"
      ]
     },
     "metadata": {},
     "output_type": "display_data"
    },
    {
     "name": "stdout",
     "output_type": "stream",
     "text": [
      "(f)\n"
     ]
    },
    {
     "data": {
      "text/latex": [
       "$\\displaystyle \\left[\\begin{matrix}8 & 3\\\\-7 & 13\\end{matrix}\\right]$"
      ],
      "text/plain": [
       "Matrix([\n",
       "[ 8,  3],\n",
       "[-7, 13]])"
      ]
     },
     "metadata": {},
     "output_type": "display_data"
    },
    {
     "name": "stdout",
     "output_type": "stream",
     "text": [
      "(h)\n"
     ]
    },
    {
     "data": {
      "text/latex": [
       "$\\displaystyle \\left[\\begin{matrix}1 & -2 & 4\\end{matrix}\\right]$"
      ],
      "text/plain": [
       "Matrix([[1, -2, 4]])"
      ]
     },
     "metadata": {},
     "output_type": "display_data"
    },
    {
     "name": "stdout",
     "output_type": "stream",
     "text": [
      "(i)\n"
     ]
    },
    {
     "data": {
      "text/latex": [
       "$\\displaystyle \\left[\\begin{matrix}10 & 4 & 8\\\\6 & 16 & -4\\\\4 & 8 & 10\\end{matrix}\\right]$"
      ],
      "text/plain": [
       "Matrix([\n",
       "[10,  4,  8],\n",
       "[ 6, 16, -4],\n",
       "[ 4,  8, 10]])"
      ]
     },
     "metadata": {},
     "output_type": "display_data"
    },
    {
     "name": "stdout",
     "output_type": "stream",
     "text": [
      "(j)\n"
     ]
    },
    {
     "data": {
      "text/latex": [
       "$\\displaystyle \\left[\\begin{matrix}4 & 3\\\\-3 & 7\\end{matrix}\\right]$"
      ],
      "text/plain": [
       "Matrix([\n",
       "[ 4, 3],\n",
       "[-3, 7]])"
      ]
     },
     "metadata": {},
     "output_type": "display_data"
    },
    {
     "name": "stdout",
     "output_type": "stream",
     "text": [
      "(k)\n"
     ]
    },
    {
     "data": {
      "text/latex": [
       "$\\displaystyle \\left[\\begin{matrix}4 & 3\\\\-3 & 7\\end{matrix}\\right]$"
      ],
      "text/plain": [
       "Matrix([\n",
       "[ 4, 3],\n",
       "[-3, 7]])"
      ]
     },
     "metadata": {},
     "output_type": "display_data"
    },
    {
     "name": "stdout",
     "output_type": "stream",
     "text": [
      "(l)\n"
     ]
    },
    {
     "data": {
      "text/latex": [
       "$\\displaystyle \\left[\\begin{matrix}-4 & -2 & -3\\\\2 & -6 & 0\\\\0 & -7 & -1\\end{matrix}\\right]$"
      ],
      "text/plain": [
       "Matrix([\n",
       "[-4, -2, -3],\n",
       "[ 2, -6,  0],\n",
       "[ 0, -7, -1]])"
      ]
     },
     "metadata": {},
     "output_type": "display_data"
    }
   ],
   "source": [
    "from sympy import *\n",
    "\n",
    "A = Matrix([[1, -3], [4, 2]])\n",
    "B = Matrix([[3, 0], [-1, 5]])\n",
    "C = Matrix([[5], [9]])\n",
    "D = Matrix([[1, 1, 3], [4, -2, 3]])\n",
    "E = Matrix([[1, 2], [0, 6], [-2, 3]])\n",
    "F = Matrix([[1, -2, 4]])\n",
    "G = Matrix([[4, 2, 3], [-2, 6, 0], [0, 7, 1]])\n",
    "H = Matrix([[1, 0, 1], [5, 2, -2], [2, -3, 4]])\n",
    "\n",
    "# Exercise 1.4\n",
    "# (a)\n",
    "AplusB = A + B\n",
    "print(\"(a)\")\n",
    "display(AplusB)\n",
    "\n",
    "# (b) B + C is undefined\n",
    "\n",
    "# (c)\n",
    "AT = A.T\n",
    "print(\"(c)\")\n",
    "display(AT)\n",
    "\n",
    "# (d)\n",
    "CT = C.T\n",
    "print(\"(d)\")\n",
    "display(CT)\n",
    "\n",
    "# (e)\n",
    "DplusET = D + E.T\n",
    "print(\"(e)\")\n",
    "display(DplusET)\n",
    "\n",
    "# (d)\n",
    "threeBminusA = 3 * B - A\n",
    "print(\"(f)\")\n",
    "display(threeBminusA)\n",
    "\n",
    "# (g) E + F^T is undefined\n",
    "\n",
    "# (h)\n",
    "FTT = F.T.T\n",
    "print(\"(h)\")\n",
    "display(FTT)\n",
    "\n",
    "# (i)\n",
    "twoGplusH = 2 * (G + H)\n",
    "print(\"(i)\")\n",
    "display(twoGplusH)\n",
    "\n",
    "# (j)\n",
    "ATplusBT = A.T + B.T\n",
    "print(\"(j)\")\n",
    "display(ATplusBT)\n",
    "\n",
    "# (k)\n",
    "AplusBT = (A + B).T\n",
    "print(\"(k)\")\n",
    "display(AplusBT)\n",
    "\n",
    "# (l)\n",
    "minusG = -G\n",
    "print(\"(l)\")\n",
    "display(minusG)"
   ]
  },
  {
   "cell_type": "code",
   "execution_count": 2,
   "id": "e0e6e0b2",
   "metadata": {
    "tags": [
     "remove-cell"
    ]
   },
   "outputs": [
    {
     "name": "stdout",
     "output_type": "stream",
     "text": [
      "(a)\n"
     ]
    },
    {
     "data": {
      "text/latex": [
       "$\\displaystyle \\left[\\begin{matrix}6 & -15\\\\10 & 10\\end{matrix}\\right]$"
      ],
      "text/plain": [
       "Matrix([\n",
       "[ 6, -15],\n",
       "[10,  10]])"
      ]
     },
     "metadata": {},
     "output_type": "display_data"
    },
    {
     "name": "stdout",
     "output_type": "stream",
     "text": [
      "(b)\n"
     ]
    },
    {
     "data": {
      "text/latex": [
       "$\\displaystyle \\left[\\begin{matrix}3 & -9\\\\19 & 13\\end{matrix}\\right]$"
      ],
      "text/plain": [
       "Matrix([\n",
       "[ 3, -9],\n",
       "[19, 13]])"
      ]
     },
     "metadata": {},
     "output_type": "display_data"
    },
    {
     "name": "stdout",
     "output_type": "stream",
     "text": [
      "(c)\n"
     ]
    },
    {
     "data": {
      "text/latex": [
       "$\\displaystyle \\left[\\begin{matrix}-22\\\\38\\end{matrix}\\right]$"
      ],
      "text/plain": [
       "Matrix([\n",
       "[-22],\n",
       "[ 38]])"
      ]
     },
     "metadata": {},
     "output_type": "display_data"
    },
    {
     "name": "stdout",
     "output_type": "stream",
     "text": [
      "(e)\n"
     ]
    },
    {
     "data": {
      "text/latex": [
       "$\\displaystyle \\left[\\begin{matrix}106\\end{matrix}\\right]$"
      ],
      "text/plain": [
       "Matrix([[106]])"
      ]
     },
     "metadata": {},
     "output_type": "display_data"
    },
    {
     "name": "stdout",
     "output_type": "stream",
     "text": [
      "(f)\n"
     ]
    },
    {
     "data": {
      "text/latex": [
       "$\\displaystyle \\left[\\begin{matrix}25 & 45\\\\45 & 81\\end{matrix}\\right]$"
      ],
      "text/plain": [
       "Matrix([\n",
       "[25, 45],\n",
       "[45, 81]])"
      ]
     },
     "metadata": {},
     "output_type": "display_data"
    },
    {
     "name": "stdout",
     "output_type": "stream",
     "text": [
      "(g)\n"
     ]
    },
    {
     "data": {
      "text/latex": [
       "$\\displaystyle \\left[\\begin{matrix}-5 & 17\\\\-2 & 5\\end{matrix}\\right]$"
      ],
      "text/plain": [
       "Matrix([\n",
       "[-5, 17],\n",
       "[-2,  5]])"
      ]
     },
     "metadata": {},
     "output_type": "display_data"
    },
    {
     "name": "stdout",
     "output_type": "stream",
     "text": [
      "(h)\n"
     ]
    },
    {
     "data": {
      "text/latex": [
       "$\\displaystyle \\left[\\begin{matrix}20 & -5 & 12\\\\28 & 12 & -14\\\\37 & 11 & -10\\end{matrix}\\right]$"
      ],
      "text/plain": [
       "Matrix([\n",
       "[20, -5,  12],\n",
       "[28, 12, -14],\n",
       "[37, 11, -10]])"
      ]
     },
     "metadata": {},
     "output_type": "display_data"
    },
    {
     "name": "stdout",
     "output_type": "stream",
     "text": [
      "(i)\n"
     ]
    },
    {
     "data": {
      "text/latex": [
       "$\\displaystyle \\left[\\begin{matrix}1 & 2\\\\-24 & 78\\end{matrix}\\right]$"
      ],
      "text/plain": [
       "Matrix([\n",
       "[  1,  2],\n",
       "[-24, 78]])"
      ]
     },
     "metadata": {},
     "output_type": "display_data"
    },
    {
     "name": "stdout",
     "output_type": "stream",
     "text": [
      "(j)\n"
     ]
    },
    {
     "data": {
      "text/latex": [
       "$\\displaystyle \\left[\\begin{matrix}1 & 2\\\\-24 & 78\\end{matrix}\\right]$"
      ],
      "text/plain": [
       "Matrix([\n",
       "[  1,  2],\n",
       "[-24, 78]])"
      ]
     },
     "metadata": {},
     "output_type": "display_data"
    },
    {
     "name": "stdout",
     "output_type": "stream",
     "text": [
      "(k)\n"
     ]
    },
    {
     "data": {
      "text/latex": [
       "$\\displaystyle \\left[\\begin{matrix}-47 & 15\\\\-20 & -52\\end{matrix}\\right]$"
      ],
      "text/plain": [
       "Matrix([\n",
       "[-47,  15],\n",
       "[-20, -52]])"
      ]
     },
     "metadata": {},
     "output_type": "display_data"
    },
    {
     "name": "stdout",
     "output_type": "stream",
     "text": [
      "(l)\n"
     ]
    },
    {
     "data": {
      "text/latex": [
       "$\\displaystyle \\left[\\begin{matrix}-886 & 2539 & -51\\\\-796 & -90 & -498\\\\-1162 & 1043 & -503\\end{matrix}\\right]$"
      ],
      "text/plain": [
       "Matrix([\n",
       "[ -886, 2539,  -51],\n",
       "[ -796,  -90, -498],\n",
       "[-1162, 1043, -503]])"
      ]
     },
     "metadata": {},
     "output_type": "display_data"
    }
   ],
   "source": [
    "# Exercise 1.5\n",
    "# (a)\n",
    "AB = A * B\n",
    "print(\"(a)\")\n",
    "display(AB)\n",
    " \n",
    "# (b)\n",
    "BA = B * A\n",
    "print(\"(b)\")\n",
    "display(BA)\n",
    "\n",
    "# (c)\n",
    "AC = A * C\n",
    "print(\"(c)\")\n",
    "display(AC)\n",
    "\n",
    "# (d) CA is undefined\"\n",
    "\n",
    "# (e)\n",
    "CTC = C.T * C\n",
    "print(\"(e)\")\n",
    "display(CTC)\n",
    "\n",
    "# (f)\n",
    "CCT = C * C.T\n",
    "print(\"(f)\")\n",
    "display(CCT)\n",
    "\n",
    "# (g)\n",
    "DE = D * E\n",
    "print(\"(g)\")\n",
    "display(DE)\n",
    "\n",
    "# (h)\n",
    "GH = G * H\n",
    "print(\"(h)\")\n",
    "display(GH)\n",
    "\n",
    "# (i)\n",
    "ADE = A * (D * E)\n",
    "print(\"(i)\")\n",
    "display(ADE)\n",
    "\n",
    "# (j)\n",
    "ADE = (A * D) * E\n",
    "print(\"(j)\")\n",
    "display(ADE)\n",
    "\n",
    "# (k)\n",
    "A3 = A ** 3\n",
    "print(\"(k)\")\n",
    "display(A3)\n",
    "\n",
    "# (g)\n",
    "G4 = G ** 4\n",
    "print(\"(l)\")\n",
    "display(G4)"
   ]
  },
  {
   "cell_type": "code",
   "execution_count": 3,
   "id": "0973fbf5",
   "metadata": {
    "tags": [
     "remove-cell"
    ]
   },
   "outputs": [
    {
     "name": "stdout",
     "output_type": "stream",
     "text": [
      "(a) det(A) = 14\n",
      "(b) |B| = 15\n",
      "(c) det(3A) = 126\n",
      "(d) det(G) = -14\n",
      "(e)\n"
     ]
    },
    {
     "data": {
      "text/latex": [
       "$\\displaystyle \\left[\\begin{matrix}5 & 0\\\\1 & 3\\end{matrix}\\right]$"
      ],
      "text/plain": [
       "Matrix([\n",
       "[5, 0],\n",
       "[1, 3]])"
      ]
     },
     "metadata": {},
     "output_type": "display_data"
    },
    {
     "name": "stdout",
     "output_type": "stream",
     "text": [
      "(f)\n"
     ]
    },
    {
     "data": {
      "text/latex": [
       "$\\displaystyle \\left[\\begin{matrix}2 & -3 & -2\\\\-24 & 2 & 7\\\\-19 & 3 & 2\\end{matrix}\\right]$"
      ],
      "text/plain": [
       "Matrix([\n",
       "[  2, -3, -2],\n",
       "[-24,  2,  7],\n",
       "[-19,  3,  2]])"
      ]
     },
     "metadata": {},
     "output_type": "display_data"
    },
    {
     "name": "stdout",
     "output_type": "stream",
     "text": [
      "(g) \n"
     ]
    },
    {
     "data": {
      "text/latex": [
       "$\\displaystyle \\left[\\begin{matrix}\\frac{1}{7} & \\frac{3}{14}\\\\- \\frac{2}{7} & \\frac{1}{14}\\end{matrix}\\right]$"
      ],
      "text/plain": [
       "Matrix([\n",
       "[ 1/7, 3/14],\n",
       "[-2/7, 1/14]])"
      ]
     },
     "metadata": {},
     "output_type": "display_data"
    },
    {
     "name": "stdout",
     "output_type": "stream",
     "text": [
      "(h)\n"
     ]
    },
    {
     "data": {
      "text/latex": [
       "$\\displaystyle \\left[\\begin{matrix}\\frac{1}{3} & 0\\\\\\frac{1}{15} & \\frac{1}{5}\\end{matrix}\\right]$"
      ],
      "text/plain": [
       "Matrix([\n",
       "[ 1/3,   0],\n",
       "[1/15, 1/5]])"
      ]
     },
     "metadata": {},
     "output_type": "display_data"
    },
    {
     "name": "stdout",
     "output_type": "stream",
     "text": [
      "(i)\n"
     ]
    },
    {
     "data": {
      "text/latex": [
       "$\\displaystyle \\left[\\begin{matrix}- \\frac{3}{7} & - \\frac{19}{14} & \\frac{9}{7}\\\\- \\frac{1}{7} & - \\frac{2}{7} & \\frac{3}{7}\\\\1 & 2 & -2\\end{matrix}\\right]$"
      ],
      "text/plain": [
       "Matrix([\n",
       "[-3/7, -19/14, 9/7],\n",
       "[-1/7,   -2/7, 3/7],\n",
       "[   1,      2,  -2]])"
      ]
     },
     "metadata": {},
     "output_type": "display_data"
    },
    {
     "name": "stdout",
     "output_type": "stream",
     "text": [
      "(j)\n"
     ]
    },
    {
     "data": {
      "text/latex": [
       "$\\displaystyle \\left[\\begin{matrix}\\frac{1}{21} & \\frac{1}{14}\\\\- \\frac{1}{21} & \\frac{1}{35}\\end{matrix}\\right]$"
      ],
      "text/plain": [
       "Matrix([\n",
       "[ 1/21, 1/14],\n",
       "[-1/21, 1/35]])"
      ]
     },
     "metadata": {},
     "output_type": "display_data"
    },
    {
     "name": "stdout",
     "output_type": "stream",
     "text": [
      "(k)\n"
     ]
    },
    {
     "data": {
      "text/latex": [
       "$\\displaystyle \\left[\\begin{matrix}\\frac{1}{21} & \\frac{1}{14}\\\\- \\frac{1}{21} & \\frac{1}{35}\\end{matrix}\\right]$"
      ],
      "text/plain": [
       "Matrix([\n",
       "[ 1/21, 1/14],\n",
       "[-1/21, 1/35]])"
      ]
     },
     "metadata": {},
     "output_type": "display_data"
    },
    {
     "name": "stdout",
     "output_type": "stream",
     "text": [
      "(l)\n"
     ]
    },
    {
     "data": {
      "text/latex": [
       "$\\displaystyle \\left[\\begin{matrix}\\frac{5}{9} & - \\frac{17}{9}\\\\\\frac{2}{9} & - \\frac{5}{9}\\end{matrix}\\right]$"
      ],
      "text/plain": [
       "Matrix([\n",
       "[5/9, -17/9],\n",
       "[2/9,  -5/9]])"
      ]
     },
     "metadata": {},
     "output_type": "display_data"
    }
   ],
   "source": [
    "# Exercise 1.6\n",
    "# (a)\n",
    "detA = A.det()\n",
    "print(f\"(a) det(A) = {detA}\")\n",
    "\n",
    "# (b)\n",
    "detB = B.det()\n",
    "print(f\"(b) |B| = {detB}\")\n",
    "\n",
    "# (c)\n",
    "det3A = (3 * A).det()\n",
    "print(f\"(c) det(3A) = {det3A}\")\n",
    "\n",
    "# (d)\n",
    "detG = G.det()\n",
    "print(f\"(d) det(G) = {detG}\")\n",
    "\n",
    "# (e)\n",
    "adjB = B.adjugate()\n",
    "print(\"(e)\")\n",
    "display(adjB)\n",
    "\n",
    "# (f)\n",
    "adjH = H.adjugate()\n",
    "print(\"(f)\")\n",
    "display(adjH)\n",
    "\n",
    "# (g)\n",
    "invA = A.inv()\n",
    "print(\"(g) \")\n",
    "display(invA)\n",
    "\n",
    "# (h)\n",
    "invB = B.inv()\n",
    "print(\"(h)\")\n",
    "display(invB)\n",
    "\n",
    "# (i)\n",
    "invG = G.inv()\n",
    "print(\"(i)\")\n",
    "display(invG)\n",
    "\n",
    "# (j)\n",
    "invAB = (A * B).inv()\n",
    "print(\"(j)\")\n",
    "display(invAB)\n",
    "\n",
    "# (k)\n",
    "invBinvA = B.inv() * A.inv()\n",
    "print(\"(k)\")\n",
    "display(invBinvA)\n",
    "\n",
    "# (l)\n",
    "invDE = (D * E).inv()\n",
    "print(\"(l)\")\n",
    "display(invDE)"
   ]
  }
 ],
 "metadata": {
  "celltoolbar": "Tags",
  "kernelspec": {
   "display_name": "Python 3",
   "language": "python",
   "name": "python3"
  },
  "language_info": {
   "codemirror_mode": {
    "name": "ipython",
    "version": 3
   },
   "file_extension": ".py",
   "mimetype": "text/x-python",
   "name": "python",
   "nbconvert_exporter": "python",
   "pygments_lexer": "ipython3",
   "version": "3.8.3"
  }
 },
 "nbformat": 4,
 "nbformat_minor": 5
}