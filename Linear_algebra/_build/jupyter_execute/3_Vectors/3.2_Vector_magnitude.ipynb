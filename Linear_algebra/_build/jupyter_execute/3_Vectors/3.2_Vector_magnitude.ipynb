{
 "cells": [
  {
   "cell_type": "markdown",
   "id": "a59fd851",
   "metadata": {},
   "source": [
    "(vector-magnitude-section)=\n",
    "# Vector magnitude\n",
    "\n",
    "The **magnitude** of a vector $\\overrightarrow{AB}$ is the distance between the two points $A$ and $B$ which we can calculate using an extension of Pythagoras' theorem.\n",
    "\n",
    "::::{admonition} Definition: Vector magnitude\n",
    ":class: note\n",
    ":name: magnitude-definition\n",
    "\n",
    "The **magnitude** of a vector $\\mathbf{a} = (a_1, a_2, \\ldots, a_n)$ denoted by $|\\mathbf{a}|$ is calculated using\n",
    "\n",
    ":::{math}\n",
    ":label: magnitude-equation\n",
    "|\\mathbf{a}| = \\sqrt{\\sum_{i=1}^n a_i^2} = \\sqrt{a_1^2 + a_2^2 + \\cdots + a_n^2}.\n",
    "\n",
    ":::\n",
    "::::\n",
    "\n",
    "Vector magnitude is also known as the [**Euclidean norm**](https://en.wikipedia.org/wiki/Norm_(mathematics)). Note that $|\\mathbf{a}|=0$ if and only if $\\mathbf{a}=(0, 0, \\ldots, 0)$.\n",
    "\n",
    ":::::{admonition} Example 3.2\n",
    ":class: seealso\n",
    ":name: magitude-example\n",
    "\n",
    "Calculate the magnitudes of the following vectors\n",
    "\n",
    "(a) &emsp; $\\mathbf{u} = \\begin{pmatrix} 1 \\\\ 2 \\\\ 3 \\end{pmatrix}$\n",
    "&emsp; &emsp; (b) &emsp; $\\mathbf{v} = \\begin{pmatrix} 5 \\\\ -12 \\\\ 0 \\end{pmatrix}$\n",
    "&emsp; &emsp; (c) &emsp; $\\mathbf{w} = \\begin{pmatrix} 1 \\\\ 0 \\\\ 1 \\end{pmatrix}$\n",
    "\n",
    "::::{dropdown} Solution\n",
    "(a) &emsp; $|\\mathbf{u}| = \\sqrt{1^2 + 2^2 + 3^2} = \\sqrt{1+4+9} = \\sqrt{14}$;\n",
    "\n",
    "(b) &emsp; $|\\mathbf{v}| = \\sqrt{5^2 + (-12)^2 + 0^2} = \\sqrt{25+144+0} = \\sqrt{169} = 13$;\n",
    "\n",
    "(c) &emsp; $|\\mathbf{w}| = \\sqrt{1^2 + 0^2 + 1^2} = \\sqrt{1+0+1} = \\sqrt{2}$.\n",
    "::::\n",
    "\n",
    ":::::\n",
    "\n",
    "## Unit vectors\n",
    "\n",
    "For every non-zero vector $\\mathbf{a}$ there exist a unique **unit vector** which is a vector in the same direction as $\\mathbf{a}$ and whose magnitude is 1.\n",
    "\n",
    "::::{admonition} Definition: Unit vectors\n",
    ":class: note\n",
    ":name: unit-vector-definition\n",
    "\n",
    "A unit vector is a vector with a magnitude of 1.\n",
    "::::\n",
    "\n",
    ":::::{admonition} Proposition: Normalising a vector\n",
    ":class: important\n",
    ":name: normalising-a-vector-proposition\n",
    "\n",
    "Any non-zero vector can be scaled to transform it into a unit vector by dividing all its coordinates by its magnitude\n",
    "\n",
    ":::{math}\n",
    ":label: normalising-a-vector-equation\n",
    "\n",
    "\\hat{\\mathbf{a}} = \\frac{\\mathbf{a}}{|\\mathbf{a}|}.\n",
    ":::\n",
    "\n",
    "This process is called **normalising a vector**. Unit vectors are denoted with a caret above the vector name, i.e., $\\hat{\\mathbf{a}}$ which is read as ``$\\mathbf{a}$ hat''.\n",
    "\n",
    ":::::\n",
    "\n",
    "**Proof**\n",
    "\n",
    "*Let $\\mathbf{a}$ be a non-zero vector*\n",
    "\n",
    "\\begin{align*}\n",
    "    \\left|\\frac{1}{|\\mathbf{a}|}\\mathbf{a}\\right| &= \\left|\\frac{1}{|\\mathbf{a}|}\\right| |\\mathbf{a}| \\\\\n",
    "    &= \\frac{1}{|\\mathbf{a}|} |\\mathbf{a}| \\qquad \\text{(since $|\\mathbf{a}|>0$)}\\\\\n",
    "    &= 1.\n",
    "\\end{align*}\n",
    "\n",
    "<div style=\"text-align: right\"> &#9633; </div>\n",
    "\n",
    ":::::{admonition} Example 3.3\n",
    ":class: seealso\n",
    ":name: normalising-a-vector-example\n",
    "\n",
    "Find the unit vector parallel to the following:\n",
    "\n",
    "(a) &emsp; $\\mathbf{u} = \\begin{pmatrix} 1 \\\\ 2 \\\\ 3 \\end{pmatrix}$ &emsp; &emsp; \n",
    "(b) &emsp; $\\mathbf{v} = \\begin{pmatrix} 5 \\\\ -12 \\\\ 0 \\end{pmatrix}$ &emsp; &emsp;\n",
    "(c) &emsp; $\\mathbf{w} = \\begin{pmatrix} 1 \\\\ 0 \\\\ 1 \\end{pmatrix}$\n",
    "\n",
    "::::{dropdown} Solution\n",
    "(a) &emsp; $\\hat{\\mathbf{u}} = \\dfrac{\\mathbf{u}}{|\\mathbf{u}|} = \\dfrac{1}{\\sqrt{14}} \\begin{pmatrix} 1 \\\\ 2 \\\\ 3 \\end{pmatrix} \\begin{pmatrix} \\frac{1}{\\sqrt{14}} \\\\ \\frac{2}{\\sqrt{14}} \\\\ \\frac{3}{\\sqrt{14}} \\end{pmatrix}$\n",
    "\n",
    "(b) &emsp; $\\hat{\\mathbf{v}} = \\dfrac{\\mathbf{v}}{|\\mathbf{v}|} = \\dfrac{1}{13} \\begin{pmatrix} 5 \\\\ -12 \\\\ 0 \\end{pmatrix} = \\begin{pmatrix} \\frac{5}{13} \\\\ -\\frac{12}{13} \\\\ 0 \\end{pmatrix}$\n",
    "\n",
    "(c) &emsp; $\\hat{\\mathbf{w}} = \\dfrac{\\mathbf{w}}{|\\mathbf{w}|} = \\dfrac{1}{\\sqrt{2}} \\begin{pmatrix} 1 \\\\ 0 \\\\ 1 \\end{pmatrix} = \\begin{pmatrix} \\frac{1}{\\sqrt{2}} \\\\ 0 \\\\ \\frac{1}{\\sqrt{2}} \\end{pmatrix}$\n",
    "\n",
    "::::\n",
    ":::::\n",
    "\n",
    "## Python code\n",
    "\n",
    "The Sympy command for calculating the magnitude of a vector `v` is `v.norm()`. The code below calculates the solutions to [example 1.3](normalising-a-vector-example)."
   ]
  },
  {
   "cell_type": "code",
   "execution_count": 1,
   "id": "786a83e6",
   "metadata": {},
   "outputs": [
    {
     "name": "stdout",
     "output_type": "stream",
     "text": [
      "(i)\n"
     ]
    },
    {
     "data": {
      "text/latex": [
       "$\\displaystyle \\left[\\begin{matrix}\\frac{\\sqrt{14}}{14}\\\\\\frac{\\sqrt{14}}{7}\\\\\\frac{3 \\sqrt{14}}{14}\\end{matrix}\\right]$"
      ],
      "text/plain": [
       "Matrix([\n",
       "[  sqrt(14)/14],\n",
       "[   sqrt(14)/7],\n",
       "[3*sqrt(14)/14]])"
      ]
     },
     "metadata": {},
     "output_type": "display_data"
    },
    {
     "name": "stdout",
     "output_type": "stream",
     "text": [
      "(ii)\n"
     ]
    },
    {
     "data": {
      "text/latex": [
       "$\\displaystyle \\left[\\begin{matrix}\\frac{5}{13}\\\\- \\frac{12}{13}\\\\0\\end{matrix}\\right]$"
      ],
      "text/plain": [
       "Matrix([\n",
       "[  5/13],\n",
       "[-12/13],\n",
       "[     0]])"
      ]
     },
     "metadata": {},
     "output_type": "display_data"
    },
    {
     "name": "stdout",
     "output_type": "stream",
     "text": [
      "(iii)\n"
     ]
    },
    {
     "data": {
      "text/latex": [
       "$\\displaystyle \\left[\\begin{matrix}\\frac{\\sqrt{2}}{2}\\\\0\\\\\\frac{\\sqrt{2}}{2}\\end{matrix}\\right]$"
      ],
      "text/plain": [
       "Matrix([\n",
       "[sqrt(2)/2],\n",
       "[        0],\n",
       "[sqrt(2)/2]])"
      ]
     },
     "metadata": {},
     "output_type": "display_data"
    }
   ],
   "source": [
    "from sympy import *\n",
    "\n",
    "# (i)\n",
    "u = Matrix([1, 2, 3])\n",
    "print(\"(i)\")\n",
    "display(u / u.norm())\n",
    "\n",
    "# (ii)\n",
    "v = Matrix([5, -12, 0])\n",
    "print(\"(ii)\")\n",
    "display(v / v.norm())\n",
    "\n",
    "# (iii)\n",
    "w = Matrix([1, 0, 1])\n",
    "print(\"(iii)\")\n",
    "display(w / w.norm())"
   ]
  }
 ],
 "metadata": {
  "kernelspec": {
   "display_name": "Python 3",
   "language": "python",
   "name": "python3"
  },
  "language_info": {
   "codemirror_mode": {
    "name": "ipython",
    "version": 3
   },
   "file_extension": ".py",
   "mimetype": "text/x-python",
   "name": "python",
   "nbconvert_exporter": "python",
   "pygments_lexer": "ipython3",
   "version": "3.8.3"
  }
 },
 "nbformat": 4,
 "nbformat_minor": 5
}