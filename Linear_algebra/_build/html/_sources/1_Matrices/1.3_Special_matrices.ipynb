{
 "cells": [
  {
   "cell_type": "markdown",
   "id": "c0db4fa3",
   "metadata": {},
   "source": [
    "# Special matrices\n",
    "\n",
    "## Diagonal matrix\n",
    "\n",
    "::::{admonition} Definition: Diagonal matrix\n",
    ":class: note\n",
    ":name: diagonal-matrix-definition\n",
    "\n",
    "The **main diagonal** of an $n \\times n$ square matrix $A$ are the elements along the diagonal from the top-left element $a_{11}$ to the bottom right element $a_{nn}$. A **diagonal matrix** is a square matrix whose elements are all zero apart from those on the main diagonal, meaning $a_{ij} = 0$ for all $i\\neq j$\n",
    "\n",
    "\\begin{align*}\n",
    "    \\begin{pmatrix}\n",
    "        a_{11} & 0 & \\cdots & 0 \\\\\n",
    "        0 & a_{22} & \\ddots & \\vdots \\\\\n",
    "        \\vdots & \\ddots & \\ddots & 0 \\\\\n",
    "        0 & \\cdots & 0 & a_{nn}\n",
    "    \\end{pmatrix}.\n",
    "\\end{align*}\n",
    "::::\n",
    "\n",
    "For example\n",
    "\n",
    "\\begin{align*}\n",
    "    &\\begin{pmatrix} 1 & 0 \\\\ 0 & 1 \\end{pmatrix}, &\n",
    "    &\\begin{pmatrix} 3.7 & 0 & 0 \\\\ 0 & 12 & 0 \\\\ 0 & 0 & 2.1 \\end{pmatrix}, &\n",
    "    &\\begin{pmatrix} x & 0 & 0 \\\\ 0 & y & 0 \\\\ 0 & 0 & z \\end{pmatrix}.\n",
    "\\end{align*}\n",
    "\n",
    "## Zero matrix\n",
    "\n",
    "Similarly to $0$ being a neutral element with respect to addition of real numbers, an $m \\times n$ matrix of zeros plays the role of a neutral element for addition of matrices.\n",
    "\n",
    "::::{admonition} Definition: Zero matrix\n",
    ":class: note\n",
    ":name: zero-matrix-definition\n",
    "\n",
    "A **zero matrix** (or **null matrix**) is an $m \\times n$ matrix $\\mathbf{0}_{m \\times n} = \\mathbf{0}$ where all the entries are zero, that is $[\\mathbf{0}]_{ij} = 0$ for all $i$ and $j$\n",
    "::::\n",
    "\n",
    "For example\n",
    "\\begin{align*}\n",
    "    \\mathbf{0}_{2 \\times 2} &= \\begin{pmatrix}0 & 0 \\\\ 0 & 0 \\end{pmatrix}, &\n",
    "    \\mathbf{0}_{2 \\times 3} &= \\begin{pmatrix} 0 & 0 & 0 \\\\ 0 & 0 & 0 \\end{pmatrix}, &\n",
    "    \\mathbf{0}_{3 \\times 1} &= \\begin{pmatrix}0 \\\\ 0 \\\\ 0 \\end{pmatrix}.\n",
    "\\end{align*}\n",
    "\n",
    "::::{admonition} Theorem: Addition of a zero matrix\n",
    ":class: important\n",
    ":name: zero-matrix-theorem\n",
    "\n",
    "For any $m \\times n$ matrix $A$ and $\\mathbf{0} = \\mathbf{0}_{m \\times n}$\n",
    "\n",
    "$$A + \\mathbf{0} = \\mathbf{0} + A = A.$$\n",
    " \n",
    "Thus zero matrices are **neutral elements with respect to matrix addition**.\n",
    "::::\n",
    "\n",
    "### Python code\n",
    "\n",
    "The SymPy code for generating an $m \\times n$ zero matrix is `zeros(m, n)`. The Python code below generates the zero matrices given above"
   ]
  },
  {
   "cell_type": "code",
   "execution_count": 1,
   "id": "7625a019",
   "metadata": {},
   "outputs": [
    {
     "data": {
      "text/latex": [
       "$\\displaystyle \\left[\\begin{matrix}0 & 0\\\\0 & 0\\end{matrix}\\right]$"
      ],
      "text/plain": [
       "Matrix([\n",
       "[0, 0],\n",
       "[0, 0]])"
      ]
     },
     "metadata": {},
     "output_type": "display_data"
    },
    {
     "data": {
      "text/latex": [
       "$\\displaystyle \\left[\\begin{matrix}0 & 0 & 0\\\\0 & 0 & 0\\end{matrix}\\right]$"
      ],
      "text/plain": [
       "Matrix([\n",
       "[0, 0, 0],\n",
       "[0, 0, 0]])"
      ]
     },
     "metadata": {},
     "output_type": "display_data"
    },
    {
     "data": {
      "text/latex": [
       "$\\displaystyle \\left[\\begin{matrix}0\\\\0\\\\0\\end{matrix}\\right]$"
      ],
      "text/plain": [
       "Matrix([\n",
       "[0],\n",
       "[0],\n",
       "[0]])"
      ]
     },
     "metadata": {},
     "output_type": "display_data"
    }
   ],
   "source": [
    "from sympy import *\n",
    "\n",
    "zeros_2x2 = zeros(2)\n",
    "display(zeros_2x2)\n",
    "\n",
    "zeros_2x3 = zeros(2, 3)\n",
    "display(zeros_2x3)\n",
    "\n",
    "zeros_3x1 = zeros(3, 1)\n",
    "display(zeros_3x1)"
   ]
  },
  {
   "cell_type": "markdown",
   "id": "eb43aaff",
   "metadata": {},
   "source": [
    "## The identity matrix\n",
    "\n",
    "::::{admonition} Definition: The identity matrix\n",
    ":class: note\n",
    ":name: identity-matrix-definition\n",
    "\n",
    "The **identity matrix** is denoted by $I_n$ is an $n\\times n$ diagonal matrix where the elements on the main diagonal are all 1, i.e.,\n",
    "\n",
    "\\begin{align*}\n",
    "    [I]_{ij} = \\begin{cases} 1, & i = j, \\\\ 0, & i\\neq j. \\end{cases}\n",
    "\\end{align*}\n",
    "::::\n",
    "\n",
    "For example\n",
    "\\begin{align*}\n",
    "    I_2 &= \\begin{pmatrix} 1 & 0 \\\\ 0 & 1 \\end{pmatrix}, &\n",
    "    I_3 &= \\begin{pmatrix} 1 & 0 & 0 \\\\ 0 & 1 & 0 \\\\ 0 & 0 & 1 \\end{pmatrix}, &\n",
    "    I_4 &= \\begin{pmatrix} 1 & 0 & 0 & 0 \\\\ 0 & 1 & 0 & 0 \\\\ 0 & 0 & 1 & 0 \\\\ 0 & 0 & 0 & 1 \\end{pmatrix}.\n",
    "\\end{align*}\n",
    "\n",
    "It is common to omit the subscript as it should be clear what the dimensions are from the context.\n",
    "\n",
    "::::{admonition} Theorem: Properties of the identity matrix\n",
    ":class: important\n",
    ":name: properties-of-the-identity-matrix\n",
    "\n",
    "- For any $m\\times n$ matrix $A$, $I_m A = A I_n$;\n",
    "- For any $n\\times n$ square matrix $A$, $IA=AI=A$.\n",
    "\n",
    "Thus for square matrices $I$ is an identity element with respect to matrix multiplication.\n",
    "::::\n",
    "\n",
    ":::::{admonition} Example 1.8\n",
    ":class: seealso\n",
    ":name: identity-matrix-example\n",
    "\n",
    "Given the matrices $A = \\begin{pmatrix} 1 & 0 \\\\ -2 & 3 \\end{pmatrix}$ and $B = \\begin{pmatrix} 1 & 2 \\\\ 4 & 3 \\\\ -2 & 1 \\end{pmatrix}$ evaluate:\n",
    "\n",
    "::::{grid}\n",
    "\n",
    ":::{grid-item}\n",
    ":columns: 2\n",
    "(i) &emsp; $IA$\n",
    ":::\n",
    "\n",
    ":::{grid-item}\n",
    ":columns: 2\n",
    "(ii) &emsp; $AI$\n",
    ":::\n",
    "\n",
    ":::{grid-item}\n",
    ":columns: 2\n",
    "(iii) &emsp; $IB$\n",
    ":::\n",
    "\n",
    "::::\n",
    "\n",
    "::::{dropdown} Solution\n",
    "\n",
    "(i) \n",
    "\\begin{align*}\n",
    "    IA &= \\begin{pmatrix} 1 & 0 \\\\ 0 & 1 \\end{pmatrix} \\begin{pmatrix} 1 & 0 \\\\ -2 & 3 \\end{pmatrix} \n",
    "    = \\begin{pmatrix} 1 + 0 & 0  + 0 \\\\ 0 - 2 & 0 + 3 \\end{pmatrix} \\\\\n",
    "    &= \\begin{pmatrix} 1 & 0 \\\\ -2 & 3 \\end{pmatrix}\n",
    "\\end{align*}\n",
    "        \n",
    "(ii) \n",
    "\\begin{align*}\n",
    "    AI &= \\begin{pmatrix} 1 & 0 \\\\ -2 & 3 \\end{pmatrix} \\begin{pmatrix} 1 & 0 \\\\ 0 & 1 \\end{pmatrix}\n",
    "    = \\begin{pmatrix} 1 + 0 & 0 + 0 \\\\ -2 + 0 & 0 + 3 \\end{pmatrix} \\\\\n",
    "    &= \\begin{pmatrix} 1 & 0 \\\\ -2 & 3 \\end{pmatrix}\n",
    "\\end{align*}\n",
    "        \n",
    "(iii)\n",
    "\\begin{align*}\n",
    "    IB &= \\begin{pmatrix} 1 & 0 & 0 \\\\ 0 & 1 & 0 \\\\ 0 & 0 & 1 \\end{pmatrix} \\begin{pmatrix} 1 & 2 \\\\ 4 & 3 \\\\ -2 & 1 \\end{pmatrix} \n",
    "    = \\begin{pmatrix} 1 + 0 + 0 & 2 + 0 + 0 \\\\ 0 + 4 + 0 & 0 + 3 + 0 \\\\ 0 + 0 - 2 & 0 + 0 + 1 \\end{pmatrix} \\\\\n",
    "    &= \\begin{pmatrix} 1 & 2 \\\\ 4 & 3 \\\\ -2 & 1 \\end{pmatrix}\n",
    "\\end{align*}\n",
    "::::\n",
    ":::::\n",
    "\n",
    "### Python code\n",
    "\n",
    "The Python code for generating an $n \\times n$ identity matrix is `eye(n)`. The code below calculates the solution to [example 1.8](identity-matrix-example)."
   ]
  },
  {
   "cell_type": "code",
   "execution_count": 8,
   "id": "9a1be450",
   "metadata": {},
   "outputs": [
    {
     "name": "stdout",
     "output_type": "stream",
     "text": [
      "(i) IA =\n"
     ]
    },
    {
     "data": {
      "text/latex": [
       "$\\displaystyle \\left[\\begin{matrix}1 & 0\\\\-2 & 3\\end{matrix}\\right]$"
      ],
      "text/plain": [
       "Matrix([\n",
       "[ 1, 0],\n",
       "[-2, 3]])"
      ]
     },
     "metadata": {},
     "output_type": "display_data"
    },
    {
     "name": "stdout",
     "output_type": "stream",
     "text": [
      "(ii) AI =\n"
     ]
    },
    {
     "data": {
      "text/latex": [
       "$\\displaystyle \\left[\\begin{matrix}1 & 0\\\\-2 & 3\\end{matrix}\\right]$"
      ],
      "text/plain": [
       "Matrix([\n",
       "[ 1, 0],\n",
       "[-2, 3]])"
      ]
     },
     "metadata": {},
     "output_type": "display_data"
    },
    {
     "name": "stdout",
     "output_type": "stream",
     "text": [
      "(iii) IB =\n"
     ]
    },
    {
     "data": {
      "text/latex": [
       "$\\displaystyle \\left[\\begin{matrix}1 & 2\\\\4 & 3\\\\-2 & 1\\end{matrix}\\right]$"
      ],
      "text/plain": [
       "Matrix([\n",
       "[ 1, 2],\n",
       "[ 4, 3],\n",
       "[-2, 1]])"
      ]
     },
     "metadata": {},
     "output_type": "display_data"
    }
   ],
   "source": [
    "from sympy import *\n",
    "\n",
    "A = Matrix([[1, 0], [-2, 3]])\n",
    "B = Matrix([[1, 2], [4, 3], [-2, 1]])\n",
    "\n",
    "# (i)\n",
    "IA = eye(2) * A\n",
    "print(\"(i) IA =\")\n",
    "display(IA)\n",
    "\n",
    "# (ii) \n",
    "AI = A * eye(2)\n",
    "print(\"(ii) AI =\")\n",
    "display(AI)\n",
    "\n",
    "# (iii)\n",
    "IB = eye(3) * B\n",
    "print(\"(iii) IB =\")\n",
    "display(IB)"
   ]
  },
  {
   "cell_type": "markdown",
   "id": "1f190fba",
   "metadata": {},
   "source": [
    "## Symmetric matrix\n",
    "\n",
    "::::{admonition} Definition: Symmetric matrix\n",
    ":class: note\n",
    ":name: symmetric-matrix-definition\n",
    "\n",
    "A **symmetric matrix** is a square matrix $A$ where $A=A^\\mathrm{T}$, i.e.,\n",
    "\n",
    "$$[A]_{ij} = [A]_{ji},$$ \n",
    "\n",
    "for all $i$ and $j$. It is called a symmetric matrix because the values of the elements are 'symmetric' about the main diagonal\n",
    "\n",
    "\\begin{align*}\n",
    "    \\begin{pmatrix}\n",
    "        a_{11} & a_{12} & \\cdots & a_{1n} \\\\\n",
    "        a_{12} & a_{11} & \\cdots & a_{2n} \\\\\n",
    "        \\vdots & \\vdots & \\ddots & \\vdots \\\\\n",
    "        a_{1n} & a_{2n} & \\cdots & a_{nn}\n",
    "    \\end{pmatrix}\n",
    "\\end{align*}\n",
    "::::\n",
    "\n",
    ":::::{admonition} Example 1.9\n",
    ":class: seealso\n",
    ":name: symmetric-matrix-example\n",
    "\n",
    "Which of the following matrices are symmetric matrices?\n",
    "    \n",
    "\n",
    "::::{grid}\n",
    ":gutter: 2\n",
    "\n",
    ":::{grid-item}\n",
    ":columns: 6\n",
    "(i) &emsp; $A=\\begin{pmatrix} 1 & 2 \\\\ 2 & 1 \\end{pmatrix}$\n",
    ":::\n",
    "\n",
    ":::{grid-item}\n",
    ":columns: 6\n",
    "(ii) &emsp; $B=\\begin{pmatrix} 2 & 0 & -3 \\\\ 0 & 5 & 7 \\\\ -3 & 7 & 1 \\end{pmatrix}$\n",
    ":::\n",
    "\n",
    ":::{grid-item}\n",
    ":columns: 6\n",
    "(iii) &emsp; $C=\\begin{pmatrix} 2 & 4 \\\\ 3 & 2 \\end{pmatrix}$\n",
    ":::\n",
    "\n",
    "::::\n",
    "\n",
    "::::{dropdown} Solution\n",
    "\n",
    "(i) &emsp; $A=\\begin{pmatrix} 1 & 2 \\\\ 2 & 1 \\end{pmatrix}$ is a symmetric matrix since \n",
    "\n",
    "\\begin{align*}\n",
    "    \\begin{pmatrix} 1 & 2 \\\\ 2 & 1 \\end{pmatrix}^\\mathrm{T} = \\begin{pmatrix} 1 & 2 \\\\ 2 & 1 \\end{pmatrix} = A.\n",
    "\\end{align*}\n",
    "        \n",
    "(ii) &emsp; $B = \\begin{pmatrix} 2 & 0 & -3 \\\\ 0 & 5 & 7 \\\\ -3 & 7 & 1 \\end{pmatrix}$ is a symmetric matrix since \n",
    "\n",
    "\\begin{align*}\n",
    "    \\begin{pmatrix} 2 & 0 & -3 \\\\ 0 & 5 & 7 \\\\ -3 & 7 & 1 \\end{pmatrix}^\\mathrm{T} = \\begin{pmatrix} 2 & 0 & -3 \\\\ 0 & 5 & 7 \\\\ -3 & 7 & 1 \\end{pmatrix} = B.\n",
    "\\end{align*}\n",
    "        \n",
    "(iii) &emsp; $C = \\begin{pmatrix} 2 & 4 \\\\ 3 & 2 \\end{pmatrix}$ is not a symmetric matrix since $[C]_{12} \\neq [C]_{21}$. \n",
    "\n",
    "::::\n",
    ":::::\n",
    "\n",
    "### Python code\n",
    "\n",
    "The code below calculates the solution to [example 1.9](symmetric-matrix-example)."
   ]
  },
  {
   "cell_type": "code",
   "execution_count": 7,
   "id": "171d31e5",
   "metadata": {},
   "outputs": [
    {
     "name": "stdout",
     "output_type": "stream",
     "text": [
      "(i) Symmetric: True\n",
      "(ii) Symmetric: True\n",
      "(iii) Symmetric: False\n"
     ]
    }
   ],
   "source": [
    "# (i)\n",
    "A = Matrix([[1, 2], [2, 1]])\n",
    "print(f\"(i) Symmetric: {A == A.T}\")\n",
    "\n",
    "# (ii)\n",
    "B = Matrix([[2, 0, -3], [0, 5, 7], [-3, 7, 1]])\n",
    "print(f\"(ii) Symmetric: {B == B.T}\")\n",
    "\n",
    "# (iii)\n",
    "A = Matrix([[2, 4], [3, 2]])\n",
    "print(f\"(iii) Symmetric: {A == A.T}\")"
   ]
  }
 ],
 "metadata": {
  "kernelspec": {
   "display_name": "Python 3",
   "language": "python",
   "name": "python3"
  },
  "language_info": {
   "codemirror_mode": {
    "name": "ipython",
    "version": 3
   },
   "file_extension": ".py",
   "mimetype": "text/x-python",
   "name": "python",
   "nbconvert_exporter": "python",
   "pygments_lexer": "ipython3",
   "version": "3.8.3"
  }
 },
 "nbformat": 4,
 "nbformat_minor": 5
}
