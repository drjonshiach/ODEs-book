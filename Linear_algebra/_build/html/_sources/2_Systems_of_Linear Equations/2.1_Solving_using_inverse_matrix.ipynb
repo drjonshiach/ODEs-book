{
 "cells": [
  {
   "cell_type": "markdown",
   "id": "71ac529f",
   "metadata": {},
   "source": [
    "# Solving systems of linear equations using the inverse matrix\n",
    "    \n",
    "If we have a system of linear equations of the form $A\\mathbf{x}=\\mathbf{b}$ where $A$ is a non-singular (invertible) square matrix then use of matrix algebra shows that\n",
    "\n",
    "\\begin{align*}\n",
    "    A\\mathbf{x} &= \\mathbf{b}\\\\\n",
    "    A^{-1}A \\mathbf{x} &= A^{-1}\\mathbf{b}\\\\\n",
    "    \\mathbf{x} &= A^{-1}\\mathbf{b} \\qquad \\text{(since $I = A^{-1}A$)}.\n",
    "\\end{align*}\n",
    "\n",
    "::::{admonition} Theorem: Solution of a linear system of equations using the inverse matrix\n",
    ":class: important\n",
    ":name: solution-using-inverse-matrix-theorem\n",
    "\n",
    "The solution to a system of linear equations $A\\mathbf{x} = \\mathbf{b}$ can be calculated using $\\mathbf{x} = A^{-1}\\mathbf{b}$. \n",
    "::::\n",
    "\n",
    "Consider the system of linear equations from [example 2.1](system-of-linear-equations-matrix-form-example). \n",
    "\n",
    "\\begin{align*}\n",
    "    \\begin{pmatrix} \n",
    "        2 & 1 \\\\ \n",
    "        4 & 3 \n",
    "    \\end{pmatrix}\n",
    "    \\begin{pmatrix}\n",
    "        x_1 \\\\ x_2 \n",
    "    \\end{pmatrix} = \n",
    "    \\begin{pmatrix} \n",
    "        4 \\\\ 10 \n",
    "    \\end{pmatrix}.\n",
    "\\end{align*}\n",
    "\n",
    "The inverse of the coefficient matrix can be easily calculated using the [adjoint-determinant formula](adjoint-determinant-formula-definition) to give\n",
    "\n",
    "\\begin{align*}\n",
    "    A^{-1} = \\begin{pmatrix} \\frac{3}{2} & -\\frac{1}{2} \\\\ -2 & 1 \\end{pmatrix}.\n",
    "\\end{align*}\n",
    "\n",
    "Using $\\mathbf{x} = A^{-1}\\mathbf{b}$ the solution is\n",
    "\n",
    "\\begin{align*}\n",
    "    \\mathbf{x} = \n",
    "    \\begin{pmatrix} \\frac{3}{2} & -\\frac{1}{2} \\\\ -2 & 1 \\end{pmatrix}\n",
    "    \\begin{pmatrix} 4 \\\\ 10 \\end{pmatrix} =\n",
    "    \\begin{pmatrix} 1 \\\\ 2 \\end{pmatrix},\n",
    "\\end{align*}\n",
    "\n",
    "so $x_1 = 1$ and $x_2 = 2$ (which we saw when we used [algebra to solve this system](solving-linear-systems-using-algebra-section)). We can check whether this is the correct solution by substituting $\\mathbf{x}$ into $A\\mathbf{x}= \\mathbf{b}$\n",
    "\n",
    "\\begin{align*}\n",
    "    A \\mathbf{x} = \\begin{pmatrix} 2 & 1 \\\\ 4 & 3 \\end{pmatrix}\n",
    "    \\begin{pmatrix} 1 \\\\ 2 \\end{pmatrix} =\n",
    "    \\begin{pmatrix} 4 \\\\ 10 \\end{pmatrix} = \\mathbf{b}.\n",
    "\\end{align*}\n",
    "\n",
    ":::::{admonition} Example 2.2\n",
    ":class: seealso\n",
    ":name: solution-by-inverse-example\n",
    "\n",
    "Solve the following systems of linear equations using the inverse of the coefficient matrix:\n",
    "\n",
    "::::{grid}\n",
    "\n",
    ":::{grid-item}\n",
    "(i) &emsp; $\\begin{array}{rl}\n",
    "        x_1 - 2x_2 &= 11, \\\\\n",
    "        2x_1 + 4x_2 &= -18.\n",
    "    \\end{array}$\n",
    ":::\n",
    "\n",
    ":::{grid-item}\n",
    "(ii) &emsp; $\\begin{array}{rl}\n",
    "        x_1 - 2x_2 + 3x_3 &= -7, \\\\\n",
    "        2x_2 - 4x_3 &= 8, \\\\\n",
    "        3x_1 + x_2 - 4x_3 &= 7.\n",
    "    \\end{array}$\n",
    ":::\n",
    "\n",
    "::::\n",
    "\n",
    "::::{dropdown} Solution\n",
    "\n",
    "(i) $A = \\begin{pmatrix} 1 & -2 \\\\ 2 & 4 \\end{pmatrix}$ and $\\mathbf{b} = \\begin{pmatrix} 11 \\\\ -18 \\end{pmatrix}$\n",
    "\\begin{align*}\n",
    "    \\det\\begin{pmatrix} 1 & -2 \\\\ 2 & 4 \\end{pmatrix} &= 8, \\\\\n",
    "    \\operatorname{adj}\\begin{pmatrix} 1 & -2 \\\\ 2 & 4 \\end{pmatrix} &= \n",
    "    \\begin{pmatrix} 4 & -2 \\\\ 2 & 1 \\end{pmatrix}^T = \n",
    "    \\begin{pmatrix} 4 & 2 \\\\ -2 & 1 \\end{pmatrix},\\\\\n",
    "    \\therefore A^{-1} &= \\frac{1}{8}\\begin{pmatrix} 4 & 2 \\\\ -2 & 1 \\end{pmatrix}\n",
    "    = \\begin{pmatrix} \\frac{1}{2} & \\frac{1}{4} \\\\ -\\frac{1}{4} & \\frac{1}{8} \\end{pmatrix}, \\\\\n",
    "    \\therefore \\mathbf{x} &= \\begin{pmatrix} \\frac{1}{2} & \\frac{1}{4} \\\\ -\\frac{1}{4} & \\frac{1}{8} \\end{pmatrix}     \n",
    "    \\begin{pmatrix} 11 \\\\ -18 \\end{pmatrix} = \n",
    "    \\frac{1}{8}\\begin{pmatrix} 8 \\\\ -40 \\end{pmatrix} = \n",
    "    \\begin{pmatrix} 1 \\\\ -5 \\end{pmatrix}.\n",
    "\\end{align*}\n",
    "\n",
    "Check solution:\n",
    "\n",
    "$$A\\mathbf{x} = \\begin{pmatrix} 1 & -2 \\\\ 2 & 4 \\end{pmatrix} \\begin{pmatrix} 1 \\\\ -5 \\end{pmatrix} = \\begin{pmatrix}  11 \\\\  -18    \\end{pmatrix}  = \\mathbf{b}.$$\n",
    "\n",
    "(ii) $A = \\begin{pmatrix} 1 & -2 & 3 \\\\ 0 & 2 & -4 \\\\ 3 & 1 & -4 \\end{pmatrix}$ and $\\mathbf{b} = \\begin{pmatrix}-7 \\\\ 8 \\\\ 7 \\end{pmatrix}$\n",
    "\\begin{align*}\n",
    "    \\det \\begin{pmatrix} 1 & -2 & 3 \\\\ 0 & 2 & -4 \\\\ 3 & 1 & -4 \\end{pmatrix} &= \n",
    "    \\begin{vmatrix} 2 & -4 \\\\ 1 & -4 \\end{vmatrix} + \n",
    "    3 \\begin{vmatrix} -2 & 3 \\\\ 2 & -4 \\end{vmatrix} = -4 + 3(2) = 2, \\\\\n",
    "    \\operatorname{adj} \\begin{pmatrix} 1 & -2 & 3 \\\\ 0 & 2 & -4 \\\\ 3 & 1 & -4 \\end{pmatrix}\n",
    "    &= \\begin{pmatrix} -4 & -12 & -6 \\\\ -5 & -13 & -7 \\\\ 2 & 4 & 2 \\end{pmatrix}^T \n",
    "    = \\begin{pmatrix} -4 & -5 & 2 \\\\ -12 & -13 & 4 \\\\ -6 & -7 & 2 \\end{pmatrix}, \\\\\n",
    "    \\therefore A^{-1} &= \\frac{1}{2}\\begin{pmatrix} -4 & -5 & 2 \\\\ -12 & -13 & 4 \\\\ -6 & -7 & 2 \\end{pmatrix} \n",
    "    = \\begin{pmatrix} -2 & -\\frac{5}{2} & 1 \\\\ -6 & -\\frac{13}{2} & 2 \\\\ -3 & -\\frac{7}{2} & 1 \\end{pmatrix}, \\\\\n",
    "    \\therefore \\mathbf{x} &= \\begin{pmatrix} -2 & -\\frac{5}{2} & 1 \\\\ -6 & -\\frac{13}{2} & 2 \\\\ -3 & -\\frac{7}{2} & 1 \\end{pmatrix} \n",
    "    \\begin{pmatrix}-7 \\\\ 8 \\\\ 7 \\end{pmatrix}\n",
    "    = \\begin{pmatrix} 1 \\\\4 \\\\ 0 \\end{pmatrix}.\n",
    "\\end{align*}\n",
    "\n",
    "Check solution:\n",
    "\n",
    "$$A \\mathbf{x} = \\begin{pmatrix} 1 & -2 &  3 \\\\ 0 & 2 & -4 \\\\ 3 & 1 & -4 \\end{pmatrix} \\begin{pmatrix} 1 \\\\ 4 \\\\ 0 \\end{pmatrix} = \\begin{pmatrix} -7 \\\\ 8 \\\\ 7 \\end{pmatrix} = \\mathbf{b}.$$\n",
    "::::\n",
    ":::::\n",
    "\n",
    "## Python code\n",
    "\n",
    "The Python code below calculates the solution to the systems of linear equations from [example 2.2](solution-by-inverse-example)."
   ]
  },
  {
   "cell_type": "code",
   "execution_count": 10,
   "id": "81332714",
   "metadata": {},
   "outputs": [
    {
     "name": "stdout",
     "output_type": "stream",
     "text": [
      "(i) x =\n"
     ]
    },
    {
     "data": {
      "text/latex": [
       "$\\displaystyle \\left[\\begin{matrix}1\\\\-5\\end{matrix}\\right]$"
      ],
      "text/plain": [
       "Matrix([\n",
       "[ 1],\n",
       "[-5]])"
      ]
     },
     "metadata": {},
     "output_type": "display_data"
    },
    {
     "name": "stdout",
     "output_type": "stream",
     "text": [
      "(ii) x =\n"
     ]
    },
    {
     "data": {
      "text/latex": [
       "$\\displaystyle \\left[\\begin{matrix}1\\\\4\\\\0\\end{matrix}\\right]$"
      ],
      "text/plain": [
       "Matrix([\n",
       "[1],\n",
       "[4],\n",
       "[0]])"
      ]
     },
     "metadata": {},
     "output_type": "display_data"
    }
   ],
   "source": [
    "from sympy import *\n",
    "from IPython.display import Math\n",
    "\n",
    "# (i)\n",
    "A = Matrix([[1, -2], [2, 4]])\n",
    "b = Matrix([[11], [-18]])\n",
    "x = A.inv() * b\n",
    "\n",
    "print(\"(i) x =\")\n",
    "display(x)\n",
    "\n",
    "# (ii)\n",
    "A = Matrix([[1, -2, 3], [0, 2, -4], [3, 1, -4]])\n",
    "b = Matrix([[-7], [8], [7]])\n",
    "x = A.inv() * b\n",
    "\n",
    "print(\"(ii) x =\")\n",
    "display(x)"
   ]
  }
 ],
 "metadata": {
  "kernelspec": {
   "display_name": "Python 3",
   "language": "python",
   "name": "python3"
  },
  "language_info": {
   "codemirror_mode": {
    "name": "ipython",
    "version": 3
   },
   "file_extension": ".py",
   "mimetype": "text/x-python",
   "name": "python",
   "nbconvert_exporter": "python",
   "pygments_lexer": "ipython3",
   "version": "3.8.3"
  }
 },
 "nbformat": 4,
 "nbformat_minor": 5
}
