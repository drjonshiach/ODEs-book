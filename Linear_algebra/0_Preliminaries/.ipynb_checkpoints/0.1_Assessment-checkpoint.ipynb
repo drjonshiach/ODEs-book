{
 "cells": [
  {
   "cell_type": "markdown",
   "id": "b48849da",
   "metadata": {},
   "source": [
    "# Assessment\n",
    "\n",
    "The assessment for this unit takes the form of a coursework assignment and a take home examination. Each component contributes 50% of the final unit mark. You will receive a percentage mark for each assessment component and your overall mark for the unit will be calculated using\n",
    "\n",
    "\\begin{align*}\n",
    "    \\textsf{unit mark} = 0.5 \\times \\textsf{coursework mark} + 0.5 \\times \\textsf{examination mark}.\n",
    "\\end{align*}\n",
    "\n",
    "To successfully pass the unit you will need a unit mark of at least 40%. \n",
    "\n",
    "## Coursework (50%)\n",
    " \n",
    "This coursework assessment is intended to give students an opportunity to demonstrate what they have learned in the Linear Algebra and Programming Skills unit. This coursework consists of four questions, one of the questions will assess the linear algebra content and three of the questions will assess the programming skills content.\n",
    "\n",
    "### Coursework advice\n",
    "\n",
    "- Start the coursework as soon as you are able.\n",
    "- Look through the unit materials and use examples and exercises that are similar to the problems from the coursework. \n",
    "- Do your working using pen and paper before typing it up. \n",
    "- Double check your typed to ensure it doesn't contain any typos.\n",
    "- Aim to finish the coursework a week prior to the deadline to give you some time to cope with unforeseen circumstances.\n",
    "\n",
    "## Examination (50%) \n",
    "\n",
    "The examination will take place during the assessment weeks at the end of semester 1 (09/01/2023 to 16/01/2023), the exact date, time and venue to be confirmed. The examination is a 3 hour closed book examination which means you will not be permitted to take in any materials to help you in the examination. Proper preparation for the examination is essential so that you perform to the best of your ability. We will be spending a week towards the end of semester 1 consolidating the unit material and going through practice examination questions.\n",
    "\n",
    "### Exam advice\n",
    "\n",
    "- Go through the practice examination questions with the help of these notes and any other sources to help you.\n",
    "- Go back through the practice examination questions without the help of your notes.\n",
    "- Practice making your solutions easy to read (good handwriting is helpful) and presented in a clear and easy to follow manner. \n",
    "- Check through your answers to ensure you haven't made any silly errors and have answered all parts of the questions.\n",
    "- Don't rush through the questions, take your time to ensure you have provided the answers requested by the question. 3 hours will give you plenty of time to answer the questions and check through your answers."
   ]
  }
 ],
 "metadata": {
  "kernelspec": {
   "display_name": "Python 3",
   "language": "python",
   "name": "python3"
  },
  "language_info": {
   "codemirror_mode": {
    "name": "ipython",
    "version": 3
   },
   "file_extension": ".py",
   "mimetype": "text/x-python",
   "name": "python",
   "nbconvert_exporter": "python",
   "pygments_lexer": "ipython3",
   "version": "3.8.3"
  }
 },
 "nbformat": 4,
 "nbformat_minor": 5
}
