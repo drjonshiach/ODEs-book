{
 "cells": [
  {
   "cell_type": "markdown",
   "id": "1749ddb4",
   "metadata": {},
   "source": [
    "# Mathematical preliminaries\n",
    "\n",
    "It is assumed that readers are familiar with the following definitions.\n",
    "\n",
    "## Sets of numbers\n",
    "\n",
    "The following notation is used to denote the [sets of numbers](https://en.wikipedia.org/wiki/Set_(mathematics)#Special_sets_of_numbers_in_mathematics)\n",
    "\n",
    "- $\\mathbb{N}$ is the set of natural numbers: $\\mathbb{N} = \\{1, 2, \\ldots\\}$\n",
    "- $\\mathbb{Z}$ is the set of integer numbers: $\\mathbb{Z} = \\{\\ldots, 2, 1, 0, 1, 2, \\ldots \\}$\n",
    "- $\\mathbb{Q}$ is the set of rational numbers: $\\mathbb{Q} = \\left\\{ \\dfrac{a}{b} : a, b \\in \\mathbb{Z} \\right\\}$\n",
    "- $\\mathbb{R}$ is the set of real numbers: $\\mathbb{R} = \\{ -\\infty, \\ldots, \\infty\\}$\n",
    "- $\\mathbb{C}$ is the set of complex numbers: $\\mathbb{C} = \\{ a + bi : a, b \\in \\mathbb{R}, i = \\sqrt{-1} \\}$\n",
    "\n",
    "## Axioms of addition and multiplication\n",
    "\n",
    "The following nine axioms[^1] apply to addition and multiplication, denoted by $+$ and $\\cdot$ respectively, over a field $F$ (e.g., $F$ could be the set of all numbers). For every $x,y,z \\in F$:\n",
    "\n",
    "[^1]: An axiom is a rule that we assume is true for a starting point for further reasoning and arguments.\n",
    "\n",
    "- **Commutativity of addition**: $x + y = y + x$\n",
    "- **Associativity of addition**: $x + (y + z) = (x + y) + z$\n",
    "- **Additive neutral element**: there exists an element $0$ such that $x + 0 = x$\n",
    "- **Additive inverse**: there exists an element $-x$ such that $x + (-x) = 0$\n",
    "- **Commutativity of multiplication**: $x \\cdot y = y \\cdot z$\n",
    "- **Associativity of multiplication**: $x \\cdot (y \\cdot z) = (x \\cdot y) \\cdot z$\n",
    "- **Multiplicative identity**: there exists an element $1$ such that $1 \\cdot x = x$\n",
    "- **Multiplicative inverse**: there exists an element $1/x$ such that $x \\cdot \\dfrac{1}{x} = 1$\n",
    "- **Distributive law**: $x \\cdot (y + z) = x \\cdot y + x \\cdot z$\n",
    "\n",
    "Note that the multiplication operator $\\cdot$ is often omitted, i.e., $x \\cdot y = xy$.\n",
    "\n",
    "## Imaginary numbers \n",
    "\n",
    "The [**imaginary number**](https://en.wikipedia.org/wiki/Imaginary_number) is denoted by $i$ (some disciplines use $j$ to denote the imaginary number) and defined to be $i^2 = -1$. [**Complex numbers**](https://en.wikipedia.org/wiki/Complex_number) are numbers of the form $a + bi$ where $a,b\\in \\mathbb{R}$ and $a$ is called the **real part** and $b$ is called the **imaginary part**.\n",
    "\n",
    "## Summation \n",
    "\n",
    "The [sum](https://en.wikipedia.org/wiki/Summation) of $a_1, a_2, \\ldots, a_n$ is denoted using\n",
    "\\begin{align*}\n",
    "    \\sum_{i=1}^n a_i = a_1 + a_2 + \\cdots + a_n,\n",
    "\\end{align*}\n",
    "where the uppercase Greek letter sigma $\\Sigma$ denotes the summation, the subscript $i=1$ indicates that the summation begins at the element indexed $i=1$, and the superscript $n$ indicates that the summation end at the element indexed $i=n$."
   ]
  }
 ],
 "metadata": {
  "kernelspec": {
   "display_name": "Python 3",
   "language": "python",
   "name": "python3"
  },
  "language_info": {
   "codemirror_mode": {
    "name": "ipython",
    "version": 3
   },
   "file_extension": ".py",
   "mimetype": "text/x-python",
   "name": "python",
   "nbconvert_exporter": "python",
   "pygments_lexer": "ipython3",
   "version": "3.8.3"
  }
 },
 "nbformat": 4,
 "nbformat_minor": 5
}
