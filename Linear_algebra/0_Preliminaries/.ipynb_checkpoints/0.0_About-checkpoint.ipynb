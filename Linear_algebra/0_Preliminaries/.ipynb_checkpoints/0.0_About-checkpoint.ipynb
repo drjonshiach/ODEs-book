{
 "cells": [
  {
   "cell_type": "markdown",
   "id": "bf8ce221",
   "metadata": {},
   "source": [
    "# Teaching schedule\n",
    "\n",
    "The teaching schedule for linear algebra is given below.\n",
    "\n",
    "````{div} full-width\n",
    "| Week | Date (w/c) | Lecture | <div style=\"width:160px\">Tutorial</div> |\n",
    "|:----:|:----------:|:--------|:---------|\n",
    "|  1   | 03/10/2022\t| Introduction to the unit. <br> [**Matrices**](matrices-chapter) <br> [Indexing a matrix](indexing-a-matrix-section), [basic arithmetic operations](basic-arithmetic-operations-section), [matrix multiplication](matrix-multiplication-definition) | Exercises [1.1](ex1.1) to [1.5](ex1.5) |\n",
    "|  2   | 10/10/2022 | [**Matrices (cont.)**](matrices-chapter) <br> [Determinants](determinant-section), [inverse matrix](inverse-matrix-definition), [matrix algebra](matrix-algebra-section) | Exercises [1.6](ex1.6) to [1.10](ex1.10) |\n",
    "|  3   | 24/10/2022 | [**Systems of linear equations**](systems-of-linear-equations-chapter) <br> Solution using [matrix inverse](solution-using-inverse-matrix-theorem), [Cramer's rule](cramers-rule-theorem) |  |\n",
    "|  4   | 31/10/2022 | [**Systems of linear equations (cont.)**](systems-of-linear-equations-chapter) <br> [Gaussian elimination](gaussian-elimination-section) and [partial pivoting](partial-pivoting-section)|  |\n",
    "|  5   | 07/11/2022 | [**Systems of linear equations (cont.)**](systems-of-linear-equations-chapter) <br> [Gauss-Jordan elimination](gauss-jordan-elimination-section), [consistent, inconsistent and indeterminate systems](consistent-inconsistent-and-indeterminate-systems-section), [homogeneous systems](homogeneous-systems-section) | |\n",
    "|  6   | 14/11/2022 | [**Vectors**](vectors-chapter) <br> [Vectors](vectors-section), [arithmetic operations on vectors](arithmetic-operations-on-vectors-section), [vector magnitude](vector-magnitude-section), the [dot product](dot-product-section), the [cross product](cross-product-section), [linear combinations of vectors](linear-combination-of-vectors-section) | |\n",
    "|  8   | 21/11/2022 | [**Co-ordinate Geometry**](coordinate-geometry-chapter) <br> [Points](points-section), [lines](lines-section) and [planes](planes-section), vector equations of lines and planes, the [point-normal equation](point-normal-definition) of a plane, [shortest distance problems](shortest-distance-problems) |  |\n",
    "|  9   | 28/11/2022 | [**Vector Spaces**](vector-spaces-chapter) <br> [Subspaces](subspaces-section), [linear dependence](linear-dependence-section), [basis](basis-section) |  |\n",
    "| 10   | 05/12/2022 | [**Linear Transformations**](linear-transformations-chapter) <br> [Transformation matrices](transformation-matrix-section), [composite linear transformations](composite-linear-transformations-section), [rotation](rotation-section), [reflection](reflection-section), [scaling](scaling-section) and [translation](translation-section) transformations |  |\n",
    "| 11   | 12/12/2022 <td colspan=3> **Consolidation and exam preparation** <br> **Coursework deadline 9pm on 16/12/2022** |\n",
    "````"
   ]
  }
 ],
 "metadata": {
  "celltoolbar": "Tags",
  "kernelspec": {
   "display_name": "Python 3",
   "language": "python",
   "name": "python3"
  },
  "language_info": {
   "codemirror_mode": {
    "name": "ipython",
    "version": 3
   },
   "file_extension": ".py",
   "mimetype": "text/x-python",
   "name": "python",
   "nbconvert_exporter": "python",
   "pygments_lexer": "ipython3",
   "version": "3.8.3"
  }
 },
 "nbformat": 4,
 "nbformat_minor": 5
}
