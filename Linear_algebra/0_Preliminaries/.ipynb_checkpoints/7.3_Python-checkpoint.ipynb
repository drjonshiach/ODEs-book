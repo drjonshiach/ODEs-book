{
 "cells": [
  {
   "cell_type": "markdown",
   "id": "9d81dd17",
   "metadata": {},
   "source": [
    "# Python\n",
    "\n",
    "![](https://www.python.org/static/img/python-logo.png)\n",
    "\n",
    "[Python](https://www.python.org/) is a free, multipurpose programming language that can be used to calculate some of the operations and methods that are covered in this book. Whilst knowledge of Python is not necessary for the understanding of the linear algebra covered here, it is recommended that readers become familiar with Python and are able to use it to check their calculations and to perform calculations on large sets of equations which would not be practical to do it using a pen and paper. \n",
    "\n",
    "## Downloading and installing Python\n",
    "\n",
    "There are a number of ways which you can download and install Python on your own computer. One of the simplest is to install [Anaconda Navigator](https://docs.anaconda.com/) which contains Python as well as a suite of programs that can be used to write and execute Python programs. For instructions on how to download and install Anaconda Navigator on your computer click on the link relevant to your operating system below.\n",
    "\n",
    "- [Windows](https://docs.anaconda.com/anaconda/install/windows/)\n",
    "- [macOS](https://docs.anaconda.com/anaconda/install/mac-os/)\n",
    "- [Linux](https://docs.anaconda.com/anaconda/install/linux/)\n",
    "\n",
    "### Jupyter Notebooks\n",
    "\n",
    "The simplest way to write and execute Python code is to use [Jupyter Notebook](https://jupyter.org/) which is included in the Anaconda Navigator suite of programs. Jupyter notebooks run in a web browser and consist of **code** cells which can be used to enter Python code and **markdown** cells that can be used to write text. Upon opening a new notebook you are presented with an empty code cell which you can enter Python code and execute it by pressing `ctrl` and `enter` at the same time. \n",
    "\n",
    "## Arithmetic operations\n",
    "\n",
    "Python can perform calculations on numbers using the commands listed in the table below.\n",
    "\n",
    "| Operation | Python command | Example |\n",
    "|:--|:--:|:--:|\n",
    "| addition | `+` | `2 + 3` |\n",
    "| subtraction | `-` | `2 - 3` |\n",
    "| multiplication | `*` | `2 * 3` |\n",
    "| division | `/` | `2 / 3` |\n",
    "| exponentiation | `**` | `2 ** 3` |\n",
    "\n",
    "For example"
   ]
  },
  {
   "cell_type": "code",
   "execution_count": 2,
   "id": "c07cf3f8",
   "metadata": {},
   "outputs": [
    {
     "data": {
      "text/plain": [
       "5"
      ]
     },
     "execution_count": 2,
     "metadata": {},
     "output_type": "execute_result"
    }
   ],
   "source": [
    "2 + 3"
   ]
  },
  {
   "cell_type": "code",
   "execution_count": 4,
   "id": "d875943f",
   "metadata": {},
   "outputs": [
    {
     "data": {
      "text/plain": [
       "-1"
      ]
     },
     "execution_count": 4,
     "metadata": {},
     "output_type": "execute_result"
    }
   ],
   "source": [
    "2 - 3"
   ]
  },
  {
   "cell_type": "code",
   "execution_count": 5,
   "id": "1e4111c1",
   "metadata": {},
   "outputs": [
    {
     "data": {
      "text/plain": [
       "6"
      ]
     },
     "execution_count": 5,
     "metadata": {},
     "output_type": "execute_result"
    }
   ],
   "source": [
    "2 * 3"
   ]
  },
  {
   "cell_type": "code",
   "execution_count": 6,
   "id": "1e1685a1",
   "metadata": {},
   "outputs": [
    {
     "data": {
      "text/plain": [
       "0.6666666666666666"
      ]
     },
     "execution_count": 6,
     "metadata": {},
     "output_type": "execute_result"
    }
   ],
   "source": [
    "2 / 3"
   ]
  },
  {
   "cell_type": "code",
   "execution_count": 8,
   "id": "27dcc649",
   "metadata": {},
   "outputs": [
    {
     "data": {
      "text/plain": [
       "8"
      ]
     },
     "execution_count": 8,
     "metadata": {},
     "output_type": "execute_result"
    }
   ],
   "source": [
    "2 ** 3"
   ]
  },
  {
   "cell_type": "markdown",
   "id": "e9f2df77",
   "metadata": {},
   "source": [
    "## Variables\n",
    "\n",
    "Variables are a method of storing values. To create a variable in Python we use the `=` symbol\n",
    "\n",
    "```python\n",
    "variable_name = value\n",
    "```\n",
    "\n",
    "The following rules apply to variable names in Python:\n",
    "\n",
    "- The variable name must start with a letter or the underscore character\n",
    "- The variable name cannot start with a number\n",
    "- The variable name can only contain alpha-numeric characters and underscores (A - z, 0 - 9, and _ )\n",
    "- Variable names are case-sensitive i.e., age, Age and AGE are three different variables\n",
    "\n",
    "For example the following code assigns that values of 2 and 3 to variables `x` and `y` respectively and calculates the product $xy$."
   ]
  },
  {
   "cell_type": "code",
   "execution_count": 11,
   "id": "61215e3a",
   "metadata": {},
   "outputs": [
    {
     "data": {
      "text/plain": [
       "6"
      ]
     },
     "execution_count": 11,
     "metadata": {},
     "output_type": "execute_result"
    }
   ],
   "source": [
    "x = 2\n",
    "y = 3\n",
    "\n",
    "x * y"
   ]
  },
  {
   "cell_type": "markdown",
   "id": "ef907a99",
   "metadata": {},
   "source": [
    "## Printing\n",
    "\n",
    "Note that in the above example the values of `x` and `y` were not outputted when they were declared. To output the value of a variable we can use the `print()` command. \n",
    "\n",
    "For example the following code prints the value of `x`."
   ]
  },
  {
   "cell_type": "code",
   "execution_count": 13,
   "id": "58958ef3",
   "metadata": {},
   "outputs": [
    {
     "name": "stdout",
     "output_type": "stream",
     "text": [
      "2\n"
     ]
    }
   ],
   "source": [
    "print(x)"
   ]
  },
  {
   "cell_type": "markdown",
   "id": "f7f39e95",
   "metadata": {},
   "source": [
    "Text can be printed by putting it in double quotes `\" \"`"
   ]
  },
  {
   "cell_type": "code",
   "execution_count": 14,
   "id": "31962be8",
   "metadata": {},
   "outputs": [
    {
     "name": "stdout",
     "output_type": "stream",
     "text": [
      "hello world\n"
     ]
    }
   ],
   "source": [
    "print(\"hello world\")"
   ]
  },
  {
   "cell_type": "markdown",
   "id": "8773715e",
   "metadata": {},
   "source": [
    "Text and variables can be outputted using **formatted output**\n",
    "\n",
    "```python\n",
    "print(f\"some text {variable}\")\n",
    "```\n",
    "\n",
    "For example"
   ]
  },
  {
   "cell_type": "code",
   "execution_count": 19,
   "id": "478966d3",
   "metadata": {},
   "outputs": [
    {
     "name": "stdout",
     "output_type": "stream",
     "text": [
      "The value of x is 2 and y is 3.\n"
     ]
    }
   ],
   "source": [
    "print(f\"The value of x is {x} and y is {y}.\")"
   ]
  },
  {
   "cell_type": "markdown",
   "id": "c1102c96",
   "metadata": {},
   "source": [
    "## SymPy"
   ]
  },
  {
   "cell_type": "code",
   "execution_count": null,
   "id": "d89b01b0",
   "metadata": {},
   "outputs": [],
   "source": []
  }
 ],
 "metadata": {
  "kernelspec": {
   "display_name": "Python 3",
   "language": "python",
   "name": "python3"
  },
  "language_info": {
   "codemirror_mode": {
    "name": "ipython",
    "version": 3
   },
   "file_extension": ".py",
   "mimetype": "text/x-python",
   "name": "python",
   "nbconvert_exporter": "python",
   "pygments_lexer": "ipython3",
   "version": "3.8.3"
  }
 },
 "nbformat": 4,
 "nbformat_minor": 5
}
