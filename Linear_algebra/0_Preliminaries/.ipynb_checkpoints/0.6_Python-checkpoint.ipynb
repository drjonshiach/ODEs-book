{
 "cells": [
  {
   "cell_type": "markdown",
   "id": "3b452757",
   "metadata": {},
   "source": [
    "# Python\n",
    "\n",
    "All tutorial exercises and assessment questions for the linear algebra part of this unit can be done using a pen and paper, however, it is a good idea to become proficient in using mathematical software to help check your calculations. In the programming skills part of this unit you will be taught how to use Python and MATLAB, so these notes contain brief explanations how the various calculations can be achieved using this software. \n",
    "\n",
    "Python is open source software which means it is free to download and install on your home machine. The best we to do this is to visit the website linked to below and download the Individual Edition of the Anaconda suite of programs. Once installed, you can use \\href{https://jupyter.org}{Jupyter Notebooks} to run Python commands (this is what you will be using in the programming skills part of the unit) or \\href{https://www.spyder-ide.org}{Spyder} which is an Integrated Development Environment (IDE) for Python\n",
    "\n",
    "### Download and install Python on your computer\n",
    "\n",
    "[Python](https://www.python.org/) is free for you to download and install on your own computer. There are many different ways which you can do this but perhaps the simplest is to download and install [Anaconda Navigator](https://www.anaconda.com/products/distribution). Anaconda is a suite of programs which includes Python and Jupyter Notebook which you can use to write Python programs.\n",
    "\n",
    "### Download and install MATLAB on your computer\n",
    "\n",
    "As a student of Manchester Met, you can download and install a free copy of [MATLAB](https://www.mathworks.com/products/matlab.html) on your own computer by following the instructions found [here](https://www.mmu.ac.uk/about-us/professional-services/isds/software/software-download-centre//matlab.php).\n",
    "\n",
    "Don't worry if you get confused with the Python and MATLAB commands, you will be given help on how to use the software in the programming skills part of the unit."
   ]
  }
 ],
 "metadata": {
  "kernelspec": {
   "display_name": "Python 3",
   "language": "python",
   "name": "python3"
  },
  "language_info": {
   "codemirror_mode": {
    "name": "ipython",
    "version": 3
   },
   "file_extension": ".py",
   "mimetype": "text/x-python",
   "name": "python",
   "nbconvert_exporter": "python",
   "pygments_lexer": "ipython3",
   "version": "3.8.3"
  }
 },
 "nbformat": 4,
 "nbformat_minor": 5
}
