{
 "cells": [
  {
   "cell_type": "markdown",
   "id": "6acfae50",
   "metadata": {},
   "source": [
    "(matrix-algebra-section)=\n",
    "# Matrix algebra\n",
    "\n",
    "Having defined the rules for addition, scalar multiplication and matrix multiplication, we can now consider solving equations involving matrices. Let $X$ be an $m \\times n$ matrix, whose value we want to find.\n",
    "\n",
    "Since matrix multiplication is not commutative then we say that in the expression $AB$, $B$ is **pre-multiplied** (or **left multiplied**) by $A$ or $A$ is **post-multiplied** (or **right multiplied**) by $B$. You cannot divide by a matrix but you can multiply by an inverse matrix, if one exists. For example, let $A$ and $B$ be invertible matrices (i.e. matrices which have inverses), then\n",
    "\n",
    "\\begin{align*}\n",
    "    AX &= B \\\\\n",
    "    A^{-1}AX &= A^{-1}B & &\\text{pre-multiply both sides by }A^{-1} \\\\\n",
    "    IX &= A^{-1}B & & \\text{since $A^{-1}A = I$}\\\\\n",
    "    X &= A^{-1}B & & \\text{since $IX = X$}. \n",
    "\\end{align*}\n",
    "\n",
    ":::::{admonition} Example 1.17\n",
    ":class: seealso\n",
    ":name: matrix-algebra-example\n",
    "\n",
    "Solve the following matrix equations for $X$:\n",
    "    \n",
    "\n",
    "(i) &emsp; $2X = A$;\n",
    "\n",
    "(ii) &emsp; $kX + A = I$;\n",
    "\n",
    "(iii) &emsp; $A(X + B) = C$.\n",
    "\n",
    "\n",
    "::::{dropdown} Solution\n",
    "(i)\n",
    "\\begin{align*}\n",
    "2X &= A  \\\\\n",
    "X &= \\frac{1}{2}A.\n",
    "\\end{align*}\n",
    "\n",
    "(ii)\n",
    "\\begin{align*}\n",
    "kX + A &= I \\\\\n",
    "kX &= I - A \\\\\n",
    "X &= \\frac{1}{k}(I- A).\n",
    "\\end{align*}\n",
    "\n",
    "(iii)\n",
    "\\begin{align*}\n",
    "A(X+B) &= C \\\\\n",
    "AX + AB &= C \\\\\n",
    "AX &= C - AB \\\\\n",
    "A^{-1}AX &= A^{-1}(C - AB) \\\\\n",
    "X &= A^{-1}(C - AB).\n",
    "\\end{align*}\n",
    "::::\n",
    ":::::"
   ]
  }
 ],
 "metadata": {
  "kernelspec": {
   "display_name": "Python 3 (ipykernel)",
   "language": "python",
   "name": "python3"
  },
  "language_info": {
   "codemirror_mode": {
    "name": "ipython",
    "version": 3
   },
   "file_extension": ".py",
   "mimetype": "text/x-python",
   "name": "python",
   "nbconvert_exporter": "python",
   "pygments_lexer": "ipython3",
   "version": "3.9.7"
  }
 },
 "nbformat": 4,
 "nbformat_minor": 5
}
