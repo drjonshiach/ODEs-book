{
 "cells": [
  {
   "cell_type": "markdown",
   "id": "24ed438d",
   "metadata": {
    "tags": [
     "full-width"
    ]
   },
   "source": [
    "# Linear Algebra Cheat Sheet\n",
    "\n",
    "## Matrices\n",
    "\n",
    ":::{list-table}\n",
    ":header-rows: 1\n",
    "\n",
    "* - Operation\n",
    "  - <p style=\"text-align:center\"> Definition </p>\n",
    "  - <p style=\"text-align:center\"> Example </p>\n",
    "* - $m \\times n $ matrix\n",
    "  - \\begin{align*} \n",
    "        \\begin{pmatrix} \n",
    "            a_{11} & a_{12} & \\cdots & a_{1m} \\\\  \n",
    "            a_{21} & a_{22} & \\cdots & a_{2m} \\\\ \n",
    "            \\vdots & \\vdots & \\ddots & \\vdots \\\\ \n",
    "            a_{m1} & a_{m2} & \\cdots & a_{mn} \n",
    "        \\end{pmatrix} \n",
    "    \\end{align*}\n",
    "  - \\begin{align*} \\begin{pmatrix} 1 & 2 \\\\ 3 & 4 \\end{pmatrix} \\end{align*} \n",
    "* - Addition of two matrices\n",
    "  - $$[A + B]_{ij} = [A]_{ij} + [B]_{ij}$$\n",
    "  - \\begin{align*} \n",
    "      \\phantom{=} &\\begin{pmatrix} 1 & 2 \\\\ 3 & 4 \\end{pmatrix} + \n",
    "      \\begin{pmatrix} 1 & -2 \\\\ 4 & 1 \\end{pmatrix}\\\\\n",
    "      =& \\begin{pmatrix} 2 & 0 \\\\ 7 & 5 \\end{pmatrix} \n",
    "  \\end{align*}\n",
    "* - Multiplication  of a matrix by a scalar\n",
    "  - $$k[A]_{ij} = [kA]_{ij}$$\n",
    "  - \\begin{align*} 2 \n",
    "      \\begin{pmatrix} 1 & 2 \\\\ 3 & 4 \\end{pmatrix} = \n",
    "      \\begin{pmatrix} 2 & 4 \\\\ 6 & 8 \\end{pmatrix} \n",
    "  \\end{align*}\n",
    "* - Multiplication of two matrices\n",
    "  - $$[AB]_{ij} = \\displaystyle\\sum_{k=1}^n [A]_{ik}[B]_{jk} $$ \n",
    "  - \\begin{align*}\n",
    "        \\phantom{=} &\\begin{pmatrix} 1 & 2 \\\\ 3 & 4 \\end{pmatrix} \n",
    "        \\begin{pmatrix} 5 & 6 \\\\ 7 & 8 \\end{pmatrix} \\\\\n",
    "        = &\\begin{pmatrix} 5 + 14 & 6 + 16 \\\\ 15 + 28 & 18 + 32 \\end{pmatrix} \\\\\n",
    "        = &\\begin{pmatrix} 19 & 22 \\\\ 43 & 50 \\end{pmatrix}\n",
    "    \\end{align*}\n",
    "* - Diagonal matrix \n",
    "  - $$[D]_{ij} = 0 \\quad \\forall i \\neq j $$ \n",
    "  - \\begin{align*} \n",
    "        \\begin{pmatrix} \n",
    "          1 & 0 & 0 \\\\ \n",
    "          0 & 2 & 0 \\\\ \n",
    "          0 & 0 & 3\n",
    "        \\end{pmatrix}\n",
    "    \\end{align*}\n",
    "* - Zero matrix\n",
    "  - $$[\\mathbf{0}]_{ij} = 0 \\quad \\forall i, j $$\n",
    "  - \\begin{align*} \n",
    "        \\mathbf{0}_{2\\times 3} = \\begin{pmatrix} \n",
    "          0 & 0 & 0 \\\\ \n",
    "          0 & 0  & 0 \n",
    "        \\end{pmatrix}\n",
    "    \\end{align*}\n",
    "* - Identity matrix\n",
    "  - $$[I_n]_{ij} = \\begin{cases} 1, & i = j, \\\\ 0, & i \\neq j \\end{cases} \\qquad i,j=1,\\ldots,n$$\n",
    "  - $$I_3 = \\begin{pmatrix} 1 & 0 & 0 \\\\ 0 & 1 & 0 \\\\ 0 & 0 & 1 \\end{pmatrix}$$\n",
    "* - Symmetric matrix \n",
    "  - $$[A]_{ij} = [A]_{ji}$$\n",
    "  - $$\\begin{pmatrix} 1 & 2 & 3 \\\\ 2 & 4 & 5 \\\\ 3 & 5 & 6 \\end{pmatrix}$$\n",
    ":::\n"
   ]
  }
 ],
 "metadata": {
  "celltoolbar": "Tags",
  "kernelspec": {
   "display_name": "Python 3",
   "language": "python",
   "name": "python3"
  },
  "language_info": {
   "codemirror_mode": {
    "name": "ipython",
    "version": 3
   },
   "file_extension": ".py",
   "mimetype": "text/x-python",
   "name": "python",
   "nbconvert_exporter": "python",
   "pygments_lexer": "ipython3",
   "version": "3.8.3"
  }
 },
 "nbformat": 4,
 "nbformat_minor": 5
}
