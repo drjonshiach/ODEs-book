{
 "cells": [
  {
   "cell_type": "markdown",
   "id": "972ca95b",
   "metadata": {},
   "source": [
    "## Co-ordinate Geometry\n",
    "\n",
    "**Learning outcomes**\n",
    "\n",
    "On successful completion of this chapters students will be able to:\n",
    "\n",
    "- define points, lines and planes as vector equations in $\\mathbb{R}^n$;\n",
    "- determine whether two lines intersect, are parallel, skew and/or perpendicular;\n",
    "- determine the intersection of two planes; \n",
    "- calculate the shortest distance between a point and a line, between two lines, a point and a plane.\n",
    "\n",
    "## Definition\n",
    "\n",
    "The area of mathematics dealing with describing geometry in terms of **coordinate systems**, hence as points and vectors, is called **Cartesian geometry** (named after French mathematician Ren\\'{e} Descartes) or **coordinate geometry**. In this chapter we systematise the basic knowledge and understanding of the terms **point**, **line** and **plane**.\n"
   ]
  }
 ],
 "metadata": {
  "kernelspec": {
   "display_name": "Python 3",
   "language": "python",
   "name": "python3"
  },
  "language_info": {
   "codemirror_mode": {
    "name": "ipython",
    "version": 3
   },
   "file_extension": ".py",
   "mimetype": "text/x-python",
   "name": "python",
   "nbconvert_exporter": "python",
   "pygments_lexer": "ipython3",
   "version": "3.8.3"
  }
 },
 "nbformat": 4,
 "nbformat_minor": 5
}
