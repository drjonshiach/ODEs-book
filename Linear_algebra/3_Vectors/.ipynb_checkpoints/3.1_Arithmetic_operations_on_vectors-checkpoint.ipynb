{
 "cells": [
  {
   "cell_type": "markdown",
   "id": "7c994421",
   "metadata": {},
   "source": [
    "(arithmetic-operations-on-vectors-section)=\n",
    "# Arithmetic operations on vectors\n",
    "\n",
    "## Vector equality\n",
    "\n",
    ":::::{admonition} Definition: Vector equality\n",
    ":class: note\n",
    ":name: vector-equality-definition\n",
    "\n",
    "Two vectors in $\\mathbb{R}^n$ are said to be equal if they are represented by the same $n$-tuple. In other words $\\mathbf{a},\\mathbf{b}\\in \\mathbb{R}^n$ represented by $n$-tuples $(a_1, a_2, \\ldots, a_n)$ and $(b_1, b_2, \\ldots, b_n)$ respectively, are equal if and only if the elements which correspond co-ordinate-wise are equal, i.e.,\n",
    "\n",
    "\\begin{align*}\n",
    "    a_i = b_i, \\qquad i = 1, \\ldots, n.\n",
    "\\end{align*}\n",
    "\n",
    "Informally this happens if and only if they have the same magnitude and they point in the same direction.\n",
    ":::::\n",
    "\n",
    "It follows from the [definition of vector equality](vector-equality-definition) that a vector can be moved parallel to itself and still represent the same vector, i.e., the position of the vector does not matter when considering vector equality. Consider {numref}`vector-equality-figure` which shows four vectors in $\\mathbb{R}^2$. The vectors $\\mathbf{a}$ and $\\mathbf{b}$ point in the same direction and have the same magnitude so we can say that $\\mathbf{a}=\\mathbf{b}$. The vector $\\mathbf{c}$ has the same magnitude as $\\mathbf{a}$ and $\\mathbf{b}$ but points in the opposite direction so $\\mathbf{c}\\neq \\mathbf{a}$. The vector $\\mathbf{d}$ points in the same direction as $\\mathbf{a}$ but has a larger magnitude so $\\mathbf{d} \\neq \\mathbf{a}$.\n",
    "\n",
    ":::{figure} ../Images/vector_equality.png\n",
    ":name: vector-equality-figure\n",
    "\n",
    "Of these four vectors only $\\mathbf{a}$ and $\\mathbf{b}$ are equal.\n",
    ":::\n",
    "\n",
    "### Python\n",
    "\n",
    "To check whether two vectors `u` and `v` are equal we can use the command `u == v`. "
   ]
  },
  {
   "cell_type": "code",
   "execution_count": 2,
   "id": "099a788d",
   "metadata": {},
   "outputs": [
    {
     "name": "stdout",
     "output_type": "stream",
     "text": [
      "True\n"
     ]
    }
   ],
   "source": [
    "from sympy import *\n",
    "\n",
    "u = Matrix([1, 2, 3])\n",
    "v = Matrix([2 ** 0, 4 / 2, sqrt(9)])\n",
    "\n",
    "print(u == v)"
   ]
  },
  {
   "cell_type": "markdown",
   "id": "a6a0f4ba",
   "metadata": {},
   "source": [
    "## Vector addition\n",
    "\n",
    "Given three points $A$, $B$ and $C$ in $\\mathbb{R}^n$ it is natural to ask how we might express the vector $\\overrightarrow{AC}$ in terms of $\\overrightarrow{AB}$ and $\\overrightarrow{BC}.$ The answer is given by vector addition. In other words $\\overrightarrow{AC} = \\overrightarrow{AB} + \\overrightarrow{BC}$ where addition of two vectors is defined below.\n",
    "\n",
    "::::{admonition} Definition: Addition of two vectors\n",
    ":class: note\n",
    ":name: vector-addition-definition\n",
    "\n",
    "The addition of two vectors $\\mathbf{a},\\mathbf{b}\\in\\mathbb{R}^n$ is calculated using\n",
    "\\begin{align*}\n",
    "    \\mathbf{a} + \\mathbf{b} = \n",
    "    \\begin{pmatrix} a_1 \\\\ a_2 \\\\ \\vdots \\\\ a_n \\end{pmatrix} + \n",
    "    \\begin{pmatrix} b_1 \\\\ b_2 \\\\ \\vdots \\\\ b_n \\end{pmatrix} =\n",
    "    \\begin{pmatrix} a_1 + b_1 \\\\ a_2 + b_2 \\\\ \\vdots \\\\ a_n + b_n \\end{pmatrix}.\n",
    "\\end{align*}\n",
    "::::\n",
    "\n",
    "Intuitively this makes sense, the displacement from $A$ to $C$ in any coordinate direction is just the displacement from $A$ to $B$ plus the displacement from $B$ to $C$ in the relevant coordinate direction.\n",
    "\n",
    "The geometric representation of $\\mathbf{a}+\\mathbf{b}$ is represented in {numref}`vector-addition-figure`. Note that $\\mathbf{a}+\\mathbf{b}$ is the same as placing the tail of $\\mathbf{b}$ at the head of $\\mathbf{a}$. Note also, as the figure demonstrates, that the order in which one adds the two vectors is unimportant. This is known as the **parallelogram law of addition**.\n",
    "\n",
    ":::{figure} ../Images/vector_addition.png\n",
    ":name: vector-addition-figure\n",
    "\n",
    "The addition of two vectors.\n",
    ":::"
   ]
  },
  {
   "cell_type": "markdown",
   "id": "4df58387",
   "metadata": {},
   "source": [
    "## Scalar multiplication\n",
    "\n",
    "\n",
    "::::{admonition} Definition: Scalar multiplication of a vector\n",
    ":class: note\n",
    ":name: scalar-multiplication-of-a-vector-definition\n",
    "\n",
    "The multiplication of a vector $\\mathbf{a}\\in \\mathbb{R}^n$ by a scalar $k \\in \\mathbb{R}$ is defined by\n",
    "\n",
    "\\begin{align*}\n",
    "    k\\mathbf{a} = k\\begin{pmatrix} a_1 \\\\ a_2 \\\\ \\vdots \\\\ a_n \\end{pmatrix} = \n",
    "    \\begin{pmatrix} k a_1 \\\\ k a_2 \\\\ \\vdots \\\\ k a_n \\end{pmatrix}.\n",
    "\\end{align*}\n",
    "::::\n",
    "\n",
    "Multiplying a vector by a scalar has the effect of **scaling** the vector $\\mathbf{a}$ to produce a vector **parallel** to $\\mathbf{a}$ with a magnitude of $k|\\mathbf{a}|$. In general if two vectors $\\mathbf{u}$ and $\\mathbf{v}$ are parallel then we write $\\mathbf{u} \\parallel \\mathbf{v}$.\n",
    "\n",
    "::::{admonition} Theorem: Properties of scalar multiplication of vectors\n",
    ":class: important\n",
    ":name: properties-of-scalar-multiplication-of-vectors\n",
    "\n",
    "The scalar multiplication of a vector $\\mathbf{a}$ by a scalar $k$ has the following properties:\n",
    "\n",
    "- $k\\mathbf{a}$ = $\\mathbf{a}k$  is a vector parallel to $\\mathbf{a}$;\n",
    "- $0\\mathbf{a} = (0, 0, \\ldots, 0) = \\mathbf{0}$;\n",
    "- $1\\mathbf{a} = \\mathbf{a}$;\n",
    "- $|k\\mathbf{a}| = |k||\\mathbf{a}|$;\n",
    "- if $k>0$ then $\\mathbf{a}$ and $k\\mathbf{a}$ point in the same direction, whereas if $k<0$ then $\\mathbf{a}$ and $k\\mathbf{a}$ point in opposite directions.\n",
    "::::\n",
    "\n",
    ":::{figure} ../Images/scalar_multiplication_of_a_vector.png\n",
    ":name: scalar-multiplication-of-a-vector-figure\n",
    "\n",
    "Scaled variations of the vector $\\mathbf{a}$.\n",
    ":::"
   ]
  }
 ],
 "metadata": {
  "kernelspec": {
   "display_name": "Python 3",
   "language": "python",
   "name": "python3"
  },
  "language_info": {
   "codemirror_mode": {
    "name": "ipython",
    "version": 3
   },
   "file_extension": ".py",
   "mimetype": "text/x-python",
   "name": "python",
   "nbconvert_exporter": "python",
   "pygments_lexer": "ipython3",
   "version": "3.8.3"
  }
 },
 "nbformat": 4,
 "nbformat_minor": 5
}
