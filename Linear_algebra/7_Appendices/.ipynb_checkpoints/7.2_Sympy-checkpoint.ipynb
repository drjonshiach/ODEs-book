{
 "cells": [
  {
   "cell_type": "markdown",
   "id": "3123ad37",
   "metadata": {},
   "source": [
    "# SymPy commands\n",
    "\n",
    "The SymPy library can perform symbolic calculations."
   ]
  },
  {
   "cell_type": "code",
   "execution_count": 1,
   "id": "54fd24d5",
   "metadata": {},
   "outputs": [],
   "source": [
    "from sympy import *"
   ]
  },
  {
   "cell_type": "markdown",
   "id": "99da1b84",
   "metadata": {},
   "source": [
    "## Matrices\n",
    "\n",
    "### Define matrices"
   ]
  },
  {
   "cell_type": "code",
   "execution_count": 2,
   "id": "ee757ec2",
   "metadata": {},
   "outputs": [
    {
     "name": "stdout",
     "output_type": "stream",
     "text": [
      "⎡1  2⎤\n",
      "⎢    ⎥\n",
      "⎣3  4⎦\n"
     ]
    }
   ],
   "source": [
    "A = Matrix([[1, 2], [3, 4]])\n",
    "display(A)"
   ]
  },
  {
   "cell_type": "code",
   "execution_count": 3,
   "id": "e8582b9e",
   "metadata": {},
   "outputs": [
    {
     "name": "stdout",
     "output_type": "stream",
     "text": [
      "⎡5  6⎤\n",
      "⎢    ⎥\n",
      "⎣7  8⎦\n"
     ]
    }
   ],
   "source": [
    "B = Matrix([[5, 6], [7, 8]])\n",
    "display(B)"
   ]
  },
  {
   "cell_type": "markdown",
   "id": "f9977e6f",
   "metadata": {},
   "source": [
    "### Matrix addition"
   ]
  },
  {
   "cell_type": "code",
   "execution_count": 26,
   "id": "9997a727",
   "metadata": {},
   "outputs": [
    {
     "name": "stdout",
     "output_type": "stream",
     "text": [
      "⎡6   8 ⎤\n",
      "⎢      ⎥\n",
      "⎣10  12⎦\n"
     ]
    }
   ],
   "source": [
    "AplusB = A + B\n",
    "display(AplusB)"
   ]
  },
  {
   "cell_type": "markdown",
   "id": "ae9b9289",
   "metadata": {},
   "source": [
    "### Multiplication by a scalar"
   ]
  },
  {
   "cell_type": "code",
   "execution_count": 27,
   "id": "1d2dfd22",
   "metadata": {},
   "outputs": [
    {
     "name": "stdout",
     "output_type": "stream",
     "text": [
      "⎡3  6 ⎤\n",
      "⎢     ⎥\n",
      "⎣9  12⎦\n"
     ]
    }
   ],
   "source": [
    "Atimes3 = 3 * A\n",
    "display(Atimes3)"
   ]
  },
  {
   "cell_type": "markdown",
   "id": "ce96c6b7",
   "metadata": {},
   "source": [
    "### Matrix multiplication"
   ]
  },
  {
   "cell_type": "code",
   "execution_count": 28,
   "id": "7d26634d",
   "metadata": {},
   "outputs": [
    {
     "name": "stdout",
     "output_type": "stream",
     "text": [
      "⎡19  22⎤\n",
      "⎢      ⎥\n",
      "⎣43  50⎦\n"
     ]
    }
   ],
   "source": [
    "AB = A * B\n",
    "display(AB)"
   ]
  },
  {
   "cell_type": "markdown",
   "id": "5faeb253",
   "metadata": {},
   "source": [
    "### Matrix exponent"
   ]
  },
  {
   "cell_type": "code",
   "execution_count": 30,
   "id": "281dcb62",
   "metadata": {},
   "outputs": [
    {
     "name": "stdout",
     "output_type": "stream",
     "text": [
      "⎡7   10⎤\n",
      "⎢      ⎥\n",
      "⎣15  22⎦\n"
     ]
    }
   ],
   "source": [
    "Asquared = A ** 2\n",
    "display(Asquared)"
   ]
  },
  {
   "cell_type": "markdown",
   "id": "7b798bf0",
   "metadata": {},
   "source": [
    "### Matrix transpoose"
   ]
  },
  {
   "cell_type": "code",
   "execution_count": 31,
   "id": "eac2868f",
   "metadata": {},
   "outputs": [
    {
     "name": "stdout",
     "output_type": "stream",
     "text": [
      "⎡1  3⎤\n",
      "⎢    ⎥\n",
      "⎣2  4⎦\n"
     ]
    }
   ],
   "source": [
    "Atranspose = A.T\n",
    "display(Atranspose)"
   ]
  },
  {
   "cell_type": "markdown",
   "id": "9d3f6a9c",
   "metadata": {},
   "source": [
    "### Zero matrix"
   ]
  },
  {
   "cell_type": "code",
   "execution_count": 32,
   "id": "45b95b27",
   "metadata": {},
   "outputs": [
    {
     "name": "stdout",
     "output_type": "stream",
     "text": [
      "⎡0  0  0⎤\n",
      "⎢       ⎥\n",
      "⎣0  0  0⎦\n"
     ]
    }
   ],
   "source": [
    "zero = zeros(2, 3)\n",
    "display(zero)"
   ]
  },
  {
   "cell_type": "markdown",
   "id": "c99278de",
   "metadata": {},
   "source": [
    "### Identity matrix"
   ]
  },
  {
   "cell_type": "code",
   "execution_count": 33,
   "id": "95b21f24",
   "metadata": {},
   "outputs": [
    {
     "name": "stdout",
     "output_type": "stream",
     "text": [
      "⎡1  0  0⎤\n",
      "⎢       ⎥\n",
      "⎢0  1  0⎥\n",
      "⎢       ⎥\n",
      "⎣0  0  1⎦\n"
     ]
    }
   ],
   "source": [
    "I = eye(3)\n",
    "display(I)"
   ]
  },
  {
   "cell_type": "markdown",
   "id": "3e3c1878",
   "metadata": {},
   "source": [
    "### Determinant of a matrix"
   ]
  },
  {
   "cell_type": "code",
   "execution_count": 35,
   "id": "3934f452",
   "metadata": {},
   "outputs": [
    {
     "name": "stdout",
     "output_type": "stream",
     "text": [
      "-2\n"
     ]
    }
   ],
   "source": [
    "detA = A.det()\n",
    "print(detA)"
   ]
  },
  {
   "cell_type": "markdown",
   "id": "883bbb69",
   "metadata": {},
   "source": [
    "### Adjoint matrix"
   ]
  },
  {
   "cell_type": "code",
   "execution_count": 36,
   "id": "b08019d9",
   "metadata": {},
   "outputs": [
    {
     "name": "stdout",
     "output_type": "stream",
     "text": [
      "⎡4   -2⎤\n",
      "⎢      ⎥\n",
      "⎣-3  1 ⎦\n"
     ]
    }
   ],
   "source": [
    "adjA = A.adjugate()\n",
    "display(adjA)"
   ]
  },
  {
   "cell_type": "markdown",
   "id": "67a669a1",
   "metadata": {},
   "source": [
    "### Inverse matrix"
   ]
  },
  {
   "cell_type": "code",
   "execution_count": 37,
   "id": "42d29d92",
   "metadata": {},
   "outputs": [
    {
     "name": "stdout",
     "output_type": "stream",
     "text": [
      "⎡-2    1  ⎤\n",
      "⎢         ⎥\n",
      "⎣3/2  -1/2⎦\n"
     ]
    }
   ],
   "source": [
    "invA = A.inv()\n",
    "display(invA)"
   ]
  },
  {
   "cell_type": "markdown",
   "id": "ca91cdca",
   "metadata": {},
   "source": [
    "---\n",
    "\n",
    "## Systems of linear equations"
   ]
  },
  {
   "cell_type": "code",
   "execution_count": 41,
   "id": "465d982a",
   "metadata": {},
   "outputs": [
    {
     "name": "stdout",
     "output_type": "stream",
     "text": [
      "⎡1  2⎤\n",
      "⎢    ⎥\n",
      "⎣3  4⎦\n"
     ]
    }
   ],
   "source": [
    "A = Matrix([[1, 2], [3, 4]])\n",
    "display(A)"
   ]
  },
  {
   "cell_type": "code",
   "execution_count": 42,
   "id": "f76fa666",
   "metadata": {},
   "outputs": [
    {
     "name": "stdout",
     "output_type": "stream",
     "text": [
      "⎡5 ⎤\n",
      "⎢  ⎥\n",
      "⎣11⎦\n"
     ]
    }
   ],
   "source": [
    "b = Matrix([5, 11])\n",
    "display(b)"
   ]
  },
  {
   "cell_type": "markdown",
   "id": "6733c6d5",
   "metadata": {},
   "source": [
    "### Solution using matrix inverse"
   ]
  },
  {
   "cell_type": "code",
   "execution_count": 43,
   "id": "dfa568d2",
   "metadata": {},
   "outputs": [
    {
     "name": "stdout",
     "output_type": "stream",
     "text": [
      "⎡1⎤\n",
      "⎢ ⎥\n",
      "⎣2⎦\n"
     ]
    }
   ],
   "source": [
    "x = A.inv() * b\n",
    "display(x)"
   ]
  },
  {
   "cell_type": "markdown",
   "id": "78e85d95",
   "metadata": {},
   "source": [
    "### Forming an augmented matrix"
   ]
  },
  {
   "cell_type": "code",
   "execution_count": 49,
   "id": "efdc65f1",
   "metadata": {},
   "outputs": [
    {
     "name": "stdout",
     "output_type": "stream",
     "text": [
      "⎡1  2  5 ⎤\n",
      "⎢        ⎥\n",
      "⎣3  4  11⎦\n"
     ]
    }
   ],
   "source": [
    "Ab = A.row_join(b)\n",
    "display(Ab)"
   ]
  },
  {
   "cell_type": "markdown",
   "id": "e7918e4b",
   "metadata": {},
   "source": [
    "### Row reduction"
   ]
  },
  {
   "cell_type": "code",
   "execution_count": 50,
   "id": "28dfa3a5",
   "metadata": {},
   "outputs": [
    {
     "name": "stdout",
     "output_type": "stream",
     "text": [
      "⎡1  0  1⎤\n",
      "⎢       ⎥\n",
      "⎣0  1  2⎦\n"
     ]
    }
   ],
   "source": [
    "Abrref = Ab.rref()[0]\n",
    "display(Abrref)"
   ]
  },
  {
   "cell_type": "markdown",
   "id": "abf47d50",
   "metadata": {},
   "source": [
    "### Rank of a matrix"
   ]
  },
  {
   "cell_type": "code",
   "execution_count": 51,
   "id": "d2f10821",
   "metadata": {},
   "outputs": [
    {
     "name": "stdout",
     "output_type": "stream",
     "text": [
      "2\n"
     ]
    }
   ],
   "source": [
    "rankA = A.rank()\n",
    "print(rankA)"
   ]
  },
  {
   "cell_type": "markdown",
   "id": "ef7ab89e",
   "metadata": {},
   "source": [
    "---\n",
    "\n",
    "## Vectors"
   ]
  },
  {
   "cell_type": "code",
   "execution_count": 55,
   "id": "890af6c2",
   "metadata": {},
   "outputs": [
    {
     "name": "stdout",
     "output_type": "stream",
     "text": [
      "⎡1⎤\n",
      "⎢ ⎥\n",
      "⎢2⎥\n",
      "⎢ ⎥\n",
      "⎣3⎦\n"
     ]
    }
   ],
   "source": [
    "a = Matrix([1, 2, 3])\n",
    "display(a)"
   ]
  },
  {
   "cell_type": "code",
   "execution_count": 56,
   "id": "da4ec75e",
   "metadata": {},
   "outputs": [
    {
     "name": "stdout",
     "output_type": "stream",
     "text": [
      "⎡4⎤\n",
      "⎢ ⎥\n",
      "⎢5⎥\n",
      "⎢ ⎥\n",
      "⎣6⎦\n"
     ]
    }
   ],
   "source": [
    "b = Matrix([4, 5, 6])\n",
    "display(b)"
   ]
  },
  {
   "cell_type": "markdown",
   "id": "07123c6a",
   "metadata": {},
   "source": [
    "### Vector magnitude"
   ]
  },
  {
   "cell_type": "code",
   "execution_count": 57,
   "id": "5934613c",
   "metadata": {},
   "outputs": [
    {
     "name": "stdout",
     "output_type": "stream",
     "text": [
      "√14\n"
     ]
    }
   ],
   "source": [
    "anorm = a.norm()\n",
    "display(anorm)"
   ]
  },
  {
   "cell_type": "markdown",
   "id": "d8f6c557",
   "metadata": {},
   "source": [
    "### Unit vector"
   ]
  },
  {
   "cell_type": "code",
   "execution_count": 58,
   "id": "1e939691",
   "metadata": {},
   "outputs": [
    {
     "name": "stdout",
     "output_type": "stream",
     "text": [
      "⎡ √14 ⎤\n",
      "⎢ ─── ⎥\n",
      "⎢  14 ⎥\n",
      "⎢     ⎥\n",
      "⎢ √14 ⎥\n",
      "⎢ ─── ⎥\n",
      "⎢  7  ⎥\n",
      "⎢     ⎥\n",
      "⎢3⋅√14⎥\n",
      "⎢─────⎥\n",
      "⎣  14 ⎦\n"
     ]
    }
   ],
   "source": [
    "ahat = a / a.norm()\n",
    "display(ahat)"
   ]
  },
  {
   "cell_type": "markdown",
   "id": "56f97e90",
   "metadata": {},
   "source": [
    "### Dot product"
   ]
  },
  {
   "cell_type": "code",
   "execution_count": 59,
   "id": "df9e710d",
   "metadata": {},
   "outputs": [
    {
     "name": "stdout",
     "output_type": "stream",
     "text": [
      "32\n"
     ]
    }
   ],
   "source": [
    "adotb = a.dot(b)\n",
    "print(adotb)"
   ]
  },
  {
   "cell_type": "markdown",
   "id": "e7b28c9f",
   "metadata": {},
   "source": [
    "### Cross product"
   ]
  },
  {
   "cell_type": "code",
   "execution_count": 61,
   "id": "ab50c138",
   "metadata": {},
   "outputs": [
    {
     "name": "stdout",
     "output_type": "stream",
     "text": [
      "⎡-3⎤\n",
      "⎢  ⎥\n",
      "⎢6 ⎥\n",
      "⎢  ⎥\n",
      "⎣-3⎦\n"
     ]
    }
   ],
   "source": [
    "acrossb = a.cross(b)\n",
    "display(acrossb)"
   ]
  }
 ],
 "metadata": {
  "kernelspec": {
   "display_name": "Python 3",
   "language": "python",
   "name": "python3"
  },
  "language_info": {
   "codemirror_mode": {
    "name": "ipython",
    "version": 3
   },
   "file_extension": ".py",
   "mimetype": "text/x-python",
   "name": "python",
   "nbconvert_exporter": "python",
   "pygments_lexer": "ipython3",
   "version": "3.8.8"
  }
 },
 "nbformat": 4,
 "nbformat_minor": 5
}
