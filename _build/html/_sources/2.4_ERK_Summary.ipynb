{
 "cells": [
  {
   "cell_type": "markdown",
   "id": "b6de84d7",
   "metadata": {},
   "source": [
    "# Chapter Summary\n",
    "\n",
    "- [Runge-Kutta methods](rk-definition) are **single step methods** that use intermediate **stage** values to advance the solution over a small step of length $h$ using known values of $t_n$ and $y_n$ to calculate $y_{n+1} = y(t_n+h)$;\n",
    "- Runge-Kutta methods are commonly expressed in tabular form called a [Butcher tableau](butcher-tableau-definition);\n",
    "- There are two types of Runge-Kutta methods: explicit and implicit methods.\n",
    "- [explicit Runge-Kutta methods](explicit-and-implicit-rk-methods-section) are more straightforward to calculate but can be inefficient for some types of ODEs;\n",
    "- [implicit Runge-Kutta methods](explicit-and-implicit-rk-methods-section) are less straightforward to calculate but are more efficient for some types of ODEs;\n",
    "- The coefficients of a Runge-Kutta methods are chosen to satisfy the **order conditions** which are derived by comparing the [Taylor series expansion](taylor-series-definition) to the general form of the [Runge-Kutta method](rk-definition) to the equivalent Taylor series expansion of the first-order ODE $y' = f(t,y)$."
   ]
  }
 ],
 "metadata": {
  "kernelspec": {
   "display_name": "Python 3",
   "language": "python",
   "name": "python3"
  },
  "language_info": {
   "codemirror_mode": {
    "name": "ipython",
    "version": 3
   },
   "file_extension": ".py",
   "mimetype": "text/x-python",
   "name": "python",
   "nbconvert_exporter": "python",
   "pygments_lexer": "ipython3",
   "version": "3.8.3"
  }
 },
 "nbformat": 4,
 "nbformat_minor": 5
}
