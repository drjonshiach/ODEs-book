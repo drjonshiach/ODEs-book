{
 "cells": [
  {
   "cell_type": "markdown",
   "id": "f32700ff",
   "metadata": {},
   "source": [
    "# Chapter summary\n",
    "\n",
    "- A [two-point boundary value problem](bvp-definition) is defined by a second-order ODE where the solutions at the lower and upper boundaries are known.\n",
    "- A boundary value problem can have a unique solution, an infinitely number of solutions or no solutions.\n",
    "- The [shooting method](shooting-method-section) uses a guess of the value for $y'(0)$ and adjusts the guess by comparing the computed solution at the upper boundary to the known solution.\n",
    "- The [Secant method](secant-method-section) is used to calculate improved estimates of the guess value.\n",
    "- The [finite-difference method](finite-difference-method-section) uses finite-difference approximations of the derivatives in the ODE to derive a linear system of equations that approximates the solution to the boundary value problem.\n",
    "- The higher the order of the finite-difference approximations, the higher the value of $h$ can be to achieve the same accuracy."
   ]
  }
 ],
 "metadata": {
  "kernelspec": {
   "display_name": "Python 3",
   "language": "python",
   "name": "python3"
  },
  "language_info": {
   "codemirror_mode": {
    "name": "ipython",
    "version": 3
   },
   "file_extension": ".py",
   "mimetype": "text/x-python",
   "name": "python",
   "nbconvert_exporter": "python",
   "pygments_lexer": "ipython3",
   "version": "3.8.3"
  }
 },
 "nbformat": 4,
 "nbformat_minor": 5
}