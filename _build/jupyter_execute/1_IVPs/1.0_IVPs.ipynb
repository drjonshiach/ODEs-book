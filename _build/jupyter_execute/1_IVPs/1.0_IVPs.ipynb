{
 "cells": [
  {
   "cell_type": "markdown",
   "metadata": {},
   "source": [
    "(ivp-chapter)=\n",
    "# Initial Value Problems\n",
    "\n",
    "**Learning Outcomes**\n",
    "\n",
    "On successful completion of this chapter readers will be able to:\n",
    "\n",
    "- identify an [initial value problem](ivp-definition);\n",
    "- approximate a function using the [Taylor series](taylor-series-definition);\n",
    "- derive the [Euler method](euler-method-definition) and apply it to solve first-order ordinary differential equations;\n",
    "- express a [higher-order ordinary differential equation](higher-order-odes-section) as a system of first-order ordinary differential equation;\n",
    "- apply an ODE solver to [solve a system of ordinary differential equation](solving-systems-of-odes-section).\n",
    "\n",
    "---\n",
    "(ode-section)=\n",
    "## Ordinary Differential Equations\n",
    "\n",
    "An Ordinary Differential Equation (ODE) is an equation which contains the derivatives of a function e.g., $y(t)$, of a **single** independent variable $t$. ODEs occur in many different applications so it is important that we are able to solve them. Simple ODEs can be solved using **analytical** methods such as integration and Laplace transforms, however, the vast majority of ODEs used in the real world cannot be solved using analytical methods which is why we need a **numerical** approach.\n",
    "\n",
    "````{admonition} Definition: Ordinary Differential Equation\n",
    ":class: note\n",
    ":name: ode-definition\n",
    "\n",
    "An Ordinary Differential Equation (ODE) is an equation of the form\n",
    "\n",
    "$$y^{(n)} = f(t, y, y', y'', \\ldots, y^{(n-1)}),$$\n",
    "\n",
    "where $y = y(t)$ is some function of the independent variable $t$, $y^{(n)}$ is the $n$th derivative of $y$ and $f$ is some function of $t$, $y$ and its derivatives.\n",
    "````\n",
    "\n",
    "The solution of an ODE is a function $y = y(t)$ that satisfies the ODE over the domain of $t$. For example, consider the following ODE\n",
    "\n",
    "$$ y' = y,$$ (simple-ode)\n",
    "\n",
    "where $t \\in \\mathbb{R}$. Rewriting this using Leibniz notation and integrating both sides we have\n",
    "\n",
    "\\begin{align*}\n",
    "    \\frac{\\mathrm{d} y}{\\mathrm{d} t} & = y \\\\\n",
    "    \\frac{\\mathrm{d} y}{y} &= \\mathrm{d} t \\\\\n",
    "    \\int \\frac{1}{y} \\mathrm{d} y &= \\int 1 \\mathrm{d} t \\\\\n",
    "    \\ln (y) + c_1 &= t + c_2 \\\\\n",
    "    \\ln (y) &= t + c_1 + c_2 \\\\\n",
    "    y &= e^{t + c},\n",
    "\\end{align*}\n",
    "\n",
    "where $c = c_1 + c_2$ is some constant. The solution can be verified by differentiating $y$ and check that it satisfies the original ODE. This solution has been plotted for various values of the constant $c$ in {numref}`ode-plot-figure`. Note that there are an infinite number of solutions since $c$ can be any value. \n",
    "\n",
    "```{glue:figure} ode_plot\n",
    ":name: ode-plot-figure\n",
    "\n",
    "Plots of some of the possible solution to the ODE $y' = y$.\n",
    "```"
   ]
  },
  {
   "cell_type": "code",
   "execution_count": 1,
   "metadata": {
    "tags": [
     "remove-cell"
    ]
   },
   "outputs": [
    {
     "ename": "ModuleNotFoundError",
     "evalue": "No module named 'numpy'",
     "output_type": "error",
     "traceback": [
      "\u001b[1;31m---------------------------------------------------------------------------\u001b[0m",
      "\u001b[1;31mModuleNotFoundError\u001b[0m                       Traceback (most recent call last)",
      "Cell \u001b[1;32mIn [1], line 1\u001b[0m\n\u001b[1;32m----> 1\u001b[0m \u001b[38;5;28;01mimport\u001b[39;00m \u001b[38;5;21;01mnumpy\u001b[39;00m \u001b[38;5;28;01mas\u001b[39;00m \u001b[38;5;21;01mnp\u001b[39;00m\n\u001b[0;32m      2\u001b[0m \u001b[38;5;28;01mimport\u001b[39;00m \u001b[38;5;21;01mmatplotlib\u001b[39;00m\u001b[38;5;21;01m.\u001b[39;00m\u001b[38;5;21;01mpyplot\u001b[39;00m \u001b[38;5;28;01mas\u001b[39;00m \u001b[38;5;21;01mplt\u001b[39;00m\n\u001b[0;32m      3\u001b[0m \u001b[38;5;28;01mfrom\u001b[39;00m \u001b[38;5;21;01mmyst_nb\u001b[39;00m \u001b[38;5;28;01mimport\u001b[39;00m glue\n",
      "\u001b[1;31mModuleNotFoundError\u001b[0m: No module named 'numpy'"
     ]
    }
   ],
   "source": [
    "import numpy as np\n",
    "import matplotlib.pyplot as plt\n",
    "from myst_nb import glue\n",
    "\n",
    "t = np.linspace(0, 1, 200)\n",
    "fig, ax = plt.subplots(figsize=(8,6))\n",
    "for i in range(1, 8):\n",
    "    if i == 4:\n",
    "        continue\n",
    "    plt.plot(t, np.exp(t + np.log(i*0.25)), \"b\")\n",
    "plt.plot(t, np.exp(t), \"r\")\n",
    "plt.plot(t, np.exp(t + np.log(2)), \"g\")\n",
    "plt.plot(0, 1, \"ro\")\n",
    "plt.plot(0, 2, \"go\")\n",
    "plt.annotate(\"$y(0)=1$\", xy=(-0.01, 1), xytext=(-0.25, 1.3), fontsize=14, color=\"r\",\n",
    "             arrowprops=dict(arrowstyle='->',shrinkA=2, shrinkB=2, ec=\"r\"))\n",
    "plt.annotate(\"$y = e^t$\", xy=(1.01, np.exp(1)), xytext=(1.1, np.exp(1)), fontsize=14, color=\"r\",\n",
    "            arrowprops=dict(arrowstyle=\"->\", shrinkA=2, shrinkB=2, ec=\"r\"))\n",
    "plt.annotate(\"$y(0)=2$\", xy=(-0.01, 2), xytext=(-0.25, 2.3), fontsize=14, color=\"g\",\n",
    "             arrowprops=dict(arrowstyle='->',shrinkA=2, shrinkB=2, ec=\"g\"))\n",
    "plt.annotate(\"$y = e^{t+\\ln(2)}$\", xy=(1.01, np.exp(1 + np.log(2))), xytext=(1.1, np.exp(1 + np.log(2))), fontsize=14, color=\"g\",\n",
    "            arrowprops=dict(arrowstyle=\"->\", shrinkA=2, shrinkB=2, ec=\"g\"))\n",
    "plt.xlabel(\"$t$\", fontsize=14)\n",
    "plt.ylabel(\"$y$\", fontsize=14)\n",
    "plt.show()\n",
    "\n",
    "glue(\"ode_plot\", fig, display=False)"
   ]
  },
  {
   "cell_type": "markdown",
   "metadata": {},
   "source": [
    "However, if we know that the value of the solution $y$ for some $t$ then we can calculate $c$. For example, if the solution to the ODE in equation {eq}`simple-ode` is known to be $y(0) = \\alpha$ then\n",
    "\n",
    "\\begin{align*}\n",
    "    \\alpha &= e^{0 + c} = e^c \\\\\n",
    "    \\therefore c &= \\ln(\\alpha)\n",
    "\\end{align*}\n",
    "\n",
    "so the ODE has the solution\n",
    "\n",
    "\\begin{align*}\n",
    "    y &= e^{t + \\ln(\\alpha)}.\n",
    "\\end{align*}\n",
    "\n",
    "Different values of $\\alpha$ in the initial solution $y(0)=\\alpha$ give different unique solutions to the ODE. Problems of this type are known as **initial value problems**.\n",
    "\n",
    "````{admonition} Definition: Initial value problem\n",
    ":class: note\n",
    ":name: ivp-definition\n",
    "\n",
    "An Initial Value Problem (IVP) is an ODE where the initial solution at the lower boundary of the domain is known. For example,\n",
    "\\begin{align*}\n",
    "    y' = f(t,y), \\qquad t\\in [a ,b ], \\qquad y(a) = \\alpha.\n",
    "\\end{align*}\n",
    "Here a first-order ODE $y'=f(t,y)$ is defined over the domain $t\\in [a ,b]$ and the initial solution $y(a)$ is the known value $\\alpha$. \n",
    "````\n",
    "\n",
    "Unfortunately, for most real world practical applications initial value problems cannot be solved using analytical methods so instead we use numerical methods to approximate the solution."
   ]
  }
 ],
 "metadata": {
  "celltoolbar": "Tags",
  "interpreter": {
   "hash": "ad6b46b986eb5fd64ea3a7c770d15a842892c7ec3f76f0a21784aff1a945ecb4"
  },
  "kernelspec": {
   "display_name": "Python 3",
   "language": "python",
   "name": "python3"
  },
  "language_info": {
   "codemirror_mode": {
    "name": "ipython",
    "version": 3
   },
   "file_extension": ".py",
   "mimetype": "text/x-python",
   "name": "python",
   "nbconvert_exporter": "python",
   "pygments_lexer": "ipython3",
   "version": "3.9.13"
  }
 },
 "nbformat": 4,
 "nbformat_minor": 2
}