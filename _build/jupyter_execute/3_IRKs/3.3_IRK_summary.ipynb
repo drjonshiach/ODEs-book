{
 "cells": [
  {
   "cell_type": "markdown",
   "id": "7f9227d7",
   "metadata": {},
   "source": [
    "# Chapter Summary\n",
    "\n",
    "- The stage values in an [implicit Runge-Kutta method](irk-chapter) are defined using implicit functions.\n",
    "- The $A$ matrix of an implicit method has non-zero elements on the main diagonal or upper triangular region.\n",
    "- Implicit methods use fewer stages to achieve the same accuracy as explicit methods.\n",
    "- The [derivation of implicit methods](deriving-irk-methods-section) involves choosing values of $a_{ij}$, $b_i$ and $c_i$ to satisfy the [$B(k)$, $C(k)$ and $D(k)$ order conditions](Bk_Ck_Dk_order_conditions).\n",
    "- Implicit methods have better stability properties than explicit methods meaning they can be used to solve stiff ODEs with which explicit methods are unsuitable (see next chapter on [stability](stability-chapter));\n",
    "- Implicit methods require an [iterative method](solving-ivps-using-irk-methods-section) to calculate the stage values;\n",
    "- Implicit methods are more computationally expensive when applied to non-stiff methods than explicit methods."
   ]
  }
 ],
 "metadata": {
  "kernelspec": {
   "display_name": "Python 3",
   "language": "python",
   "name": "python3"
  },
  "language_info": {
   "codemirror_mode": {
    "name": "ipython",
    "version": 3
   },
   "file_extension": ".py",
   "mimetype": "text/x-python",
   "name": "python",
   "nbconvert_exporter": "python",
   "pygments_lexer": "ipython3",
   "version": "3.8.3"
  }
 },
 "nbformat": 4,
 "nbformat_minor": 5
}