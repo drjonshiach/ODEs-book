{
 "cells": [
  {
   "cell_type": "markdown",
   "id": "13b42b37",
   "metadata": {},
   "source": [
    "# Chapter summary\n",
    "\n",
    "- A numerical method is [stable](stability-definition) if the local truncation errors do not increase from one step to the next.\n",
    "- A system of ODEs is [stiff](stiffness-section) if it requires a numerical method to use a small step length in order to remain stable.\n",
    "- If the [stiffness ratio](stiffness-ratio-definition) which is the ratio of the largest to smallest eigenvalues of the coefficient matrix of a system of ODEs is *large* then the system is considered to be stiff. \n",
    "- The stability of a method is analysed by considering the simple test equation $y' =\\lambda y$.\n",
    "- The [stability function](stability-function-definition) of a method is the amount by which the solution to the test equation changes over a single step of length.\n",
    "- A numerical method is [absolutely stable](stability-function-definition) is the absolute value of the stability function is less than 1.\n",
    "- The [region of absolute stability](region-of-absolute-stability-definition) is the set of all values in the complex plane where a numerical method is absolutely stable.\n",
    "- The [interval of absolute stability](interval-of-absolute-stability-definition) is the range of values of $z = h \\lambda$ for which a numerical method is absolutely stable.\n",
    "- The [stability function of an explicit Runge-Kutta method](erk-rz-section) is a polynomial function of $z$ the coefficients of which are calculated using the values of $a_{ij$ and $b_i$.\n",
    "- The order of an explicit Runge-Kutta method can be found by determining the highest order term in the stability function that is the same as the series expansion of $e^z$.\n",
    "- The stability function for [implicit methods](implicit-rz-section) are a fraction of two polynomial functions of $z$.\n",
    "- Implicit methods can be [A-stable](a-stability-definition) which means the region of absolute stability contains the whole left-hand side of the complex plane meaning that there is no limit placed on the value of the step length for a method to remain stable."
   ]
  }
 ],
 "metadata": {
  "kernelspec": {
   "display_name": "Python 3",
   "language": "python",
   "name": "python3"
  },
  "language_info": {
   "codemirror_mode": {
    "name": "ipython",
    "version": 3
   },
   "file_extension": ".py",
   "mimetype": "text/x-python",
   "name": "python",
   "nbconvert_exporter": "python",
   "pygments_lexer": "ipython3",
   "version": "3.8.3"
  }
 },
 "nbformat": 4,
 "nbformat_minor": 5
}