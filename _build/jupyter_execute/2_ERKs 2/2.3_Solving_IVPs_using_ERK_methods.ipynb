{
 "cells": [
  {
   "cell_type": "markdown",
   "id": "445824b3",
   "metadata": {},
   "source": [
    "(applying-erk-methods-to-solve-ivps-section)=\n",
    "# Solving initial value problems using explicit Runge-Kutta methods\n",
    "\n",
    "Recall that the [general form of an explicit Runge-Kutta method](general-form-of-a-RK-method-section) is\n",
    "\n",
    "\\begin{align*}\n",
    "    y_{n+1} &= y_n + h(b_1k_1 + b_2k_2 + \\cdots + b_sk_s), \\\\\n",
    "    k_1 &= f(t_n, y_n), \\\\\n",
    "    k_2 &= f(t_n + c_2h, y_n + ha_{21}k_1), \\\\\n",
    "    k_3 &= f(t_n + c_3h, y_n + h(a_{31}k_1 + a_{32}k_2), \\\\\n",
    "    &\\vdots \\\\\n",
    "    k_s &= f(t_n + c_sh, y_n + h(a_{s1}k_1 + a_{s2}k_2 + \\cdots + a_{s,s-1}k_{s-1}).\n",
    "\\end{align*}\n",
    "\n",
    "To apply the an explicit Runge-Kutta method to solve an initial value problem we calculate the stage values $k_1, k_2, \\dots, k_s$ using the known values of $t_n$ and $y_n$ and the step length $h$. Then the solution over one step $y_{n+1}$ is then calculated using $k_1, k_2, \\ldots, k_s$.\n",
    "\n",
    "````{admonition} Example 2.4\n",
    ":class: seealso\n",
    ":name: rk4-example\n",
    "\n",
    "Calculate the solution to the following initial value problem using the [RK4 method](rk4-definition) with $h = 0.2$\n",
    "\n",
    "\\begin{align*}\n",
    "    y'=ty, \\qquad t\\in [0,1], \\qquad y(0)=1,\n",
    "\\end{align*}\n",
    "\n",
    "and compare the computed solution to the exact solution which is $y = \\exp\\left(\\dfrac{t^2}{2}\\right)$.\n",
    "\n",
    "```{dropdown} Solution\n",
    "\n",
    "The RK4 method is\n",
    "\n",
    "\\begin{align*}\n",
    "    y_{n+1} &= y_n + \\frac{h}{6}(k_1 + 2k_2 + 3k_3 + k_4), \\\\\n",
    "    k_1 &= f(t_n, y_n), \\\\\n",
    "    k_2 &= f(t_n + \\frac{1}{2}h, y_n + \\frac{1}{2}hk_1), \\\\\n",
    "    k_3 &= f(t_n + \\frac{1}{2}h, y_n + \\frac{1}{2}hk_2), \\\\\n",
    "    k_4 &= f(t_n + h, y_n + hk_3).\n",
    "\\end{align*}\n",
    "\n",
    "Since $t\\in[0,1]$ and $h=0.2$ then the number of steps required is\n",
    "\n",
    "$$n = \\operatorname{int}\\left(\\frac{1 - 0}{0.2}\\right) = 5, $$\n",
    "\n",
    "and the $t$ values are \n",
    "\n",
    "$$\\mathbf{t} = (0, 0.2, 0.4, 0.6, 0.8, 1.0).$$\n",
    "\n",
    "The ODE function is $f(t, y) = ty$ and the initial value is $y_0 = 1$ so using equation {eq}`rk4-equation`\n",
    "\n",
    "\\begin{align*}\n",
    "    k_1 &= f(t_0, y_0) = (0.0)(1) = 0, \\\\\n",
    "    k_2 &= f(t_0 + \\frac{1}{2}h, y_0 + \\frac{1}{2}hk_1) \\\\\n",
    "    &= (0.0 + \\frac{1}{2}(0.2))(1 + \\frac{1}{2}(0.2)(0)) \\\\\n",
    "    &= 0.1, \\\\\n",
    "    k_3 &= f(t_0 + \\frac{1}{2}h, y_0 + \\frac{1}{2}hk_2) \\\\\n",
    "    &= (0.0 + \\frac{1}{2}(0.2))(1 + \\frac{1}{2}(0.2)(0.1)) \\\\\n",
    "    &= 0.101, \\\\\n",
    "    k_4 &= f(t_0 + h, y_0 + hk_2) \\\\\n",
    "    &= (0.0 + h)(1 + 0.2(0.1)) \\\\\n",
    "    &= 0.101, \\\\\n",
    "    y_1 &= y_0 + \\frac{h}{6}(k_1 + 2k_2 + 2k_3 + k_4) \\\\\n",
    "    &= 1 + \\frac{0.2}{6}(0 + 2(0.1) + 2(0.101) + 0.204040) \\\\\n",
    "    &= 1.020201, \\\\\n",
    "    \\\\\n",
    "    k_1 &= f(t_1, y_1) = (0.2)(1.020201) = 0.204040, \\\\\n",
    "    k_2 &= f(t_1 + \\frac{1}{2}h, y_1 + \\frac{1}{2}hk_1) \\\\\n",
    "    &= (0.2 + \\frac{1}{2}(0.2))(1.020201 + \\frac{1}{2}(0.2)(0.204040)) \\\\\n",
    "    &= 0.312182, \\\\\n",
    "    k_3 &= f(t_1 + \\frac{1}{2}h, y_1 + \\frac{1}{2}hk_2) \\\\\n",
    "    &= (0.2 + \\frac{1}{2}(0.2))(1.020201 + \\frac{1}{2}(0.2)(0.312182)) \\\\\n",
    "    &= 0.315426, \\\\\n",
    "    k_4 &= f(t_1 + h, y_1 + hk_2) \\\\\n",
    "    &= (0.2 + h)(1.020201 + 0.2(0.312182)) \\\\\n",
    "    &= 0.315426, \\\\\n",
    "    y_2 &= y_1 + \\frac{h}{6}(k_1 + 2k_2 + 2k_3 + k_4) \\\\\n",
    "    &= 1.020201 + \\frac{0.2}{6}(0.204040 + 2(0.312182) + 2(0.315426) + 0.433315) \\\\\n",
    "    &= 1.083287, \\\\\n",
    "    \\\\\n",
    "    k_1 &= f(t_2, y_2) = (0.4)(1.083287) = 0.433315, \\\\\n",
    "    k_2 &= f(t_2 + \\frac{1}{2}h, y_2 + \\frac{1}{2}hk_1) \\\\\n",
    "    &= (0.4 + \\frac{1}{2}(0.2))(1.083287 + \\frac{1}{2}(0.2)(0.433315)) \\\\\n",
    "    &= 0.563309, \\\\\n",
    "    k_3 &= f(t_2 + \\frac{1}{2}h, y_2 + \\frac{1}{2}hk_2) \\\\\n",
    "    &= (0.4 + \\frac{1}{2}(0.2))(1.083287 + \\frac{1}{2}(0.2)(0.563309)) \\\\\n",
    "    &= 0.569809, \\\\\n",
    "    k_4 &= f(t_2 + h, y_2 + hk_2) \\\\\n",
    "    &= (0.4 + h)(1.083287 + 0.2(0.563309)) \\\\\n",
    "    &= 0.569809, \\\\\n",
    "    y_3 &= y_2 + \\frac{h}{6}(k_1 + 2k_2 + 2k_3 + k_4) \\\\\n",
    "    &= 1.083287 + \\frac{0.2}{6}(0.433315 + 2(0.563309) + 2(0.569809) + 0.718349) \\\\\n",
    "    &= 1.197217, \\\\\n",
    "    \\\\\n",
    "    k_1 &= f(t_3, y_3) = (0.6)(1.197217) = 0.718330, \\\\\n",
    "    k_2 &= f(t_3 + \\frac{1}{2}h, y_3 + \\frac{1}{2}hk_1) \\\\\n",
    "    &= (0.6 + \\frac{1}{2}(0.2))(1.197217 + \\frac{1}{2}(0.2)(0.718330)) \\\\\n",
    "    &= 0.888335, \\\\\n",
    "    k_3 &= f(t_3 + \\frac{1}{2}h, y_3 + \\frac{1}{2}hk_2) \\\\\n",
    "    &= (0.6 + \\frac{1}{2}(0.2))(1.197217 + \\frac{1}{2}(0.2)(0.888335)) \\\\\n",
    "    &= 0.900235, \\\\\n",
    "    k_4 &= f(t_3 + h, y_3 + hk_2) \\\\\n",
    "    &= (0.6 + h)(1.197217 + 0.2(0.888335)) \\\\\n",
    "    &= 0.900235, \\\\\n",
    "    y_4 &= y_3 + \\frac{h}{6}(k_1 + 2k_2 + 2k_3 + k_4) \\\\\n",
    "    &= 1.197217 + \\frac{0.2}{6}(0.718330 + 2(0.888335) + 2(0.900235) + 1.101811) \\\\\n",
    "    &= 1.377126, \\\\\n",
    "    \\\\\n",
    "    k_1 &= f(t_4, y_4) = (0.8)(1.377126) = 1.101701, \\\\\n",
    "    k_2 &= f(t_4 + \\frac{1}{2}h, y_4 + \\frac{1}{2}hk_1) \\\\\n",
    "    &= (0.8 + \\frac{1}{2}(0.2))(1.377126 + \\frac{1}{2}(0.2)(1.101701)) \\\\\n",
    "    &= 1.338567, \\\\\n",
    "    k_3 &= f(t_4 + \\frac{1}{2}h, y_4 + \\frac{1}{2}hk_2) \\\\\n",
    "    &= (0.8 + \\frac{1}{2}(0.2))(1.377126 + \\frac{1}{2}(0.2)(1.338567)) \\\\\n",
    "    &= 1.359885, \\\\\n",
    "    k_4 &= f(t_4 + h, y_4 + hk_2) \\\\\n",
    "    &= (0.8 + h)(1.377126 + 0.2(1.338567)) \\\\\n",
    "    &= 1.359885, \\\\\n",
    "    y_5 &= y_4 + \\frac{h}{6}(k_1 + 2k_2 + 2k_3 + k_4) \\\\\n",
    "    &= 1.377126 + \\frac{0.2}{6}(1.101701 + 2(1.338567) + 2(1.359885) + 1.649103) \\\\\n",
    "    &= 1.648717.\n",
    "\\end{align*}\n",
    "```\n",
    "````\n",
    "\n",
    "(rk4-python-code)=\n",
    "## Python code\n",
    "\n",
    "The Python code below defines a function called `rk4()` which computes the solution to an initial value problem using the RK4 method. Note that the function is very similar to the function for the [RK2 method](rk2-python-code)."
   ]
  },
  {
   "cell_type": "code",
   "execution_count": 1,
   "id": "44b5bc6b",
   "metadata": {
    "tags": [
     "remove-cell"
    ]
   },
   "outputs": [
    {
     "name": "stdout",
     "output_type": "stream",
     "text": [
      "\\begin{align*}\n",
      "    k_1 &= f(t_0, y_0) = (0.0)(1.000000) = 0.000000, \\\\\n",
      "    k_2 &= f(t_0 + \\frac{1}{2}h, y_0 + \\frac{1}{2}hk_1) \\\\\n",
      "    &= (0.0 + \\frac{1}{2}(0.2))(1.000000 + \\frac{1}{2}(0.2)(0.000000)) \\\\\n",
      "    &= 0.100000, \\\\\n",
      "    k_3 &= f(t_0 + \\frac{1}{2}h, y_0 + \\frac{1}{2}hk_2) \\\\\n",
      "    &= (0.0 + \\frac{1}{2}(0.2))(1.000000 + \\frac{1}{2}(0.2)(0.100000)) \\\\\n",
      "    &= 0.101000, \\\\\n",
      "    k_4 &= f(t_0 + h, y_0 + hk_2) \\\\\n",
      "    &= (0.0 + h)(1.000000 + 0.2(0.100000)) \\\\\n",
      "    &= 0.101000, \\\\\n",
      "    y_1 &= y_0 + \\frac{h}{6}(k_1 + 2k_2 + 2k_3 + k_4) \\\\\n",
      "    &= 1.000000 + \\frac{0.2}{6}(0.000000 + 2(0.100000) + 2(0.101000) + 0.204040) \\\\\n",
      "    &= 1.020201, \\\\\n",
      "    \\\\\n",
      "    k_1 &= f(t_1, y_1) = (0.2)(1.020201) = 0.204040, \\\\\n",
      "    k_2 &= f(t_1 + \\frac{1}{2}h, y_1 + \\frac{1}{2}hk_1) \\\\\n",
      "    &= (0.2 + \\frac{1}{2}(0.2))(1.020201 + \\frac{1}{2}(0.2)(0.204040)) \\\\\n",
      "    &= 0.312182, \\\\\n",
      "    k_3 &= f(t_1 + \\frac{1}{2}h, y_1 + \\frac{1}{2}hk_2) \\\\\n",
      "    &= (0.2 + \\frac{1}{2}(0.2))(1.020201 + \\frac{1}{2}(0.2)(0.312182)) \\\\\n",
      "    &= 0.315426, \\\\\n",
      "    k_4 &= f(t_1 + h, y_1 + hk_2) \\\\\n",
      "    &= (0.2 + h)(1.020201 + 0.2(0.312182)) \\\\\n",
      "    &= 0.315426, \\\\\n",
      "    y_2 &= y_1 + \\frac{h}{6}(k_1 + 2k_2 + 2k_3 + k_4) \\\\\n",
      "    &= 1.020201 + \\frac{0.2}{6}(0.204040 + 2(0.312182) + 2(0.315426) + 0.433315) \\\\\n",
      "    &= 1.083287, \\\\\n",
      "    \\\\\n",
      "    k_1 &= f(t_2, y_2) = (0.4)(1.083287) = 0.433315, \\\\\n",
      "    k_2 &= f(t_2 + \\frac{1}{2}h, y_2 + \\frac{1}{2}hk_1) \\\\\n",
      "    &= (0.4 + \\frac{1}{2}(0.2))(1.083287 + \\frac{1}{2}(0.2)(0.433315)) \\\\\n",
      "    &= 0.563309, \\\\\n",
      "    k_3 &= f(t_2 + \\frac{1}{2}h, y_2 + \\frac{1}{2}hk_2) \\\\\n",
      "    &= (0.4 + \\frac{1}{2}(0.2))(1.083287 + \\frac{1}{2}(0.2)(0.563309)) \\\\\n",
      "    &= 0.569809, \\\\\n",
      "    k_4 &= f(t_2 + h, y_2 + hk_2) \\\\\n",
      "    &= (0.4 + h)(1.083287 + 0.2(0.563309)) \\\\\n",
      "    &= 0.569809, \\\\\n",
      "    y_3 &= y_2 + \\frac{h}{6}(k_1 + 2k_2 + 2k_3 + k_4) \\\\\n",
      "    &= 1.083287 + \\frac{0.2}{6}(0.433315 + 2(0.563309) + 2(0.569809) + 0.718349) \\\\\n",
      "    &= 1.197217, \\\\\n",
      "    \\\\\n",
      "    k_1 &= f(t_3, y_3) = (0.6)(1.197217) = 0.718330, \\\\\n",
      "    k_2 &= f(t_3 + \\frac{1}{2}h, y_3 + \\frac{1}{2}hk_1) \\\\\n",
      "    &= (0.6 + \\frac{1}{2}(0.2))(1.197217 + \\frac{1}{2}(0.2)(0.718330)) \\\\\n",
      "    &= 0.888335, \\\\\n",
      "    k_3 &= f(t_3 + \\frac{1}{2}h, y_3 + \\frac{1}{2}hk_2) \\\\\n",
      "    &= (0.6 + \\frac{1}{2}(0.2))(1.197217 + \\frac{1}{2}(0.2)(0.888335)) \\\\\n",
      "    &= 0.900235, \\\\\n",
      "    k_4 &= f(t_3 + h, y_3 + hk_2) \\\\\n",
      "    &= (0.6 + h)(1.197217 + 0.2(0.888335)) \\\\\n",
      "    &= 0.900235, \\\\\n",
      "    y_4 &= y_3 + \\frac{h}{6}(k_1 + 2k_2 + 2k_3 + k_4) \\\\\n",
      "    &= 1.197217 + \\frac{0.2}{6}(0.718330 + 2(0.888335) + 2(0.900235) + 1.101811) \\\\\n",
      "    &= 1.377126, \\\\\n",
      "    \\\\\n",
      "    k_1 &= f(t_4, y_4) = (0.8)(1.377126) = 1.101701, \\\\\n",
      "    k_2 &= f(t_4 + \\frac{1}{2}h, y_4 + \\frac{1}{2}hk_1) \\\\\n",
      "    &= (0.8 + \\frac{1}{2}(0.2))(1.377126 + \\frac{1}{2}(0.2)(1.101701)) \\\\\n",
      "    &= 1.338567, \\\\\n",
      "    k_3 &= f(t_4 + \\frac{1}{2}h, y_4 + \\frac{1}{2}hk_2) \\\\\n",
      "    &= (0.8 + \\frac{1}{2}(0.2))(1.377126 + \\frac{1}{2}(0.2)(1.338567)) \\\\\n",
      "    &= 1.359885, \\\\\n",
      "    k_4 &= f(t_4 + h, y_4 + hk_2) \\\\\n",
      "    &= (0.8 + h)(1.377126 + 0.2(1.338567)) \\\\\n",
      "    &= 1.359885, \\\\\n",
      "    y_5 &= y_4 + \\frac{h}{6}(k_1 + 2k_2 + 2k_3 + k_4) \\\\\n",
      "    &= 1.377126 + \\frac{0.2}{6}(1.101701 + 2(1.338567) + 2(1.359885) + 1.649103) \\\\\n",
      "    &= 1.648717.\n",
      "\\end{align*}\n"
     ]
    }
   ],
   "source": [
    "import numpy as np\n",
    "import matplotlib.pyplot as plt\n",
    "\n",
    "def f(t, y):\n",
    "    return t * y\n",
    "\n",
    "\n",
    "def exact(t):\n",
    "    return np.exp(t ** 2 / 2)\n",
    "\n",
    "\n",
    "def rk4(f, tspan, y0, h):\n",
    "    nsteps = int((tspan[1] - tspan[0]) / h)\n",
    "    neq = len(y0)\n",
    "    t = np.arange(nsteps + 1) * h\n",
    "    y = np.zeros((nsteps + 1, neq))\n",
    "    y[0,:] = y0\n",
    "    print(r\"\\begin{align*}\")\n",
    "    for n in range(nsteps):\n",
    "        k1 = f(t[n], y[n,:])\n",
    "        k2 = f(t[n] + 0.5 * h, y[n,:] + 0.5 * h * k1)\n",
    "        k3 = f(t[n] + 0.5 * h, y[n,:] + 0.5 * h * k2)\n",
    "        k4 = f(t[n] + h, y[n,:] + h * k3)\n",
    "        y[n+1,:] = y[n,:] + h / 6 * (k1 + 2 * k2 + 2 * k3 + k4)\n",
    "        print(rf\"    k_1 &= f(t_{n}, y_{n}) = ({t[n]:0.1f})({y[n,0]:0.6f}) = {k1[0]:0.6f}, \\\\\")   \n",
    "        print(rf\"    k_2 &= f(t_{n} + \\frac{{1}}{{2}}h, y_{n} + \\frac{{1}}{{2}}hk_1) \\\\\")\n",
    "        print(rf\"    &= ({t[n]:0.1f} + \\frac{{1}}{{2}}({h}))({y[n,0]:0.6f} + \\frac{{1}}{{2}}({h})({k1[0]:0.6f})) \\\\\")\n",
    "        print(rf\"    &= {k2[0]:0.6f}, \\\\\")\n",
    "        print(rf\"    k_3 &= f(t_{n} + \\frac{{1}}{{2}}h, y_{n} + \\frac{{1}}{{2}}hk_2) \\\\\")\n",
    "        print(rf\"    &= ({t[n]:0.1f} + \\frac{{1}}{{2}}({h}))({y[n,0]:0.6f} + \\frac{{1}}{{2}}({h})({k2[0]:0.6f})) \\\\\")\n",
    "        print(rf\"    &= {k3[0]:0.6f}, \\\\\")\n",
    "        print(rf\"    k_4 &= f(t_{n} + h, y_{n} + hk_2) \\\\\")\n",
    "        print(rf\"    &= ({t[n]:0.1f} + h)({y[n,0]:0.6f} + {h}({k2[0]:0.6f})) \\\\\")\n",
    "        print(rf\"    &= {k3[0]:0.6f}, \\\\\")\n",
    "        print(rf\"    y_{n+1} &= y_{n} + \\frac{{h}}{{6}}(k_1 + 2k_2 + 2k_3 + k_4) \\\\\")\n",
    "        print(rf\"    &= {y[n,0]:0.6f} + \\frac{{{h}}}{{6}}({k1[0]:0.6f} + 2({k2[0]:0.6f}) + 2({k3[0]:0.6f}) + {k4[0]:0.6f}) \\\\\")\n",
    "        print(rf\"    &= {y[n+1,0]:0.6f}\", end=\"\")\n",
    "        if n < nsteps - 1:\n",
    "            print(rf\", \\\\\")\n",
    "            print(r\"    \\\\\")\n",
    "        else:\n",
    "            print(rf\".\")\n",
    "    \n",
    "    print(r\"\\end{align*}\")\n",
    "    return t, y \n",
    "\n",
    "# Define IVP\n",
    "tspan = [0, 1]  # boundaries of the t domain\n",
    "y0 = [1]        # solution at the lower boundary\n",
    "h = 0.2         # step length\n",
    "\n",
    "# Calculate the solution to the IVP\n",
    "t, y = rk4(f, tspan, y0, h)"
   ]
  },
  {
   "cell_type": "code",
   "execution_count": 2,
   "id": "a9df0519",
   "metadata": {},
   "outputs": [],
   "source": [
    "def rk4(f, tspan, y0, h):\n",
    "    nsteps = int((tspan[1] - tspan[0]) / h)\n",
    "    neq = len(y0)\n",
    "    t = np.arange(nsteps + 1) * h\n",
    "    y = np.zeros((nsteps + 1, neq))\n",
    "    y[0,:] = y0\n",
    "    for n in range(nsteps):\n",
    "        k1 = f(t[n], y[n,:])\n",
    "        k2 = f(t[n] + 0.5 * h, y[n,:] + 0.5 * h * k1)\n",
    "        k3 = f(t[n] + 0.5 * h, y[n,:] + 0.5 * h * k2)\n",
    "        k4 = f(t[n] + h, y[n,:] + h * k3)\n",
    "        y[n+1,:] = y[n,:] + h / 6 * (k1 + 2 * k2 + 2 * k3 + k4)\n",
    "        \n",
    "    return t, y "
   ]
  },
  {
   "cell_type": "markdown",
   "id": "7ecd78e9",
   "metadata": {},
   "source": [
    "The computed solutions using the fourth-order explicit Runge-Kutta are plotted in {numref}`rk4-example-figure` below. \n",
    "\n",
    "```{glue:figure} rk4_example_plot \n",
    ":name: rk4-example-figure\n",
    "\n",
    "The solutions to the initial value problem $y'=ty$, $t\\in[0,1]$, $y(0)=1$ using the RK4 method with $h=0.2$.\n",
    "```"
   ]
  },
  {
   "cell_type": "code",
   "execution_count": 3,
   "id": "02e80a61",
   "metadata": {
    "tags": [
     "remove-cell"
    ]
   },
   "outputs": [
    {
     "data": {
      "image/png": "[encoded data removed]",
      "text/plain": [
       "<Figure size 576x432 with 1 Axes>"
      ]
     },
     "metadata": {
      "filenames": {
       "image/png": "/Users/55093290/Library/CloudStorage/OneDrive-MMU/Documents (OneDrive)/2022_2023/ODEs/ODEs-book/_build/jupyter_execute/2_ERKs/2.3_Solving_IVPs_using_ERK_methods_4_0.png"
      },
      "needs_background": "light"
     },
     "output_type": "display_data"
    },
    {
     "data": {
      "image/png": "[encoded data removed]",
      "text/plain": [
       "<Figure size 576x432 with 1 Axes>"
      ]
     },
     "metadata": {
      "filenames": {
       "image/png": "/Users/55093290/Library/CloudStorage/OneDrive-MMU/Documents (OneDrive)/2022_2023/ODEs/ODEs-book/_build/jupyter_execute/2_ERKs/2.3_Solving_IVPs_using_ERK_methods_4_1.png"
      },
      "scrapbook": {
       "mime_prefix": "application/papermill.record/",
       "name": "rk4_example_plot"
      }
     },
     "output_type": "display_data"
    }
   ],
   "source": [
    "def f(t, y):\n",
    "    return t * y\n",
    "\n",
    "\n",
    "def exact(t):\n",
    "    return np.exp(t ** 2 / 2)\n",
    "\n",
    "\n",
    "# Define IVP\n",
    "tspan = [0, 1]  # boundaries of the t domain\n",
    "y0 = [1]        # solution at the lower boundary\n",
    "h = 0.2         # step length\n",
    "\n",
    "# Calculate the solution to the IVP\n",
    "t, y = rk4(f, tspan, y0, h)\n",
    "\n",
    "# Plot solutions\n",
    "t_exact = np.linspace(tspan[0], tspan[1], 200)\n",
    "y_exact = exact(t_exact)\n",
    "fig, ax = plt.subplots(figsize=(8, 6))\n",
    "plt.plot(t_exact, y_exact, \"k\", label=\"Exact\")\n",
    "plt.plot(t, y, \"bo-\", label=\"RK4\")\n",
    "plt.xlabel(\"$t$\", fontsize=14)\n",
    "plt.ylabel(\"$y$\", fontsize=14)\n",
    "plt.legend(fontsize=12)\n",
    "plt.show()\n",
    "\n",
    "from myst_nb import glue\n",
    "glue(\"rk4_example_plot\", fig, display=False)"
   ]
  },
  {
   "cell_type": "markdown",
   "id": "e375fa45",
   "metadata": {},
   "source": [
    "Doing a visual comparison of the solutions using the [RK2](rk2-definition) ({numref}`rk2-example-figure`) and [RK4](rk4-definition) ({numref}`rk4-example-figure`) methods it appears that the two solutions are very similar. A loglog plot of the global truncation errors for these methods and the Euler methods is shown in {numref}`rk4-gte-plot-figure`.\n",
    "\n",
    "```{glue:figure} rk4_gte_plot\n",
    ":name: rk4-gte-plot-figure\n",
    "\n",
    "A loglog plot of the global truncation errors for the solutions of $y'=ty$, $y(0)=1$ using the Euler, RK2 and RK4 methods solutions.\n",
    "```\n",
    "\n",
    "Here we see that the fourth-order method is significantly more accurate than the second-order method and approximating the value of $n$ in $e = O(h^n)$ using the method given in equation {eq}`order-approximation-equation` gives $n = 4.09$ which indicates fourth-order convergence as expected."
   ]
  },
  {
   "cell_type": "code",
   "execution_count": 4,
   "id": "fd1d1c2e",
   "metadata": {
    "tags": [
     "remove-cell"
    ]
   },
   "outputs": [
    {
     "name": "stdout",
     "output_type": "stream",
     "text": [
      "\n",
      "Euler: 0.94\n",
      "RK2:   2.14\n",
      "RK4:   4.09\n"
     ]
    },
    {
     "data": {
      "image/png": "[encoded data removed]",
      "text/plain": [
       "<Figure size 576x432 with 1 Axes>"
      ]
     },
     "metadata": {
      "filenames": {
       "image/png": "/Users/55093290/Library/CloudStorage/OneDrive-MMU/Documents (OneDrive)/2022_2023/ODEs/ODEs-book/_build/jupyter_execute/2_ERKs/2.3_Solving_IVPs_using_ERK_methods_6_1.png"
      },
      "scrapbook": {
       "mime_prefix": "application/papermill.record/",
       "name": "rk4_gte_plot"
      }
     },
     "output_type": "display_data"
    },
    {
     "data": {
      "image/png": "[encoded data removed]",
      "text/plain": [
       "<Figure size 576x432 with 1 Axes>"
      ]
     },
     "metadata": {
      "filenames": {
       "image/png": "/Users/55093290/Library/CloudStorage/OneDrive-MMU/Documents (OneDrive)/2022_2023/ODEs/ODEs-book/_build/jupyter_execute/2_ERKs/2.3_Solving_IVPs_using_ERK_methods_6_2.png"
      },
      "needs_background": "light"
     },
     "output_type": "display_data"
    }
   ],
   "source": [
    "def euler(f, tspan, y0, h):\n",
    "    nsteps = int((tspan[1] - tspan[0]) / h)\n",
    "    neq = len(y0)\n",
    "    t = np.arange(nsteps + 1) * h\n",
    "    y = np.zeros((nsteps + 1, neq))\n",
    "    y[0,:] = y0\n",
    "    for n in range(nsteps):\n",
    "        y[n+1,:] = y[n,:] + h * f(t[n], y[n,:])\n",
    "        \n",
    "    return t, y \n",
    "\n",
    "\n",
    "def rk2(f, tspan, y0, h):\n",
    "    nsteps = int((tspan[1] - tspan[0]) / h)\n",
    "    neq = len(y0)\n",
    "    t = np.arange(nsteps + 1) * h\n",
    "    y = np.zeros((nsteps + 1, neq))\n",
    "    y[0,:] = y0\n",
    "    for n in range(nsteps):\n",
    "        k1 = f(t[n], y[n,:])\n",
    "        k2 = f(t[n] + h, y[n,:] + h * k1)\n",
    "        y[n+1,:] = y[n,:] + h / 2 * (k1 + k2)\n",
    "        \n",
    "    return t, y\n",
    "\n",
    "\n",
    "def rk4(f, tspan, y0, h):\n",
    "    nsteps = int((tspan[1] - tspan[0]) / h)\n",
    "    neq = len(y0)\n",
    "    t = np.arange(nsteps + 1) * h\n",
    "    y = np.zeros((nsteps + 1, neq))\n",
    "    y[0,:] = y0\n",
    "    for n in range(nsteps):\n",
    "        k1 = f(t[n], y[n,:])\n",
    "        k2 = f(t[n] + 0.5 * h, y[n,:] + 0.5 * h * k1)\n",
    "        k3 = f(t[n] + 0.5 * h, y[n,:] + 0.5 * h * k2)\n",
    "        k4 = f(t[n] + h, y[n,:] + h * k3)\n",
    "        y[n+1,:] = y[n,:] + h / 6 * (k1 + 2 * k2 + 2 * k3 + k4)\n",
    "        \n",
    "    return t, y \n",
    "\n",
    "# Calculate solution for decreasing step lengths and plot the solution\n",
    "hvalues = [0.2, 0.1, 0.05, 0.025]\n",
    "rk4_errors, rk2_errors, euler_errors = [], [], []\n",
    "for h in hvalues:\n",
    "    t, y = rk4(f, tspan, y0, h)\n",
    "    rk4_errors.append(abs(y_exact[-1] - y[-1,0]))\n",
    "    t, y = rk2(f, tspan, y0, h)\n",
    "    rk2_errors.append(abs(y_exact[-1] - y[-1,0]))\n",
    "    t, y = euler(f, tspan, y0, h)\n",
    "    euler_errors.append(abs(y_exact[-1] - y[-1,0]))\n",
    "\n",
    "# Approximate the orders\n",
    "print(f\"\\nEuler: {(np.log10(euler_errors[0]) - np.log10(euler_errors[-1])) / (np.log10(hvalues[0]) - np.log10(hvalues[-1])):0.2f}\")\n",
    "print(f\"RK2:   {(np.log10(rk2_errors[0]) - np.log10(rk2_errors[-1])) / (np.log10(hvalues[0]) - np.log10(hvalues[-1])):0.2f}\")\n",
    "print(f\"RK4:   {(np.log10(rk4_errors[0]) - np.log10(rk4_errors[-1])) / (np.log10(hvalues[0]) - np.log10(hvalues[-1])):0.2f}\")\n",
    "\n",
    "\n",
    "# Plot errors\n",
    "fig, ax = plt.subplots(figsize=(8, 6))\n",
    "plt.loglog(hvalues, euler_errors, 'ro-', label=\"Euler\")\n",
    "plt.loglog(hvalues, rk2_errors, 'go-', label=\"RK2\")\n",
    "plt.loglog(hvalues, rk4_errors, 'bo-', label=\"RK4\")\n",
    "plt.xlabel(r\"$\\log(h)$\", fontsize=16)\n",
    "plt.ylabel(r\"$\\log(e)$\", fontsize=16)\n",
    "plt.legend()\n",
    "\n",
    "glue(\"rk4_gte_plot\", fig, display=False)"
   ]
  }
 ],
 "metadata": {
  "celltoolbar": "Tags",
  "kernelspec": {
   "display_name": "Python 3",
   "language": "python",
   "name": "python3"
  },
  "language_info": {
   "codemirror_mode": {
    "name": "ipython",
    "version": 3
   },
   "file_extension": ".py",
   "mimetype": "text/x-python",
   "name": "python",
   "nbconvert_exporter": "python",
   "pygments_lexer": "ipython3",
   "version": "3.9.7"
  },
  "vscode": {
   "interpreter": {
    "hash": "966c2572ce838c9df552f8ed5c38cfd9c878261c104862aacf38d1f7f9c4e98b"
   }
  }
 },
 "nbformat": 4,
 "nbformat_minor": 5
}