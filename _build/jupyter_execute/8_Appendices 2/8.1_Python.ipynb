{
 "cells": [
  {
   "cell_type": "markdown",
   "id": "7c7cc303",
   "metadata": {},
   "source": [
    "# Python code\n",
    "\n",
    "The Python code used in this book is given here for reference.\n",
    "\n",
    "## Importing libraries\n",
    "\n",
    "The following code is used to import the libraries that we will use here. \n",
    "\n",
    "- [NumPy](https://numpy.org/) (pronounced *'num-pie'*) for performing numerical calculations\n",
    "- [SymPy](https://www.sympy.org/en/index.html) (pronounced *'sim-pie'*) for performing symbolic calculations\n",
    "- [Matplotlib](https://matplotlib.org/stable/index.html) for plotting solutions\n",
    "- [IPython.display](https://ipython.org/) for displaying SymPy output using $\\LaTeX$ fonts (not necessary if not using Jupyter notebooks)"
   ]
  },
  {
   "cell_type": "code",
   "execution_count": 1,
   "id": "a00e0962",
   "metadata": {},
   "outputs": [],
   "source": [
    "import numpy as np\n",
    "import sympy as sp\n",
    "import matplotlib.pyplot as plt\n",
    "from IPython.display import Math"
   ]
  },
  {
   "cell_type": "markdown",
   "id": "eabc4ab4",
   "metadata": {},
   "source": [
    "## ODE solvers\n",
    "\n",
    "The ODE solver functions all solve an initial value problem of the form $\\mathbf{y}' = f(t, \\mathbf{y})$, $t \\in [a, b]$ and $\\mathbf{y}_0 = \\mathbf{\\alpha}$ using a step length of $h$. The functions return arrays containing the values of $t_n$ and $\\mathbf{y}$ for the solution domain.\n",
    "\n",
    "### The Euler method"
   ]
  },
  {
   "cell_type": "code",
   "execution_count": 2,
   "id": "59dd9726",
   "metadata": {},
   "outputs": [],
   "source": [
    "def euler(f, tspan, y0, h):\n",
    "    nsteps = int((tspan[1] - tspan[0]) / h)\n",
    "    neq = len(y0)\n",
    "    t = np.arange(nsteps + 1) * h\n",
    "    y = np.zeros((nsteps + 1, neq))\n",
    "    y[0,:] = y0\n",
    "    for n in range(nsteps):\n",
    "        y[n+1,:] = y[n,:] + h * f(t[n], y[n,:])\n",
    "        \n",
    "    return t, y "
   ]
  },
  {
   "cell_type": "markdown",
   "id": "6bcb8aa0",
   "metadata": {},
   "source": [
    "### Defining and solving an IVP\n",
    "\n",
    "The following code defines the following ODE and uses the `euler()` function with a step length of $h=0.2$ to compute the solution\n",
    "\n",
    "$$y' = ty, \\qquad t \\in[0, 1], \\qquad y(0) = 1.$$"
   ]
  },
  {
   "cell_type": "code",
   "execution_count": 3,
   "id": "8a4e8bad",
   "metadata": {},
   "outputs": [
    {
     "name": "stdout",
     "output_type": "stream",
     "text": [
      "|  t   |   Euler   |   Exact   |  Error   |\n",
      "|:----:|:---------:|:---------:|:--------:|\n",
      "| 0.00 |  1.000000 |  1.000000 | 0.00e+00 |\n",
      "| 0.20 |  1.000000 |  1.020201 | 2.02e-02 |\n",
      "| 0.40 |  1.040000 |  1.083287 | 4.33e-02 |\n",
      "| 0.60 |  1.123200 |  1.197217 | 7.40e-02 |\n",
      "| 0.80 |  1.257984 |  1.377128 | 1.19e-01 |\n",
      "| 1.00 |  1.459261 |  1.648721 | 1.89e-01 |\n"
     ]
    }
   ],
   "source": [
    "def f(t, y):\n",
    "    return t * y\n",
    "\n",
    "def exact(t):\n",
    "    return np.exp(t ** 2 / 2)\n",
    "\n",
    "\n",
    "# Define IVP parameters\n",
    "tspan = [0, 1]  # boundaries of the t domain\n",
    "y0 = [1]        # solution at the lower boundary\n",
    "h = 0.2         # step length\n",
    "\n",
    "# Calculate the solution to the IVP\n",
    "t, y = euler(f, tspan, y0, h)\n",
    "\n",
    "# Print table of solution values\n",
    "print(\"|  t   |   Euler   |   Exact   |  Error   |\")\n",
    "print(\"|:----:|:---------:|:---------:|:--------:|\")\n",
    "for n in range(len(t)):\n",
    "    print(f\"| {t[n]:4.2f} | {y[n,0]:9.6f} | {exact(t[n]):9.6f} | {abs(y[n,0] - exact(t[n])):8.2e} |\")\n"
   ]
  },
  {
   "cell_type": "markdown",
   "id": "9c66584b",
   "metadata": {},
   "source": [
    "### Ploting the solution\n",
    "\n",
    "The following code uses matplotlib functions to plot the solution."
   ]
  },
  {
   "cell_type": "code",
   "execution_count": 4,
   "id": "71d7b76b",
   "metadata": {},
   "outputs": [
    {
     "data": {
      "image/png": "[encoded data removed]",
      "text/plain": [
       "<Figure size 576x432 with 1 Axes>"
      ]
     },
     "metadata": {
      "filenames": {
       "image/png": "/Users/55093290/Library/CloudStorage/OneDrive-MMU/Documents (OneDrive)/2022_2023/ODEs/ODEs-book/_build/jupyter_execute/8_Appendices/8.1_Python_7_0.png"
      },
      "needs_background": "light"
     },
     "output_type": "display_data"
    }
   ],
   "source": [
    "# Calculate exact solution\n",
    "t_exact = np.linspace(tspan[0], tspan[1], 200)\n",
    "y_exact = exact(t_exact)\n",
    "\n",
    "# Plot solution\n",
    "fig, ax = plt.subplots(figsize=(8, 6))\n",
    "plt.plot(t_exact, y_exact, \"k\", label=\"Exact\")\n",
    "plt.plot(t, y, \"bo-\", label=\"Euler\")\n",
    "plt.xlabel(\"$t$\", fontsize=14)\n",
    "plt.ylabel(\"$y$\", fontsize=14)\n",
    "plt.legend(fontsize=12)\n",
    "plt.show()"
   ]
  },
  {
   "cell_type": "markdown",
   "id": "248bedf0",
   "metadata": {},
   "source": [
    "### The RK2 Method\n",
    "\n",
    "The RK2 method (second-order Runge-Kutta method) is defined by the following Butcher tableau.\n",
    "\n",
    "\\begin{align*}\n",
    "    \\begin{array}{c|cc}\n",
    "        0 & 0 \\\\\n",
    "        1 & 1 \\\\ \\hline\n",
    "        & \\frac{1}{2} & \\frac{1}{2}\n",
    "    \\end{array}\n",
    "\\end{align*}"
   ]
  },
  {
   "cell_type": "code",
   "execution_count": 5,
   "id": "c27e0cb9",
   "metadata": {},
   "outputs": [],
   "source": [
    "def rk2(f, tspan, y0, h):\n",
    "    nsteps = int((tspan[1] - tspan[0]) / h)\n",
    "    neq = len(y0)\n",
    "    t = np.arange(nsteps + 1) * h\n",
    "    y = np.zeros((nsteps + 1, neq))\n",
    "    y[0,:] = y0\n",
    "    for n in range(nsteps):\n",
    "        k1 = f(t[n], y[n,:])\n",
    "        k2 = f(t[n] + h, y[n,:] + h * k1)\n",
    "        y[n+1,:] = y[n,:] + h / 2 * (k1 + k2)\n",
    "        \n",
    "    return t, y"
   ]
  },
  {
   "cell_type": "markdown",
   "id": "247c8d8b",
   "metadata": {},
   "source": [
    "### The RK4 method\n",
    "\n",
    "The RK4 methods (fourth-order Runge-Kutta method) is defined by the following Butcher tableau.\n",
    "\n",
    "\\begin{align*}\n",
    "    \\begin{array}{c|cccc}\n",
    "        0 & 0 \\\\\n",
    "        \\frac{1}{2} & \\frac{1}{2} \\\\\n",
    "        \\frac{1}{2} & 0 & \\frac{1}{2} \\\\\n",
    "        1 & 0 & 0 & 1 \\\\ \\hline\n",
    "        & \\frac{1}{6} & \\frac{1}{3} & \\frac{1}{3} & \\frac{1}{6}\n",
    "    \\end{array}\n",
    "\\end{align*}"
   ]
  },
  {
   "cell_type": "code",
   "execution_count": 6,
   "id": "a85caa67",
   "metadata": {},
   "outputs": [],
   "source": [
    "def rk4(f, tspan, y0, h):\n",
    "    nsteps = int((tspan[1] - tspan[0]) / h)\n",
    "    neq = len(y0)\n",
    "    t = np.arange(nsteps + 1) * h\n",
    "    y = np.zeros((nsteps + 1, neq))\n",
    "    y[0,:] = y0\n",
    "    for n in range(nsteps):\n",
    "        k1 = f(t[n], y[n,:])\n",
    "        k2 = f(t[n] + 0.5 * h, y[n,:] + 0.5 * h * k1)\n",
    "        k3 = f(t[n] + 0.5 * h, y[n,:] + 0.5 * h * k2)\n",
    "        k4 = f(t[n] + h, y[n,:] + h * k3)\n",
    "        y[n+1,:] = y[n,:] + h / 6 * (k1 + 2 * k2 + 2 * k3 + k4)\n",
    "        \n",
    "    return t, y "
   ]
  },
  {
   "cell_type": "markdown",
   "id": "2a233401",
   "metadata": {},
   "source": [
    "### The third-order Radau IA implicit Runge-Kutta method\n",
    "\n",
    "The third-order Radau IA implicit Runge-Kutta method is defined by the following Butcher tableau.\n",
    "\n",
    "\\begin{align*}\n",
    "    \\begin{array}{c|cc}\n",
    "        0 & \\frac{1}{4} & -\\frac{1}{4} \\\\\n",
    "        \\frac{2}{3} & \\frac{1}{4} & \\frac{5}{12} \\\\ \\hline\n",
    "        & \\frac{1}{4} & \\frac{3}{4}\n",
    "    \\end{array}\n",
    "\\end{align*}"
   ]
  },
  {
   "cell_type": "code",
   "execution_count": 7,
   "id": "4e3241c7",
   "metadata": {},
   "outputs": [],
   "source": [
    "def radauIA(f, tspan, y0, h, tol=1e-6):\n",
    "    nsteps = int((tspan[1] - tspan[0]) / h)\n",
    "    neq = len(y0)\n",
    "    t = np.arange(nsteps + 1) * h\n",
    "    y = np.zeros((nsteps + 1, neq))\n",
    "    y[0,:] = y0\n",
    "    for n in range(nsteps):\n",
    "        Y1, Y2, Y1o, Y2o = np.ones(neq), np.ones(neq), np.ones(neq), np.ones(neq)\n",
    "        for k in range(100):\n",
    "            Y1 = y[n,:] + h * (1/4 * f(t[n], Y1) - 1/4 * f(t[n] + 2/3 * h, Y2))\n",
    "            Y2 = y[n,:] + h * (1/4 * f(t[n], Y1) + 5/12 * f(t[n] + 2/3 * h, Y2))\n",
    "            if max(np.amax(abs(Y1 - Y1o)), np.amax(abs(Y2 - Y2o))) < tol:\n",
    "                break\n",
    "            Y1o, Y2o = Y1, Y2\n",
    "\n",
    "        y[n+1,:] = y[n,:] + h * (1/4 * f(t[n], Y1) + 3/4 * f(t[n] + 2/3 * h, Y2))\n",
    "        \n",
    "    return t, y  "
   ]
  },
  {
   "cell_type": "markdown",
   "id": "8fa1cde0",
   "metadata": {},
   "source": [
    "## Using SymPy to solve order conditions\n",
    "\n",
    "The following code uses SymPy commands to solve the following order conditions where $c_1 = 1$\n",
    "\n",
    "\\begin{align*}\n",
    "    b_1 + b_2 &= 1, \\\\\n",
    "    b_2c_2 &= \\frac{1}{2}, \\\\\n",
    "    a_{21} b_2 &= \\frac{1}{2}.\n",
    "\\end{align*}"
   ]
  },
  {
   "cell_type": "code",
   "execution_count": 8,
   "id": "f08227bb",
   "metadata": {},
   "outputs": [
    {
     "data": {
      "image/png": "[encoded data removed]",
      "text/latex": [
       "$\\displaystyle \\left[ \\left\\{ a_{21} : 1, \\  b_{1} : \\frac{1}{2}, \\  b_{2} : \\frac{1}{2}\\right\\}\\right]$"
      ],
      "text/plain": [
       "[{a₂₁: 1, b₁: 1/2, b₂: 1/2}]"
      ]
     },
     "execution_count": 8,
     "metadata": {
      "filenames": {
       "image/png": "/Users/55093290/Library/CloudStorage/OneDrive-MMU/Documents (OneDrive)/2022_2023/ODEs/ODEs-book/_build/jupyter_execute/8_Appendices/8.1_Python_15_0.png"
      }
     },
     "output_type": "execute_result"
    }
   ],
   "source": [
    "import sympy as sp\n",
    "sp.init_printing()\n",
    "\n",
    "# Declare symbolic variables\n",
    "a21, b1, b2, c2 = sp.symbols('a21, b1, b2, c2')\n",
    "c2 = 1\n",
    "\n",
    "# Define order conditions\n",
    "eq1 = b1 + b2 - 1\n",
    "eq2 = b2 * c2 - sp.Rational(1,2)\n",
    "eq3 = a21 * b2 - sp.Rational(1,2)\n",
    "\n",
    "# Solve order conditions\n",
    "sp.solve((eq1, eq2, eq3))"
   ]
  },
  {
   "cell_type": "markdown",
   "id": "1732491d",
   "metadata": {},
   "source": [
    "## Stability\n",
    "\n",
    "### Plotting stability regions\n",
    "\n",
    "The following code plots the region of absolute stability for the Euler method."
   ]
  },
  {
   "cell_type": "code",
   "execution_count": 9,
   "id": "488e6b39",
   "metadata": {},
   "outputs": [
    {
     "data": {
      "image/png": "[encoded data removed]",
      "text/plain": [
       "<Figure size 576x432 with 1 Axes>"
      ]
     },
     "metadata": {
      "filenames": {
       "image/png": "/Users/55093290/Library/CloudStorage/OneDrive-MMU/Documents (OneDrive)/2022_2023/ODEs/ODEs-book/_build/jupyter_execute/8_Appendices/8.1_Python_17_0.png"
      },
      "needs_background": "light"
     },
     "output_type": "display_data"
    }
   ],
   "source": [
    "# Generate z values\n",
    "X, Y = np.meshgrid(np.linspace(-10, 10, 200), np.linspace(-10, 10, 200))\n",
    "Z = X + Y * 1j\n",
    "\n",
    "# Define stability function\n",
    "R = 1 + Z\n",
    "\n",
    "# Plot stability region\n",
    "fig = plt.figure(figsize=(8, 6))\n",
    "plt.contourf(X, Y, abs(R), levels=[0, 1], colors=\"#99ccff\")\n",
    "plt.contour(X, Y, abs(R), colors= \"k\", levels=[0, 1])\n",
    "plt.axhline(0, color=\"k\", linewidth=2)\n",
    "plt.axvline(0, color=\"k\", linewidth=2)\n",
    "plt.axis(\"equal\")\n",
    "plt.axis([-3, 1, -1.5, 1.5])\n",
    "plt.xlabel(\"$\\mathrm{Re}(z)$\", fontsize=14)\n",
    "plt.ylabel(\"$\\mathrm{Im}(z)$\", fontsize=14)\n",
    "plt.show()"
   ]
  },
  {
   "cell_type": "markdown",
   "id": "03906771",
   "metadata": {},
   "source": [
    "### Stability function for explicit methods\n",
    "\n",
    "The following code calculates the stability function for an explicit Runge-Kutta method defined by the following Butcher tableau.\n",
    "\n",
    "\\begin{align*}\\begin{array}{c|cccc}\n",
    "0 &  &  &  & \\\\\n",
    "\\frac{1}{2} & \\frac{1}{2} &  &  & \\\\\n",
    "\\frac{3}{4} & 0 & \\frac{3}{4} &  & \\\\\n",
    "1 & \\frac{2}{9} & \\frac{1}{3} & \\frac{4}{9} & \\\\ \n",
    "\\hline\n",
    "& \\frac{7}{24} & \\frac{1}{4} & \\frac{1}{3} & \\frac{1}{8}\n",
    "\\end{array}\\end{align*}"
   ]
  },
  {
   "cell_type": "code",
   "execution_count": 10,
   "id": "1313bf7d",
   "metadata": {},
   "outputs": [
    {
     "data": {
      "text/latex": [
       "$\\displaystyle R(z) = 1 + 1 z^1 + \\frac{1}{2} z^2 + \\frac{3}{16} z^3 + \\frac{1}{48} z^4$"
      ],
      "text/plain": [
       "<IPython.core.display.Math object>"
      ]
     },
     "metadata": {},
     "output_type": "display_data"
    }
   ],
   "source": [
    "# Define ERK method\n",
    "A = sp.Matrix([[0, 0, 0, 0], \n",
    "            [sp.Rational(1,2), 0, 0, 0], \n",
    "            [0, sp.Rational(3,4), 0, 0], \n",
    "            [sp.Rational(2,9), sp.Rational(1,3), sp.Rational(4,9), 0]])\n",
    "b = sp.Matrix([[sp.Rational(7,24)], [sp.Rational(1,4)], [sp.Rational(1,3)], [sp.Rational(1,8)]])\n",
    "e = sp.ones(4, 1)\n",
    "\n",
    "# Calculate stability function\n",
    "string = \"R(z) = 1\"\n",
    "for k in range(len(b)):\n",
    "    coefficient = b.T * A ** k * e\n",
    "    string += f\" + {sp.latex(coefficient[0])} z^{k+1}\"\n",
    "\n",
    "display(Math(string))"
   ]
  },
  {
   "cell_type": "markdown",
   "id": "1a53d676",
   "metadata": {},
   "source": [
    "### Stability function for implicit methods\n",
    "\n",
    "The following code calculates the stability function for an explicit Runge-Kutta method defined by the following Butcher tableau.\n",
    "\n",
    "\\begin{align*}\n",
    "    \\begin{array}{c|cc}\n",
    "    \\frac{1}{3} & \\frac{5}{12} & -\\frac{1}{12} \\\\\n",
    "    1 & \\frac{3}{4} & \\frac{1}{4} \\\\ \\hline\n",
    "    & \\frac{3}{4} & \\frac{1}{4}\n",
    "    \\end{array}\n",
    "\\end{align*}\n"
   ]
  },
  {
   "cell_type": "code",
   "execution_count": 11,
   "id": "9f88c3b2",
   "metadata": {},
   "outputs": [
    {
     "data": {
      "text/latex": [
       "$\\displaystyle R(z) = \\frac{\\frac{z^{2}}{16} + \\frac{z}{3} + 1}{\\frac{z^{2}}{6} - \\frac{2 z}{3} + 1}$"
      ],
      "text/plain": [
       "<IPython.core.display.Math object>"
      ]
     },
     "metadata": {},
     "output_type": "display_data"
    }
   ],
   "source": [
    "# Define numerator and denominator functions\n",
    "def P(z):\n",
    "    return (I - z * A + z * ebT).det()\n",
    "\n",
    "def Q(z):\n",
    "    return (I - z * A).det()\n",
    "\n",
    "\n",
    "# Define RK method\n",
    "A = sp.Matrix([[sp.Rational(5,12), -sp.Rational(1,12)],\n",
    "            [sp.Rational(3,4), sp.Rational(1,4)]])\n",
    "ebT = sp.Matrix([[sp.Rational(3,4), 0], [0, sp.Rational(1,4)]])\n",
    "I = sp.eye(2)\n",
    "\n",
    "# Calculate R(z)\n",
    "z, y = sp.symbols('z, y')\n",
    "Rz = P(z) / Q(z)\n",
    "display(Math(f\"R(z) = {sp.latex(sp.nsimplify(Rz))}\"))"
   ]
  },
  {
   "cell_type": "markdown",
   "id": "9b28585e",
   "metadata": {},
   "source": [
    "### Checking if an implicit method is A-stable\n",
    "\n",
    "The following code outputs the following conditions for A-stability\n",
    "\n",
    "- The roots of $Q(z)$ have positive real parts\n",
    "- $E(y) = Q(iy)Q(-iy) - P(iy)P(-iy) \\geq 0$\n",
    "\n",
    "where the stability function for the method is $R(z) = \\dfrac{P(z)}{Q(z)}$."
   ]
  },
  {
   "cell_type": "code",
   "execution_count": 12,
   "id": "89e9480e",
   "metadata": {},
   "outputs": [
    {
     "data": {
      "text/latex": [
       "$\\displaystyle \\text{roots of }Q(z): z = \\left[ 2 - \\sqrt{2} i, \\  2 + \\sqrt{2} i\\right]$"
      ],
      "text/plain": [
       "<IPython.core.display.Math object>"
      ]
     },
     "metadata": {},
     "output_type": "display_data"
    },
    {
     "data": {
      "text/latex": [
       "$\\displaystyle E(y) = \\frac{y^{2} \\left(55 y^{2} + 288\\right)}{2304}$"
      ],
      "text/plain": [
       "<IPython.core.display.Math object>"
      ]
     },
     "metadata": {},
     "output_type": "display_data"
    }
   ],
   "source": [
    "# Check roots of Q have positive real parts\n",
    "roots = sp.solve(Q(z) - 0)\n",
    "display(Math(f\"\\\\text{{roots of }}Q(z): z = {sp.latex(roots)}\"))\n",
    "\n",
    "# Check E(y) >= 0\n",
    "E = Q(1j * y) * Q(-1j * y) - P(1j * y) * P(-1j * y)\n",
    "display(Math(f\"E(y) = {sp.latex(sp.simplify(sp.nsimplify(E)))}\"))"
   ]
  },
  {
   "cell_type": "markdown",
   "id": "7be54ec0",
   "metadata": {},
   "source": [
    "## Direct methods\n",
    "\n",
    "### LU decomposition\n",
    "\n",
    "The following code defines the function `lu()` which calculates the LU decomposition of a square matrix $A$ and returns the lower and upper triangular matrices $L$ and $U$ such that $A = LU$. "
   ]
  },
  {
   "cell_type": "code",
   "execution_count": 13,
   "id": "8456a8e0",
   "metadata": {},
   "outputs": [],
   "source": [
    "def lu(A):\n",
    "    n = A.shape[0]\n",
    "    L, U = np.eye(n), np.zeros((n, n))\n",
    "    for j in range(n):\n",
    "        for i in range(j + 1):\n",
    "            for k in range(i):\n",
    "                U[i,j] += L[i,k] * U[k,j]\n",
    "                \n",
    "            U[i,j] = A[i,j] - U[i,j]   \n",
    "            \n",
    "        for i in range(j + 1, n):\n",
    "            for k in range(j):\n",
    "                L[i,j] += L[i,k] * U[k,j]\n",
    "                \n",
    "            L[i,j] = 1 / U[j,j] * (A[i,j] - L[i,j])\n",
    "    \n",
    "    return L, U"
   ]
  },
  {
   "cell_type": "markdown",
   "id": "edad7b8c",
   "metadata": {},
   "source": [
    "The following code defines the following matrix and uses the function `lu()` to calculate the LU decomposition of the matrix. \n",
    "\n",
    "\\begin{align*}\n",
    "    A = \\begin{pmatrix}\n",
    "        1 & 3 & 0 \\\\\n",
    "        2 & -4 & -1 \\\\\n",
    "        -3 & 1 & 2\n",
    "    \\end{pmatrix}\n",
    "\\end{align*}"
   ]
  },
  {
   "cell_type": "code",
   "execution_count": 14,
   "id": "c1510a3f",
   "metadata": {},
   "outputs": [
    {
     "name": "stdout",
     "output_type": "stream",
     "text": [
      "L = \n",
      "[[ 1.  0.  0.]\n",
      " [ 2.  1.  0.]\n",
      " [-3. -1.  1.]]\n",
      "\n",
      "U = \n",
      "[[  1.   3.   0.]\n",
      " [  0. -10.  -1.]\n",
      " [  0.   0.   1.]]\n",
      "\n"
     ]
    }
   ],
   "source": [
    "# Define matrix\n",
    "A = np.array([[1, 3, 0], [2, -4, -1], [-3, 1, 2]])\n",
    "\n",
    "# Calculate LU decomposition\n",
    "L, U = lu(A)\n",
    "\n",
    "print(f\"L = \\n{L}\\n\")\n",
    "print(f\"U = \\n{U}\\n\")"
   ]
  },
  {
   "cell_type": "markdown",
   "id": "13cfff5f",
   "metadata": {},
   "source": [
    "### Forward and back substitution\n",
    "\n",
    "The following code defines the functions `forward_substitution()` and `back_substitution()` which perform forward and back substitution."
   ]
  },
  {
   "cell_type": "code",
   "execution_count": 15,
   "id": "e14e75f0",
   "metadata": {},
   "outputs": [],
   "source": [
    "def forward_substitution(L, b):\n",
    "    n = L.shape[0]\n",
    "    x = np.zeros(n)\n",
    "    for i in range(n):\n",
    "        for j in range(i):\n",
    "            x[i] += L[i,j] * x[j]\n",
    "            \n",
    "        x[i] = 1 / L[i,i] * (b[i] - x[i])\n",
    "    \n",
    "    return x\n",
    "\n",
    "\n",
    "def back_substitution(U, b):\n",
    "    n = U.shape[0]\n",
    "    x = np.zeros(n)\n",
    "    for i in range(n - 1, -1, -1):\n",
    "        for j in range(i, n):\n",
    "            x[i] += U[i,j] * x[j]\n",
    "            \n",
    "        x[i] = 1 / U[i,i] * (b[i] - x[i])\n",
    "        \n",
    "    return x"
   ]
  },
  {
   "cell_type": "markdown",
   "id": "075ec0e7",
   "metadata": {},
   "source": [
    "### Crout's method\n",
    "\n",
    "The following code calculates the solution to the following system of linear equations using Crout's method.\n",
    "\n",
    "\\begin{align*}\n",
    "    \\begin{pmatrix}\n",
    "        1 & 3 & 0 \\\\\n",
    "        2 & -4 & -1 \\\\\n",
    "        -3 & 1 & 2\n",
    "    \\end{pmatrix}\n",
    "    \\begin{pmatrix} x_1 \\\\ x_2 \\\\ x_3 \\end{pmatrix} \n",
    "    = \\begin{pmatrix} -7 \\\\ 11 \\\\ 1 \\end{pmatrix}\n",
    "\\end{align*}"
   ]
  },
  {
   "cell_type": "code",
   "execution_count": 16,
   "id": "ea661154",
   "metadata": {},
   "outputs": [
    {
     "name": "stdout",
     "output_type": "stream",
     "text": [
      "L = \n",
      "[[ 1.  0.  0.]\n",
      " [ 2.  1.  0.]\n",
      " [-3. -1.  1.]]\n",
      "\n",
      "U = \n",
      "[[  1.   3.   0.]\n",
      " [  0. -10.  -1.]\n",
      " [  0.   0.   1.]]\n",
      "\n",
      "x1 = 2.0\n",
      "x2 = -3.0\n",
      "x3 = 5.0\n"
     ]
    }
   ],
   "source": [
    "# Define linear system\n",
    "A = np.array([[1, 3, 0], [2, -4, -1], [-3, 1, 2]])\n",
    "b = np.array([-7, 11, 1])\n",
    "\n",
    "# Calculate LU decomposition\n",
    "L, U = lu(A)\n",
    "\n",
    "print(f\"L = \\n{L}\\n\\nU = \\n{U}\\n\")\n",
    "\n",
    "# Solve linear system\n",
    "y = forward_substitution(L, b)\n",
    "x = back_substitution(U, y)\n",
    "\n",
    "for i in range(len(x)):\n",
    "    print(f\"x{i+1} = {x[i]}\")"
   ]
  },
  {
   "cell_type": "markdown",
   "id": "18c8a8a0",
   "metadata": {},
   "source": [
    "### Partial pivoting\n",
    "\n",
    "The following code defines the function `partial_pivot()` that performs partial pivoting on a matrix and outputs the matrix and the permutation matrix."
   ]
  },
  {
   "cell_type": "code",
   "execution_count": 17,
   "id": "4c338551",
   "metadata": {},
   "outputs": [],
   "source": [
    "def partial_pivot(A):\n",
    "    n = A.shape[0]\n",
    "    P = np.eye(n)\n",
    "    for j in range(n):\n",
    "        maxpivot, k = A[j,j], j\n",
    "        for i in range(j + 1, n):\n",
    "            if A[i,j] > maxpivot:\n",
    "                maxpivot, k = A[i,j], i\n",
    "                \n",
    "        A[[j, k]] = A[[k, j]]\n",
    "        P[[j, k]] = P[[k, j]]\n",
    "        \n",
    "    return A, P"
   ]
  },
  {
   "cell_type": "markdown",
   "id": "409eb27c",
   "metadata": {},
   "source": [
    "### Cholesky decomposition\n",
    "\n",
    "The following code defines the function `cholesky()` which performs Cholesky decomposition on a matrix $A$ and outputs the lower triangular matrix $L$ such that $A = LL^\\mathrm{T}$. "
   ]
  },
  {
   "cell_type": "code",
   "execution_count": 18,
   "id": "4df1a369",
   "metadata": {},
   "outputs": [],
   "source": [
    "def cholesky(A):\n",
    "    n = A.shape[0]\n",
    "    for i in range(n):\n",
    "        if np.linalg.det(A[:n,:n]) < 0:\n",
    "            print(\"Error! A is not a positive definite matrix\")\n",
    "            return\n",
    "        \n",
    "    L = np.zeros((n, n))   \n",
    "    for j in range(n):\n",
    "        for i in range(j, n):\n",
    "            for k in range(j):\n",
    "                L[i,j] += L[i,k] * L[j,k]\n",
    "                \n",
    "            if i == j:\n",
    "                L[i,j] = np.sqrt(A[i,j] - L[i,j])\n",
    "            else:\n",
    "                L[i,j] = 1 / L[j,j] * (A[i,j] - L[i,j])   \n",
    "    \n",
    "    return L"
   ]
  },
  {
   "cell_type": "markdown",
   "id": "1d1b03ec",
   "metadata": {},
   "source": [
    "### QR decomposition using the Gram-Schmidt process\n",
    "\n",
    "The following code defines the function `qr_gramschidt()` which performs QR decomposition using the Gram-Schmidt process on a matrix $A$ and outputs the orthogonal matrix $Q$ and upper triangular matrix $R$ such that $A = QR$."
   ]
  },
  {
   "cell_type": "code",
   "execution_count": 19,
   "id": "897b4710",
   "metadata": {},
   "outputs": [],
   "source": [
    "def qr_gramschmidt(A):\n",
    "    nrows, ncols = A.shape\n",
    "    Q, R = np.zeros(A.shape), np.zeros((ncols, ncols))\n",
    "    for j in range(ncols):\n",
    "        for i in range(j):\n",
    "            R[i,j] = np.dot(Q[:,i], A[:,j])\n",
    "            Q[:,j] = Q[:,j] + R[i,j] * Q[:,i]\n",
    "            \n",
    "        Q[:,j] = A[:,j] - Q[:,j]\n",
    "        R[j,j] = np.linalg.norm(Q[:,j])\n",
    "        Q[:,j] = Q[:,j] / R[j,j]\n",
    "    \n",
    "    return Q, R"
   ]
  },
  {
   "cell_type": "markdown",
   "id": "bf09043d",
   "metadata": {},
   "source": [
    "### QR decomposition using the Householder transformations\n",
    "\n",
    "The following code defines the function `qr_householder()` which performs QR decomposition using the Gram-Schmidt process on a matrix $A$ and outputs the orthogonal matrix $Q$ and upper triangular matrix $R$ such that $A = QR$."
   ]
  },
  {
   "cell_type": "code",
   "execution_count": 20,
   "id": "0cdfb89d",
   "metadata": {},
   "outputs": [],
   "source": [
    "def qr_householder(A):\n",
    "    m, n = A.shape\n",
    "    Q, R = np.eye(m), np.copy(A)\n",
    "    for j in range(n):\n",
    "        e = np.zeros((m - j, 1)); e[0] = 1\n",
    "        u = np.array([R[j:,j]]).T\n",
    "        u = u + np.sign(u[0]) * np.linalg.norm(u) * e\n",
    "        v = u / np.linalg.norm(u)\n",
    "        H = np.eye(m)\n",
    "        H[j:,j:] = np.eye(m - j) - 2 * np.dot(v, v.T)\n",
    "        R = np.dot(H, R)\n",
    "        Q = np.dot(Q, H)\n",
    "    \n",
    "    return Q, R"
   ]
  },
  {
   "cell_type": "markdown",
   "id": "27b29678",
   "metadata": {},
   "source": [
    "## Indirect methods\n",
    "\n",
    "The following methods calculate the solutions to the system of linear equations $A \\mathbf{x} = \\mathbf{b}$ ceasing iterations when the largest value of the residual is less than `tol`.\n",
    "\n",
    "### The Jacobi method\n",
    "\n"
   ]
  },
  {
   "cell_type": "code",
   "execution_count": 21,
   "id": "2e7ec8f3",
   "metadata": {},
   "outputs": [],
   "source": [
    "def jacobi(A, b, tol=1e-6):\n",
    "    n = len(b)\n",
    "    x = np.zeros(n)\n",
    "    maxiter = 100\n",
    "    for k in range(maxiter):\n",
    "        xo = np.copy(x)\n",
    "        for i in range(n):\n",
    "            s = b[i]\n",
    "            for j in range(n):\n",
    "                if i != j:\n",
    "                    s -= A[i,j] * xo[j]\n",
    "        \n",
    "            x[i] = s / A[i,i]\n",
    "            \n",
    "        r = b - np.dot(A, x)   \n",
    "        if max(abs(r)) < tol:\n",
    "            break\n",
    "    \n",
    "    return x"
   ]
  },
  {
   "cell_type": "markdown",
   "id": "dc5d646f",
   "metadata": {},
   "source": [
    "### The Gauss-Seidel method"
   ]
  },
  {
   "cell_type": "code",
   "execution_count": 22,
   "id": "53a460e3",
   "metadata": {},
   "outputs": [],
   "source": [
    "def gauss_seidel(A, b, tol=1e-6):\n",
    "    n = len(b)\n",
    "    x = np.zeros(n)\n",
    "    maxiter = 100\n",
    "    for k in range(maxiter):\n",
    "        for i in range(n):\n",
    "            s = b[i]\n",
    "            for j in range(n):\n",
    "                if i != j:\n",
    "                    s -= A[i,j] * x[j]\n",
    "        \n",
    "            x[i] = s / A[i,i]\n",
    "            \n",
    "        r = b - np.dot(A, x)   \n",
    "        if max(abs(r)) < tol:\n",
    "            break\n",
    "    \n",
    "    return x"
   ]
  },
  {
   "cell_type": "markdown",
   "id": "4e8177d4",
   "metadata": {},
   "source": [
    "### The SOR method"
   ]
  },
  {
   "cell_type": "code",
   "execution_count": 23,
   "id": "8f1d9eef",
   "metadata": {},
   "outputs": [],
   "source": [
    "def sor(A, b, omega, tol=1e-6):\n",
    "    n = len(b)\n",
    "    x = np.zeros(n)\n",
    "    maxiter = 100\n",
    "    for k in range(maxiter):\n",
    "        for i in range(n):\n",
    "            mysum = b[i]\n",
    "            for j in range(n):\n",
    "                if i != j:\n",
    "                    mysum -= A[i,j] * x[j]\n",
    "        \n",
    "            x[i] = (1 - omega) * x[i] + omega / A[i,i] * mysum\n",
    "            \n",
    "        r = b - np.dot(A, x)   \n",
    "        if max(abs(r)) < tol:\n",
    "            break\n",
    "    \n",
    "    return x"
   ]
  },
  {
   "cell_type": "markdown",
   "id": "695cd7c1",
   "metadata": {},
   "source": [
    "### Calculating an iteration matrix\n",
    "\n",
    "The following code calculates the iteration matrix for the Jacobi method give the following coefficient matrix\n",
    "\n",
    "\\begin{align*}\n",
    "    A = \\begin{pmatrix} \n",
    "        4 & 3 & 0 \\\\\n",
    "        3 & 4 & -1 \\\\\n",
    "        0 & -1 & 4\n",
    "    \\end{pmatrix}\n",
    "\\end{align*}\n"
   ]
  },
  {
   "cell_type": "code",
   "execution_count": 24,
   "id": "6120688f",
   "metadata": {},
   "outputs": [
    {
     "name": "stdout",
     "output_type": "stream",
     "text": [
      "TJ = \n",
      "[[  0 -12   0]\n",
      " [-12   0   4]\n",
      " [  0   4   0]]\n"
     ]
    }
   ],
   "source": [
    "# Define coefficient matrix\n",
    "A = np.array([[4, 3, 0], [3, 4, -1], [0, -1, 4]])\n",
    "\n",
    "# Extract L, D and U matrices\n",
    "L = np.tril(A, -1)\n",
    "U = np.triu(A, 1)\n",
    "D = A - L - U\n",
    "\n",
    "# Calculate iteration matrix\n",
    "TJ = - np.dot(D, L + U)\n",
    "print(f\"TJ = \\n{TJ}\")"
   ]
  },
  {
   "cell_type": "markdown",
   "id": "a2e69caf",
   "metadata": {},
   "source": [
    "### Calculating the spectral radius of a matrix\n",
    "\n",
    "The following code calculates the spectral radius of the matrix `TJ` from above."
   ]
  },
  {
   "cell_type": "code",
   "execution_count": 25,
   "id": "b7fb08aa",
   "metadata": {},
   "outputs": [
    {
     "name": "stdout",
     "output_type": "stream",
     "text": [
      "rho(TJ) = 12.6491\n"
     ]
    }
   ],
   "source": [
    "rho_TJ = max(abs(np.linalg.eigvals(TJ)))\n",
    "print(f\"rho(TJ) = {rho_TJ:0.4f}\")"
   ]
  }
 ],
 "metadata": {
  "kernelspec": {
   "display_name": "Python 3",
   "language": "python",
   "name": "python3"
  },
  "language_info": {
   "codemirror_mode": {
    "name": "ipython",
    "version": 3
   },
   "file_extension": ".py",
   "mimetype": "text/x-python",
   "name": "python",
   "nbconvert_exporter": "python",
   "pygments_lexer": "ipython3",
   "version": "3.9.7"
  }
 },
 "nbformat": 4,
 "nbformat_minor": 5
}