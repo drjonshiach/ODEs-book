{
 "cells": [
  {
   "attachments": {},
   "cell_type": "markdown",
   "id": "207f6cb0",
   "metadata": {},
   "source": [
    "# Stability function of a Runge-Kutta method\n",
    "\n",
    "Recall that the {prf:ref}`general form of a Runge-Kutta method<rk-definition>` is\n",
    "\n",
    "$$ \\begin{align*}\n",
    "    y_{n+1}&=y_n + h \\sum_{i=1}^s b_i k_i ,\\\\\n",
    "    k_i &=f(t_n +c_i h,y_n +h\\sum_{j=1}^s a_{ij} k_j ).\n",
    "\\end{align*} $$\n",
    "\n",
    "Let $Y_i = y_n + h \\displaystyle \\sum_{j=1}^s a_{ij} k_i$ and applying the method to the test equation $y' = \\lambda y$ we have\n",
    "\n",
    "$$ \\begin{align*}\n",
    "    y_{n+1} &=y_n +h\\lambda \\sum_{i=1}^s b_i Y_i ,\\\\\n",
    "    Y_i &=y_n +h\\lambda \\sum_{j=1}^s a_{ij} Y_j .\n",
    "\\end{align*} $$\n",
    "\n",
    "Let $z = h\\lambda$ and expanding out the summations in the stage values\n",
    "\n",
    "$$ \\begin{align*}\n",
    "    Y_1 &=y_n +z(a_{11} Y_1 + a_{12} Y_2 + \\cdots + a_{1s} Y_s),\\\\\n",
    "    Y_2 &=y_n +z(a_{21} Y_1 + a_{22} Y_2 + \\cdots + a_{2s} Y_s),\\\\\n",
    "    &\\vdots \\\\\n",
    "    Y_s &=y_n +z(a_{s1} Y_1 + a_{s2} Y_2 + \\cdots + a_{ss} Y_s).\n",
    "\\end{align*} $$\n",
    "\n",
    "We can write these as the matrix equation\n",
    "\n",
    "$$ \\begin{pmatrix} Y_1 \\\\ Y_2 \\\\ \\vdots \\\\ Y_s \\end{pmatrix} = \n",
    "\\begin{pmatrix} y_n \\\\ y_n \\\\ \\vdots \\\\ y_n \\end{pmatrix}\n",
    "+ z\n",
    "\\begin{pmatrix}\n",
    "    a_{11} & a_{12} & \\cdots & a_{1s} \\\\\n",
    "    a_{21} & a_{22} & \\cdots & a_{2s} \\\\\n",
    "    \\vdots & \\vdots & \\ddots & \\vdots \\\\\n",
    "    a_{s1} & a_{s2} & \\cdots & a_{ss}\n",
    "\\end{pmatrix} \n",
    "\\begin{pmatrix} Y_1 \\\\ Y_2 \\\\ \\vdots \\\\ Y_s \\end{pmatrix}. $$\n",
    "\n",
    "Let $Y=(Y_1 ,Y_2 ,\\dots ,Y_s )^T$ and $\\vec{e}=(1,1,\\dots ,1)^T$ then\n",
    "\n",
    "$$ Y = \\vec{e} y_n + z A Y. $$(rk-stability-Y-equation)\n",
    "\n",
    "Expanding the summation in the equation for updating the solution over a single step and using $z = h \\lambda$ gives\n",
    "\n",
    "$$ y_{n+1} = y_n + z (b_1 Y_1 + b_2 Y_2 + \\cdots + b_s Y_s), $$\n",
    "\n",
    "which can be written as the matrix equation\n",
    "\n",
    "$$ \\begin{align*}\n",
    "    y_{n+1} = y_n + z\n",
    "    \\begin{pmatrix}\n",
    "        b_1 & b_2 & \\cdots & b_s \n",
    "    \\end{pmatrix}\n",
    "    \\begin{pmatrix}\n",
    "        Y_1 \\\\ Y_2 \\\\ \\vdots \\\\ Y_s\n",
    "    \\end{pmatrix}. \n",
    "\\end{align*} $$\n",
    "\n",
    "Since $\\vec{b}$ is a column vector then the vector form of a Runge-Kutta method for solving the test equation $y' = \\lambda y$ is\n",
    "\n",
    "$$ y_{n+1} =y_n + z \\vec{b}^T Y. $$(rk-stability-yn+1-equation)\n",
    "\n",
    "The stability functions for explicit and implicit Runge-Kutta methods are derived using different approaches.\n",
    "\n",
    "(erk-rz-section)=\n",
    "\n",
    "## Stability function of an explicit Runge-Kutta method\n",
    "\n",
    "To derive the stability function of an explicit Runge-Kutta method we rearrange equation {eq}`rk-stability-Y-equation`\n",
    "\n",
    "$$ \\begin{align*}\n",
    "    Y - zAY &= \\vec{e}y_n \\\\\n",
    "    (I - zA)Y &= \\vec{e}y_n\\\\\n",
    "    Y&= (I-zA)^{-1} \\vec{e}y_n,\n",
    "\\end{align*} $$\n",
    "\n",
    "and substituting into equation {eq}`rk-stability-yn+1-equation` gives\n",
    "\n",
    "$$ \\begin{align*}\n",
    "    y_{n+1} &= y_n +z\\vec{b}^T (I-zA)^{-1} \\vec{e} y_n \\\\\n",
    "    &= (1 + z \\vec{b}^T (I - zA)^{-1} \\vec{e})y_n ,\n",
    "\\end{align*} $$\n",
    "\n",
    "so the stability function is\n",
    "\n",
    "$$ \\begin{align*}\n",
    "    R(z)=1 + z\\vec{b}^T (I - zA)^{-1} \\vec{e}\n",
    "\\end{align*} $$\n",
    "\n",
    "Using the geometric series of matrices\n",
    "\n",
    "$$ \\begin{align*}\n",
    "    (I - zA)^{-1} = \\sum_{k=0}^{\\infty} (zA)^k \n",
    "\\end{align*} $$\n",
    "\n",
    "gives the following definition for the stability function of an explicit method.\n",
    "\n",
    "```{prf:definition} Stability function of an explicit Runge-Kutta method\n",
    ":label: erk-rz-definition\n",
    "\n",
    "$$ \\begin{align*}\n",
    "    R(z) &= 1 + \\sum_{k=0}^{\\infty} \\vec{b}^T A^k \\vec{e}\\,z^{k+1} \\\\\n",
    "    &= 1 + \\vec{b}^T \\vec{e}\\,z+\\vec{b}^T A\\vec{e}\\,z^2 +\\vec{b}^T A^2 \\vec{e}\\,z^3 + \\cdots\n",
    "\\end{align*} $$(erk-stability-rz-equation)\n",
    "```\n",
    "\n",
    "Since the solution to the test equation is $y=e^{\\lambda t}$, over one step of an explicit Runge-Kutta method we would expect the local truncation errors to change at a rate of $e^z$. The series expansion of $e^z$ is\n",
    "\n",
    "$$e^z = \\sum_{k=0}^{\\infty} \\frac{1}{k!} z^k = 1 + z + \\frac{1}{2!}z^2 + \\frac{1}{3!}z^3 + \\frac{1}{4!}z^4 + \\cdots$$(erk-stability-ez-equation)\n",
    "\n",
    "Comparing the coefficients of $z^k$ in equations {eq}`erk-stability-rz-equation` and {eq}`erk-stability-ez-equation` we have\n",
    "\n",
    "$$ \\begin{align*}\n",
    "    \\frac{1}{k!}= \\vec{b}^T A^{k-1} \\vec{e},\n",
    "\\end{align*} $$\n",
    "\n",
    "which must be satisfied up to the $k$th term for an order $k$ explicit method to be stable. \n",
    "\n",
    "The code below calculates the coefficients for the stability function of the RK4 method. \n",
    "\n",
    "`````{tab-set}\n",
    "````{tab-item} Python\n",
    "```python\n",
    "import sympy as sp\n",
    "\n",
    "# Define ERK method\n",
    "A = sp.Matrix([[0, 0, 0, 0],\n",
    "               [sp.Rational(1,2), 0, 0, 0],\n",
    "               [0, sp.Rational(1,2), 0, 0],\n",
    "               [0, 0, 1, 0]])\n",
    "b = sp.Matrix([sp.Rational(1,6), sp.Rational(1,3), sp.Rational(1,3), sp.Rational(1,6)])\n",
    "e = sp.ones(4,1)\n",
    "\n",
    "# Determine coefficients of the stability function\n",
    "for k in range(4):\n",
    "    display(b.T * A ** k * e)\n",
    "```\n",
    "````\n",
    "\n",
    "````{tab-item} MATLAB\n",
    "```matlab\n",
    "% Define ERK method\n",
    "A = [0, 0, 0, 0 ;\n",
    "     1/2, 0, 0, 0 ;\n",
    "     0, 1/2, 0, 0 ;\n",
    "     0, 0, 1, 0];\n",
    "b = [1/6 ; 1/3 ; 1/3 ; 1/6];\n",
    "e = ones(4, 1);\n",
    "\n",
    "% Determine coefficients for the stability function\n",
    "for k = 1 : 4\n",
    "    sym(b' * A ^ (k - 1) * e)\n",
    "end\n",
    "```\n",
    "````\n",
    "`````"
   ]
  },
  {
   "cell_type": "code",
   "execution_count": 1,
   "id": "b4d24e2f",
   "metadata": {
    "tags": [
     "remove-cell"
    ]
   },
   "outputs": [
    {
     "data": {
      "text/latex": [
       "$\\displaystyle \\left[\\begin{matrix}1\\end{matrix}\\right]$"
      ],
      "text/plain": [
       "Matrix([[1]])"
      ]
     },
     "metadata": {},
     "output_type": "display_data"
    },
    {
     "data": {
      "text/latex": [
       "$\\displaystyle \\left[\\begin{matrix}\\frac{1}{2}\\end{matrix}\\right]$"
      ],
      "text/plain": [
       "Matrix([[1/2]])"
      ]
     },
     "metadata": {},
     "output_type": "display_data"
    },
    {
     "data": {
      "text/latex": [
       "$\\displaystyle \\left[\\begin{matrix}\\frac{1}{6}\\end{matrix}\\right]$"
      ],
      "text/plain": [
       "Matrix([[1/6]])"
      ]
     },
     "metadata": {},
     "output_type": "display_data"
    },
    {
     "data": {
      "text/latex": [
       "$\\displaystyle \\left[\\begin{matrix}\\frac{1}{24}\\end{matrix}\\right]$"
      ],
      "text/plain": [
       "Matrix([[1/24]])"
      ]
     },
     "metadata": {},
     "output_type": "display_data"
    }
   ],
   "source": [
    "import sympy as sp\n",
    "\n",
    "# Define ERK method\n",
    "A = sp.Matrix([[0, 0, 0, 0],\n",
    "               [sp.Rational(1,2), 0, 0, 0],\n",
    "               [0, sp.Rational(1,2), 0, 0],\n",
    "               [0, 0, 1, 0]])\n",
    "b = sp.Matrix([sp.Rational(1,6), sp.Rational(1,3), sp.Rational(1,3), sp.Rational(1,6)])\n",
    "e = sp.ones(4,1)\n",
    "\n",
    "# Determine coefficients of the stability function\n",
    "for k in range(4):\n",
    "    display(b.T * A ** k * e)"
   ]
  },
  {
   "attachments": {},
   "cell_type": "markdown",
   "id": "929fafe4",
   "metadata": {},
   "source": [
    "## Plotting stability regions\n",
    "\n",
    "To plot the stability region of a Runge-Kutta method we first define a matrix $Z = X + Yi$ where $i = \\sqrt{-1}$ is the imaginary number for a range of values of $X$ and $Y$ and use this matrix to calculate $R(Z)$ for the particular method. Then we plot a contour plot of $|R(Z)|$ using the contour where $|R(Z)|=1$. \n",
    "\n",
    "`````{tab-set}\n",
    "\n",
    "````{tab-item} Python\n",
    "\n",
    "The NumPy commands `np.linspace()` and `np.meshgrid()` are used to generate matrices for `X` and `Y` which are then used to calculate `Z = X + Y * 1i`\n",
    "(note that imaginary numbers in Python are defined using `1j`).\n",
    "\n",
    "```python\n",
    "import numpy as np\n",
    "import matplotlib.pyplot as plt\n",
    "plt.rcParams['text.usetex'] = True\n",
    "\n",
    "# Generate z values\n",
    "xmin, xmax, ymin, ymax = -5, 2, -3.5, 3.5\n",
    "X, Y = np.meshgrid(np.linspace(xmin, xmax, 200),np.linspace(ymin, ymax, 200))\n",
    "Z = X + Y * 1j\n",
    "\n",
    "# Define stability functions\n",
    "RK4 = 1 + Z + 1/2 * Z ** 2 + 1/6 * Z ** 3 + Z ** 4 / 24\n",
    "\n",
    "# Plot stability region\n",
    "fig = plt.figure()\n",
    "plt.contourf(X, Y, abs(RK4), levels=[0, 1], colors=\"#99ccff\")    # plot stability regions\n",
    "plt.contour(X, Y, abs(RK4), colors= \"k\", levels=[0, 1])          # add outlines\n",
    "plt.axhline(0, color=\"k\", linewidth=1)\n",
    "plt.axvline(0, color=\"k\", linewidth=1)\n",
    "plt.axis([xmin, xmax, ymin, ymax])\n",
    "plt.xlabel(\"$\\mathrm{Re}(z)$\", fontsize=14)\n",
    "plt.ylabel(\"$\\mathrm{Im}(z)$\", fontsize=14)\n",
    "plt.show()\n",
    "```\n",
    "````\n",
    "\n",
    "````{tab-item} MATLAB\n",
    "\n",
    "The MATLAB commands `linspace()` and `meshgrid()` are used to generate matrices for `X` and `Y` which are then used to calculate `Z = X + Y * 1i` (note that imaginary numbers in MATLAB are defined using `1i`). Note that the powers of `Z` are calculated using element-wise power where `.^` is used instead of `^`. \n",
    "\n",
    "```matlab\n",
    "% Generate z values\n",
    "xmin = -5;\n",
    "xmax = 2;\n",
    "ymin = -3.5;\n",
    "ymax = 3.5;\n",
    "[X, Y] = meshgrid(linspace(xmin, xmax, 200), linspace(ymin, ymax, 200));\n",
    "Z = X + Y * 1i;\n",
    "\n",
    "% Define stability function \n",
    "R = 1 + Z + 1/2 * Z .^2 + 1/6 * Z .^ 3 + 1/24 * Z .^ 4;\n",
    "\n",
    "% Plot stability region\n",
    "contourf(X, Y, abs(R), [0, 1], LineWidth=2)\n",
    "xline(0, LineWidth=2)\n",
    "yline(0, LineWidth=2)\n",
    "colormap([153, 204, 255 ; 255, 255, 255] / 255)\n",
    "axis equal\n",
    "axis([xmin, xmax, ymin, ymax])\n",
    "xlabel(\"$\\mathrm{Re}(z)$\", FontSize=12, Interpreter=\"latex\")\n",
    "ylabel(\"$\\mathrm{Im}(z)$\", FontSize=12, Interpreter=\"latex\")\n",
    "```\n",
    "````\n",
    "`````\n",
    "\n",
    "The regions of absolute stability for the Euler method and the explicit Runge-Kutta methods of order 2, 3 and 4 are plotted in {numref}`erk-stability-regions-figure`.\n",
    "\n",
    "```{glue:figure} erk-stability-regions-plot\n",
    ":name: erk-stability-regions-figure\n",
    ":figwidth: 600\n",
    "\n",
    "Regions of absolute stability for explicit Runge-Kutta methods of order 1 to 4.\n",
    "```"
   ]
  },
  {
   "cell_type": "code",
   "execution_count": 2,
   "id": "ee3ab0dd",
   "metadata": {
    "tags": [
     "remove-cell"
    ]
   },
   "outputs": [
    {
     "data": {
      "image/png": "[encoded data removed]",
      "text/plain": [
       "<Figure size 640x480 with 1 Axes>"
      ]
     },
     "metadata": {},
     "output_type": "display_data"
    }
   ],
   "source": [
    "import numpy as np\n",
    "import matplotlib.pyplot as plt\n",
    "plt.rcParams['text.usetex'] = True\n",
    "\n",
    "# Generate z values\n",
    "xmin, xmax, ymin, ymax = -5, 2, -3.5, 3.5\n",
    "X, Y = np.meshgrid(np.linspace(xmin, xmax, 200),np.linspace(ymin, ymax, 200))\n",
    "Z = X + Y * 1j\n",
    "\n",
    "# Define stability functions\n",
    "RK4 = 1 + Z + 1/2 * Z ** 2 + 1/6 * Z ** 3 + Z ** 4 / 24\n",
    "\n",
    "# Plot stability region\n",
    "fig = plt.figure()\n",
    "plt.contourf(X, Y, abs(RK4), levels=[0, 1], colors=\"#99ccff\")    # plot stability regions\n",
    "plt.contour(X, Y, abs(RK4), colors= \"k\", levels=[0, 1])          # add outlines\n",
    "plt.axhline(0, color=\"k\", linewidth=1)\n",
    "plt.axvline(0, color=\"k\", linewidth=1)\n",
    "plt.axis([xmin, xmax, ymin, ymax])\n",
    "plt.xlabel(\"$\\mathrm{Re}(z)$\", fontsize=14)\n",
    "plt.ylabel(\"$\\mathrm{Im}(z)$\", fontsize=14)\n",
    "plt.show()"
   ]
  },
  {
   "cell_type": "code",
   "execution_count": 3,
   "id": "3f567645",
   "metadata": {
    "tags": [
     "remove-cell"
    ]
   },
   "outputs": [
    {
     "data": {
      "image/png": "[encoded data removed]",
      "text/plain": [
       "<Figure size 640x480 with 1 Axes>"
      ]
     },
     "metadata": {},
     "output_type": "display_data"
    }
   ],
   "source": [
    "import numpy as np\n",
    "import matplotlib.pyplot as plt\n",
    "plt.rcParams['text.usetex'] = True\n",
    "\n",
    "# Generate z values\n",
    "xmin, xmax, ymin, ymax = -5, 2, -3.5, 3.5\n",
    "X, Y = np.meshgrid(np.linspace(xmin, xmax, 200),np.linspace(ymin, ymax, 200))\n",
    "Z = X + Y * 1j\n",
    "\n",
    "# Define stability functions\n",
    "Euler = 1 + Z\n",
    "RK2 = Euler + Z ** 2 / 2\n",
    "RK3 = RK2 + Z ** 3 / 6\n",
    "RK4 = RK3 + Z ** 4 / 24\n",
    "\n",
    "# Plot stability region\n",
    "fig = plt.figure()\n",
    "plt.contourf(X, Y, abs(RK4), levels=[0, 1], colors=\"#99ccff\")    # plot stability regions\n",
    "plt.contourf(X, Y, abs(RK3), levels=[0, 1], colors=\"#ffcccc\")\n",
    "plt.contourf(X, Y, abs(RK2), levels=[0, 1], colors=\"#ccffcc\")\n",
    "plt.contourf(X, Y, abs(Euler), levels=[0, 1], colors=\"#ffffcc\")\n",
    "plt.contour(X, Y, abs(RK4), colors= \"k\", levels=[0, 1])          # add outlines\n",
    "plt.contour(X, Y, abs(RK3), colors= \"k\", levels=[0, 1])\n",
    "plt.contour(X, Y, abs(RK2), colors= \"k\", levels=[0, 1])\n",
    "plt.contour(X, Y, abs(Euler), colors= \"k\", levels=[0, 1])\n",
    "plt.axhline(0, color=\"k\", linewidth=1)\n",
    "plt.axvline(0, color=\"k\", linewidth=1)\n",
    "plt.axis([xmin, xmax, ymin, ymax])\n",
    "plt.xlabel(\"$\\mathrm{Re}(z)$\", fontsize=14)\n",
    "plt.ylabel(\"$\\mathrm{Im}(z)$\", fontsize=14)\n",
    "plt.annotate(\"RK4\", xy=(-1.5, 2.2), xytext=(-2, 3), fontsize=14, arrowprops=dict(arrowstyle=\"->\", lw=1.5, shrinkA=0, shrinkB=0, ec=\"k\"))\n",
    "plt.annotate(\"RK3\", xy=(-2, 1.2), xytext=(-3, 2), fontsize=14, arrowprops=dict(arrowstyle=\"->\", lw=1.5, shrinkA=0, shrinkB=0, ec=\"k\"))\n",
    "plt.annotate(\"RK2\", xy=(-2, 0.5), xytext=(-3.5, 1.2), fontsize=14, arrowprops=dict(arrowstyle=\"->\", lw=1.5, shrinkA=0, shrinkB=0, ec=\"k\"))\n",
    "plt.annotate(\"Euler\", xy=(-1.5, -0.9), xytext=(-2.5, -2.5), fontsize=14, arrowprops=dict(arrowstyle=\"->\", lw=1.5, shrinkA=0, shrinkB=0, ec=\"k\"))\n",
    "plt.show()\n",
    "\n",
    "from myst_nb import glue\n",
    "glue(\"erk-stability-regions-plot\", fig, display=False)\n",
    "\n",
    "fig.savefig(\"../_images/ERK_stability.png\", dpi=fig.dpi)"
   ]
  },
  {
   "attachments": {},
   "cell_type": "markdown",
   "id": "d3cd404d",
   "metadata": {},
   "source": [
    "```````{prf:example}\n",
    ":label: erk-stability-example\n",
    "\n",
    "An explicit Runge-Kutta method is defined by the following Butcher tableau\n",
    "\n",
    "$$ \\begin{align*}\\begin{array}{c|cccc}\n",
    "0 &  &  &  & \\\\\n",
    "1/2 & 1/2 &  &  & \\\\\n",
    "3/4 & 0 & 3/4 &  & \\\\\n",
    "1 & 2/9 & 1/3 & 4/9 & \\\\ \n",
    "\\hline\n",
    "& 7/24 & 1/4 & 1/3 & 1/8\n",
    "\\end{array}\\end{align*} $$\n",
    "\n",
    "(i) Determine the stability function for this Runge-Kutta method and hence find its order;\n",
    "\n",
    "````{dropdown} Solution (click to show)\n",
    "\n",
    "Here we have\n",
    "\n",
    "$$ \\begin{align*}\n",
    "    A &= \\begin{pmatrix}\n",
    "        0 & 0 & 0 & 0 \\\\\n",
    "        1/2 & 0 & 0 & 0 \\\\\n",
    "        0 & 3/4 & 0 & 0 \\\\\n",
    "        2/9 & 1/3 & 4/9 & 0\n",
    "    \\end{pmatrix}, &\n",
    "    \\vec{b} &= \\begin{pmatrix} 7/24 \\\\ 1/4 \\\\ 1/3 \\\\ 1/8 \\end{pmatrix}.\n",
    "\\end{align*} $$\n",
    "\n",
    "Calculating $\\vec{b}^TA^{k - 1}\\vec{e}$ for $k = 1, \\ldots, 4$\n",
    "\n",
    "$$ \\begin{align*}\n",
    "    k &= 1, & \\vec{b}^TA^0 \\vec{e} &= \n",
    "    \\begin{pmatrix} 7/24 \\\\ 1/4 \\\\ 1/3 \\\\ 1/8 \\end{pmatrix}\n",
    "    \\begin{pmatrix} \n",
    "        1 & 0 & 0 & 0 \\\\\n",
    "        0 & 1 & 0 & 0 \\\\\n",
    "        0 & 0 & 1 & 0 \\\\\n",
    "        0 & 0 & 0 & 1 \n",
    "    \\end{pmatrix}\n",
    "    \\begin{pmatrix} 1 \\\\ 1 \\\\ 1 \\\\ 1 \\end{pmatrix} = 1, \\\\\n",
    "    k &= 2, & \\vec{b}^TA^1 \\vec{e} &= \n",
    "    \\begin{pmatrix} 7/24 \\\\ 1/4 \\\\ 1/3 \\\\ 1/8 \\end{pmatrix}\n",
    "    \\begin{pmatrix}\n",
    "        0 & 0 & 0 & 0 \\\\\n",
    "        1/2 & 0 & 0 & 0 \\\\\n",
    "        0 & 3/4 & 0 & 0 \\\\\n",
    "        2/9 & 1/3 & 4/9 & 0\n",
    "    \\end{pmatrix}\n",
    "    \\begin{pmatrix} 1 \\\\ 1 \\\\ 1 \\\\ 1 \\end{pmatrix} \n",
    "    = \\frac{1}{2}, \\\\\n",
    "    k &= 3, & \\vec{b}^TA^2 \\vec{e} &= \n",
    "    \\begin{pmatrix} 7/24 \\\\ 1/4 \\\\ 1/3 \\\\ 1/8 \\end{pmatrix}\n",
    "    \\begin{pmatrix}\n",
    "        0 & 0 & 0 & 0 \\\\\n",
    "        0 & 0 & 0 & 0 \\\\\n",
    "        3/8 & 0 & 0 & 0 \\\\\n",
    "        1/6 & 1/3 & 0 & 0\n",
    "    \\end{pmatrix}\n",
    "    \\begin{pmatrix} 1 \\\\ 1 \\\\ 1 \\\\ 1 \\end{pmatrix} \n",
    "    = \\frac{3}{16}, \\\\\n",
    "    k &= 4, & \\vec{b}^TA^3 \\vec{e} &= \n",
    "    \\begin{pmatrix} 7/24 \\\\ 1/4 \\\\ 1/3 \\\\ 1/8 \\end{pmatrix}\n",
    "    \\begin{pmatrix}\n",
    "        0 & 0 & 0 & 0 \\\\\n",
    "        0 & 0 & 0 & 0 \\\\\n",
    "        0 & 0 & 0 & 0 \\\\\n",
    "        1/6 & 0 & 0 & 0\n",
    "    \\end{pmatrix}\n",
    "    \\begin{pmatrix} 1 \\\\ 1 \\\\ 1 \\\\ 1 \\end{pmatrix} \n",
    "    = \\frac{1}{48}.\n",
    "\\end{align*} $$\n",
    "\n",
    "So the stability function is\n",
    "\n",
    "$$ \\begin{align*}\n",
    "    R(z) = 1 + z + \\frac{1}{2} z^2 + \\frac{3}{16} z^3 + \\frac{1}{48} z^4,\n",
    "\\end{align*} $$\n",
    "\n",
    "which agrees to the series expansion of $e^z$ from equation {eq}`erk-stability-ez-equation` up to and including the $z^2$ term. Therefore this method is of order 2.\n",
    "````\n",
    "(ii) plot the region of absolute stability and that of an explicit method on the same order on the same set of axes;\n",
    "\n",
    "``````{dropdown} Solution (click to show)\n",
    "\n",
    ":::{glue:figure} erk-stability-regions-example-plot\n",
    ":figwidth: 600\n",
    ":::\n",
    "\n",
    "Code\n",
    "\n",
    "`````{tab-set}\n",
    "````{tab-item} Python\n",
    "```python\n",
    "import numpy as np\n",
    "import matplotlib.pyplot as plt\n",
    "plt.rcParams['text.usetex'] = True\n",
    "\n",
    "# Generate z values\n",
    "xmin, xmax, ymin, ymax = -5, 2, -3.5, 3.5\n",
    "X, Y = np.meshgrid(np.linspace(xmin, xmax, 200),np.linspace(ymin, ymax, 200))\n",
    "Z = X + Y * 1j\n",
    "\n",
    "# Define stability function\n",
    "ERK = 1 + Z + 1/2 * Z ** 2 + 3/16 * Z ** 3 + 1/48 * Z ** 4\n",
    "RK2 = 1 + Z + Z ** 2 / 2\n",
    "\n",
    "# Plot stability region\n",
    "fig = plt.figure(figsize=(8, 6))\n",
    "plt.contourf(X, Y, abs(ERK), levels=[0, 1], colors=\"#99ccff\")\n",
    "plt.contour(X, Y, abs(ERK), colors= \"k\", levels=[0, 1])\n",
    "plt.contourf(X, Y, abs(RK2), levels=[0, 1], colors=\"#ffcccc\")\n",
    "plt.contour(X, Y, abs(RK2), colors= \"k\", levels=[0, 1])\n",
    "plt.axhline(0, color=\"k\", linewidth=2)\n",
    "plt.axvline(0, color=\"k\", linewidth=2)\n",
    "plt.axis([xmin, xmax, ymin, ymax])\n",
    "plt.xlabel(\"$\\mathrm{Re}(z)$\", fontsize=14)\n",
    "plt.ylabel(\"$\\mathrm{Im}(z)$\", fontsize=14)\n",
    "plt.annotate(\"ERK\", xy=(-1.5, 2.2), xytext=(-2, 3), fontsize=14, arrowprops=dict(arrowstyle=\"->\", lw=1.5, shrinkA=0, shrinkB=0, ec=\"k\"))\n",
    "plt.annotate(\"RK2\", xy=(-2, 0.5), xytext=(-3.5, 1.2), fontsize=14, arrowprops=dict(arrowstyle=\"->\", lw=1.5, shrinkA=0, shrinkB=0, ec=\"k\"))\n",
    "plt.show()\n",
    ":::\n",
    "````\n",
    "\n",
    "````{tab-item} MATLAB\n",
    "```matlab\n",
    "% Generate z values\n",
    "xmin = -5;\n",
    "xmax = 2;\n",
    "ymin = -4;\n",
    "ymax = 4;\n",
    "[X, Y] = meshgrid(linspace(xmin, xmax, 200), linspace(ymin, ymax, 200));\n",
    "Z = X + Y * 1i;\n",
    "\n",
    "% Define stability function \n",
    "ERK = 1 + Z + 1/2 * Z .^ 2 + 3/16 * Z .^ 3 + 1/48 * Z .^ 4;\n",
    "RK2 = 1 + Z + 1/2 * Z .^ 2;\n",
    "\n",
    "% Plot the region of absolute stability\n",
    "contour(X, Y, abs(ERK), [1, 1], 'b-', 'linewidth', 2)\n",
    "hold on\n",
    "contour(X, Y, abs(RK2), [1, 1], 'r-', 'linewidth', 2)\n",
    "hold off\n",
    "xline(0, LineWidth=2)\n",
    "yline(0, LineWidth=2)\n",
    "axis([xmin, xmax, ymin, ymax])\n",
    "xlabel('$\\mathrm{Re}(z)$', 'FontSize', 16, 'Interpreter', 'latex')\n",
    "ylabel('$\\mathrm{Im}(z)$', 'FontSize', 16, 'Interpreter', 'latex')\n",
    "legend('ERK', 'RK2', FontSize=12)\n",
    ":::\n",
    "````\n",
    "`````\n",
    "``````\n",
    "\n",
    "(iii) comment on the region of absolute stability of the two methods.\n",
    "\n",
    "````{dropdown} Solution (click to show)\n",
    "The interval of absolute stability for this method is $[-3,0]$ whereas for the second-order method we have $[-2,0]$. This means that this method is stable for larger values of $h$ so we can use fewer steps than the second-order method to calculate the solution to the same accuracy, although it does require the calculation of two additional stage values.\n",
    "````\n",
    "\n",
    "```````"
   ]
  },
  {
   "cell_type": "code",
   "execution_count": 4,
   "id": "c89d1799",
   "metadata": {
    "tags": [
     "remove-output",
     "remove-cell"
    ]
   },
   "outputs": [
    {
     "data": {
      "text/latex": [
       "$\\displaystyle \\left[\\begin{matrix}1\\end{matrix}\\right]$"
      ],
      "text/plain": [
       "Matrix([[1]])"
      ]
     },
     "metadata": {},
     "output_type": "display_data"
    },
    {
     "data": {
      "text/latex": [
       "$\\displaystyle \\left[\\begin{matrix}\\frac{5}{9}\\end{matrix}\\right]$"
      ],
      "text/plain": [
       "Matrix([[5/9]])"
      ]
     },
     "metadata": {},
     "output_type": "display_data"
    },
    {
     "data": {
      "text/latex": [
       "$\\displaystyle \\left[\\begin{matrix}\\frac{3}{16}\\end{matrix}\\right]$"
      ],
      "text/plain": [
       "Matrix([[3/16]])"
      ]
     },
     "metadata": {},
     "output_type": "display_data"
    },
    {
     "data": {
      "text/latex": [
       "$\\displaystyle \\left[\\begin{matrix}\\frac{1}{48}\\end{matrix}\\right]$"
      ],
      "text/plain": [
       "Matrix([[1/48]])"
      ]
     },
     "metadata": {},
     "output_type": "display_data"
    }
   ],
   "source": [
    "import sympy as sp\n",
    "\n",
    "# Define ERK method\n",
    "A = sp.Matrix([[0, 0, 0, 0],\n",
    "               [sp.Rational(1,2), 0, 0, 0],\n",
    "               [0, sp.Rational(3,4), 0, 0],\n",
    "               [sp.Rational(2,3), sp.Rational(1,3), sp.Rational(4,9), 0]])\n",
    "b = sp.Matrix([sp.Rational(7,24), sp.Rational(1/4), sp.Rational(1,3), sp.Rational(1,8)])\n",
    "e = sp.ones(4,1)\n",
    "\n",
    "# Determine coefficients of the stability function\n",
    "for k in range(4):\n",
    "    display(b.T * A ** k * e)"
   ]
  },
  {
   "cell_type": "code",
   "execution_count": 5,
   "id": "a89704ae",
   "metadata": {
    "tags": [
     "remove-cell"
    ]
   },
   "outputs": [
    {
     "data": {
      "image/png": "[encoded data removed]",
      "text/plain": [
       "<Figure size 800x600 with 1 Axes>"
      ]
     },
     "metadata": {},
     "output_type": "display_data"
    }
   ],
   "source": [
    "import numpy as np\n",
    "import matplotlib.pyplot as plt\n",
    "plt.rcParams['text.usetex'] = True\n",
    "\n",
    "# Generate z values\n",
    "xmin, xmax, ymin, ymax = -5, 2, -3.5, 3.5\n",
    "X, Y = np.meshgrid(np.linspace(xmin, xmax, 200),np.linspace(ymin, ymax, 200))\n",
    "Z = X + Y * 1j\n",
    "\n",
    "# Define stability function\n",
    "ERK = 1 + Z + 1/2 * Z ** 2 + 3/16 * Z ** 3 + 1/48 * Z ** 4\n",
    "RK2 = 1 + Z + Z ** 2 / 2\n",
    "\n",
    "# Plot stability region\n",
    "fig = plt.figure(figsize=(8, 6))\n",
    "plt.contourf(X, Y, abs(ERK), levels=[0, 1], colors=\"#99ccff\")    # plot stability regions\n",
    "plt.contourf(X, Y, abs(RK2), levels=[0, 1], colors=\"#ffcccc\")\n",
    "plt.contour(X, Y, abs(ERK), colors= \"k\", levels=[0, 1])          # add outlines\n",
    "plt.contour(X, Y, abs(RK2), colors= \"k\", levels=[0, 1])\n",
    "plt.axhline(0, color=\"k\", linewidth=1)                           # add axis lines\n",
    "plt.axvline(0, color=\"k\", linewidth=1)\n",
    "plt.axis([xmin, xmax, ymin, ymax])\n",
    "plt.xlabel(\"$\\mathrm{Re}(z)$\", fontsize=14)\n",
    "plt.ylabel(\"$\\mathrm{Im}(z)$\", fontsize=14)\n",
    "plt.text(-2, 2.5, \"ERK\", fontsize=14)                            # add text labels\n",
    "plt.text(-2.5, 0.5, \"RK2\", fontsize=14)\n",
    "plt.show()\n",
    "\n",
    "from myst_nb import glue\n",
    "glue(\"erk-stability-regions-example-plot\", fig, display=False)"
   ]
  }
 ],
 "metadata": {
  "celltoolbar": "Tags",
  "kernelspec": {
   "display_name": "Python 3",
   "language": "python",
   "name": "python3"
  },
  "language_info": {
   "codemirror_mode": {
    "name": "ipython",
    "version": 3
   },
   "file_extension": ".py",
   "mimetype": "text/x-python",
   "name": "python",
   "nbconvert_exporter": "python",
   "pygments_lexer": "ipython3",
   "version": "3.11.7"
  },
  "vscode": {
   "interpreter": {
    "hash": "966c2572ce838c9df552f8ed5c38cfd9c878261c104862aacf38d1f7f9c4e98b"
   }
  }
 },
 "nbformat": 4,
 "nbformat_minor": 5
}