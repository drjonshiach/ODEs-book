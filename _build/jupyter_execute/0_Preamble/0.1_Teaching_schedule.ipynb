{
 "cells": [
  {
   "cell_type": "markdown",
   "id": "48499aa4",
   "metadata": {
    "tags": [
     "full-width"
    ]
   },
   "source": [
    "(teaching-schedule-section)=\n",
    "# Teaching schedule\n",
    "\n",
    "The teaching schedule for this part of the unit is as follows\n",
    "\n",
    "````{div} full-width\n",
    "| Week | Date (w/c) | Lecture | <div style=\"width:160px\">Tutorial</div> |\n",
    "|:----:|:----------:|:--------|:---------|\n",
    "|  1   | 03/10/2022\t| [**Initial Value Problems (IVPs)**](ivp-chapter):<br /> [Definition of an IVP](ivp-definition), the [Taylor series](taylor-series-section), the [Euler method](euler-method-definition), [error analysis](error-analysis-section), the [RK2 method](rk2-section), solving [higher order ODEs](higher-order-odes-section) | [Exercises 1.1](ex1.1) to [1.5](ex1.5) |\n",
    "|  2   | 10/10/2022 | [**Explicit Runge-Kutta Methods (ERK)**](erk-chapter):<br /> [Definition of a Runge-Kutta method](rk-definition), the [Butcher tableau](butcher-tableau-definition), derivation of the [RK2](rk2-derivation-section) and [RK4](derivation-of-rk4-section) methods | [Exercises 2.1](ex2.1) to [2.5](ex2.5) |\n",
    "|  3   | 17/10/2022 | [**Explicit Runge-Kutta Methods (ERK) cont**](erk-chapter):<br />  [Solving IVPs using ERK methods](applying-erk-methods-to-solve-ivps-section) | [Exercises 2.6](ex2.6) to [2.11](ex2.11) |\n",
    "|  4   | 24/10/2022 | [**Implicit Runge-Kutta Methods (IRK)**](irk-chapter):<br /> [Order of an IRK method](order-of-irk-section), [deriving IRK methods](deriving-irk-methods-section), [solving IVPs using IRK methods](solving-ivps-using-irk-methods-section) | [Exercises 3.1](ex3.1) to [3.5](ex3.5) |\n",
    "|  5   | 31/10/2022 | [**Stability**](stability-chapter): <br> [Definition of stability](stability-definition), [stiff ODEs](stiffness-section), [stability functions](stability-functions-section), [absolute stability](absolute-stability-definition), plotting the [region of absolute stability](plot-stability-region-section), [A-stability](a-stability-definition) | [Exercises 4.1](ex4.1) to [4.4](ex4.4) |\n",
    "|  6   | 07/11/2022 | [**Boundary Value Problems (BVPS)**](bvp-chapter): <br> Definition, [existence and uniqeness of solutions](existence-and-uniqueness-of-bvp-solutions-section), the [shooting method](shooting-method-section), the [finite-difference method](finite-difference-method-section) | [Exercises 5.1](ex5.1) to [5.5](ex5.5) |\n",
    "|  7   | 14/11/2022 | [**Direct methods**](direct-methods-chapter): <br> [LU decomposition](lu-section), [Crouts method](crouts-method-section), [LU decomposition with partial pivoting](lup-section) | [Exercises 6.1](ex6.1) and [6.2](ex6.2) |\n",
    "|  8   | 21/11/2022 | [**Direct methods**](direct-methods-chapter): <br> [LU decomposition](lu-section), [Crouts method](crouts-method-section), [LU decomposition with partial pivoting](lup-section) | [Exercises 6.1](ex6.1) and [6.2](ex6.2) |\n",
    "|  9   | 28/11/2022 | [**Direct methods cont.**](cholesky-section): <br> [Cholesky decomposition](cholesky-section), [QR decomposition](qr-section), the [Gram-Schmidt process](qr-gram-schmidt-section), [Householder transformations](qr-householder-section) | [Exercises 6.3](ex6.3) to [6.5](ex6.5) |\n",
    "| 10   | 05/12/2022 | [**Indirect methods**](indirect-methods-chapter): <br> [Jacobi](jacobi-method-section), [Gauss-Seidel](gauss-seidel-method-section) and [SOR](sor-method-section) methods,[convergence of indirect methods](convergence-of-indirect-methods-section) | [Exercises 7.1](ex7.1) to [7.6](ex7.6) |\n",
    "| 11   | 12/12/2022 | **Consolidation and exam preparation** <br> **Coursework deadline 9pm on 16/12/2022** |\n",
    "```"
   ]
  }
 ],
 "metadata": {
  "celltoolbar": "Tags",
  "kernelspec": {
   "display_name": "Python 3",
   "language": "python",
   "name": "python3"
  },
  "language_info": {
   "codemirror_mode": {
    "name": "ipython",
    "version": 3
   },
   "file_extension": ".py",
   "mimetype": "text/x-python",
   "name": "python",
   "nbconvert_exporter": "python",
   "pygments_lexer": "ipython3",
   "version": "3.8.3"
  }
 },
 "nbformat": 4,
 "nbformat_minor": 5
}