{
 "cells": [
  {
   "cell_type": "markdown",
   "id": "261b450d",
   "metadata": {},
   "source": [
    "(indirect-methods-chapter)=\n",
    "# 7. Indirect Methods\n",
    "\n",
    "**Learning outcomes**\n",
    "\n",
    "On successful completion of this chapter readers will be able to:\n",
    "\n",
    "   - understand the concept of an indirect method when used to solve a system of linear equations;\n",
    "   - apply the Jacobi, Gauss-Seidel and SOR methods to solve a linear system;\n",
    "   - use the residual to determine the accuracy of the current estimate of the solution to the linear system;\n",
    "   - determine whether an indirect method is convergent for a particular linear system and analyse the theoretical rate of convergence for indirect methods.\n",
    "\n",
    "## Indirect methods\n",
    "\n",
    "Indirect methods for solving systems of linear equations use an iterative approach to repeatedly update estimates of the exact solution to the linear system. They are called **indirect methods** since multiple applications of the method is required to calculate a solution unlike [direct methods](direct-methods-chapter) such as Gaussian elimination and LU decomposition which require a single application to calculate the solution. However, direct methods are inefficient for large systems of equations for which we tend to use indirect methods instead. \n",
    "\n",
    "An indirect method for solving a system of linear equations of the form $A \\mathbf{x}= \\mathbf{b}$ is\n",
    "\n",
    "```{math}\n",
    ":label: iteration-matrix-equation\n",
    "\n",
    "\\mathbf{x}^{(k+1)} =T\\mathbf{x}^{(k)} + \\mathbf{c},\n",
    "```\n",
    "\n",
    "where $\\mathbf{x}^{(k)}$ and $\\mathbf{x}^{(k+1)}$ are the current and improved estimates of $\\mathbf{x}$, $T$ is an **iteration matrix** and $\\mathbf{c}$ is some vector. This equation is iterated updating the values of the estimates such that $\\mathbf{x}^{(k)} \\to \\mathbf{x}$ as $k\\to \\infty$. Note that unlike direct methods which will calculate the exact solution, indirect only calculate an estimate (albeit very close) of the exact solution."
   ]
  }
 ],
 "metadata": {
  "kernelspec": {
   "display_name": "Python 3",
   "language": "python",
   "name": "python3"
  },
  "language_info": {
   "codemirror_mode": {
    "name": "ipython",
    "version": 3
   },
   "file_extension": ".py",
   "mimetype": "text/x-python",
   "name": "python",
   "nbconvert_exporter": "python",
   "pygments_lexer": "ipython3",
   "version": "3.8.3"
  }
 },
 "nbformat": 4,
 "nbformat_minor": 5
}