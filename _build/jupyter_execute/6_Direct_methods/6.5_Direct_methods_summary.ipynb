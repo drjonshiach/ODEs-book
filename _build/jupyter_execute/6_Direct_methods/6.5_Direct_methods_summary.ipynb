{
 "cells": [
  {
   "cell_type": "markdown",
   "id": "92707d59",
   "metadata": {},
   "source": [
    "# Chapter summary\n",
    "\n",
    "- [LU decomposition](lu-definition) factorises a square matrix in the product of a lower triangular matrix $L$ and an upper triangular matrix $U$.\n",
    "- [Crout's method](crouts-method-section) is used to solve a system of linear equations using LU decomposition by apply forward and back substitution.\n",
    "- [Partial pivoting](partial-pivoting-section) ensures that the pivot element has a larger absolute value than the elements in the column below the pivot. This eliminates the problems caused when the pivot element is small resulting in computational rounding errors;\n",
    "- [Cholesky decomposition](cholesky-decomposition-definition) can be applied to factorise a [positive definite matrix](positive-definite-example) into the product of a lower triangular matrix $L$ and its transpose. Cholesky decomposition of a matrix requires fewer operations than the equivalent LU decomposition.\n",
    "- [QR decomposition](qr-section) can be applied to factorise an $m\\times n$ matrix into the product of an [orthogonal matrix](orthogonal-matrix-definition) $Q$ and an upper triangular matrix $R$. \n",
    "- QR decomposition can be calculated using the [Gram-Schmidt process](qr-gramschmidt-definition) where an orthonormal basis is determined by recursively subtracting the vector projection of non-orthogonal vectors onto known basis vectors.\n",
    "- QR decomposition can also be calculated using [Householder transformations](qr-householder-definition) which recursively applies a linear transformation to the columns of $A$ to reflect them onto the basis vectors $\\mathbf{e}$.\n",
    "- QR decomposition can be used to calculate a solution to an overdetermined system when the number of equations is bigger than the number of unknowns.\n",
    "- The advantage of using decomposition methods for solving systems of linear equations is that a change in the constant values do not require a recalculation of the decomposition as opposed to Gaussian elimination."
   ]
  }
 ],
 "metadata": {
  "kernelspec": {
   "display_name": "Python 3",
   "language": "python",
   "name": "python3"
  },
  "language_info": {
   "codemirror_mode": {
    "name": "ipython",
    "version": 3
   },
   "file_extension": ".py",
   "mimetype": "text/x-python",
   "name": "python",
   "nbconvert_exporter": "python",
   "pygments_lexer": "ipython3",
   "version": "3.8.3"
  }
 },
 "nbformat": 4,
 "nbformat_minor": 5
}