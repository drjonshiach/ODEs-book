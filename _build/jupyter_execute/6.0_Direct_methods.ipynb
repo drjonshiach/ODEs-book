{
 "cells": [
  {
   "cell_type": "markdown",
   "id": "3e0be094",
   "metadata": {},
   "source": [
    "(direct-methods-chapter)=\n",
    "# 6. Direct Methods\n",
    "\n",
    "**Learning outcomes**\n",
    "\n",
    "On successful completion of this chapter readers will be able to:\n",
    "\n",
    "-  apply [LU decomposition](lu-definition) to factorise a square matrix into a product of a lower triangular and upper triangular matrices.\n",
    "-  apply [Crout's method](crouts-method-section) for solving a system of linear equations using LU decomposition;\n",
    "-  solve a system of linear equations using [LU decomposition with partial pivoting](partial-pivoting-section);\n",
    "-  apply [Cholesky decomposition](cholesky-definition) to factorise a positive definite matrix into a product of a lower triangular matrix and its transpose;\n",
    "-  solve a system of linear equations using the [Cholesky-Crout method](cholesky-crout-method-section);\n",
    "-  apply [QR decomposition](qr-section) to factorise an $m\\times n$ matrix into the product of an orthogonal matrix and an upper triangular matrix using the [Gram-Schmidt process](qr-gramschmidt-definition) and [Householder transformations](qr-householder-definition);\n",
    "-  Solve a [system of linear equations using QR decomposition](qr-crout-section). \n",
    "\n",
    "---\n",
    "## Systems of linear equations\n",
    "\n",
    "[Systems of linear equations](https://en.wikipedia.org/wiki/System_of_linear_equations) appear often in the topics of numerical analysis and numerical solutions to differential equations. Examples include the solution of the [stage values of an implicit Runge-Kutta method](solving-ivps-using-irk-methods-section) and the solution to a boundary value problem using the [finite-difference method](finite-difference-method-section). The methods that are applied to solve systems of linear equations fall into one of two categories: **direct methods** that use an algebraic approach and [**indirect methods**](indirect-methods-chapter) that use an iterative approach. On this chapter we will look at some common direct methods.\n",
    "\n",
    "A system of linear equations with $m$ equations and $n$ unknowns is expressed as\n",
    "\n",
    "\\begin{align*}\n",
    "    a_{11} x_1 +a_{12} x_2 +\\cdots +a_{1n} x_n &=b_1 ,\\\\\n",
    "    a_{21} x_1 +a_{22} x_2 +\\cdots +a_{2n} x_n &=b_2 ,\\\\\n",
    "    &\\vdots \\\\\n",
    "    a_{m1} x_1 +a_{m2} x_2 +\\cdots +a_{mn} x_n &=b_n ,\n",
    "\\end{align*}\n",
    "\n",
    "where $x_i$ are the unknown variables, $a_{ij}$ are coefficients and $b_i$ are constant terms. It is often more convenient to express a system of linear equations as a matrix equation \n",
    "\n",
    "\\begin{align*}\n",
    "    A \\mathbf{x} = \\mathbf{b},\n",
    "\\end{align*}\n",
    "where $A$ is the **coefficient matrix**, $\\mathbf{x}$ is the **variable vector** and $b$ is the **constant vector**\n",
    "\n",
    "\\begin{align*}\n",
    "    A &= \\begin{pmatrix}\n",
    "        a_{11}  & a_{12}  & \\cdots  & a_{1n} \\\\\n",
    "        a_{21}  & a_{22}  & \\cdots  & a_{2n} \\\\\n",
    "        \\vdots  & \\vdots  & \\ddots  & \\vdots \\\\\n",
    "        a_{m1}  & a_{m2}  & \\cdots  & a_{mn} \n",
    "    \\end{pmatrix},& \n",
    "    \\mathbf{x} &= \\begin{pmatrix} x_1 \\\\ x_2 \\\\ \\vdots \\\\ x_m \\end{pmatrix}, &\n",
    "    \\mathbf{b} &= \\begin{pmatrix} b_1 \\\\ b_2 \\\\ \\vdots \\\\ b_m \\end{pmatrix}.\n",
    "\\end{align*}\n",
    "\n",
    "The solution (if it exists) is the vector $\\mathbf{x}$ for which the equation $A\\mathbf{x} = \\mathbf{b}$ is satisfied. The solution to a linear system may be one of the following\n",
    "\n",
    "- The system has infinitely many solutions. This usually occurs when the number of unknown variables exceeds the number of equations in the system.\n",
    "- The system has a single unique solution.\n",
    "- The system has no solution. This usually occurs where one equation in the system contradicts another such that not value of the variables could satisfy both."
   ]
  }
 ],
 "metadata": {
  "kernelspec": {
   "display_name": "Python 3",
   "language": "python",
   "name": "python3"
  },
  "language_info": {
   "codemirror_mode": {
    "name": "ipython",
    "version": 3
   },
   "file_extension": ".py",
   "mimetype": "text/x-python",
   "name": "python",
   "nbconvert_exporter": "python",
   "pygments_lexer": "ipython3",
   "version": "3.8.3"
  }
 },
 "nbformat": 4,
 "nbformat_minor": 5
}