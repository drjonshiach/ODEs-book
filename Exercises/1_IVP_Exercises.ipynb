{
 "cells": [
  {
   "cell_type": "markdown",
   "id": "d63196f6",
   "metadata": {},
   "source": [
    "# Computational Methods in Ordinary Differential Equations\n",
    "\n",
    "Dr Jon Shiach\n",
    "\n",
    "## Initial Value Problems Exercises\n",
    "\n",
    "These are the exercises from the chapter on [Initial Value Problems](https://drjonshiach.github.io/ODEs_book/1.0_IVPs.html).\n",
    "\n",
    "---\n",
    "#### Exercise 1.1\n",
    "\n",
    "Using pen and a calculator solve the following IVP using the Euler method with a step length of $h=0.4$. Write down your solutions correct to 4 decimal places.\n",
    "\\begin{align*}\n",
    "    y' =t + y, \\qquad t\\in [0,2],\\qquad y(0)=2.\n",
    "\\end{align*}\n",
    "\n",
    "---\n",
    "#### Exercise 1.2\n",
    "\n",
    "Repeat [exercise 1.1](#Exercise-1.1) using the second-order Runge-Kutta method.\n",
    "\n",
    "---\n",
    "#### Exercise 1.3\n",
    "\n",
    "Reproduce your solutions to [exercises 1.1](#Exercise-1.1) and [1.2](#Exercise-1.2) using a Python program. "
   ]
  },
  {
   "cell_type": "code",
   "execution_count": null,
   "id": "d16ee046",
   "metadata": {},
   "outputs": [],
   "source": []
  },
  {
   "cell_type": "markdown",
   "id": "6d40eefb",
   "metadata": {},
   "source": [
    "---\n",
    "#### Exercise 1.4\n",
    "\n",
    "The exact solution to the IVP in [exercise 1.1](#Exercise-1.1) is $y=3e^t - t - 1$. Produce a plot of the Euler solution, the Runge-Kutta solution and the exact solution on the same set of axes."
   ]
  },
  {
   "cell_type": "code",
   "execution_count": null,
   "id": "59aee54d",
   "metadata": {},
   "outputs": [],
   "source": []
  },
  {
   "cell_type": "markdown",
   "id": "e2d318b0",
   "metadata": {},
   "source": [
    "---\n",
    "#### Exercise 1.5\n",
    "\n",
    "The motion of a pendulum can be modelled by the following ODE\n",
    "\n",
    "\\begin{align*}\n",
    "    \\theta'' + \\frac{g}{\\ell} \\sin(\\theta) = 0,\n",
    "\\end{align*}\n",
    "\n",
    "where $\\theta$ is the angle between the pendulum and the vertical, $\\ell$ is the length of the pendulum and $g=9.81$ ms$^{-2}$ is the acceleration due to gravity.\n",
    "\n",
    "![](https://github.com/drjonshiach/ODEs_book/blob/main/Images/pendulum.png?raw=true)\n",
    "\n",
    "Write a Python program that uses the second-order Runge-Kutta method with $h=0.1$ to calculate the solution for $\\theta$ over the interval $t\\in [0, 5]$ for a pendulum of length $\\ell = 1$ set at an initial angle $\\theta = \\frac{\\pi}{2}$. Produce a plot of the displacement angle $\\theta$ against $t$.\n"
   ]
  },
  {
   "cell_type": "code",
   "execution_count": null,
   "id": "58be3358",
   "metadata": {},
   "outputs": [],
   "source": []
  }
 ],
 "metadata": {
  "celltoolbar": "Edit Metadata",
  "kernelspec": {
   "display_name": "Python 3",
   "language": "python",
   "name": "python3"
  },
  "language_info": {
   "codemirror_mode": {
    "name": "ipython",
    "version": 3
   },
   "file_extension": ".py",
   "mimetype": "text/x-python",
   "name": "python",
   "nbconvert_exporter": "python",
   "pygments_lexer": "ipython3",
   "version": "3.8.3"
  }
 },
 "nbformat": 4,
 "nbformat_minor": 5
}
