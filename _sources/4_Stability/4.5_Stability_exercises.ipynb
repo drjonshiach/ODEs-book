{
 "cells": [
  {
   "cell_type": "markdown",
   "id": "a93bb6e7",
   "metadata": {},
   "source": [
    "# Stability Exercises\n",
    "\n",
    "`````{admonition} Exercise 4.1\n",
    ":class: note\n",
    ":name: ex4.1\n",
    "\n",
    "Determine the stability function of the following Runge-Kutta method\n",
    "\\begin{align*}\n",
    "    \\begin{array}{c|ccccc}\n",
    "        0 &  &  &  &  & \\\\\n",
    "        \\frac{1}{4} & \\frac{1}{4} &  &  &  & \\\\\n",
    "        \\frac{1}{2} & \\frac{1}{2} & 0 &  &  & \\\\\n",
    "        \\frac{3}{4} & 0 & \\frac{1}{2} & \\frac{1}{4} &  &    \\\\\n",
    "        0 & 0 & \\frac{1}{6} & -\\frac{1}{3} & \\frac{1}{6} & \\\\ \\hline\n",
    "        & -1 & \\frac{2}{3} & -\\frac{1}{3} & \\frac{2}{3} & 1\n",
    "    \\end{array}\n",
    "\\end{align*}\n",
    "\n",
    "````{dropdown} Solution (click to show)\n",
    "\n",
    "\\begin{align*}\n",
    "    \\mathbf{b} A^0 \\mathbf{e} &= \n",
    "    \\begin{pmatrix} -1 \\\\ \\frac{2}{3} \\\\ -\\frac{1}{3} \\\\ \\frac{2}{3} \\\\ 1 \\end{pmatrix}\n",
    "    \\begin{pmatrix} \n",
    "        1 & 0 & 0 & 0 & 0 \\\\\n",
    "        0 & 1 & 0 & 0 & 0 \\\\\n",
    "        0 & 0 & 1 & 0 & 0 \\\\\n",
    "        0 & 0 & 0 & 1 & 0 \\\\\n",
    "        0 & 0 & 0 & 0 & 1 \n",
    "    \\end{pmatrix}\n",
    "    \\begin{pmatrix} 1 \\\\ 1 \\\\ 1 \\\\ 1 \\\\ 1 \\end{pmatrix}\n",
    "    = 1, \\\\\n",
    "    \\mathbf{b} A^1 \\mathbf{e} &= \n",
    "    \\begin{pmatrix} -1 \\\\ \\frac{2}{3} \\\\ -\\frac{1}{3} \\\\ \\frac{2}{3} \\\\ 1 \\end{pmatrix}\n",
    "    \\begin{pmatrix} \n",
    "        0 & 0 & 0 & 0 & 0 \\\\\n",
    "        \\frac{1}{4} & 0 & 0 & 0 & 0 \\\\\n",
    "        \\frac{1}{2} & 0 & 0 & 0 & 0 \\\\\n",
    "        0 & \\frac{1}{2} & \\frac{1}{4} & 0 & 0 \\\\\n",
    "        0 & \\frac{1}{6} & -\\frac{1}{3} & \\frac{1}{6} & 0\n",
    "    \\end{pmatrix}\n",
    "    \\begin{pmatrix} 1 \\\\ 1 \\\\ 1 \\\\ 1 \\\\ 1 \\end{pmatrix}\n",
    "    = \\frac{1}{2}, \\\\\n",
    "    \\mathbf{b} A^2 \\mathbf{e} &= \n",
    "    \\begin{pmatrix} -1 \\\\ \\frac{2}{3} \\\\ -\\frac{1}{3} \\\\ \\frac{2}{3} \\\\ 1 \\end{pmatrix}\n",
    "    \\begin{pmatrix} \n",
    "        0 & 0 & 0 & 0 & 0 \\\\\n",
    "        0 & 0 & 0 & 0 & 0 \\\\\n",
    "        0 & 0 & 0 & 0 & 0 \\\\\n",
    "        \\frac{1}{4} & 0 & 0 & 0 & 0 \\\\\n",
    "        -\\frac{1}{8} & \\frac{1}{12} & \\frac{1}{24} & 0 & 0\n",
    "    \\end{pmatrix}\n",
    "    \\begin{pmatrix} 1 \\\\ 1 \\\\ 1 \\\\ 1 \\\\ 1 \\end{pmatrix}\n",
    "    = \\frac{1}{6}, \\\\\n",
    "    \\mathbf{b} A^3 \\mathbf{e} &= \n",
    "    \\begin{pmatrix} -1 \\\\ \\frac{2}{3} \\\\ -\\frac{1}{3} \\\\ \\frac{2}{3} \\\\ 1 \\end{pmatrix}\n",
    "    \\begin{pmatrix} \n",
    "        0 & 0 & 0 & 0 & 0 \\\\\n",
    "        0 & 0 & 0 & 0 & 0 \\\\\n",
    "        0 & 0 & 0 & 0 & 0 \\\\\n",
    "        0 & 0 & 0 & 0 & 0 \\\\\n",
    "        \\frac{1}{24} & 0 & 0 & 0 & 0\n",
    "    \\end{pmatrix}\n",
    "    \\begin{pmatrix} 1 \\\\ 1 \\\\ 1 \\\\ 1 \\\\ 1 \\end{pmatrix}\n",
    "    = \\frac{1}{24}, \\\\\n",
    "    \\mathbf{b} A^4 \\mathbf{e} &= \n",
    "    \\begin{pmatrix} -1 \\\\ \\frac{2}{3} \\\\ -\\frac{1}{3} \\\\ \\frac{2}{3} \\\\ 1 \\end{pmatrix}\n",
    "    \\begin{pmatrix} \n",
    "        0 & 0 & 0 & 0 & 0 \\\\\n",
    "        0 & 0 & 0 & 0 & 0 \\\\\n",
    "        0 & 0 & 0 & 0 & 0 \\\\\n",
    "        0 & 0 & 0 & 0 & 0 \\\\\n",
    "        0 & 0 & 0 & 0 & 0\n",
    "    \\end{pmatrix}\n",
    "    \\begin{pmatrix} 1 \\\\ 1 \\\\ 1 \\\\ 1 \\\\ 1 \\end{pmatrix}\n",
    "    = 0, \\\\\n",
    "\\end{align*}\n",
    "\n",
    "So the stability function is $R(z) = 1 + z + \\frac{1}{2} z^2 + \\frac{1}{6} z^3 + \\frac{1}{24} z^4$\n",
    "````\n",
    "`````"
   ]
  },
  {
   "cell_type": "code",
   "execution_count": 1,
   "id": "e388bb57",
   "metadata": {
    "tags": [
     "remove-cell"
    ]
   },
   "outputs": [
    {
     "name": "stdout",
     "output_type": "stream",
     "text": [
      "[1]\n",
      "[1/2]\n",
      "[1/6]\n",
      "[1/24]\n",
      "[0]\n"
     ]
    }
   ],
   "source": [
    "from sympy import *\n",
    "init_printing()\n",
    "\n",
    "A = Matrix([[0, 0, 0, 0, 0], \n",
    "            [Rational(1,4), 0, 0, 0, 0], \n",
    "            [Rational(1,2), 0, 0, 0, 0], \n",
    "            [0, Rational(1,2), Rational(1,4), 0, 0], \n",
    "            [0, Rational(1,6), -Rational(1,3), Rational(1,6), 0]])\n",
    "b = Matrix([[-1], [Rational(2,3)], [-Rational(1,3)], [Rational(2,3)], [1]])\n",
    "e = ones(5, 1)\n",
    "\n",
    "# Calculate coefficents\n",
    "for k in range(1, len(b) + 1):\n",
    "    pprint(b.T * A ** (k - 1) * e)"
   ]
  },
  {
   "cell_type": "markdown",
   "id": "7aef5c9f",
   "metadata": {},
   "source": [
    "`````{admonition} Exercise 4.2\n",
    ":class: note\n",
    ":name: ex4.2\n",
    "\n",
    "Determine the stability function of the following Runge-Kutta method. Is this an A-stable method?\n",
    "\\begin{align*}\n",
    "    \\begin{array}{c|cc}\n",
    "        \\frac{1}{4} & \\frac{7}{24} & -\\frac{1}{24}\\\\\n",
    "        \\frac{3}{4} & \\frac{13}{24} & \\frac{5}{24}\\\\ \\hline\n",
    "        & \\frac{1}{2} & \\frac{1}{2}\n",
    "    \\end{array}\n",
    "\\end{align*}\n",
    "\n",
    "````{dropdown} Solution\n",
    "\\begin{align*}\n",
    "    R(z) &= \\frac{\\det \\left( \n",
    "    \\begin{pmatrix} 1 & 0 \\\\ 0 & 1 \\end{pmatrix} - z\n",
    "    \\begin{pmatrix} \\frac{7}{24} & -\\frac{1}{24} \\\\ \\frac{13}{24} & \\frac{5}{24} \\end{pmatrix} + z\n",
    "    \\begin{pmatrix} \\frac{1}{2} & 0 \\\\ 0 & \\frac{1}{2} \\end{pmatrix} \\right)}{\\det \\left(\n",
    "    \\begin{pmatrix} 1 & 0 \\\\ 0 & 1 \\end{pmatrix} - z\n",
    "    \\begin{pmatrix} \\frac{7}{24} & -\\frac{1}{24} \\\\ \\frac{13}{24} & \\frac{5}{24} \\end{pmatrix} \\right)} \\\\\n",
    "    &= \\frac{\\det \n",
    "    \\begin{pmatrix} 1 + \\frac{5}{24} z & \\frac{1}{24} z \\\\ -\\frac{13}{24} z & 1 + \\frac{7}{24} z \\end{pmatrix}}{\\det\n",
    "    \\begin{pmatrix} 1 - \\frac{7}{24} z & \\frac{1}{24} z \\\\ -\\frac{13}{34} z & 1 - \\frac{5}{24} z \\end{pmatrix}}\n",
    "    = \\frac{1 + \\frac{1}{2} z + \\frac{1}{12} z^2}{1 - \\frac{1}{2} z + \\frac{1}{12} z^2}.\n",
    "\\end{align*}\n",
    "\n",
    "Check the roots of $Q(z)$\n",
    "\\begin{align*}\n",
    "    0 &= 1 - \\frac{1}{2} z + \\frac{1}{12} z^2, \\\\\n",
    "    \\therefore z &= \\frac{\\frac{1}{2} \\pm \\sqrt{-\\frac{1}{3}}}{\\frac{1}{6}}\n",
    "    = 3 \\pm \\sqrt{3}i,\n",
    "\\end{align*}\n",
    "so the roots of $Q(z)$ have positive real parts so the first condition for A-stability is satisfied.\n",
    "\n",
    "Check that $E(y) \\geq 0$\n",
    "\n",
    "\\begin{align*}\n",
    "    E(y) &= \\left( 1 - \\frac{1}{2} i y - \\frac{1}{12} y^2 \\right)\n",
    "    \\left( 1 + \\frac{1}{2} i y - \\frac{1}{12} y^2 \\right) \\\\\n",
    "    & \\qquad -\n",
    "    \\left( 1 - \\frac{1}{2} i y - \\frac{1}{12} y^2 \\right)\n",
    "    \\left( 1 + \\frac{1}{2} i y - \\frac{1}{12} y^2 \\right) = 0\n",
    "\\end{align*}\n",
    "\n",
    "so $E(y) \\geq 0$ and the second condition for A-stability is satisfied. Since both conditions are satisfied then this method is A-stable\n",
    "\n",
    "````\n",
    "\n",
    "`````"
   ]
  },
  {
   "cell_type": "code",
   "execution_count": 2,
   "id": "1802a49b",
   "metadata": {
    "tags": [
     "remove-cell"
    ]
   },
   "outputs": [
    {
     "name": "stdout",
     "output_type": "stream",
     "text": [
      "R(z) = \n"
     ]
    },
    {
     "data": {
      "image/png": "[encoded data removed]",
      "text/latex": [
       "$\\displaystyle \\frac{\\frac{z^{2}}{12} + \\frac{z}{2} + 1}{\\frac{z^{2}}{12} - \\frac{z}{2} + 1}$"
      ],
      "text/plain": [
       " 2        \n",
       "z    z    \n",
       "── + ─ + 1\n",
       "12   2    \n",
       "──────────\n",
       " 2        \n",
       "z    z    \n",
       "── - ─ + 1\n",
       "12   2    "
      ]
     },
     "metadata": {},
     "output_type": "display_data"
    },
    {
     "name": "stdout",
     "output_type": "stream",
     "text": [
      "roots of Q(z) = \n"
     ]
    },
    {
     "data": {
      "image/png": "[encoded data removed]",
      "text/latex": [
       "$\\displaystyle \\left[ 3 - \\sqrt{3} i, \\  3 + \\sqrt{3} i\\right]$"
      ],
      "text/plain": [
       "[3 - √3⋅ⅈ, 3 + √3⋅ⅈ]"
      ]
     },
     "metadata": {},
     "output_type": "display_data"
    },
    {
     "name": "stdout",
     "output_type": "stream",
     "text": [
      "E(y) = \n"
     ]
    },
    {
     "data": {
      "image/png": "[encoded data removed]",
      "text/latex": [
       "$\\displaystyle 0$"
      ],
      "text/plain": [
       "0"
      ]
     },
     "metadata": {},
     "output_type": "display_data"
    }
   ],
   "source": [
    "from sympy import *\n",
    "init_printing()\n",
    "\n",
    "# Define RK method\n",
    "A = Matrix([[Rational(7,24), -Rational(1,24)],\n",
    "            [Rational(13,24), Rational(5,24)]])\n",
    "ebT = Matrix([[Rational(1,2), 0], [0, Rational(1,2)]])\n",
    "I = eye(2)\n",
    "\n",
    "z = Symbol('z')\n",
    "\n",
    "# Calculate R(z)\n",
    "z, y = symbols('z, y')\n",
    "\n",
    "def P(z):\n",
    "    return (I - z * A + z * ebT).det()\n",
    "\n",
    "def Q(z):\n",
    "    return (I - z * A).det()\n",
    "\n",
    "Rz = P(z) / Q(z)\n",
    "print(\"R(z) = \")\n",
    "display(nsimplify(Rz))\n",
    "\n",
    "# Check roots of Q have positive real parts\n",
    "print('roots of Q(z) = ')\n",
    "display(solve(Q(z) - 0))\n",
    "\n",
    "# Check E(y) >= 0\n",
    "E = Q(1j * y) * Q(-1j * y) - P(1j * y) * P(-1j * y)\n",
    "print('E(y) = ')\n",
    "display(simplify(nsimplify(E)))"
   ]
  },
  {
   "cell_type": "markdown",
   "id": "ed65548e",
   "metadata": {},
   "source": [
    "`````{admonition} Exercise 4.3\n",
    ":class: note\n",
    ":name: ex4.3\n",
    "\n",
    "Plot the region of absolute stability for the following Runge-Kutta method.\n",
    "\n",
    "\\begin{align*}\n",
    "    \\begin{array}{c|cc}\n",
    "        \\frac{1}{3} & \\frac{1}{3} & 0\\\\\n",
    "        1 & 1 & 0\\\\ \\hline\n",
    "        & \\frac{3}{4} & \\frac{1}{4}\n",
    "    \\end{array}\n",
    "\\end{align*}\n",
    "\n",
    "````{dropdown} Solution\n",
    "\n",
    "Determine the stability function\n",
    "\\begin{align*}\n",
    "    R(z) &= \\frac{\\left( \n",
    "    \\begin{pmatrix} 1 & 0 \\\\ 0 & 1 \\end{pmatrix} - z\n",
    "    \\begin{pmatrix} \\frac{1}{3} & 0 \\\\ 1 & 0 \\end{pmatrix} - z\n",
    "    \\begin{pmatrix} \\frac{3}{4} & 0 \\\\ 0 & \\frac{1}{4} \\end{pmatrix} \\right)}{ \\det \\left(\n",
    "    \\begin{pmatrix} 1 & 0 \\\\ 0 & 1 \\end{pmatrix} - z\n",
    "    \\begin{pmatrix} \\frac{1}{3} & 0 \\\\ 1 & 0 \\end{pmatrix} \\right)} \\\\\n",
    "    &= \\frac{\\det\n",
    "    \\begin{pmatrix} 1 - \\frac{13}{12} z & 0 \\\\ -z & 1 - \\frac{1}{4} z \\end{pmatrix}}{\\det\n",
    "    \\begin{pmatrix} 1 - \\frac{1}{3} z & 0  \\\\ -z & 1 \\end{pmatrix}}\n",
    "    = \\frac{1 + \\frac{2}{3} z + \\frac{5}{48} z^2}{1 - \\frac{1}{3} z}\n",
    "\\end{align*}\n",
    "\n",
    "Plot \n",
    "\n",
    "```{glue:} ex4.3_plot\n",
    "```\n",
    "\n",
    "Code \n",
    "\n",
    "```python\n",
    "import numpy as np\n",
    "import matplotlib.pyplot as plt\n",
    "\n",
    "# Generate z values\n",
    "X, Y = np.meshgrid(np.linspace(-10, 10, 100), np.linspace(-10, 10, 100))\n",
    "Z = X + Y * 1j\n",
    "\n",
    "# Define stability function\n",
    "R = (1 + 2 / 3 * Z + 5 / 48 * Z ** 2) / (1 - 1 / 3 * Z)\n",
    "\n",
    "# Plot stability region\n",
    "fig = plt.figure(figsize=(8, 6))\n",
    "plt.contourf(X, Y, abs(R), levels=[0, 1], colors=\"#99ccff\")\n",
    "plt.contour(X, Y, abs(R), colors= \"k\", levels=[0, 1])\n",
    "plt.axhline(0, color=\"k\", linewidth=2)\n",
    "plt.axvline(0, color=\"k\", linewidth=2)\n",
    "plt.axis(\"equal\")\n",
    "plt.axis([-15, 5, -1.5, 1.5])\n",
    "plt.xlabel(\"$\\mathrm{Re}(z)$\", fontsize=14)\n",
    "plt.ylabel(\"$\\mathrm{Im}(z)$\", fontsize=14)\n",
    "plt.show()\n",
    "```\n",
    "````\n",
    "\n",
    "`````"
   ]
  },
  {
   "cell_type": "code",
   "execution_count": 10,
   "id": "1ceb69c1",
   "metadata": {
    "tags": [
     "remove-cell"
    ]
   },
   "outputs": [
    {
     "name": "stdout",
     "output_type": "stream",
     "text": [
      "R(z) = \n"
     ]
    },
    {
     "data": {
      "image/png": "[encoded data removed]",
      "text/latex": [
       "$\\displaystyle \\frac{\\frac{5 z^{2}}{48} + \\frac{2 z}{3} + 1}{1 - \\frac{z}{3}}$"
      ],
      "text/plain": [
       "   2          \n",
       "5⋅z    2⋅z    \n",
       "──── + ─── + 1\n",
       " 48     3     \n",
       "──────────────\n",
       "        z     \n",
       "    1 - ─     \n",
       "        3     "
      ]
     },
     "metadata": {},
     "output_type": "display_data"
    },
    {
     "data": {
      "image/png": "[encoded data removed]",
      "text/plain": [
       "<Figure size 576x432 with 1 Axes>"
      ]
     },
     "metadata": {
      "needs_background": "light"
     },
     "output_type": "display_data"
    },
    {
     "data": {
      "application/papermill.record/image/png": "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\n",
      "application/papermill.record/text/plain": "<Figure size 576x432 with 1 Axes>"
     },
     "metadata": {
      "scrapbook": {
       "mime_prefix": "application/papermill.record/",
       "name": "ex4.3_plot"
      }
     },
     "output_type": "display_data"
    }
   ],
   "source": [
    "import numpy as np\n",
    "import matplotlib.pyplot as plt\n",
    "from sympy import *\n",
    "init_printing()\n",
    "\n",
    "# Define RK method\n",
    "A = Matrix([[Rational(1,3), 0],\n",
    "            [1, 0]])\n",
    "ebT = Matrix([[Rational(3,4), 0], [0, Rational(1,4)]])\n",
    "I = eye(2)\n",
    "\n",
    "# Calculate R(z)\n",
    "z, y = symbols('z, y')\n",
    "\n",
    "def P(z):\n",
    "    return (I - z * A + z * ebT).det()\n",
    "\n",
    "def Q(z):\n",
    "    return (I - z * A).det()\n",
    "\n",
    "Rz = P(z) / Q(z)\n",
    "print(\"R(z) = \")\n",
    "display(nsimplify(Rz))\n",
    "\n",
    "# Generate z values\n",
    "X, Y = np.meshgrid(np.linspace(-10, 10, 100), np.linspace(-10, 10, 100))\n",
    "Z = X + Y * 1j\n",
    "\n",
    "# Define stability function\n",
    "R = (1 + 2 / 3 * Z + 5 / 48 * Z ** 2) / (1 - 1 / 3 * Z)\n",
    "\n",
    "# Plot stability region\n",
    "fig = plt.figure(figsize=(8, 6))\n",
    "plt.contourf(X, Y, abs(R), levels=[0, 1], colors=\"#99ccff\")\n",
    "plt.contour(X, Y, abs(R), colors= \"k\", levels=[0, 1])\n",
    "plt.axhline(0, color=\"k\", linewidth=2)\n",
    "plt.axvline(0, color=\"k\", linewidth=2)\n",
    "plt.axis(\"equal\")\n",
    "plt.axis([-15, 5, -1.5, 1.5])\n",
    "plt.xlabel(\"$\\mathrm{Re}(z)$\", fontsize=14)\n",
    "plt.ylabel(\"$\\mathrm{Im}(z)$\", fontsize=14)\n",
    "plt.show()\n",
    "\n",
    "from myst_nb import glue\n",
    "glue(\"ex4.3_plot\", fig, display=False)"
   ]
  },
  {
   "cell_type": "markdown",
   "id": "681d72c0",
   "metadata": {},
   "source": [
    "`````{admonition} Exercise 4.4\n",
    ":class: note\n",
    ":name: ex4.4\n",
    "\n",
    "Calculate the stiffness ratio for the following system of ODEs. \n",
    "\n",
    "\\begin{align*}\n",
    "    y_1' &= -80.6 y_1 + 119.4 y_2,\\\\\n",
    "    y_2' &= 79.6 y_1 - 120.4 y_2.\n",
    "\\end{align*}\n",
    "\n",
    "What are the maximum step lengths that the Euler method is stable for solving each equation?\n",
    "    \n",
    "````{dropdown} Solution\n",
    "\n",
    "Calculate the eigenvalues of the coefficient matrix\n",
    "\n",
    "\\begin{align*}\n",
    "    0 &= \\begin{vmatrix} -80.6 - \\lambda & 119.4 \\\\ 79.6 & -120.4 - \\lambda \\end{vmatrix}\n",
    "    = \\lambda^2 + 201 \\lambda + 200, \\\\\n",
    "    \\therefore \\lambda &= \\frac{-201 \\pm 199}{2} = -200, -1\n",
    "\\end{align*}\n",
    "\n",
    "so the stiffness ratio is $S = 200$. The Euler method is stable for $h\\lambda \\in [-2, 0]$ so the maximum step length is \n",
    "\n",
    "$$h = \\frac{-2}{\\min(-200, -1)} = \\frac{-2}{-200} = 0.01.$$\n",
    "````\n",
    "`````"
   ]
  }
 ],
 "metadata": {
  "celltoolbar": "Tags",
  "kernelspec": {
   "display_name": "Python 3",
   "language": "python",
   "name": "python3"
  },
  "language_info": {
   "codemirror_mode": {
    "name": "ipython",
    "version": 3
   },
   "file_extension": ".py",
   "mimetype": "text/x-python",
   "name": "python",
   "nbconvert_exporter": "python",
   "pygments_lexer": "ipython3",
   "version": "3.8.3"
  }
 },
 "nbformat": 4,
 "nbformat_minor": 5
}
