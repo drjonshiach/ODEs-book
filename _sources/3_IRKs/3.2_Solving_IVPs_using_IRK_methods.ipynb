{
 "cells": [
  {
   "cell_type": "markdown",
   "id": "2ecb31bc",
   "metadata": {},
   "source": [
    "(solving-ivps-using-irk-methods-section)=\n",
    "# Solving initial value problems using implicit Runge-Kutta methods\n",
    "\n",
    "Recall that the [general form of a Runge-Kutta method](rk-definition) is\n",
    "\n",
    "\\begin{align*}\n",
    "   y_{n+1} &= y_n + h \\sum_{i=1}^s b_i k_i,\\\\\n",
    "   k_i &= f(t_n +c_i h,y_n + h \\sum_{j=1}^s a_{ij} k_j).\n",
    "\\end{align*}\n",
    "\n",
    "To help simplify the calculations we let \n",
    "\n",
    "$$Y_i = y_n +h \\displaystyle\\sum_{j=1}^s a_{ij} k_j$$(Yi-equation)\n",
    "\n",
    "then we can write these equations as\n",
    "\n",
    "\\begin{align}\n",
    "   \\label{eq:irk yn+1}\n",
    "   y_{n+1} &= y_n + h \\sum_{i=1}^s b_i f(t_n + c_i h, Y_i),\\\\\n",
    "   \\label{eq:irk Yi}\n",
    "   Y_i &= y_n + h \\sum_{j=1}^s a_{ij} f(t_n + c_j h, Y_j).\n",
    "\\end{align}\n",
    "\n",
    "Expanding the summation in equation {eq}`Yi-equation` for each stage gives\n",
    "\n",
    "```{math}\n",
    ":label: irk-stage-values-equation\n",
    "\n",
    "\\begin{align*}\n",
    "    Y_1 &= y_n + h(a_{11} f(t_n + c_1 h, Y_1) + a_{12} f(t_n + c_2 h, Y_2) + \\cdots + a_{1s} f(t_n + c_s h, Y_s)), \\\\\n",
    "    Y_2 &= y_n + h(a_{21} f(t_n + c_1 h, Y_1) + a_{22} f(t_n + c_2 h, Y_2) + \\cdots + a_{2s} f(t_n + c_s h, Y_s)), \\\\\n",
    "    & \\vdots \\\\\n",
    "    Y_s &= y_n + h(a_{s1} f(t_n + c_1 h, Y_1) + a_{s2} f(t_n + c_2 h, Y_2) + \\cdots + a_{ss} f(t_n + c_s h, Y_s)), \\\\\n",
    "\\end{align*}\n",
    "\n",
    "```\n",
    "\n",
    "The values of $Y_1, Y_2, \\ldots, Y_s$ are found by solving this system of equations. One way to do this is to estimate the values of $Y_i$ by assigning each a value and use the equations {eq}`irk-stage-values-equation` to calculate improved estimates. If we repeat this enough times then our estimations of $Y_i$ will be close to the actual values of $Y_i$. We cease iterations when the largest difference between two successive estimates is small\n",
    "\n",
    "$$\\max_i| Y_i^{(k+1)} - Y_i^{(k)}| < tol$$\n",
    "\n",
    "where $Y_i^{(k+1)}$ and $Y_i^{(k)}$ are the new and old estimates respectively and $tol$ is a **convergence tolerance**. The value of $tol$ is arbitrary but we need it to be small enough to give good estimates of $Y_i$ but not so small that we are spending too much time calculating the iterations. A common default value for the tolerance is $tol=10^{-6}$.\n",
    "\n",
    "````{admonition} Example 3.6\n",
    ":class: seealso\n",
    ":name: irk-example-1\n",
    "\n",
    "The third-order Radau IA implicit Runge-Kutta method is defined by the following Butcher tableau\n",
    "\n",
    "\\begin{align*}\n",
    "   \\begin{array}{c|cc}\n",
    "      0 & 1/4 & -1/4 \\\\\n",
    "      2/3 & 1/4 & 5/12 \\\\ \\hline\n",
    "      & 1/4 & 3/4\n",
    "    \\end{array}\n",
    "\\end{align*}\n",
    "\n",
    "Use this method to calculate the solution of the following initial value problem using a step length of $h=0.2$ and a convergence tolerance of $tol=10^{-4}$.\n",
    "\n",
    "\\begin{align*}\n",
    "    y' = ty, \\qquad t\\in [0,1], \\qquad y(0)=1.\n",
    "\\end{align*}\n",
    "   \n",
    "**Solution**\n",
    "\n",
    "The stage values for the implicit method are\n",
    "\n",
    "\\begin{align*}\n",
    "    Y_1 &= y_n + h(\\tfrac{1}{4} f(t_n, Y_1) - \\tfrac{1}{4} f(t_n + \\tfrac{2}{3}h, Y_2)), \\\\\n",
    "    Y_2 &= y_n + h(\\tfrac{1}{4} f(t_n, Y_1) + \\tfrac{5}{12} f(t_n + \\tfrac{2}{3}h, Y_2))\n",
    "\\end{align*}\n",
    "\n",
    "and since $f(t, y) = ty$ then\n",
    "\n",
    "\\begin{align*}\n",
    "    Y_1 &= y_n + h(\\tfrac{1}{4} t_n Y_1 - \\tfrac{1}{4} (t_n + \\tfrac{2}{3}h) Y_2), \\\\\n",
    "    Y_2 &= y_n + h(\\tfrac{1}{4} t_n Y_1 + \\tfrac{5}{12} (t_n + \\tfrac{2}{3}h) Y_2).\n",
    "\\end{align*}\n",
    "\n",
    "If we use the initial estimates $Y_1 = Y_2 = 1$ then an improved estimate is\n",
    "\n",
    "\\begin{align*}\n",
    "    Y_1 &= 1 + 0.2(\\tfrac{1}{4} (0)(1) - \\tfrac{1}{4} (0 + \\tfrac{2}{3}(0.2)(1)) = 0.993333, \\\\\n",
    "    Y_2 &= 1 + 0.2(\\tfrac{1}{4} (0)(0.993333) + \\tfrac{5}{12} (0 + \\tfrac{2}{3}(0.2)(1)) = 1.011111.\n",
    "\\end{align*}\n",
    "\n",
    "The maximum difference between the new and old estimates are\n",
    "\n",
    "\\begin{align*}\n",
    "    \\max(|0.993333 - 1|, |1.011111 - 1|) = 0.011111.\n",
    "\\end{align*}\n",
    "\n",
    "Our convergence tolerance is $tol=10^{-4}$ and since $0.011111 > 10^{-4}$ our estimates are not close enough to the actual values of $Y_1$ and $Y_2$ so we calculate the estimates again.\n",
    "\n",
    "\\begin{align*}\n",
    "    Y_1 &= 1 + 0.2(\\tfrac{1}{4} (0)(0.993333) - \\tfrac{1}{4} (0 + \\tfrac{2}{3}(0.2)(1.011111)) = 0.993259, \\\\\n",
    "    Y_2 &= 1 + 0.2(\\tfrac{1}{4} (0)(0.993259) + \\tfrac{5}{12} (0 + \\tfrac{2}{3}(0.2)(1.011111)) = 1.011235.\n",
    "\\end{align*}\n",
    "\n",
    "The difference between the new and old estimates are now\n",
    "\n",
    "\\begin{align*}\n",
    "    \\max(|0.993333 - 0.993259|, |1.011111 - 1.011235|) = 0.000123,\n",
    "\\end{align*}\n",
    "\n",
    "and since $0.000123 > 10^{-4}$ the estimates are still not accurate enough so we calculate the estimates again.\n",
    "\n",
    "\\begin{align*}\n",
    "    Y_1 &= 1 + 0.2(\\tfrac{1}{4} (0)(0.993259) - \\tfrac{1}{4} (0 + \\tfrac{2}{3}(0.2)(1.011235)) = 0.993258, \\\\\n",
    "    Y_2 &= 1 + 0.2(\\tfrac{1}{4} (0)(0.993258) + \\tfrac{5}{12} (0 + \\tfrac{2}{3}(0.2)(1.011235)) = 1.011236.\n",
    "\\end{align*}\n",
    "\n",
    "The difference between the new and old estimates are now\n",
    "\n",
    "\\begin{align*}\n",
    "    \\max(|0.993259 - 0.993258|, |1.011235 - 1.011236|) = 0.000001,\n",
    "\\end{align*}\n",
    "\n",
    "and since $0.000001 < 10^{-4}$ so we are now satisfied that $Y_1 = 0.993258$ and $Y_2 = 1.011236$. The solution over a single step is \n",
    "\n",
    "\\begin{align*}\n",
    "    y_{n+1} &= y_n + h (\\tfrac{1}{4} f(t_n, Y_1) + \\tfrac{3}{4} f(t_n + \\tfrac{2}{3}h, Y_2)), \\\\\n",
    "    &= y_n + h (\\tfrac{1}{4} t_n Y_1 + \\tfrac{3}{4} (t_n + \\tfrac{2}{3}h)Y_2),\n",
    "\\end{align*}\n",
    "\n",
    "so\n",
    "\n",
    "\\begin{align*}\n",
    "    y_1 &= 1 + 0.2(\\tfrac{1}{4}(0)(0.993258) + \\tfrac{3}{4}(\\tfrac{2}{3}(0.2)(1.011236)) = 1.020225.\n",
    "\\end{align*}\n",
    "\n",
    "The values of $t_n$, $y_n$, $Y_1$ and $Y_2$ for the full domain are tabulated below\n",
    "\n",
    "| $n$ | $t_n$ | $y_n$ | $Y_1$ | $Y_2$|\n",
    "|:--:|:--:|:--:|:--:|:--:|\n",
    "| 0 |     0.00 |   1.0000 |   0.9933 |   1.0112 |\n",
    "| 1 |     0.20 |   1.0202 |   1.0127 |   1.0598 |\n",
    "| 2 |     0.40 |   1.0833 |   1.0740 |   1.1562 |\n",
    "| 3 |     0.60 |   1.1973 |   1.1847 |   1.3131 |\n",
    "| 4 |     0.80 |   1.3773 |   1.3592 |   1.5524 |\n",
    "| 5 |     1.00 |   1.6490 | - | - |\n",
    "\n",
    "````\n",
    "\n",
    "## Python code\n",
    "\n",
    "The code below defines the function `radauIA()` which calculates the third-order Radua IA solution to an initial value problem. "
   ]
  },
  {
   "cell_type": "code",
   "execution_count": null,
   "id": "ba9df89b",
   "metadata": {
    "tags": [
     "remove-cell"
    ]
   },
   "outputs": [],
   "source": [
    "import numpy as np\n",
    "import matplotlib.pyplot as plt"
   ]
  },
  {
   "cell_type": "code",
   "execution_count": 2,
   "id": "16472120",
   "metadata": {},
   "outputs": [],
   "source": [
    "def radauIA(f, tspan, y0, h, tol=1e-6):\n",
    "    nsteps = int((tspan[1] - tspan[0]) / h)\n",
    "    neq = len(y0)\n",
    "    t = np.arange(nsteps + 1) * h\n",
    "    y = np.zeros((nsteps + 1, neq))\n",
    "    y[0,:] = y0\n",
    "    for n in range(nsteps):\n",
    "        Y1, Y2, Y1o, Y2o = np.ones(neq), np.ones(neq), np.ones(neq), np.ones(neq)\n",
    "        for k in range(100):\n",
    "            Y1 = y[n,:] + h * (1/4 * f(t[n], Y1) - 1/4 * f(t[n] + 2/3 * h, Y2))\n",
    "            Y2 = y[n,:] + h * (1/4 * f(t[n], Y1) + 5/12 * f(t[n] + 2/3 * h, Y2))\n",
    "            if max(np.amax(abs(Y1 - Y1o)), np.amax(abs(Y2 - Y2o))) < tol:\n",
    "                break\n",
    "            Y1o, Y2o = Y1, Y2\n",
    "\n",
    "        y[n+1,:] = y[n,:] + h * (1/4 * f(t[n], Y1) + 3/4 * f(t[n] + 2/3 * h, Y2))\n",
    "        \n",
    "    return t, y  "
   ]
  },
  {
   "cell_type": "markdown",
   "id": "d821b1a1",
   "metadata": {},
   "source": [
    "The inputs are:\n",
    "\n",
    "- `f` - the name of the ODE function to be solved;\n",
    "- `tspan` - an array of two values defining the lower and upper boundaries of the $t$ domain;\n",
    "- `y0` - an array of values containing the solution of the ODE at the initial value $t=a$;\n",
    "- `h` - the step length used.\n",
    "- `tol` - the convergence tolerance (optional, default is $tol=10^{-6}$)\n",
    "\n",
    "`Y1`, `Y2`, `Y1o` and `Y2o` are current and old estimates of the stage values $Y_1$ and $Y_2$ which are calculated by iterating the stage value functions until either the maximum difference between the current and old values is less than `tol` or 100 iterations have been calculated."
   ]
  },
  {
   "cell_type": "code",
   "execution_count": 1,
   "id": "04f9d30e",
   "metadata": {
    "tags": [
     "remove-cell"
    ]
   },
   "outputs": [
    {
     "data": {
      "image/png": "[encoded data removed]",
      "text/plain": [
       "<Figure size 576x432 with 1 Axes>"
      ]
     },
     "metadata": {
      "needs_background": "light"
     },
     "output_type": "display_data"
    }
   ],
   "source": [
    "def f(t, y):\n",
    "    return t * y\n",
    "\n",
    "\n",
    "def exact(t):\n",
    "    return np.exp(t ** 2 / 2)\n",
    "\n",
    "\n",
    "# Define IVP\n",
    "tspan = [0, 1]  # boundaries of the t domain\n",
    "y0 = [1]        # solution at the lower boundary\n",
    "h = 0.2         # step length\n",
    "tol = 1e-4      # convergence tolerance\n",
    "\n",
    "# Solve IVP using the IRK method\n",
    "t, y = radauIA(f, tspan, y0, h, tol)\n",
    "\n",
    "# Plot solutions\n",
    "t_exact = np.linspace(tspan[0], tspan[1], 200)\n",
    "y_exact = exact(t_exact)\n",
    "fig, ax = plt.subplots(figsize=(8, 6))\n",
    "plt.plot(t_exact, y_exact, \"k\", label=\"Exact\")\n",
    "plt.plot(t, y, \"bo-\", label=\"Radau IA\")\n",
    "plt.xlabel(\"$t$\", fontsize=14)\n",
    "plt.ylabel(\"$y$\", fontsize=14)\n",
    "plt.legend(fontsize=12)\n",
    "plt.show()"
   ]
  },
  {
   "cell_type": "code",
   "execution_count": 2,
   "id": "ba2861f2",
   "metadata": {
    "tags": [
     "remove-cell"
    ]
   },
   "outputs": [
    {
     "data": {
      "application/papermill.record/image/png": "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\n",
      "application/papermill.record/text/plain": "<Figure size 576x432 with 1 Axes>"
     },
     "metadata": {
      "scrapbook": {
       "mime_prefix": "application/papermill.record/",
       "name": "irk_example_1_plot"
      }
     },
     "output_type": "display_data"
    }
   ],
   "source": [
    "from myst_nb import glue\n",
    "glue(\"irk_example_1_plot\", fig, display=False)"
   ]
  },
  {
   "cell_type": "markdown",
   "id": "afbe9095",
   "metadata": {},
   "source": [
    "The computed solutions using the implicit method are plotted in {numref}`irk-example-1-figure` below.\n",
    "\n",
    "```{glue:figure} irk_example_1_plot\n",
    ":name: irk-example-1-figure\n",
    "\n",
    "Solution of the initial value problem $y'=ty$, $t\\in[0,1]$, $y(0)=1$ using the implicit method from the [example](irk-example-1) with a step length $h=0.2$.\n",
    "```\n",
    "\n",
    "```{note}\n",
    "The method used to calculate the stage values $Y_i$ here is an iterative method known as the [Gauss-Seidel method](gauss-seidel-definition). This is not the most efficient method available to estimate the stage values and in practice [Newtons method](https://en.wikipedia.org/wiki/Newton%27s_method) is preferred since it is more efficient. However this requires calculation of a matrix of derivatives of $f(t,y)$ known as a [Jacobian matrix](https://en.wikipedia.org/wiki/Jacobian_matrix_and_determinant), and whilst not a particularly difficult to calculate, it can complicate the code somewhat especially when solving a system of ODEs. Therefore, here we only use the Gauss-Seidel method.\n",
    "```"
   ]
  }
 ],
 "metadata": {
  "celltoolbar": "Tags",
  "kernelspec": {
   "display_name": "Python 3",
   "language": "python",
   "name": "python3"
  },
  "language_info": {
   "codemirror_mode": {
    "name": "ipython",
    "version": 3
   },
   "file_extension": ".py",
   "mimetype": "text/x-python",
   "name": "python",
   "nbconvert_exporter": "python",
   "pygments_lexer": "ipython3",
   "version": "3.8.3"
  }
 },
 "nbformat": 4,
 "nbformat_minor": 5
}
