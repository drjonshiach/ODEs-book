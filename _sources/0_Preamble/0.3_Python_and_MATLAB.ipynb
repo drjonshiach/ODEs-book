{
 "cells": [
  {
   "cell_type": "markdown",
   "id": "cd5468a9",
   "metadata": {},
   "source": [
    "# Python & MATLAB\n",
    "\n",
    "The calculations required for the computational methods covered here will require us to write computer programs. These notes contain example Python code which you can enter and adapt as necessarily. You may also use MATLAB to perform the calculations and the MATLAB code can be easily translated from the Python examples.\n",
    "\n",
    "## Python \n",
    "\n",
    "Python is open source software which means it is free to download and install on your home machine. The easiest way to do this is to download and install <a href=\"https://www.anaconda.com/\" target=\"_blank\">Anaconda</a> which is a suite of science and data analytics software which includes Python in addition to <a href=\"https://jupyter.org/\" target=\"_blank\">Jupyter notebook</a> and <a href=\"https://www.spyder-ide.org/\" target=\"_blank\">Spyder</a> integrated development environment which allow us to write an execute Python code. \n",
    "\n",
    "To install Anaconda click on the link below and then click on the download button. This should download the installer appropriate for your operating system. \n",
    "\n",
    "<a href=\"https://www.anaconda.com/\" target=\"_blank\">Download Anaconda</a> \n",
    "\n",
    "---\n",
    "## MATLAB\n",
    "\n",
    "\n",
    "As a student of Manchester Met you can download and install MATLAB to your computer free of charge. To do this click on the link below and follow the installation instructions\n",
    "\n",
    "<a href=\"https://www.mmu.ac.uk/about-us/professional-services/isds/software/software-download-centre/matlab.php\" target=\"_blank\">MATLAB installation instructions</a>"
   ]
  }
 ],
 "metadata": {
  "kernelspec": {
   "display_name": "Python 3",
   "language": "python",
   "name": "python3"
  },
  "language_info": {
   "codemirror_mode": {
    "name": "ipython",
    "version": 3
   },
   "file_extension": ".py",
   "mimetype": "text/x-python",
   "name": "python",
   "nbconvert_exporter": "python",
   "pygments_lexer": "ipython3",
   "version": "3.8.3"
  }
 },
 "nbformat": 4,
 "nbformat_minor": 5
}
