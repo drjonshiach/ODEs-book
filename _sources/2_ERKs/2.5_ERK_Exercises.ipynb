{
 "cells": [
  {
   "cell_type": "markdown",
   "id": "c9e5899f",
   "metadata": {},
   "source": [
    "# Explicit Runge-Kutta Methods Exercises\n",
    "\n",
    "\n",
    "`````{admonition} Exercise 2.1\n",
    ":class: note\n",
    ":name: ex2.1\n",
    "\n",
    "Write the following Runge-Kutta method in a Butcher tableau.\n",
    "\\begin{align*}\n",
    "    y_{n+1} &=y_n +\\frac{h}{6}(k_1 +4k_3 +k_4 ),\\\\\n",
    "    k_1 &=f(t_n ,y_n ),\\\\\n",
    "    k_2 &=f(t_n +\\tfrac{1}{4}h,y_n +\\tfrac{1}{4}hk_1 ),\\\\\n",
    "    k_3 &=f(t_n +\\tfrac{1}{2}h,y_n +\\tfrac{1}{2}hk_2 ),\\\\\n",
    "    k_4 &=f(t_n +h,y_n +h(k_1 -2k_2 +2k_3 )).\n",
    "\\end{align*}\n",
    "\n",
    "````{dropdown} Solution\n",
    "\n",
    "\\begin{align*}\n",
    "    \\begin{array}{c|cccc}\n",
    "        0 & 0 \\\\\n",
    "        \\frac{1}{4} & \\frac{1}{4} \\\\\n",
    "        \\frac{1}{2} & 0 & \\frac{1}{2} \\\\\n",
    "        1 & 1 & -2 & 2 \\\\ \\hline\n",
    "        & \\frac{1}{6} & 0 & \\frac{2}{3} & \\frac{1}{6}\n",
    "    \\end{array}\n",
    "\\end{align*}\n",
    "````\n",
    "`````"
   ]
  },
  {
   "cell_type": "markdown",
   "id": "3fee4870",
   "metadata": {},
   "source": [
    "`````{admonition} Exercise 2.2\n",
    ":class: note\n",
    ":name: ex2.2\n",
    "\n",
    "Write out the equations for the following Runge-Kutta method.\n",
    "\\begin{align*}\\begin{array}{c|cccc}\n",
    "    0 &  &  &  & \\\\\n",
    "    \\frac{1}{4} & \\frac{1}{4} &  &  & \\\\\n",
    "    \\frac{1}{2} & -\\frac{1}{2} & 1 &  & \\\\\n",
    "    1 & \\frac{1}{4} & 0 & \\frac{3}{4} & \\\\ \\hline\n",
    "    & 0 & \\frac{4}{9} & \\frac{1}{3} & \\frac{2}{9}\n",
    "\\end{array}\\end{align*}\n",
    "\n",
    "````{dropdown} Solution\n",
    "\n",
    "\\begin{align*}\n",
    "    y_{n+1} &= y_n + \\frac{h}{9}(4k_2 + 3k_3 + 2k_4), \\\\\n",
    "    k_1 &= f(t_n, y_n), \\\\\n",
    "    k_2 &= f(t_n + \\tfrac{1}{4}h, y_n + \\tfrac{1}{4} h k_1), \\\\\n",
    "    k_3 &= f(t_n + \\tfrac{1}{2}h, y_n + h ( - \\tfrac{1}{2}k_1 + k_2)), \\\\\n",
    "    k_4 &= f(t_n + h, y_n + h ( \\tfrac{1}{4}k_1 + \\tfrac{3}{4}k_3)).\n",
    "\\end{align*}\n",
    "````\n",
    "`````"
   ]
  },
  {
   "cell_type": "markdown",
   "id": "4d019359",
   "metadata": {},
   "source": [
    "`````{admonition} Exercise 2.3\n",
    ":class: note\n",
    ":name: ex2.3\n",
    "\n",
    "Using pen and paper, derive an explicit second-order Runge-Kutta method where $b_1 =\\frac{1}{3}$.\n",
    "\n",
    "````{dropdown} Solution\n",
    "The order conditions are:\n",
    "\\begin{align*}\n",
    "    \\frac{1}{3} + b_2 &=1,\\\\\n",
    "    c_2 b_2 &=\\frac{1}{2},\\\\\n",
    "    a_{21} b_2 &=\\frac{1}{2}\n",
    "\\end{align*}\n",
    "\n",
    "Solving gives $b_2 = \\frac{2}{3}$, $c_2=\\frac{3}{4}$ and $a_{21} = \\frac{3}{4}$ so the method is\n",
    "\n",
    "\\begin{align*}\n",
    "    y_{n+1} &= y_n + \\frac{h}{3}(k_1 + 2k_2), \\\\\n",
    "    k_1 &= f(t_n, y_n), \\\\\n",
    "    k_2 &= f(t_n + \\tfrac{3}{4}h, y_n + \\tfrac{3}{4}h k_1).\n",
    "\\end{align*}\n",
    "\n",
    "Alternatively as a Butcher tableau\n",
    "\\begin{align*}\n",
    "    \\begin{array}{c|cc}\n",
    "    0 & 0 \\\\\n",
    "    \\frac{3}{4} & \\frac{3}{4} & 0 \\\\ \\hline\n",
    "    & \\frac{1}{3} & \\frac{2}{3}\n",
    "    \\end{array}\n",
    "\\end{align*}\n",
    "````\n",
    "`````"
   ]
  },
  {
   "cell_type": "markdown",
   "id": "4f6d27ad",
   "metadata": {},
   "source": [
    "`````{admonition} Exercise 2.4\n",
    ":class: note\n",
    ":name: ex2.4\n",
    "\n",
    "Repeat [exercise 2.3](ex2.3) using Python to solve the order conditions.\n",
    "\n",
    "````{dropdown} Solution\n",
    "\n",
    "Code:\n",
    "```python\n",
    "from sympy import *\n",
    "init_printing()\n",
    "\n",
    "# Declare symbolic variables\n",
    "a21, b1, b2, c2 = symbols('a21, b1, b2, c2')\n",
    "b1 = Rational(1,3)\n",
    "\n",
    "# Define order conditions\n",
    "eq1 = b1 + b2 - 1\n",
    "eq2 = b2 * c2 - Rational(1,2)\n",
    "eq3 = a21 * b2 - Rational(1,2)\n",
    "\n",
    "# Solve order conditions\n",
    "solve((eq1, eq2, eq3))\n",
    "```\n",
    "\n",
    "Output:\n",
    "\n",
    "```{glue:math} ex2.4\n",
    ":label: ex2.4-glue\n",
    "```\n",
    "\n",
    "````\n",
    "`````"
   ]
  },
  {
   "cell_type": "code",
   "execution_count": 1,
   "id": "a1f9e1ca",
   "metadata": {
    "tags": [
     "remove-cell"
    ]
   },
   "outputs": [
    {
     "data": {
      "image/png": "[encoded data removed]",
      "text/latex": [
       "$\\displaystyle \\left[ \\left\\{ a_{21} : \\frac{3}{4}, \\  b_{2} : \\frac{2}{3}, \\  c_{2} : \\frac{3}{4}\\right\\}\\right]$"
      ],
      "text/plain": [
       "[{a₂₁: 3/4, b₂: 2/3, c₂: 3/4}]"
      ]
     },
     "metadata": {
      "scrapbook": {
       "mime_prefix": "",
       "name": "ex2.4"
      }
     },
     "output_type": "display_data"
    }
   ],
   "source": [
    "from sympy import *\n",
    "from myst_nb import glue\n",
    "init_printing()\n",
    "\n",
    "# Declare symbolic variables\n",
    "a21, b1, b2, c2 = symbols('a21, b1, b2, c2')\n",
    "b1 = Rational(1,3)\n",
    "\n",
    "# Define order conditions\n",
    "eq1 = b1 + b2 - 1\n",
    "eq2 = b2 * c2 - Rational(1,2)\n",
    "eq3 = a21 * b2 - Rational(1,2)\n",
    "\n",
    "# Solve order conditions\n",
    "sol = solve((eq1, eq2, eq3))\n",
    "glue(\"ex2.4\", sol)"
   ]
  },
  {
   "cell_type": "markdown",
   "id": "e7f902e6",
   "metadata": {},
   "source": [
    "`````{admonition} Exercise 2.5\n",
    ":class: note\n",
    ":name: ex2.5\n",
    "\n",
    "Derive an explicit fourth-order Runge-Kutta method where $b_1 = 0$ and $c_2 =\\frac{1}{5}$.\n",
    "\n",
    "````{dropdown} Solution\n",
    "Code\n",
    "```python\n",
    "from sympy import *\n",
    "init_printing()\n",
    "\n",
    "# Declare symbolic variables\n",
    "a21, a31, a32, a41, a42, a43 = symbols('a21, a31, a32, a41, a42, a43')\n",
    "b1, b2, b3, b4 = symbols('b1, b2, b3, b4')\n",
    "c2, c3, c4 = symbols('c2, c3, c4')\n",
    "\n",
    "# Choose values for the unkowns\n",
    "b1, c2 = 0, Rational(1,5)\n",
    "\n",
    "# Define order conditions\n",
    "eq1 = b1 + b2 + b3 + b4 - 1\n",
    "eq2 = b2 * c2 + b3 * c3 + b4 * c4 - Rational(1,2)\n",
    "eq3 = b2 * c2 ** 2 + b3 * c3 ** 2 + b4 * c4 ** 2 - Rational(1,3)\n",
    "eq4 = b2 * c2 ** 3 + b3 * c3 ** 3 + b4 * c4 ** 4 - Rational(1,4)\n",
    "eq5 = b3 * c3 * a32 * c2 + b4 * c4 * (a42 * c2 + a43 * c3) - Rational(1,8)\n",
    "eq6 = b3 * a32 + b4 * a42 - b2 * (1 - c2)\n",
    "eq7 = b4 * a43 - b3 * (1 - c3)\n",
    "eq8 = b4 * (1 - c4)\n",
    "eq9 = c2 - a21\n",
    "eq10 = c3 - a31 - a32\n",
    "eq11 = c4 - a41- a42 - a43\n",
    "\n",
    "# Solve order conditions\n",
    "solve((eq1, eq2, eq3, eq4, eq5, eq6, eq7, eq8, eq9, eq10, eq11))\n",
    "```\n",
    "Output:\n",
    "```{glue:math} ex2.5\n",
    ":label: ex2.5-glue\n",
    "```\n",
    "\n",
    "So the method is\n",
    "\n",
    "\\begin{align*}\n",
    "    y_{n+1} &= y_n + h(\\tfrac{125}{264} k_2 + \\tfrac{16}{33} k_3 + \\tfrac{1}{24} k_4), \\\\\n",
    "    k_1 &= f(t_n, y_n), \\\\\n",
    "    k_2 &= f(t_n + \\tfrac{1}{5}h, y_n + \\tfrac{1}{5}h k_1), \\\\\n",
    "    k_3 &= f(t_n + \\tfrac{3}{4}h, y_n + h(-\\tfrac{31}{32} k_1 + \\tfrac{55}{32} k_2)), \\\\\n",
    "    k_4 &= f(t_n + h, y_n + h(9 k_1 - \\tfrac{120}{11} k_2 + \\tfrac{32}{11} k_3)).\n",
    "\\end{align*}\n",
    "\n",
    "Alternatively as a Butcher tableau\n",
    "\n",
    "\\begin{align*}\n",
    "    \\begin{array}{c|cccc}\n",
    "    0 & 0 \\\\\n",
    "    \\frac{1}{5} & \\frac{1}{5} \\\\\n",
    "    \\frac{3}{4} & -\\frac{31}{32} & \\frac{55}{32} \\\\\n",
    "    1 & 9 & -\\frac{120}{11} & \\frac{32}{11} \\\\\n",
    "    \\hline\n",
    "    & 0 & \\frac{125}{264} & \\frac{16}{33} & \\frac{1}{24}\n",
    "    \\end{array}\n",
    "\\end{align*}\n",
    "\n",
    "````\n",
    "`````"
   ]
  },
  {
   "cell_type": "code",
   "execution_count": 4,
   "id": "26f590ed",
   "metadata": {
    "tags": [
     "remove-cell"
    ]
   },
   "outputs": [
    {
     "data": {
      "image/png": "[encoded data removed]",
      "text/latex": [
       "$\\displaystyle \\left[ \\left\\{ a_{21} : \\frac{1}{5}, \\  a_{31} : - \\frac{31}{32}, \\  a_{32} : \\frac{55}{32}, \\  a_{41} : 9, \\  a_{42} : - \\frac{120}{11}, \\  a_{43} : \\frac{32}{11}, \\  b_{2} : \\frac{125}{264}, \\  b_{3} : \\frac{16}{33}, \\  b_{4} : \\frac{1}{24}, \\  c_{3} : \\frac{3}{4}, \\  c_{4} : 1\\right\\}\\right]$"
      ],
      "text/plain": [
       "⎡⎧               -31        55               -120        32      125      16  \n",
       "⎢⎨a₂₁: 1/5, a₃₁: ────, a₃₂: ──, a₄₁: 9, a₄₂: ─────, a₄₃: ──, b₂: ───, b₃: ──, \n",
       "⎣⎩                32        32                 11        11      264      33  \n",
       "\n",
       "                        ⎫⎤\n",
       "b₄: 1/24, c₃: 3/4, c₄: 1⎬⎥\n",
       "                        ⎭⎦"
      ]
     },
     "metadata": {
      "scrapbook": {
       "mime_prefix": "",
       "name": "ex2.5"
      }
     },
     "output_type": "display_data"
    }
   ],
   "source": [
    "from sympy import *\n",
    "from myst_nb import glue\n",
    "init_printing()\n",
    "\n",
    "# Declare symbolic variables\n",
    "a21, a31, a32, a41, a42, a43 = symbols('a21, a31, a32, a41, a42, a43')\n",
    "b1, b2, b3, b4 = symbols('b1, b2, b3, b4')\n",
    "c2, c3, c4 = symbols('c2, c3, c4')\n",
    "\n",
    "# Choose values for the unkowns\n",
    "b1, c2 = 0, Rational(1,5)\n",
    "\n",
    "# Define order conditions\n",
    "eq1 = b1 + b2 + b3 + b4 - 1\n",
    "eq2 = b2 * c2 + b3 * c3 + b4 * c4 - Rational(1,2)\n",
    "eq3 = b2 * c2 ** 2 + b3 * c3 ** 2 + b4 * c4 ** 2 - Rational(1,3)\n",
    "eq4 = b2 * c2 ** 3 + b3 * c3 ** 3 + b4 * c4 ** 4 - Rational(1,4)\n",
    "eq5 = b3 * c3 * a32 * c2 + b4 * c4 * (a42 * c2 + a43 * c3) - Rational(1,8)\n",
    "eq6 = b3 * a32 + b4 * a42 - b2 * (1 - c2)\n",
    "eq7 = b4 * a43 - b3 * (1 - c3)\n",
    "eq8 = b4 * (1 - c4)\n",
    "eq9 = c2 - a21\n",
    "eq10 = c3 - a31 - a32\n",
    "eq11 = c4 - a41- a42 - a43\n",
    "\n",
    "# Solve order conditions\n",
    "sol =  solve((eq1, eq2, eq3, eq4, eq5, eq6, eq7, eq8, eq9, eq10, eq11))\n",
    "glue(\"ex2.5\", sol)"
   ]
  },
  {
   "cell_type": "markdown",
   "id": "9cdf8d67",
   "metadata": {},
   "source": [
    "`````{admonition} Exercise 2.6\n",
    ":class: note\n",
    ":name: ex2.6\n",
    "\n",
    "Using pen and paper, apply your Runge-Kutta method derived in [exercise 2.3](ex2.3) to solve the following initial value problem using a step length of $h=0.4$\n",
    "\n",
    "\\begin{align*}\n",
    "    y' =t-y, \\qquad t\\in [0,2],\\qquad y(0)=1\n",
    "\\end{align*}\n",
    "\n",
    "Write your solutions correct to 4 decimal places.\n",
    "\n",
    "````{dropdown} Solution\n",
    "\n",
    "| $t_n$ |  $y_n$  |  $k_1$  |  $k_2$  |\n",
    "|:-----:|:-------:|:-------:|:-------:|\n",
    "|   0.0 |  1.0000 | -1.0000 | -0.4000 |\n",
    "|   0.4 |  0.7600 | -0.3600 |  0.0480 |\n",
    "|   0.8 |  0.7248 |  0.0752 |  0.3526 |\n",
    "|   1.2 |  0.8289 |  0.3711 |  0.5598 |\n",
    "|   1.6 |  1.0276 |  0.5724 |  0.7007 |\n",
    "|   2.0 |  1.2908 |    -    |    -    |\n",
    "\n",
    "````\n",
    "`````"
   ]
  },
  {
   "cell_type": "code",
   "execution_count": 2,
   "id": "65169adc",
   "metadata": {
    "tags": [
     "remove-cell"
    ]
   },
   "outputs": [
    {
     "name": "stdout",
     "output_type": "stream",
     "text": [
      "| $t_n$ |  $y_n$  |  $k_1$  |  $k_2$  |\n",
      "|:-----:|:-------:|:-------:|:-------:|\n",
      "|   0.0 |  1.0000 | -1.0000 | -0.4000 |\n",
      "|   0.4 |  0.7600 | -0.3600 |  0.0480 |\n",
      "|   0.8 |  0.7248 |  0.0752 |  0.3526 |\n",
      "|   1.2 |  0.8289 |  0.3711 |  0.5598 |\n",
      "|   1.6 |  1.0276 |  0.5724 |  0.7007 |\n",
      "|   2.0 |  1.2908 |    -    |    -    |\n"
     ]
    }
   ],
   "source": [
    "import numpy as np\n",
    "\n",
    "def myrk2(f, tspan, y0, h):\n",
    "    nsteps = int((tspan[1] - tspan[0]) / h)\n",
    "    neq = len(y0)\n",
    "    t = np.arange(nsteps + 1) * h\n",
    "    y = np.zeros((nsteps + 1, neq))\n",
    "    y[0,:] = y0\n",
    "    print(\"| $t_n$ |  $y_n$  |  $k_1$  |  $k_2$  |\")\n",
    "    print(\"|:-----:|:-------:|:-------:|:-------:|\")\n",
    "    for n in range(nsteps):\n",
    "        k1 = f(t[n], y[n,:])\n",
    "        k2 = f(t[n] + 3/4 * h, y[n,:] + 3/4 * h * k1)\n",
    "        y[n+1,:] = y[n,:] + h / 3 * (k1 + 2 * k2)\n",
    "        print(f\"| {t[n]:5.1f} | {y[n,0]:7.4f} | {k1[0]:7.4f} | {k2[0]:7.4f} |\")\n",
    "    \n",
    "    print(f\"| {t[n+1]:5.1f} | {y[n+1,0]:7.4f} |    -    |    -    |\")\n",
    "\n",
    "\n",
    "def f(t, y):\n",
    "    return t - y\n",
    "\n",
    "\n",
    "# Define IVP\n",
    "tspan = [0, 2]  # boundaries of the t domain\n",
    "y0 = [1]        # solution at the lower boundary\n",
    "h = 0.4         # step length\n",
    "\n",
    "myrk2(f, tspan, y0, h)"
   ]
  },
  {
   "cell_type": "markdown",
   "id": "312956ea",
   "metadata": {},
   "source": [
    "`````{admonition} Exercise 2.7\n",
    ":class: note\n",
    ":name: ex2.7\n",
    "\n",
    "Define a Python function called `myrk2()` which uses the method from derived in [exercise 2.3](ex2.3) to solve an initial value problem. Use your function to solve the initial value problem in [exercise 2.6](ex2.6) and produce a table of the solutions.\n",
    "\n",
    "````{dropdown} Solution\n",
    "Code\n",
    "```python\n",
    "import numpy as np\n",
    "\n",
    "def myrk2(f, tspan, y0, h):\n",
    "    nsteps = int((tspan[1] - tspan[0]) / h)\n",
    "    neq = len(y0)\n",
    "    t = np.arange(nsteps + 1) * h\n",
    "    y = np.zeros((nsteps + 1, neq))\n",
    "    y[0,:] = y0\n",
    "    for n in range(nsteps):\n",
    "        k1 = f(t[n], y[n,:])\n",
    "        k2 = f(t[n] + 3/4 * h, y[n,:] + 3/4 * h * k1)\n",
    "        y[n+1,:] = y[n,:] + h / 3 * (k1 + 2 * k2)\n",
    "    \n",
    "    return t, y\n",
    "\n",
    "\n",
    "def f(t, y):\n",
    "    return t - y\n",
    "\n",
    "\n",
    "# Define IVP\n",
    "tspan = [0, 2]  # boundaries of the t domain\n",
    "y0 = [1]        # solution at the lower boundary\n",
    "h = 0.4         # step length\n",
    "\n",
    "# Solve IVP\n",
    "t, y = myrk2(f, tspan, y0, h)\n",
    "\n",
    "# Print table of solutions\n",
    "print(\"|  t  |    y    |\")\n",
    "print(\"|:---:|:-------:|\")\n",
    "for n in range(len(t)):\n",
    "    print(f\"| {t[n]:3.1f} | {y[n,0]:7.4f} |\")\n",
    "```\n",
    "Output\n",
    "```\n",
    "|  t  |    y    |\n",
    "|:---:|:-------:|\n",
    "| 0.0 |  1.0000 |\n",
    "| 0.4 |  0.7600 |\n",
    "| 0.8 |  0.7248 |\n",
    "| 1.2 |  0.8289 |\n",
    "| 1.6 |  1.0276 |\n",
    "| 2.0 |  1.2908 |\n",
    "```\n",
    "````\n",
    "`````"
   ]
  },
  {
   "cell_type": "code",
   "execution_count": 3,
   "id": "912bc45e",
   "metadata": {
    "tags": [
     "remove-cell"
    ]
   },
   "outputs": [
    {
     "name": "stdout",
     "output_type": "stream",
     "text": [
      "|  t  |    y    |\n",
      "|:---:|:-------:|\n",
      "| 0.0 |  1.0000 |\n",
      "| 0.4 |  0.7600 |\n",
      "| 0.8 |  0.7248 |\n",
      "| 1.2 |  0.8289 |\n",
      "| 1.6 |  1.0276 |\n",
      "| 2.0 |  1.2908 |\n"
     ]
    }
   ],
   "source": [
    "import numpy as np\n",
    "\n",
    "def myrk2(f, tspan, y0, h):\n",
    "    nsteps = int((tspan[1] - tspan[0]) / h)\n",
    "    neq = len(y0)\n",
    "    t = np.arange(nsteps + 1) * h\n",
    "    y = np.zeros((nsteps + 1, neq))\n",
    "    y[0,:] = y0\n",
    "    for n in range(nsteps):\n",
    "        k1 = f(t[n], y[n,:])\n",
    "        k2 = f(t[n] + 3/4 * h, y[n,:] + 3/4 * h * k1)\n",
    "        y[n+1,:] = y[n,:] + h / 3 * (k1 + 2 * k2)\n",
    "    \n",
    "    return t, y\n",
    "\n",
    "\n",
    "def f(t, y):\n",
    "    return t - y\n",
    "\n",
    "\n",
    "# Define IVP\n",
    "tspan = [0, 2]  # boundaries of the t domain\n",
    "y0 = [1]        # solution at the lower boundary\n",
    "h = 0.4         # step length\n",
    "\n",
    "# Solve IVP\n",
    "t, y = myrk2(f, tspan, y0, h)\n",
    "\n",
    "# Print table of solutions\n",
    "print(\"|  t  |    y    |\")\n",
    "print(\"|:---:|:-------:|\")\n",
    "for n in range(len(t)):\n",
    "    print(f\"| {t[n]:3.1f} | {y[n,0]:7.4f} |\")"
   ]
  },
  {
   "cell_type": "markdown",
   "id": "820a186f",
   "metadata": {},
   "source": [
    "`````{admonition} Exercise 2.8\n",
    ":class: note\n",
    ":name: ex2.8\n",
    "\n",
    "Using pen and paper, apply your Runge-Kutta method derived in [exercise 2.5](ex2.5) to solve the initial value problem from [exercise 2.6](ex2.6) using a step length of $h=0.4$. Write your solutions correct to 4 decimal places.\n",
    "\n",
    "````{dropdown} Solution\n",
    "| $t_n$ |  $y_n$  |  $k_1$  |  $k_2$  |  $k_3$  |  $k_4$  |\n",
    "|:-----:|:-------:|:-------:|:-------:|:-------:|:-------:|\n",
    "|  0.0  |  1.0000 | -1.0000 | -0.8400 | -0.5100 | -0.0720 |\n",
    "|  0.4  |  0.7408 | -0.3408 | -0.2335 | -0.0123 |  0.2813 |\n",
    "|  0.8  |  0.6989 |  0.1011 |  0.1730 |  0.3214 |  0.5182 |\n",
    "|  1.2  |  0.8026 |  0.3974 |  0.4456 |  0.5450 |  0.6770 |\n",
    "|  1.6  |  1.0040 |  0.5960 |  0.6283 |  0.6950 |  0.7835 |\n",
    "|  2.0  |  1.2708 |    -    |    -    |    -    |    -    |\n",
    "````\n",
    "`````"
   ]
  },
  {
   "cell_type": "code",
   "execution_count": 5,
   "id": "cf278e20",
   "metadata": {
    "tags": [
     "remove-cell"
    ]
   },
   "outputs": [
    {
     "name": "stdout",
     "output_type": "stream",
     "text": [
      "| $t_n$ |  $y_n$  |  $k_1$  |  $k_2$  |  $k_3$  |  $k_4$  |\n",
      "|:-----:|:-------:|:-------:|:-------:|:-------:|:-------:|\n",
      "|  0.0  |  1.0000 | -1.0000 | -0.8400 | -0.5100 | -0.0720 |\n",
      "|  0.4  |  0.7408 | -0.3408 | -0.2335 | -0.0123 |  0.2813 |\n",
      "|  0.8  |  0.6989 |  0.1011 |  0.1730 |  0.3214 |  0.5182 |\n",
      "|  1.2  |  0.8026 |  0.3974 |  0.4456 |  0.5450 |  0.6770 |\n",
      "|  1.6  |  1.0040 |  0.5960 |  0.6283 |  0.6950 |  0.7835 |\n",
      "|  2.0  |  1.2708 |    -    |    -    |    -    |    -    |\n"
     ]
    }
   ],
   "source": [
    "import numpy as np\n",
    "\n",
    "def myrk4(f, tspan, y0, h):\n",
    "    nsteps = int((tspan[1] - tspan[0]) / h)\n",
    "    neq = len(y0)\n",
    "    t = np.arange(nsteps + 1) * h\n",
    "    y = np.zeros((nsteps + 1, neq))\n",
    "    y[0,:] = y0\n",
    "    print(\"| $t_n$ |  $y_n$  |  $k_1$  |  $k_2$  |  $k_3$  |  $k_4$  |\")\n",
    "    print(\"|:-----:|:-------:|:-------:|:-------:|:-------:|:-------:|\")\n",
    "    for n in range(nsteps):\n",
    "        k1 = f(t[n], y[n,:])\n",
    "        k2 = f(t[n] + 1/5 * h, y[n,:] + 1/5 * h * k1)\n",
    "        k3 = f(t[n] + 3/4 * h, y[n,:] + h / 32 * (-31 * k1 + 55 * k2))\n",
    "        k4 = f(t[n] + h, y[n,:] + h / 11 * (99 * k1 - 120 * k2 + 32 * k3))\n",
    "        y[n+1,:] = y[n,:] + h * (125/264 * k2 + 16/33 * k3 + 1/24 * k4)\n",
    "        print(f\"|  {t[n]:3.1f}  | {y[n,0]:7.4f} | {k1[0]:7.4f} | {k2[0]:7.4f} | {k3[0]:7.4f} | {k4[0]:7.4f} |\")\n",
    "    \n",
    "    print(f\"|  {t[n+1]:3.1f}  | {y[n+1,0]:7.4f} |    -    |    -    |    -    |    -    |\")\n",
    "\n",
    "\n",
    "def f(t, y):\n",
    "    return t - y\n",
    "\n",
    "\n",
    "# Define IVP\n",
    "tspan = [0, 2]  # boundaries of the t domain\n",
    "y0 = [1]        # solution at the lower boundary\n",
    "h = 0.4         # step length\n",
    "\n",
    "myrk4(f, tspan, y0, h)"
   ]
  },
  {
   "cell_type": "markdown",
   "id": "5957efa8",
   "metadata": {},
   "source": [
    "`````{admonition} Exercise 2.9\n",
    ":class: note\n",
    ":name: ex2.9\n",
    "\n",
    "Repeat [exercise 2.8](ex2.8) using the [classic fourth-order Runge-Kutta method (RK4)](rk4-definition). What do your answers tell you about the method derived in [exercise 2.5](ex2.5) and the RK4 method?\n",
    "\n",
    "````{dropdown} Solution\n",
    "| $t_n$ |  $y_n$  |  $k_1$  |  $k_2$  |  $k_3$  |  $k_4$  |\n",
    "|:-----:|:-------:|:-------:|:-------:|:-------:|:-------:|\n",
    "|  0.0  |  1.0000 | -1.0000 | -0.6000 | -0.6800 | -0.3280 |\n",
    "|  0.4  |  0.7408 | -0.3408 | -0.0726 | -0.1263 |  0.1097 |\n",
    "|  0.8  |  0.6989 |  0.1011 |  0.2809 |  0.2449 |  0.4031 |\n",
    "|  1.2  |  0.8026 |  0.3974 |  0.5179 |  0.4938 |  0.5999 |\n",
    "|  1.6  |  1.0040 |  0.5960 |  0.6768 |  0.6607 |  0.7318 |\n",
    "|  2.0  |  1.2708 |    -    |    -    |    -    |    -    |\n",
    "\n",
    "The solution for $y_n$ are the same as that using the method derived in [exercise 2.5](ex2.5) function showing that it is equivalent the RK4 method.\n",
    "````\n",
    "`````"
   ]
  },
  {
   "cell_type": "code",
   "execution_count": 6,
   "id": "e88af6e7",
   "metadata": {
    "tags": [
     "remove-cell"
    ]
   },
   "outputs": [
    {
     "name": "stdout",
     "output_type": "stream",
     "text": [
      "| $t_n$ |  $y_n$  |  $k_1$  |  $k_2$  |  $k_3$  |  $k_4$  |\n",
      "|:-----:|:-------:|:-------:|:-------:|:-------:|:-------:|\n",
      "|  0.0  |  1.0000 | -1.0000 | -0.6000 | -0.6800 | -0.3280 |\n",
      "|  0.4  |  0.7408 | -0.3408 | -0.0726 | -0.1263 |  0.1097 |\n",
      "|  0.8  |  0.6989 |  0.1011 |  0.2809 |  0.2449 |  0.4031 |\n",
      "|  1.2  |  0.8026 |  0.3974 |  0.5179 |  0.4938 |  0.5999 |\n",
      "|  1.6  |  1.0040 |  0.5960 |  0.6768 |  0.6607 |  0.7318 |\n",
      "|  2.0  |  1.2708 |    -    |    -    |    -    |    -    |\n"
     ]
    }
   ],
   "source": [
    "import numpy as np\n",
    "import matplotlib.pyplot as plt\n",
    "\n",
    "def rk4(f, tspan, y0, h):\n",
    "    nsteps = int((tspan[1] - tspan[0]) / h)\n",
    "    neq = len(y0)\n",
    "    t = np.arange(nsteps + 1) * h\n",
    "    y = np.zeros((nsteps + 1, neq))\n",
    "    y[0,:] = y0\n",
    "    print(\"| $t_n$ |  $y_n$  |  $k_1$  |  $k_2$  |  $k_3$  |  $k_4$  |\")\n",
    "    print(\"|:-----:|:-------:|:-------:|:-------:|:-------:|:-------:|\")\n",
    "    for n in range(nsteps):\n",
    "        k1 = f(t[n], y[n,:])\n",
    "        k2 = f(t[n] + 0.5 * h, y[n,:] + 0.5 * h * k1)\n",
    "        k3 = f(t[n] + 0.5 * h, y[n,:] + 0.5 * h * k2)\n",
    "        k4 = f(t[n] + h, y[n,:] + h * k3)\n",
    "        y[n+1,:] = y[n,:] + h / 6 * (k1 + 2 * k2 + 2 * k3 + k4)\n",
    "        print(f\"|  {t[n]:3.1f}  | {y[n,0]:7.4f} | {k1[0]:7.4f} | {k2[0]:7.4f} | {k3[0]:7.4f} | {k4[0]:7.4f} |\")\n",
    "    \n",
    "    print(f\"|  {t[n+1]:3.1f}  | {y[n+1,0]:7.4f} |    -    |    -    |    -    |    -    |\")\n",
    "    \n",
    "    return t, y \n",
    "\n",
    "\n",
    "# Calculate the solution to the IVP\n",
    "h = 0.4\n",
    "t, y = rk4(f, tspan, y0, h)"
   ]
  },
  {
   "cell_type": "markdown",
   "id": "14170c72",
   "metadata": {},
   "source": [
    "`````{admonition} Exercise 2.10\n",
    ":class: note\n",
    ":name: ex2.10\n",
    "\n",
    "Define a Python function called `myrk4()` which uses the method from [exercise 2.5](ex2.5) to solve an initial value problem. Use your function to solve the initial value problem in [exercise 2.6](ex2.6). The exact solution is $y = t + 2e^{-t} - 1$, produce a plot comparing your numerical solutions using the `myrk2()` from [exercise 2.7](ex2.7) and `myrk4()` functions and the exact solutions on the same set of axes.\n",
    "\n",
    "````{dropdown} Solution\n",
    "\n",
    "Code \n",
    "\n",
    "```python\n",
    "import numpy as np\n",
    "import matplotlib.pyplot as plt\n",
    "\n",
    "def myrk4(f, tspan, y0, h):\n",
    "    nsteps = int((tspan[1] - tspan[0]) / h)\n",
    "    neq = len(y0)\n",
    "    t = np.arange(nsteps + 1) * h\n",
    "    y = np.zeros((nsteps + 1, neq))\n",
    "    y[0,:] = y0\n",
    "    for n in range(nsteps):\n",
    "        k1 = f(t[n], y[n,:])\n",
    "        k2 = f(t[n] + 0.2 * h, y[n,:] + 0.2 * h * k1)\n",
    "        k3 = f(t[n] + 0.75 * h, y[n,:] + h * (-31/32 * k1 + 55/32 * k2))\n",
    "        k4 = f(t[n] + h, y[n,:] + h * (9 * k1 - 120/11 * k2 + 32/11 * k3))\n",
    "        y[n+1,:] = y[n,:] + h * (125/264 * k2 + 16/33 * k3 + 1/24 * k4)\n",
    "        \n",
    "    return t, y \n",
    "\n",
    "\n",
    "def f(t, y):\n",
    "    return t - y\n",
    "\n",
    "\n",
    "def exact(t):\n",
    "    return t + 2 * np.exp(-t) - 1\n",
    "\n",
    "\n",
    "# Define IVP\n",
    "tspan = [0, 2]  # boundaries of the t domain\n",
    "y0 = [1]        # solution at the lower boundary\n",
    "h = 0.4         # step length\n",
    "\n",
    "# Calculate the solution to the IVP\n",
    "t, y = myrk4(f, tspan, y0, h)\n",
    "\n",
    "# Plot solutions\n",
    "t_exact = np.linspace(tspan[0], tspan[1], 200)\n",
    "y_exact = exact(t_exact)\n",
    "fig, ax = plt.subplots(figsize=(8, 6))\n",
    "plt.plot(t_exact, y_exact, \"k\", label=\"Exact\")\n",
    "plt.plot(t, y, \"bo-\", label=\"myRK4\")\n",
    "plt.xlabel(\"$t$\", fontsize=14)\n",
    "plt.ylabel(\"$y$\", fontsize=14)\n",
    "plt.legend(fontsize=12)\n",
    "plt.show()\n",
    "```\n",
    "\n",
    "Plot\n",
    "\n",
    "```{glue:} ex2.10_plot\n",
    "```\n",
    "\n",
    "````\n",
    "`````"
   ]
  },
  {
   "cell_type": "code",
   "execution_count": 7,
   "id": "a1a2938c",
   "metadata": {
    "tags": [
     "remove-cell"
    ]
   },
   "outputs": [
    {
     "data": {
      "image/png": "[encoded data removed]",
      "text/plain": [
       "<Figure size 576x432 with 1 Axes>"
      ]
     },
     "metadata": {
      "needs_background": "light"
     },
     "output_type": "display_data"
    }
   ],
   "source": [
    "import numpy as np\n",
    "import matplotlib.pyplot as plt\n",
    "\n",
    "def myrk2(f, tspan, y0, h):\n",
    "    nsteps = int((tspan[1] - tspan[0]) / h)\n",
    "    neq = len(y0)\n",
    "    t = np.arange(nsteps + 1) * h\n",
    "    y = np.zeros((nsteps + 1, neq))\n",
    "    y[0,:] = y0\n",
    "    for n in range(nsteps):\n",
    "        k1 = f(t[n], y[n,:])\n",
    "        k2 = f(t[n] + 3/4 * h, y[n,:] + 3/4 * h * k1)\n",
    "        y[n+1,:] = y[n,:] + h / 3 * (k1 + 2 * k2)\n",
    "\n",
    "    return t, y\n",
    "\n",
    "\n",
    "def myrk4(f, tspan, y0, h):\n",
    "    nsteps = int((tspan[1] - tspan[0]) / h)\n",
    "    neq = len(y0)\n",
    "    t = np.arange(nsteps + 1) * h\n",
    "    y = np.zeros((nsteps + 1, neq))\n",
    "    y[0,:] = y0\n",
    "    for n in range(nsteps):\n",
    "        k1 = f(t[n], y[n,:])\n",
    "        k2 = f(t[n] + 0.2 * h, y[n,:] + 0.2 * h * k1)\n",
    "        k3 = f(t[n] + 0.75 * h, y[n,:] + h * (-31/32 * k1 + 55/32 * k2))\n",
    "        k4 = f(t[n] + h, y[n,:] + h * (9 * k1 - 120/11 * k2 + 32/11 * k3))\n",
    "        y[n+1,:] = y[n,:] + h * (125/264 * k2 + 16/33 * k3 + 1/24 * k4)\n",
    "        \n",
    "    return t, y \n",
    "\n",
    "\n",
    "def f(t, y):\n",
    "    return t - y\n",
    "\n",
    "\n",
    "def exact(t):\n",
    "    return t + 2 * np.exp(-t) - 1\n",
    "\n",
    "\n",
    "# Define IVP\n",
    "tspan = [0, 2]  # boundaries of the t domain\n",
    "y0 = [1]        # solution at the lower boundary\n",
    "h = 0.4         # step length\n",
    "\n",
    "# Calculate the solutions to the IVP\n",
    "t, y_myrk2 = myrk2(f, tspan, y0, h)\n",
    "t, y_myrk4 = myrk4(f, tspan, y0, h)\n",
    "    \n",
    "# Plot solutions\n",
    "t_exact = np.linspace(tspan[0], tspan[1], 200)\n",
    "y_exact = exact(t_exact)\n",
    "fig, ax = plt.subplots(figsize=(8, 6))\n",
    "plt.plot(t_exact, y_exact, \"k\", label=\"Exact\")\n",
    "plt.plot(t, y_myrk2, \"bo-\", label=\"myRK2\")\n",
    "plt.plot(t, y_myrk4, \"ro-\", label=\"myRK4\")\n",
    "plt.xlabel(\"$t$\", fontsize=14)\n",
    "plt.ylabel(\"$y$\", fontsize=14)\n",
    "plt.legend(fontsize=12)\n",
    "plt.show()"
   ]
  },
  {
   "cell_type": "code",
   "execution_count": 8,
   "id": "31f042ea",
   "metadata": {
    "tags": [
     "remove-cell"
    ]
   },
   "outputs": [
    {
     "data": {
      "application/papermill.record/image/png": "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\n",
      "application/papermill.record/text/plain": "<Figure size 576x432 with 1 Axes>"
     },
     "metadata": {
      "scrapbook": {
       "mime_prefix": "application/papermill.record/",
       "name": "ex2.7_plot"
      }
     },
     "output_type": "display_data"
    }
   ],
   "source": [
    "from myst_nb import glue\n",
    "glue(\"ex2.10_plot\", fig, display=False)"
   ]
  },
  {
   "cell_type": "markdown",
   "id": "784022fc",
   "metadata": {},
   "source": [
    "`````{admonition} Exercise 2.11\n",
    ":class: note\n",
    ":name: ex2.11\n",
    "\n",
    "Use your functions `myrk2()` and `myrk4()` from [exercises 2.7](ex2.7) and [2.10](ex2.10) to solve the initial value problem from [exercise 2.6](ex2.6) using a range of step lengths starting at $h=0.4$ and halving each time until $h=0.025$. Plot the global truncation errors for the numerical solutions for $y(2)$ against $h$ on a loglog scale and estimate the order of the two methods.\n",
    "\n",
    "````{dropdown} Solution\n",
    "\n",
    "Code\n",
    "```python\n",
    "# Calculate solution for decreasing step lengths and plot the solution\n",
    "h_vals = [0.4, 0.1, 0.05, 0.025]\n",
    "E_myrk2, E_myrk4 = [], []\n",
    "for h in h_vals:\n",
    "    t, y = myrk2(f, tspan, y0, h)\n",
    "    E_myrk2.append(abs(y_exact[-1] - y[-1,0]))\n",
    "    t, y = myrk4(f, tspan, y0, h)\n",
    "    E_myrk4.append(abs(y_exact[-1] - y[-1,0]))\n",
    "\n",
    "# Plot errors\n",
    "fig, ax = plt.subplots(figsize=(8, 6))\n",
    "plt.loglog(h_vals, E_myrk2, \"bo-\", label=\"myRK2\")\n",
    "plt.loglog(h_vals, E_myrk4, \"ro-\", label=\"myRK4\")\n",
    "plt.xlabel(r\"$\\log(h)$\", fontsize=16)\n",
    "plt.ylabel(r\"$\\log(E)$\", fontsize=16)\n",
    "plt.legend(fontsize=12)\n",
    "plt.show()\n",
    "\n",
    "# Output table of errors\n",
    "print(\"|   h   | myRK2 error | myRK4 error |\")\n",
    "print(\"|:-----:|:-----------:|:-----------:|\")\n",
    "for i in range(len(h_vals)):\n",
    "    print(f\"| {h_vals[i]:5.3f} |   {E_myrk2[i]:0.2e}  |   {E_myrk4[i]:0.2e}  |\")\n",
    "print()\n",
    "    \n",
    "# Estimate the order of the methods\n",
    "myrk2_order = (np.log(E_myrk2[0]) - np.log(E_myrk2[-1])) / (np.log(h_vals[0]) - np.log(h_vals[-1]))\n",
    "myrk4_order = (np.log(E_myrk4[0]) - np.log(E_myrk4[-1])) / (np.log(h_vals[0]) - np.log(h_vals[-1]))\n",
    "print(f\"myRK2 order = {myrk4_order:0.2f}\\nmyRK4 order = {myrk2_order:0.2f}\")\n",
    "```\n",
    "\n",
    "Output\n",
    "\n",
    "```{glue:} ex2.10_plot\n",
    "```\n",
    "\n",
    "```\n",
    "|   h   | myRK2 error | myRK4 error |\n",
    "|:-----:|:-----------:|:-----------:|\n",
    "| 0.400 |   2.01e-02  |   1.61e-04  |\n",
    "| 0.100 |   9.74e-04  |   4.90e-07  |\n",
    "| 0.050 |   2.34e-04  |   2.94e-08  |\n",
    "| 0.025 |   5.75e-05  |   1.80e-09  |\n",
    "\n",
    "myRK2 order = 4.11\n",
    "myRK4 order = 2.11\n",
    "```\n",
    "\n",
    "````\n",
    "`````"
   ]
  },
  {
   "cell_type": "code",
   "execution_count": 9,
   "id": "2351e896",
   "metadata": {
    "tags": [
     "remove-cell"
    ]
   },
   "outputs": [
    {
     "data": {
      "image/png": "[encoded data removed]",
      "text/plain": [
       "<Figure size 576x432 with 1 Axes>"
      ]
     },
     "metadata": {
      "needs_background": "light"
     },
     "output_type": "display_data"
    },
    {
     "name": "stdout",
     "output_type": "stream",
     "text": [
      "|   h   | myRK2 error | myRK4 error |\n",
      "|:-----:|:-----------:|:-----------:|\n",
      "| 0.400 |   2.01e-02  |   1.61e-04  |\n",
      "| 0.100 |   9.74e-04  |   4.90e-07  |\n",
      "| 0.050 |   2.34e-04  |   2.94e-08  |\n",
      "| 0.025 |   5.75e-05  |   1.80e-09  |\n",
      "\n",
      "myRK2 order = 4.11\n",
      "myRK4 order = 2.11\n"
     ]
    }
   ],
   "source": [
    "# Calculate solution for decreasing step lengths and plot the solution\n",
    "h_vals = [0.4, 0.1, 0.05, 0.025]\n",
    "E_myrk2, E_myrk4 = [], []\n",
    "for h in h_vals:\n",
    "    t, y = myrk2(f, tspan, y0, h)\n",
    "    E_myrk2.append(abs(y_exact[-1] - y[-1,0]))\n",
    "    t, y = myrk4(f, tspan, y0, h)\n",
    "    E_myrk4.append(abs(y_exact[-1] - y[-1,0]))\n",
    "\n",
    "# Plot errors\n",
    "fig, ax = plt.subplots(figsize=(8, 6))\n",
    "plt.loglog(h_vals, E_myrk2, \"bo-\", label=\"myRK2\")\n",
    "plt.loglog(h_vals, E_myrk4, \"ro-\", label=\"myRK4\")\n",
    "plt.xlabel(r\"$\\log(h)$\", fontsize=16)\n",
    "plt.ylabel(r\"$\\log(E)$\", fontsize=16)\n",
    "plt.legend(fontsize=12)\n",
    "plt.show()\n",
    "\n",
    "# Output table of errors\n",
    "print(\"|   h   | myRK2 error | myRK4 error |\")\n",
    "print(\"|:-----:|:-----------:|:-----------:|\")\n",
    "for i in range(len(h_vals)):\n",
    "    print(f\"| {h_vals[i]:5.3f} |   {E_myrk2[i]:0.2e}  |   {E_myrk4[i]:0.2e}  |\")\n",
    "print()\n",
    "    \n",
    "# Estimate the order of the methods\n",
    "myrk2_order = (np.log(E_myrk2[0]) - np.log(E_myrk2[-1])) / (np.log(h_vals[0]) - np.log(h_vals[-1]))\n",
    "myrk4_order = (np.log(E_myrk4[0]) - np.log(E_myrk4[-1])) / (np.log(h_vals[0]) - np.log(h_vals[-1]))\n",
    "print(f\"myRK2 order = {myrk4_order:0.2f}\\nmyRK4 order = {myrk2_order:0.2f}\")\n"
   ]
  },
  {
   "cell_type": "code",
   "execution_count": 10,
   "id": "33bb29db",
   "metadata": {
    "tags": [
     "remove-cell"
    ]
   },
   "outputs": [
    {
     "data": {
      "application/papermill.record/image/png": "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\n",
      "application/papermill.record/text/plain": "<Figure size 576x432 with 1 Axes>"
     },
     "metadata": {
      "scrapbook": {
       "mime_prefix": "application/papermill.record/",
       "name": "ex2.9_plot"
      }
     },
     "output_type": "display_data"
    }
   ],
   "source": [
    "glue(\"ex2.10_plot\", fig, display=False)"
   ]
  }
 ],
 "metadata": {
  "celltoolbar": "Tags",
  "kernelspec": {
   "display_name": "Python 3",
   "language": "python",
   "name": "python3"
  },
  "language_info": {
   "codemirror_mode": {
    "name": "ipython",
    "version": 3
   },
   "file_extension": ".py",
   "mimetype": "text/x-python",
   "name": "python",
   "nbconvert_exporter": "python",
   "pygments_lexer": "ipython3",
   "version": "3.8.3"
  }
 },
 "nbformat": 4,
 "nbformat_minor": 5
}
