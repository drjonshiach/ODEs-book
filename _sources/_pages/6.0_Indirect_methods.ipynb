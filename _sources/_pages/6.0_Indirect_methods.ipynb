{
 "cells": [
  {
   "attachments": {},
   "cell_type": "markdown",
   "id": "af7200e9",
   "metadata": {},
   "source": [
    "(indirect-methods-chapter)=\n",
    "# Indirect Methods\n",
    "\n",
    "Indirect methods for solving systems of linear equations use an iterative approach to repeatedly update estimates of the exact solution to the linear system. They are called **indirect methods** since multiple applications of the method is required to calculate a solution unlike [matrix decomposition methods](matrix-decomposition-chapter) such as Gaussian elimination and [LU decomposition](lu-section) which require a single application to calculate the solution. However, direct methods are inefficient for large systems of equations for which we tend to use indirect methods instead. \n",
    "\n",
    "An indirect method for solving a system of linear equations of the form $A \\vec{x}= \\vec{b}$ is\n",
    "\n",
    "$$ \\vec{x}^{(k+1)} =T\\vec{x}^{(k)} + \\vec{c}, $$(iteration-matrix-equation)\n",
    "\n",
    "where $\\vec{x}^{(k)}$ and $\\vec{x}^{(k+1)}$ are the current and improved estimates of $\\vec{x}$ respectively, $T$ is an **iteration matrix** and $\\vec{c}$ is some vector. This equation is iterated updating the values of the estimates such that $\\vec{x}^{(k)} \\to \\vec{x}$ as $k\\to \\infty$. Note that unlike direct methods which will calculate the exact solution, indirect only calculate an estimate (albeit very close) of the exact solution.\n",
    "\n",
    "These notes will introduce three common indirect methods\n",
    "\n",
    "- [the Jacobi method](jacobi-method-section);\n",
    "- [the Gauss-Seidel method](gauss-seidel-method-section);\n",
    "- [the SOR method](sor-method-section)"
   ]
  }
 ],
 "metadata": {
  "kernelspec": {
   "display_name": "Python 3",
   "language": "python",
   "name": "python3"
  },
  "language_info": {
   "codemirror_mode": {
    "name": "ipython",
    "version": 3
   },
   "file_extension": ".py",
   "mimetype": "text/x-python",
   "name": "python",
   "nbconvert_exporter": "python",
   "pygments_lexer": "ipython3",
   "version": "3.8.3"
  }
 },
 "nbformat": 4,
 "nbformat_minor": 5
}
