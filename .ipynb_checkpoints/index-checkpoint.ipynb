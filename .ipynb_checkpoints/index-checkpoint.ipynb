{
 "cells": [
  {
   "cell_type": "markdown",
   "id": "36bb7533",
   "metadata": {},
   "source": [
    ":::{figure} /images/MMU_logo.png\n",
    ":height: 80\n",
    ":::\n",
    "\n",
    "<center> <span style=\"font-size:20pt;\">Runge-Kutta Methods & Computational Linear Algebra</span> </center>\n",
    "\n",
    "<br>\n",
    "\n",
    "<center> <span style=\"font-size:18pt;\"> Lecture Notes</span> </center>\n",
    "\n",
    "<br>\n",
    "\n",
    "<center> <span style=\"font-size:16pt;\">Dr Jon Shiach</span> </center>\n",
    "\n",
    "\n",
    ":::{figure} /images/erk_stability.png\n",
    ":width: 400\n",
    ":::\n",
    "\n",
    "\n",
    "<br>\n",
    "\n",
    "<center> <span style=\"font-size:14pt;\">&copy; Manchester Metropolitan University</span> </center>"
   ]
  }
 ],
 "metadata": {
  "celltoolbar": "Tags",
  "kernelspec": {
   "display_name": "Python 3",
   "language": "python",
   "name": "python3"
  },
  "language_info": {
   "codemirror_mode": {
    "name": "ipython",
    "version": 3
   },
   "file_extension": ".py",
   "mimetype": "text/x-python",
   "name": "python",
   "nbconvert_exporter": "python",
   "pygments_lexer": "ipython3",
   "version": "3.8.3"
  }
 },
 "nbformat": 4,
 "nbformat_minor": 5
}
